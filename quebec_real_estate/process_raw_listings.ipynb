{
 "cells": [
  {
   "cell_type": "code",
   "execution_count": 229,
   "metadata": {},
   "outputs": [],
   "source": [
    "import pandas as pd\n",
    "import seaborn as sns\n",
    "import numpy as np\n",
    "import pickle"
   ]
  },
  {
   "cell_type": "code",
   "execution_count": 230,
   "metadata": {},
   "outputs": [
    {
     "name": "stdout",
     "output_type": "stream",
     "text": [
      "140781\n"
     ]
    }
   ],
   "source": [
    "raw_df = pd.read_csv('../data/raw/raw_listings.csv')\n",
    "print(len(raw_df))"
   ]
  },
  {
   "cell_type": "code",
   "execution_count": 231,
   "metadata": {},
   "outputs": [
    {
     "data": {
      "text/html": [
       "<div>\n",
       "<style scoped>\n",
       "    .dataframe tbody tr th:only-of-type {\n",
       "        vertical-align: middle;\n",
       "    }\n",
       "\n",
       "    .dataframe tbody tr th {\n",
       "        vertical-align: top;\n",
       "    }\n",
       "\n",
       "    .dataframe thead th {\n",
       "        text-align: right;\n",
       "    }\n",
       "</style>\n",
       "<table border=\"1\" class=\"dataframe\">\n",
       "  <thead>\n",
       "    <tr style=\"text-align: right;\">\n",
       "      <th></th>\n",
       "      <th>subtype</th>\n",
       "      <th>style</th>\n",
       "      <th>living_area</th>\n",
       "      <th>lot_dimensions</th>\n",
       "      <th>bedrooms</th>\n",
       "      <th>bathrooms</th>\n",
       "      <th>levels</th>\n",
       "      <th>location</th>\n",
       "      <th>listing_date</th>\n",
       "      <th>year_of_construction</th>\n",
       "      <th>municipal_eval</th>\n",
       "      <th>price</th>\n",
       "    </tr>\n",
       "  </thead>\n",
       "  <tbody>\n",
       "    <tr>\n",
       "      <th>0</th>\n",
       "      <td>2 Storey</td>\n",
       "      <td>2 storey</td>\n",
       "      <td>1191.3</td>\n",
       "      <td>4076.29</td>\n",
       "      <td>3.0</td>\n",
       "      <td>1.0</td>\n",
       "      <td>2.0</td>\n",
       "      <td>Beauport</td>\n",
       "      <td>202012.0</td>\n",
       "      <td>2004.0</td>\n",
       "      <td>256000.0</td>\n",
       "      <td>332500.0</td>\n",
       "    </tr>\n",
       "    <tr>\n",
       "      <th>1</th>\n",
       "      <td>Bungalow</td>\n",
       "      <td>Open area</td>\n",
       "      <td>1261.0</td>\n",
       "      <td>9500.00</td>\n",
       "      <td>2.0</td>\n",
       "      <td>1.0</td>\n",
       "      <td>1.0</td>\n",
       "      <td>Deschambault</td>\n",
       "      <td>202112.0</td>\n",
       "      <td>1957.0</td>\n",
       "      <td>150500.0</td>\n",
       "      <td>265000.0</td>\n",
       "    </tr>\n",
       "    <tr>\n",
       "      <th>2</th>\n",
       "      <td>Townhouse</td>\n",
       "      <td>NaN</td>\n",
       "      <td>1645.0</td>\n",
       "      <td>1360.00</td>\n",
       "      <td>3.0</td>\n",
       "      <td>1.0</td>\n",
       "      <td>3.0</td>\n",
       "      <td>Mercier</td>\n",
       "      <td>202111.0</td>\n",
       "      <td>2006.0</td>\n",
       "      <td>479400.0</td>\n",
       "      <td>612000.0</td>\n",
       "    </tr>\n",
       "    <tr>\n",
       "      <th>3</th>\n",
       "      <td>Bi-generation</td>\n",
       "      <td>Link</td>\n",
       "      <td>2024.0</td>\n",
       "      <td>17000.00</td>\n",
       "      <td>4.0</td>\n",
       "      <td>3.0</td>\n",
       "      <td>1.0</td>\n",
       "      <td>Stoneham</td>\n",
       "      <td>202112.0</td>\n",
       "      <td>2019.0</td>\n",
       "      <td>NaN</td>\n",
       "      <td>526500.0</td>\n",
       "    </tr>\n",
       "    <tr>\n",
       "      <th>4</th>\n",
       "      <td>2 Storey</td>\n",
       "      <td>Waterfront</td>\n",
       "      <td>1469.0</td>\n",
       "      <td>16970.00</td>\n",
       "      <td>4.0</td>\n",
       "      <td>2.0</td>\n",
       "      <td>2.0</td>\n",
       "      <td>Trois-Rivières</td>\n",
       "      <td>202111.0</td>\n",
       "      <td>1925.0</td>\n",
       "      <td>NaN</td>\n",
       "      <td>NaN</td>\n",
       "    </tr>\n",
       "  </tbody>\n",
       "</table>\n",
       "</div>"
      ],
      "text/plain": [
       "         subtype       style  living_area  lot_dimensions  bedrooms  \\\n",
       "0       2 Storey    2 storey       1191.3         4076.29       3.0   \n",
       "1       Bungalow   Open area       1261.0         9500.00       2.0   \n",
       "2      Townhouse         NaN       1645.0         1360.00       3.0   \n",
       "3  Bi-generation        Link       2024.0        17000.00       4.0   \n",
       "4       2 Storey  Waterfront       1469.0        16970.00       4.0   \n",
       "\n",
       "   bathrooms  levels        location  listing_date  year_of_construction  \\\n",
       "0        1.0     2.0        Beauport      202012.0                2004.0   \n",
       "1        1.0     1.0    Deschambault      202112.0                1957.0   \n",
       "2        1.0     3.0         Mercier      202111.0                2006.0   \n",
       "3        3.0     1.0        Stoneham      202112.0                2019.0   \n",
       "4        2.0     2.0  Trois-Rivières      202111.0                1925.0   \n",
       "\n",
       "   municipal_eval     price  \n",
       "0        256000.0  332500.0  \n",
       "1        150500.0  265000.0  \n",
       "2        479400.0  612000.0  \n",
       "3             NaN  526500.0  \n",
       "4             NaN       NaN  "
      ]
     },
     "execution_count": 231,
     "metadata": {},
     "output_type": "execute_result"
    }
   ],
   "source": [
    "raw_df.head()"
   ]
  },
  {
   "cell_type": "code",
   "execution_count": 232,
   "metadata": {},
   "outputs": [],
   "source": [
    "processed_df = raw_df.copy()"
   ]
  },
  {
   "cell_type": "code",
   "execution_count": 233,
   "metadata": {},
   "outputs": [
    {
     "name": "stdout",
     "output_type": "stream",
     "text": [
      "140781\n"
     ]
    }
   ],
   "source": [
    "print(len(processed_df))"
   ]
  },
  {
   "cell_type": "markdown",
   "metadata": {},
   "source": [
    "## Subtype"
   ]
  },
  {
   "cell_type": "code",
   "execution_count": 234,
   "metadata": {},
   "outputs": [
    {
     "data": {
      "text/plain": [
       "Bungalow                        48502\n",
       "2 Storey                        38477\n",
       "Semi-detached                   24858\n",
       "Townhouse                       10140\n",
       "Bi-generation                    8006\n",
       "Split Level                      4158\n",
       "1 1/2 Storey                     4046\n",
       "Country Home                      659\n",
       "Mobile home                       611\n",
       "Acreage / Hobby Farm / Ranch      531\n",
       "3 Storey                          363\n",
       "Manufactured home                 184\n",
       "Bi-Level                          161\n",
       "Villa                              63\n",
       "Misc.                              14\n",
       "4 Storey                            8\n",
       "Name: subtype, dtype: int64"
      ]
     },
     "execution_count": 234,
     "metadata": {},
     "output_type": "execute_result"
    }
   ],
   "source": [
    "processed_df['subtype'].value_counts(dropna=False)"
   ]
  },
  {
   "cell_type": "code",
   "execution_count": 235,
   "metadata": {},
   "outputs": [],
   "source": [
    "subtypes = processed_df['subtype'].value_counts()\n",
    "processed_df = processed_df[processed_df['subtype'].isin(subtypes.keys()[0:9])]"
   ]
  },
  {
   "cell_type": "markdown",
   "metadata": {},
   "source": [
    "## Style"
   ]
  },
  {
   "cell_type": "code",
   "execution_count": 236,
   "metadata": {},
   "outputs": [
    {
     "data": {
      "text/plain": [
       "NaN              29482\n",
       "2 storey         29141\n",
       "Open area        20250\n",
       "Detached         15308\n",
       "Waterfront        5756\n",
       "Link              4243\n",
       "Bungaloft         3948\n",
       "Side split        3325\n",
       "Semi-detached     3218\n",
       "Rural             3020\n",
       "Name: style, dtype: int64"
      ]
     },
     "execution_count": 236,
     "metadata": {},
     "output_type": "execute_result"
    }
   ],
   "source": [
    "processed_df['style'].value_counts(dropna=False).iloc[0:10]"
   ]
  },
  {
   "cell_type": "code",
   "execution_count": 237,
   "metadata": {},
   "outputs": [],
   "source": [
    "processed_df['style'] = processed_df['style'].fillna('Unknown')\n",
    "styles = processed_df['style'].value_counts()\n",
    "processed_df = processed_df[processed_df['style'].isin(styles.keys())]"
   ]
  },
  {
   "cell_type": "code",
   "execution_count": 238,
   "metadata": {},
   "outputs": [
    {
     "name": "stdout",
     "output_type": "stream",
     "text": [
      "139457\n"
     ]
    }
   ],
   "source": [
    "print(len(processed_df))"
   ]
  },
  {
   "cell_type": "markdown",
   "metadata": {},
   "source": [
    "## Living Area"
   ]
  },
  {
   "cell_type": "code",
   "execution_count": 239,
   "metadata": {},
   "outputs": [
    {
     "data": {
      "text/plain": [
       "960.0     5195\n",
       "1800.0    4763\n",
       "1560.0    4143\n",
       "1645.0    3818\n",
       "2024.0    3812\n",
       "Name: living_area, dtype: int64"
      ]
     },
     "execution_count": 239,
     "metadata": {},
     "output_type": "execute_result"
    }
   ],
   "source": [
    "processed_df['living_area'].value_counts(dropna=False).iloc[0:5]"
   ]
  },
  {
   "cell_type": "code",
   "execution_count": 240,
   "metadata": {},
   "outputs": [],
   "source": [
    "mean_living_area = processed_df['living_area'].dropna().mean()\n",
    "processed_df['living_area'] = processed_df['living_area'].fillna(mean_living_area)"
   ]
  },
  {
   "cell_type": "code",
   "execution_count": 241,
   "metadata": {},
   "outputs": [
    {
     "name": "stderr",
     "output_type": "stream",
     "text": [
      "c:\\Users\\simon\\Documents\\GitHub\\quebec-real-estate\\venv\\lib\\site-packages\\seaborn\\distributions.py:2619: FutureWarning: `distplot` is a deprecated function and will be removed in a future version. Please adapt your code to use either `displot` (a figure-level function with similar flexibility) or `histplot` (an axes-level function for histograms).\n",
      "  warnings.warn(msg, FutureWarning)\n"
     ]
    },
    {
     "data": {
      "text/plain": [
       "<AxesSubplot:xlabel='living_area', ylabel='Density'>"
      ]
     },
     "execution_count": 241,
     "metadata": {},
     "output_type": "execute_result"
    },
    {
     "data": {
      "image/png": "[encoded data removed]",
      "text/plain": [
       "<Figure size 432x288 with 1 Axes>"
      ]
     },
     "metadata": {
      "needs_background": "light"
     },
     "output_type": "display_data"
    }
   ],
   "source": [
    "processed_df = processed_df[processed_df['living_area'] > 500]\n",
    "processed_df = processed_df[processed_df['living_area'] < 4000]\n",
    "processed_df['living_area'] = processed_df['living_area'].astype(int)\n",
    "\n",
    "sns.distplot(processed_df['living_area'])"
   ]
  },
  {
   "cell_type": "code",
   "execution_count": 242,
   "metadata": {},
   "outputs": [
    {
     "name": "stdout",
     "output_type": "stream",
     "text": [
      "138697\n"
     ]
    }
   ],
   "source": [
    "print(len(processed_df))"
   ]
  },
  {
   "cell_type": "markdown",
   "metadata": {},
   "source": [
    "## Lot Dimensions"
   ]
  },
  {
   "cell_type": "code",
   "execution_count": 243,
   "metadata": {},
   "outputs": [
    {
     "data": {
      "text/plain": [
       "17000.0    3877\n",
       "9500.0     3866\n",
       "6000.0     3814\n",
       "10100.0    3805\n",
       "6157.0     3804\n",
       "Name: lot_dimensions, dtype: int64"
      ]
     },
     "execution_count": 243,
     "metadata": {},
     "output_type": "execute_result"
    }
   ],
   "source": [
    "processed_df['lot_dimensions'].value_counts(dropna=False).iloc[0:5]"
   ]
  },
  {
   "cell_type": "code",
   "execution_count": 244,
   "metadata": {},
   "outputs": [],
   "source": [
    "mean_lot_dimensions = processed_df['lot_dimensions'].dropna().mean()\n",
    "processed_df['lot_dimensions'] = processed_df['lot_dimensions'].fillna(mean_lot_dimensions)"
   ]
  },
  {
   "cell_type": "code",
   "execution_count": 245,
   "metadata": {},
   "outputs": [
    {
     "name": "stderr",
     "output_type": "stream",
     "text": [
      "c:\\Users\\simon\\Documents\\GitHub\\quebec-real-estate\\venv\\lib\\site-packages\\seaborn\\distributions.py:2619: FutureWarning: `distplot` is a deprecated function and will be removed in a future version. Please adapt your code to use either `displot` (a figure-level function with similar flexibility) or `histplot` (an axes-level function for histograms).\n",
      "  warnings.warn(msg, FutureWarning)\n"
     ]
    },
    {
     "data": {
      "text/plain": [
       "<AxesSubplot:xlabel='lot_dimensions', ylabel='Density'>"
      ]
     },
     "execution_count": 245,
     "metadata": {},
     "output_type": "execute_result"
    },
    {
     "data": {
      "image/png": "[encoded data removed]",
      "text/plain": [
       "<Figure size 432x288 with 1 Axes>"
      ]
     },
     "metadata": {
      "needs_background": "light"
     },
     "output_type": "display_data"
    }
   ],
   "source": [
    "processed_df = processed_df[processed_df['lot_dimensions'] > 500]\n",
    "processed_df = processed_df[processed_df['lot_dimensions'] < 80000]\n",
    "processed_df['lot_dimensions'] = processed_df['lot_dimensions'].astype(int)\n",
    "\n",
    "sns.distplot(processed_df['lot_dimensions'])"
   ]
  },
  {
   "cell_type": "code",
   "execution_count": 246,
   "metadata": {},
   "outputs": [
    {
     "name": "stdout",
     "output_type": "stream",
     "text": [
      "133407\n"
     ]
    }
   ],
   "source": [
    "print(len(processed_df))"
   ]
  },
  {
   "cell_type": "markdown",
   "metadata": {},
   "source": [
    "## Bedrooms, Bathrooms & Levels"
   ]
  },
  {
   "cell_type": "code",
   "execution_count": 247,
   "metadata": {},
   "outputs": [
    {
     "data": {
      "text/plain": [
       "3.0     52869\n",
       "4.0     47949\n",
       "2.0     15267\n",
       "5.0     15211\n",
       "6.0      1129\n",
       "1.0       505\n",
       "7.0       189\n",
       "NaN       181\n",
       "8.0        65\n",
       "9.0        16\n",
       "10.0       11\n",
       "11.0        6\n",
       "15.0        2\n",
       "3.5         2\n",
       "13.0        1\n",
       "17.0        1\n",
       "2.5         1\n",
       "4.5         1\n",
       "2.1         1\n",
       "Name: bedrooms, dtype: int64"
      ]
     },
     "execution_count": 247,
     "metadata": {},
     "output_type": "execute_result"
    }
   ],
   "source": [
    "processed_df['bedrooms'].value_counts(dropna=False)"
   ]
  },
  {
   "cell_type": "code",
   "execution_count": 248,
   "metadata": {},
   "outputs": [
    {
     "data": {
      "text/plain": [
       "2.0       70435\n",
       "1.0       55767\n",
       "3.0        6915\n",
       "4.0         162\n",
       "NaN          91\n",
       "5.0          25\n",
       "6.0           6\n",
       "7.0           2\n",
       "8.0           2\n",
       "11.0          1\n",
       "2008.0        1\n",
       "Name: bathrooms, dtype: int64"
      ]
     },
     "execution_count": 248,
     "metadata": {},
     "output_type": "execute_result"
    }
   ],
   "source": [
    "processed_df['bathrooms'].value_counts(dropna=False)"
   ]
  },
  {
   "cell_type": "code",
   "execution_count": 249,
   "metadata": {},
   "outputs": [
    {
     "data": {
      "text/plain": [
       "1.0      63249\n",
       "2.0      62913\n",
       "3.0       5295\n",
       "NaN       1836\n",
       "4.0        106\n",
       "5.0          5\n",
       "11.0         1\n",
       "6.0          1\n",
       "768.0        1\n",
       "Name: levels, dtype: int64"
      ]
     },
     "execution_count": 249,
     "metadata": {},
     "output_type": "execute_result"
    }
   ],
   "source": [
    "processed_df['levels'].value_counts(dropna=False)"
   ]
  },
  {
   "cell_type": "code",
   "execution_count": 250,
   "metadata": {},
   "outputs": [],
   "source": [
    "processed_df = processed_df[processed_df['bedrooms'] < 7]\n",
    "processed_df = processed_df[processed_df['bathrooms'] < 5]\n",
    "processed_df = processed_df[processed_df['levels'] < 4]\n",
    "\n",
    "processed_df['bedrooms'] = processed_df['bedrooms'].astype(int)\n",
    "processed_df['bathrooms'] = processed_df['bathrooms'].astype(int)\n",
    "processed_df['levels'] = processed_df['levels'].astype(int)"
   ]
  },
  {
   "cell_type": "code",
   "execution_count": 251,
   "metadata": {},
   "outputs": [
    {
     "name": "stdout",
     "output_type": "stream",
     "text": [
      "130938\n"
     ]
    }
   ],
   "source": [
    "print(len(processed_df))"
   ]
  },
  {
   "cell_type": "markdown",
   "metadata": {},
   "source": [
    "## Listing Date"
   ]
  },
  {
   "cell_type": "code",
   "execution_count": 252,
   "metadata": {},
   "outputs": [
    {
     "data": {
      "text/plain": [
       "202112.0    21267\n",
       "202111.0    11624\n",
       "202012.0     4423\n",
       "202109.0     4237\n",
       "201907.0     3882\n",
       "Name: listing_date, dtype: int64"
      ]
     },
     "execution_count": 252,
     "metadata": {},
     "output_type": "execute_result"
    }
   ],
   "source": [
    "processed_df['listing_date'].value_counts(dropna=False).iloc[0:5]"
   ]
  },
  {
   "cell_type": "code",
   "execution_count": 253,
   "metadata": {},
   "outputs": [],
   "source": [
    "processed_df['listing_date'] = pd.to_datetime(processed_df['listing_date'], format='%Y%m')"
   ]
  },
  {
   "cell_type": "markdown",
   "metadata": {},
   "source": [
    "## Year of Construction"
   ]
  },
  {
   "cell_type": "code",
   "execution_count": 254,
   "metadata": {},
   "outputs": [
    {
     "data": {
      "text/plain": [
       "NaN       14527\n",
       "2004.0     6076\n",
       "2006.0     6032\n",
       "1989.0     5342\n",
       "1975.0     5006\n",
       "Name: year_of_construction, dtype: int64"
      ]
     },
     "execution_count": 254,
     "metadata": {},
     "output_type": "execute_result"
    }
   ],
   "source": [
    "processed_df['year_of_construction'].value_counts(dropna=False).iloc[0:5]"
   ]
  },
  {
   "cell_type": "code",
   "execution_count": 255,
   "metadata": {},
   "outputs": [],
   "source": [
    "mean_year_of_constructions = processed_df['year_of_construction'].dropna().mean()\n",
    "processed_df['year_of_construction'] = processed_df['year_of_construction'].fillna(mean_year_of_constructions)"
   ]
  },
  {
   "cell_type": "code",
   "execution_count": 256,
   "metadata": {},
   "outputs": [],
   "source": [
    "years = processed_df['year_of_construction'].value_counts()\n",
    "processed_df = processed_df[processed_df['year_of_construction'].isin(years.keys())]\n",
    "processed_df['year_of_construction'] = processed_df['year_of_construction'].astype(int)"
   ]
  },
  {
   "cell_type": "code",
   "execution_count": 257,
   "metadata": {},
   "outputs": [
    {
     "name": "stdout",
     "output_type": "stream",
     "text": [
      "130938\n"
     ]
    }
   ],
   "source": [
    "print(len(processed_df))"
   ]
  },
  {
   "cell_type": "markdown",
   "metadata": {},
   "source": [
    "## Municipal Evaluation"
   ]
  },
  {
   "cell_type": "code",
   "execution_count": 258,
   "metadata": {},
   "outputs": [
    {
     "data": {
      "text/plain": [
       "NaN         66586\n",
       "256000.0     3850\n",
       "150500.0     3811\n",
       "209200.0     3805\n",
       "251100.0     3803\n",
       "Name: municipal_eval, dtype: int64"
      ]
     },
     "execution_count": 258,
     "metadata": {},
     "output_type": "execute_result"
    }
   ],
   "source": [
    "processed_df['municipal_eval'].value_counts(dropna=False).iloc[0:5]"
   ]
  },
  {
   "cell_type": "code",
   "execution_count": 259,
   "metadata": {},
   "outputs": [],
   "source": [
    "drop_municipal_eval = True"
   ]
  },
  {
   "cell_type": "code",
   "execution_count": 260,
   "metadata": {},
   "outputs": [],
   "source": [
    "if drop_municipal_eval:\n",
    "    processed_df = processed_df.drop(['municipal_eval'], axis=1)\n",
    "else:\n",
    "    processed_df = processed_df[processed_df['municipal_eval'] > 2000]\n",
    "    processed_df = processed_df[processed_df['municipal_eval'] < 1000000]\n",
    "    processed_df['municipal_eval'] = processed_df['municipal_eval'].astype(int)\n",
    "\n",
    "    sns.distplot(processed_df['municipal_eval'])"
   ]
  },
  {
   "cell_type": "markdown",
   "metadata": {},
   "source": [
    "## Price"
   ]
  },
  {
   "cell_type": "code",
   "execution_count": 261,
   "metadata": {},
   "outputs": [
    {
     "data": {
      "text/plain": [
       "NaN         24945\n",
       "265000.0     4436\n",
       "360000.0     4174\n",
       "400000.0     4148\n",
       "550000.0     3918\n",
       "Name: price, dtype: int64"
      ]
     },
     "execution_count": 261,
     "metadata": {},
     "output_type": "execute_result"
    }
   ],
   "source": [
    "processed_df['price'].value_counts(dropna=False).iloc[0:5]"
   ]
  },
  {
   "cell_type": "code",
   "execution_count": 262,
   "metadata": {},
   "outputs": [
    {
     "name": "stderr",
     "output_type": "stream",
     "text": [
      "c:\\Users\\simon\\Documents\\GitHub\\quebec-real-estate\\venv\\lib\\site-packages\\seaborn\\distributions.py:2619: FutureWarning: `distplot` is a deprecated function and will be removed in a future version. Please adapt your code to use either `displot` (a figure-level function with similar flexibility) or `histplot` (an axes-level function for histograms).\n",
      "  warnings.warn(msg, FutureWarning)\n"
     ]
    },
    {
     "data": {
      "text/plain": [
       "<AxesSubplot:xlabel='price', ylabel='Density'>"
      ]
     },
     "execution_count": 262,
     "metadata": {},
     "output_type": "execute_result"
    },
    {
     "data": {
      "image/png": "[encoded data removed]",
      "text/plain": [
       "<Figure size 432x288 with 1 Axes>"
      ]
     },
     "metadata": {
      "needs_background": "light"
     },
     "output_type": "display_data"
    }
   ],
   "source": [
    "processed_df = processed_df[processed_df['price'] > 2000]\n",
    "processed_df = processed_df[processed_df['price'] < 1000000]\n",
    "processed_df['price'] = processed_df['price'].astype(int)\n",
    "\n",
    "sns.distplot(processed_df['price'])"
   ]
  },
  {
   "cell_type": "markdown",
   "metadata": {},
   "source": [
    "## Location"
   ]
  },
  {
   "cell_type": "code",
   "execution_count": 263,
   "metadata": {},
   "outputs": [],
   "source": [
    "with open('../data/processed/location_mapper.pkl', 'rb') as f:\n",
    "    location_mapper = pickle.load(f)"
   ]
  },
  {
   "cell_type": "code",
   "execution_count": 264,
   "metadata": {},
   "outputs": [],
   "source": [
    "processed_df = processed_df.replace({'location': location_mapper})"
   ]
  },
  {
   "cell_type": "code",
   "execution_count": 265,
   "metadata": {},
   "outputs": [
    {
     "data": {
      "text/plain": [
       "Gatineau                        9021\n",
       "Beauport                        4971\n",
       "Châteauguay                     4652\n",
       "Fabreville                      4467\n",
       "Alma                            4301\n",
       "Laval-sur-le-Lac                4259\n",
       "Stoneham                        3993\n",
       "Beaupré                         3951\n",
       "Portneuf                        3875\n",
       "Sainte-Foy-Sillery-Cap-Rouge    3097\n",
       "Name: location, dtype: int64"
      ]
     },
     "execution_count": 265,
     "metadata": {},
     "output_type": "execute_result"
    }
   ],
   "source": [
    "processed_df['location'].value_counts().iloc[0:10]"
   ]
  },
  {
   "cell_type": "code",
   "execution_count": 266,
   "metadata": {},
   "outputs": [],
   "source": [
    "locations = processed_df['location'].value_counts()\n",
    "processed_df = processed_df[processed_df['location'].isin(locations.keys()[0:10])]"
   ]
  },
  {
   "cell_type": "code",
   "execution_count": 267,
   "metadata": {},
   "outputs": [
    {
     "data": {
      "text/html": [
       "<div>\n",
       "<style scoped>\n",
       "    .dataframe tbody tr th:only-of-type {\n",
       "        vertical-align: middle;\n",
       "    }\n",
       "\n",
       "    .dataframe tbody tr th {\n",
       "        vertical-align: top;\n",
       "    }\n",
       "\n",
       "    .dataframe thead th {\n",
       "        text-align: right;\n",
       "    }\n",
       "</style>\n",
       "<table border=\"1\" class=\"dataframe\">\n",
       "  <thead>\n",
       "    <tr style=\"text-align: right;\">\n",
       "      <th></th>\n",
       "      <th>subtype</th>\n",
       "      <th>style</th>\n",
       "      <th>living_area</th>\n",
       "      <th>lot_dimensions</th>\n",
       "      <th>bedrooms</th>\n",
       "      <th>bathrooms</th>\n",
       "      <th>levels</th>\n",
       "      <th>location</th>\n",
       "      <th>listing_date</th>\n",
       "      <th>year_of_construction</th>\n",
       "      <th>price</th>\n",
       "    </tr>\n",
       "  </thead>\n",
       "  <tbody>\n",
       "    <tr>\n",
       "      <th>0</th>\n",
       "      <td>2 Storey</td>\n",
       "      <td>2 storey</td>\n",
       "      <td>1191</td>\n",
       "      <td>4076</td>\n",
       "      <td>3</td>\n",
       "      <td>1</td>\n",
       "      <td>2</td>\n",
       "      <td>Beauport</td>\n",
       "      <td>2020-12-01</td>\n",
       "      <td>2004</td>\n",
       "      <td>332500</td>\n",
       "    </tr>\n",
       "    <tr>\n",
       "      <th>1</th>\n",
       "      <td>Bungalow</td>\n",
       "      <td>Open area</td>\n",
       "      <td>1261</td>\n",
       "      <td>9500</td>\n",
       "      <td>2</td>\n",
       "      <td>1</td>\n",
       "      <td>1</td>\n",
       "      <td>Portneuf</td>\n",
       "      <td>2021-12-01</td>\n",
       "      <td>1957</td>\n",
       "      <td>265000</td>\n",
       "    </tr>\n",
       "    <tr>\n",
       "      <th>2</th>\n",
       "      <td>Townhouse</td>\n",
       "      <td>Unknown</td>\n",
       "      <td>1645</td>\n",
       "      <td>1360</td>\n",
       "      <td>3</td>\n",
       "      <td>1</td>\n",
       "      <td>3</td>\n",
       "      <td>Châteauguay</td>\n",
       "      <td>2021-11-01</td>\n",
       "      <td>2006</td>\n",
       "      <td>612000</td>\n",
       "    </tr>\n",
       "    <tr>\n",
       "      <th>3</th>\n",
       "      <td>Bi-generation</td>\n",
       "      <td>Link</td>\n",
       "      <td>2024</td>\n",
       "      <td>17000</td>\n",
       "      <td>4</td>\n",
       "      <td>3</td>\n",
       "      <td>1</td>\n",
       "      <td>Stoneham</td>\n",
       "      <td>2021-12-01</td>\n",
       "      <td>2019</td>\n",
       "      <td>526500</td>\n",
       "    </tr>\n",
       "    <tr>\n",
       "      <th>5</th>\n",
       "      <td>Semi-detached</td>\n",
       "      <td>2 storey</td>\n",
       "      <td>2400</td>\n",
       "      <td>4471</td>\n",
       "      <td>4</td>\n",
       "      <td>2</td>\n",
       "      <td>2</td>\n",
       "      <td>Gatineau</td>\n",
       "      <td>2021-12-01</td>\n",
       "      <td>1989</td>\n",
       "      <td>360000</td>\n",
       "    </tr>\n",
       "  </tbody>\n",
       "</table>\n",
       "</div>"
      ],
      "text/plain": [
       "         subtype      style  living_area  lot_dimensions  bedrooms  bathrooms  \\\n",
       "0       2 Storey   2 storey         1191            4076         3          1   \n",
       "1       Bungalow  Open area         1261            9500         2          1   \n",
       "2      Townhouse    Unknown         1645            1360         3          1   \n",
       "3  Bi-generation       Link         2024           17000         4          3   \n",
       "5  Semi-detached   2 storey         2400            4471         4          2   \n",
       "\n",
       "   levels     location listing_date  year_of_construction   price  \n",
       "0       2     Beauport   2020-12-01                  2004  332500  \n",
       "1       1     Portneuf   2021-12-01                  1957  265000  \n",
       "2       3  Châteauguay   2021-11-01                  2006  612000  \n",
       "3       1     Stoneham   2021-12-01                  2019  526500  \n",
       "5       2     Gatineau   2021-12-01                  1989  360000  "
      ]
     },
     "execution_count": 267,
     "metadata": {},
     "output_type": "execute_result"
    }
   ],
   "source": [
    "processed_df.head()"
   ]
  },
  {
   "cell_type": "markdown",
   "metadata": {},
   "source": [
    "## Adding columns"
   ]
  },
  {
   "cell_type": "code",
   "execution_count": 268,
   "metadata": {},
   "outputs": [],
   "source": [
    "processed_df.insert(8, 'listing_year', '')\n",
    "processed_df['listing_year'] = pd.DatetimeIndex(processed_df['listing_date']).year"
   ]
  },
  {
   "cell_type": "code",
   "execution_count": 269,
   "metadata": {},
   "outputs": [
    {
     "data": {
      "text/html": [
       "<div>\n",
       "<style scoped>\n",
       "    .dataframe tbody tr th:only-of-type {\n",
       "        vertical-align: middle;\n",
       "    }\n",
       "\n",
       "    .dataframe tbody tr th {\n",
       "        vertical-align: top;\n",
       "    }\n",
       "\n",
       "    .dataframe thead th {\n",
       "        text-align: right;\n",
       "    }\n",
       "</style>\n",
       "<table border=\"1\" class=\"dataframe\">\n",
       "  <thead>\n",
       "    <tr style=\"text-align: right;\">\n",
       "      <th></th>\n",
       "      <th>subtype</th>\n",
       "      <th>style</th>\n",
       "      <th>living_area</th>\n",
       "      <th>lot_dimensions</th>\n",
       "      <th>bedrooms</th>\n",
       "      <th>bathrooms</th>\n",
       "      <th>levels</th>\n",
       "      <th>location</th>\n",
       "      <th>listing_year</th>\n",
       "      <th>listing_date</th>\n",
       "      <th>year_of_construction</th>\n",
       "      <th>price</th>\n",
       "    </tr>\n",
       "  </thead>\n",
       "  <tbody>\n",
       "    <tr>\n",
       "      <th>0</th>\n",
       "      <td>2 Storey</td>\n",
       "      <td>2 storey</td>\n",
       "      <td>1191</td>\n",
       "      <td>4076</td>\n",
       "      <td>3</td>\n",
       "      <td>1</td>\n",
       "      <td>2</td>\n",
       "      <td>Beauport</td>\n",
       "      <td>2020</td>\n",
       "      <td>2020-12-01</td>\n",
       "      <td>2004</td>\n",
       "      <td>332500</td>\n",
       "    </tr>\n",
       "    <tr>\n",
       "      <th>1</th>\n",
       "      <td>Bungalow</td>\n",
       "      <td>Open area</td>\n",
       "      <td>1261</td>\n",
       "      <td>9500</td>\n",
       "      <td>2</td>\n",
       "      <td>1</td>\n",
       "      <td>1</td>\n",
       "      <td>Portneuf</td>\n",
       "      <td>2021</td>\n",
       "      <td>2021-12-01</td>\n",
       "      <td>1957</td>\n",
       "      <td>265000</td>\n",
       "    </tr>\n",
       "    <tr>\n",
       "      <th>2</th>\n",
       "      <td>Townhouse</td>\n",
       "      <td>Unknown</td>\n",
       "      <td>1645</td>\n",
       "      <td>1360</td>\n",
       "      <td>3</td>\n",
       "      <td>1</td>\n",
       "      <td>3</td>\n",
       "      <td>Châteauguay</td>\n",
       "      <td>2021</td>\n",
       "      <td>2021-11-01</td>\n",
       "      <td>2006</td>\n",
       "      <td>612000</td>\n",
       "    </tr>\n",
       "    <tr>\n",
       "      <th>3</th>\n",
       "      <td>Bi-generation</td>\n",
       "      <td>Link</td>\n",
       "      <td>2024</td>\n",
       "      <td>17000</td>\n",
       "      <td>4</td>\n",
       "      <td>3</td>\n",
       "      <td>1</td>\n",
       "      <td>Stoneham</td>\n",
       "      <td>2021</td>\n",
       "      <td>2021-12-01</td>\n",
       "      <td>2019</td>\n",
       "      <td>526500</td>\n",
       "    </tr>\n",
       "    <tr>\n",
       "      <th>5</th>\n",
       "      <td>Semi-detached</td>\n",
       "      <td>2 storey</td>\n",
       "      <td>2400</td>\n",
       "      <td>4471</td>\n",
       "      <td>4</td>\n",
       "      <td>2</td>\n",
       "      <td>2</td>\n",
       "      <td>Gatineau</td>\n",
       "      <td>2021</td>\n",
       "      <td>2021-12-01</td>\n",
       "      <td>1989</td>\n",
       "      <td>360000</td>\n",
       "    </tr>\n",
       "  </tbody>\n",
       "</table>\n",
       "</div>"
      ],
      "text/plain": [
       "         subtype      style  living_area  lot_dimensions  bedrooms  bathrooms  \\\n",
       "0       2 Storey   2 storey         1191            4076         3          1   \n",
       "1       Bungalow  Open area         1261            9500         2          1   \n",
       "2      Townhouse    Unknown         1645            1360         3          1   \n",
       "3  Bi-generation       Link         2024           17000         4          3   \n",
       "5  Semi-detached   2 storey         2400            4471         4          2   \n",
       "\n",
       "   levels     location  listing_year listing_date  year_of_construction  \\\n",
       "0       2     Beauport          2020   2020-12-01                  2004   \n",
       "1       1     Portneuf          2021   2021-12-01                  1957   \n",
       "2       3  Châteauguay          2021   2021-11-01                  2006   \n",
       "3       1     Stoneham          2021   2021-12-01                  2019   \n",
       "5       2     Gatineau          2021   2021-12-01                  1989   \n",
       "\n",
       "    price  \n",
       "0  332500  \n",
       "1  265000  \n",
       "2  612000  \n",
       "3  526500  \n",
       "5  360000  "
      ]
     },
     "execution_count": 269,
     "metadata": {},
     "output_type": "execute_result"
    }
   ],
   "source": [
    "processed_df.head()"
   ]
  },
  {
   "cell_type": "code",
   "execution_count": 270,
   "metadata": {},
   "outputs": [
    {
     "name": "stdout",
     "output_type": "stream",
     "text": [
      "140781\n",
      "46587\n"
     ]
    }
   ],
   "source": [
    "print(len(raw_df))\n",
    "print(len(processed_df))"
   ]
  },
  {
   "cell_type": "code",
   "execution_count": 271,
   "metadata": {},
   "outputs": [],
   "source": [
    "processed_df.to_csv('../data/processed/processed_listings.csv', index=False)"
   ]
  }
 ],
 "metadata": {
  "interpreter": {
   "hash": "64dddcbcaec4bb6385c138499a04ba94b2e3f1c047b570a9b11b84db929d6a00"
  },
  "kernelspec": {
   "display_name": "Python 3.8.6 64-bit ('venv': venv)",
   "language": "python",
   "name": "python3"
  },
  "language_info": {
   "codemirror_mode": {
    "name": "ipython",
    "version": 3
   },
   "file_extension": ".py",
   "mimetype": "text/x-python",
   "name": "python",
   "nbconvert_exporter": "python",
   "pygments_lexer": "ipython3",
   "version": "3.8.6"
  },
  "orig_nbformat": 4
 },
 "nbformat": 4,
 "nbformat_minor": 2
}
