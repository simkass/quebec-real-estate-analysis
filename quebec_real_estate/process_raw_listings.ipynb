{
 "cells": [
  {
   "cell_type": "code",
   "execution_count": 329,
   "metadata": {},
   "outputs": [],
   "source": [
    "import pandas as pd\n",
    "import seaborn as sns\n",
    "import numpy as np\n",
    "import pickle"
   ]
  },
  {
   "cell_type": "code",
   "execution_count": 330,
   "metadata": {},
   "outputs": [
    {
     "name": "stdout",
     "output_type": "stream",
     "text": [
      "169894\n"
     ]
    }
   ],
   "source": [
    "home_df = pd.read_csv('../data/raw/home_raw_listings.csv')\n",
    "condo_df = pd.read_csv('../data/raw/condo_raw_listings.csv')\n",
    "raw_df = pd.concat([home_df, condo_df], axis=0, ignore_index=True)\n",
    "print(len(raw_df))"
   ]
  },
  {
   "cell_type": "code",
   "execution_count": 331,
   "metadata": {},
   "outputs": [
    {
     "data": {
      "text/html": [
       "<div>\n",
       "<style scoped>\n",
       "    .dataframe tbody tr th:only-of-type {\n",
       "        vertical-align: middle;\n",
       "    }\n",
       "\n",
       "    .dataframe tbody tr th {\n",
       "        vertical-align: top;\n",
       "    }\n",
       "\n",
       "    .dataframe thead th {\n",
       "        text-align: right;\n",
       "    }\n",
       "</style>\n",
       "<table border=\"1\" class=\"dataframe\">\n",
       "  <thead>\n",
       "    <tr style=\"text-align: right;\">\n",
       "      <th></th>\n",
       "      <th>subtype</th>\n",
       "      <th>style</th>\n",
       "      <th>living_area</th>\n",
       "      <th>lot_dimensions</th>\n",
       "      <th>bedrooms</th>\n",
       "      <th>bathrooms</th>\n",
       "      <th>levels</th>\n",
       "      <th>location</th>\n",
       "      <th>listing_date</th>\n",
       "      <th>year_of_construction</th>\n",
       "      <th>municipal_eval</th>\n",
       "      <th>price</th>\n",
       "    </tr>\n",
       "  </thead>\n",
       "  <tbody>\n",
       "    <tr>\n",
       "      <th>0</th>\n",
       "      <td>2 Storey</td>\n",
       "      <td>2 storey</td>\n",
       "      <td>1191.3</td>\n",
       "      <td>4076.29</td>\n",
       "      <td>3.0</td>\n",
       "      <td>1.0</td>\n",
       "      <td>2.0</td>\n",
       "      <td>Beauport</td>\n",
       "      <td>202012.0</td>\n",
       "      <td>2004.0</td>\n",
       "      <td>256000.0</td>\n",
       "      <td>332500.0</td>\n",
       "    </tr>\n",
       "    <tr>\n",
       "      <th>1</th>\n",
       "      <td>Bungalow</td>\n",
       "      <td>Open area</td>\n",
       "      <td>1261.0</td>\n",
       "      <td>9500.00</td>\n",
       "      <td>2.0</td>\n",
       "      <td>1.0</td>\n",
       "      <td>1.0</td>\n",
       "      <td>Deschambault</td>\n",
       "      <td>202112.0</td>\n",
       "      <td>1957.0</td>\n",
       "      <td>150500.0</td>\n",
       "      <td>265000.0</td>\n",
       "    </tr>\n",
       "    <tr>\n",
       "      <th>2</th>\n",
       "      <td>Townhouse</td>\n",
       "      <td>NaN</td>\n",
       "      <td>1645.0</td>\n",
       "      <td>1360.00</td>\n",
       "      <td>3.0</td>\n",
       "      <td>1.0</td>\n",
       "      <td>3.0</td>\n",
       "      <td>Mercier</td>\n",
       "      <td>202111.0</td>\n",
       "      <td>2006.0</td>\n",
       "      <td>479400.0</td>\n",
       "      <td>612000.0</td>\n",
       "    </tr>\n",
       "    <tr>\n",
       "      <th>3</th>\n",
       "      <td>Bi-generation</td>\n",
       "      <td>Link</td>\n",
       "      <td>2024.0</td>\n",
       "      <td>17000.00</td>\n",
       "      <td>4.0</td>\n",
       "      <td>3.0</td>\n",
       "      <td>1.0</td>\n",
       "      <td>Stoneham</td>\n",
       "      <td>202112.0</td>\n",
       "      <td>2019.0</td>\n",
       "      <td>NaN</td>\n",
       "      <td>526500.0</td>\n",
       "    </tr>\n",
       "    <tr>\n",
       "      <th>4</th>\n",
       "      <td>2 Storey</td>\n",
       "      <td>Waterfront</td>\n",
       "      <td>1469.0</td>\n",
       "      <td>16970.00</td>\n",
       "      <td>4.0</td>\n",
       "      <td>2.0</td>\n",
       "      <td>2.0</td>\n",
       "      <td>Trois-Rivières</td>\n",
       "      <td>202111.0</td>\n",
       "      <td>1925.0</td>\n",
       "      <td>NaN</td>\n",
       "      <td>NaN</td>\n",
       "    </tr>\n",
       "  </tbody>\n",
       "</table>\n",
       "</div>"
      ],
      "text/plain": [
       "         subtype       style  living_area  lot_dimensions  bedrooms  \\\n",
       "0       2 Storey    2 storey       1191.3         4076.29       3.0   \n",
       "1       Bungalow   Open area       1261.0         9500.00       2.0   \n",
       "2      Townhouse         NaN       1645.0         1360.00       3.0   \n",
       "3  Bi-generation        Link       2024.0        17000.00       4.0   \n",
       "4       2 Storey  Waterfront       1469.0        16970.00       4.0   \n",
       "\n",
       "   bathrooms  levels        location  listing_date  year_of_construction  \\\n",
       "0        1.0     2.0        Beauport      202012.0                2004.0   \n",
       "1        1.0     1.0    Deschambault      202112.0                1957.0   \n",
       "2        1.0     3.0         Mercier      202111.0                2006.0   \n",
       "3        3.0     1.0        Stoneham      202112.0                2019.0   \n",
       "4        2.0     2.0  Trois-Rivières      202111.0                1925.0   \n",
       "\n",
       "   municipal_eval     price  \n",
       "0        256000.0  332500.0  \n",
       "1        150500.0  265000.0  \n",
       "2        479400.0  612000.0  \n",
       "3             NaN  526500.0  \n",
       "4             NaN       NaN  "
      ]
     },
     "execution_count": 331,
     "metadata": {},
     "output_type": "execute_result"
    }
   ],
   "source": [
    "raw_df.head()"
   ]
  },
  {
   "cell_type": "code",
   "execution_count": 332,
   "metadata": {},
   "outputs": [],
   "source": [
    "processed_df = raw_df.copy()"
   ]
  },
  {
   "cell_type": "code",
   "execution_count": 333,
   "metadata": {},
   "outputs": [
    {
     "name": "stdout",
     "output_type": "stream",
     "text": [
      "169894\n"
     ]
    }
   ],
   "source": [
    "print(len(processed_df))"
   ]
  },
  {
   "cell_type": "markdown",
   "metadata": {},
   "source": [
    "## Subtype"
   ]
  },
  {
   "cell_type": "code",
   "execution_count": 334,
   "metadata": {},
   "outputs": [
    {
     "data": {
      "text/plain": [
       "Bungalow                        48502\n",
       "2 Storey                        38477\n",
       "Condominium                     28902\n",
       "Semi-detached                   24858\n",
       "Townhouse                       10140\n",
       "Bi-generation                    8006\n",
       "Split Level                      4158\n",
       "1 1/2 Storey                     4046\n",
       "Country Home                      659\n",
       "Mobile home                       611\n",
       "Acreage / Hobby Farm / Ranch      531\n",
       "3 Storey                          363\n",
       "Manufactured home                 184\n",
       "Loft                              170\n",
       "Bi-Level                          161\n",
       "Villa                              63\n",
       "Penthouse                          41\n",
       "Misc.                              14\n",
       "4 Storey                            8\n",
       "Name: subtype, dtype: int64"
      ]
     },
     "execution_count": 334,
     "metadata": {},
     "output_type": "execute_result"
    }
   ],
   "source": [
    "processed_df['subtype'].value_counts(dropna=False)"
   ]
  },
  {
   "cell_type": "code",
   "execution_count": 335,
   "metadata": {},
   "outputs": [],
   "source": [
    "subtypes = processed_df['subtype'].value_counts()\n",
    "processed_df = processed_df[processed_df['subtype'].isin(subtypes.keys()[0:9])]"
   ]
  },
  {
   "cell_type": "markdown",
   "metadata": {},
   "source": [
    "## Style"
   ]
  },
  {
   "cell_type": "code",
   "execution_count": 336,
   "metadata": {},
   "outputs": [
    {
     "data": {
      "text/plain": [
       "NaN                     33608\n",
       "2 storey                30921\n",
       "Open area               25655\n",
       "Detached                15325\n",
       "Divided Co-Ownership    12145\n",
       "Waterfront               5948\n",
       "Link                     4333\n",
       "Bungaloft                3948\n",
       "New construction         3729\n",
       "Side split               3334\n",
       "Name: style, dtype: int64"
      ]
     },
     "execution_count": 336,
     "metadata": {},
     "output_type": "execute_result"
    }
   ],
   "source": [
    "processed_df['style'].value_counts(dropna=False).iloc[0:10]"
   ]
  },
  {
   "cell_type": "code",
   "execution_count": 337,
   "metadata": {},
   "outputs": [],
   "source": [
    "processed_df['style'] = processed_df['style'].fillna('Unknown')\n",
    "styles = processed_df['style'].value_counts()\n",
    "processed_df = processed_df[processed_df['style'].isin(styles.keys())]"
   ]
  },
  {
   "cell_type": "code",
   "execution_count": 338,
   "metadata": {},
   "outputs": [
    {
     "name": "stdout",
     "output_type": "stream",
     "text": [
      "167748\n"
     ]
    }
   ],
   "source": [
    "print(len(processed_df))"
   ]
  },
  {
   "cell_type": "markdown",
   "metadata": {},
   "source": [
    "## Living Area"
   ]
  },
  {
   "cell_type": "code",
   "execution_count": 339,
   "metadata": {},
   "outputs": [
    {
     "data": {
      "text/plain": [
       "960.0     5363\n",
       "1800.0    4813\n",
       "1560.0    4157\n",
       "1645.0    3823\n",
       "1267.0    3816\n",
       "Name: living_area, dtype: int64"
      ]
     },
     "execution_count": 339,
     "metadata": {},
     "output_type": "execute_result"
    }
   ],
   "source": [
    "processed_df['living_area'].value_counts(dropna=False).iloc[0:5]"
   ]
  },
  {
   "cell_type": "code",
   "execution_count": 340,
   "metadata": {},
   "outputs": [],
   "source": [
    "mean_living_area = processed_df['living_area'].dropna().mean()\n",
    "processed_df['living_area'] = processed_df['living_area'].fillna(mean_living_area)"
   ]
  },
  {
   "cell_type": "code",
   "execution_count": 341,
   "metadata": {},
   "outputs": [
    {
     "name": "stderr",
     "output_type": "stream",
     "text": [
      "c:\\Users\\simon\\Documents\\GitHub\\quebec-real-estate\\venv\\lib\\site-packages\\seaborn\\distributions.py:2619: FutureWarning: `distplot` is a deprecated function and will be removed in a future version. Please adapt your code to use either `displot` (a figure-level function with similar flexibility) or `histplot` (an axes-level function for histograms).\n",
      "  warnings.warn(msg, FutureWarning)\n"
     ]
    },
    {
     "data": {
      "text/plain": [
       "<AxesSubplot:xlabel='living_area', ylabel='Density'>"
      ]
     },
     "execution_count": 341,
     "metadata": {},
     "output_type": "execute_result"
    },
    {
     "data": {
      "image/png": "[encoded data removed]",
      "text/plain": [
       "<Figure size 432x288 with 1 Axes>"
      ]
     },
     "metadata": {
      "needs_background": "light"
     },
     "output_type": "display_data"
    }
   ],
   "source": [
    "processed_df = processed_df[processed_df['living_area'] > 500]\n",
    "processed_df = processed_df[processed_df['living_area'] < 4000]\n",
    "processed_df['living_area'] = processed_df['living_area'].astype(int)\n",
    "\n",
    "sns.distplot(processed_df['living_area'])"
   ]
  },
  {
   "cell_type": "code",
   "execution_count": 342,
   "metadata": {},
   "outputs": [
    {
     "name": "stdout",
     "output_type": "stream",
     "text": [
      "166594\n"
     ]
    }
   ],
   "source": [
    "print(len(processed_df))"
   ]
  },
  {
   "cell_type": "markdown",
   "metadata": {},
   "source": [
    "## Lot Dimensions"
   ]
  },
  {
   "cell_type": "code",
   "execution_count": 343,
   "metadata": {},
   "outputs": [
    {
     "data": {
      "text/plain": [
       "NaN        23942\n",
       "17000.0     3880\n",
       "9500.0      3867\n",
       "6000.0      3826\n",
       "10100.0     3805\n",
       "Name: lot_dimensions, dtype: int64"
      ]
     },
     "execution_count": 343,
     "metadata": {},
     "output_type": "execute_result"
    }
   ],
   "source": [
    "processed_df['lot_dimensions'].value_counts(dropna=False).iloc[0:5]"
   ]
  },
  {
   "cell_type": "code",
   "execution_count": 344,
   "metadata": {},
   "outputs": [],
   "source": [
    "mean_lot_dimensions = processed_df['lot_dimensions'].dropna().mean()\n",
    "processed_df['lot_dimensions'] = processed_df['lot_dimensions'].fillna(mean_lot_dimensions)"
   ]
  },
  {
   "cell_type": "code",
   "execution_count": 345,
   "metadata": {},
   "outputs": [
    {
     "name": "stderr",
     "output_type": "stream",
     "text": [
      "c:\\Users\\simon\\Documents\\GitHub\\quebec-real-estate\\venv\\lib\\site-packages\\seaborn\\distributions.py:2619: FutureWarning: `distplot` is a deprecated function and will be removed in a future version. Please adapt your code to use either `displot` (a figure-level function with similar flexibility) or `histplot` (an axes-level function for histograms).\n",
      "  warnings.warn(msg, FutureWarning)\n"
     ]
    },
    {
     "data": {
      "text/plain": [
       "<AxesSubplot:xlabel='lot_dimensions', ylabel='Density'>"
      ]
     },
     "execution_count": 345,
     "metadata": {},
     "output_type": "execute_result"
    },
    {
     "data": {
      "image/png": "[encoded data removed]",
      "text/plain": [
       "<Figure size 432x288 with 1 Axes>"
      ]
     },
     "metadata": {
      "needs_background": "light"
     },
     "output_type": "display_data"
    }
   ],
   "source": [
    "processed_df = processed_df[processed_df['lot_dimensions'] > 300]\n",
    "processed_df = processed_df[processed_df['lot_dimensions'] < 20000]\n",
    "processed_df['lot_dimensions'] = processed_df['lot_dimensions'].astype(int)\n",
    "\n",
    "sns.distplot(processed_df['lot_dimensions'])"
   ]
  },
  {
   "cell_type": "code",
   "execution_count": 346,
   "metadata": {},
   "outputs": [
    {
     "name": "stdout",
     "output_type": "stream",
     "text": [
      "127194\n"
     ]
    }
   ],
   "source": [
    "print(len(processed_df))"
   ]
  },
  {
   "cell_type": "markdown",
   "metadata": {},
   "source": [
    "## Bedrooms, Bathrooms & Levels"
   ]
  },
  {
   "cell_type": "code",
   "execution_count": 347,
   "metadata": {},
   "outputs": [
    {
     "data": {
      "text/plain": [
       "3.0     48960\n",
       "4.0     44792\n",
       "2.0     17032\n",
       "5.0     14196\n",
       "6.0       944\n",
       "1.0       876\n",
       "NaN       162\n",
       "7.0       148\n",
       "8.0        49\n",
       "9.0        13\n",
       "10.0        8\n",
       "11.0        6\n",
       "15.0        2\n",
       "3.5         2\n",
       "13.0        1\n",
       "17.0        1\n",
       "4.5         1\n",
       "2.1         1\n",
       "Name: bedrooms, dtype: int64"
      ]
     },
     "execution_count": 347,
     "metadata": {},
     "output_type": "execute_result"
    }
   ],
   "source": [
    "processed_df['bedrooms'].value_counts(dropna=False)"
   ]
  },
  {
   "cell_type": "code",
   "execution_count": 348,
   "metadata": {},
   "outputs": [
    {
     "data": {
      "text/plain": [
       "2.0     65195\n",
       "1.0     55464\n",
       "3.0      6318\n",
       "4.0       113\n",
       "NaN        80\n",
       "5.0        16\n",
       "6.0         4\n",
       "8.0         2\n",
       "11.0        1\n",
       "7.0         1\n",
       "Name: bathrooms, dtype: int64"
      ]
     },
     "execution_count": 348,
     "metadata": {},
     "output_type": "execute_result"
    }
   ],
   "source": [
    "processed_df['bathrooms'].value_counts(dropna=False)"
   ]
  },
  {
   "cell_type": "code",
   "execution_count": 349,
   "metadata": {},
   "outputs": [
    {
     "data": {
      "text/plain": [
       "1.0      60360\n",
       "2.0      58628\n",
       "3.0       6074\n",
       "NaN       1863\n",
       "4.0        203\n",
       "6.0         27\n",
       "5.0         17\n",
       "8.0          8\n",
       "7.0          6\n",
       "9.0          2\n",
       "768.0        1\n",
       "15.0         1\n",
       "14.0         1\n",
       "12.0         1\n",
       "23.0         1\n",
       "10.0         1\n",
       "Name: levels, dtype: int64"
      ]
     },
     "execution_count": 349,
     "metadata": {},
     "output_type": "execute_result"
    }
   ],
   "source": [
    "processed_df['levels'].value_counts(dropna=False)"
   ]
  },
  {
   "cell_type": "code",
   "execution_count": 350,
   "metadata": {},
   "outputs": [],
   "source": [
    "processed_df = processed_df[processed_df['bedrooms'] < 7]\n",
    "processed_df = processed_df[processed_df['bathrooms'] < 5]\n",
    "processed_df = processed_df[processed_df['levels'] < 4]\n",
    "\n",
    "processed_df['bedrooms'] = processed_df['bedrooms'].astype(int)\n",
    "processed_df['bathrooms'] = processed_df['bathrooms'].astype(int)\n",
    "processed_df['levels'] = processed_df['levels'].astype(int)"
   ]
  },
  {
   "cell_type": "code",
   "execution_count": 351,
   "metadata": {},
   "outputs": [
    {
     "name": "stdout",
     "output_type": "stream",
     "text": [
      "124642\n"
     ]
    }
   ],
   "source": [
    "print(len(processed_df))"
   ]
  },
  {
   "cell_type": "markdown",
   "metadata": {},
   "source": [
    "## Listing Date"
   ]
  },
  {
   "cell_type": "code",
   "execution_count": 352,
   "metadata": {},
   "outputs": [
    {
     "data": {
      "text/plain": [
       "202112.0    21271\n",
       "202111.0    11629\n",
       "202012.0     4356\n",
       "202109.0     4204\n",
       "201907.0     3112\n",
       "Name: listing_date, dtype: int64"
      ]
     },
     "execution_count": 352,
     "metadata": {},
     "output_type": "execute_result"
    }
   ],
   "source": [
    "processed_df['listing_date'].value_counts(dropna=False).iloc[0:5]"
   ]
  },
  {
   "cell_type": "code",
   "execution_count": 353,
   "metadata": {},
   "outputs": [],
   "source": [
    "processed_df['listing_date'] = pd.to_datetime(processed_df['listing_date'], format='%Y%m')"
   ]
  },
  {
   "cell_type": "markdown",
   "metadata": {},
   "source": [
    "## Year of Construction"
   ]
  },
  {
   "cell_type": "code",
   "execution_count": 354,
   "metadata": {},
   "outputs": [
    {
     "data": {
      "text/plain": [
       "NaN       13479\n",
       "2006.0     5947\n",
       "2004.0     5917\n",
       "1989.0     5213\n",
       "1975.0     4813\n",
       "Name: year_of_construction, dtype: int64"
      ]
     },
     "execution_count": 354,
     "metadata": {},
     "output_type": "execute_result"
    }
   ],
   "source": [
    "processed_df['year_of_construction'].value_counts(dropna=False).iloc[0:5]"
   ]
  },
  {
   "cell_type": "code",
   "execution_count": 355,
   "metadata": {},
   "outputs": [],
   "source": [
    "mean_year_of_constructions = processed_df['year_of_construction'].dropna().mean()\n",
    "processed_df['year_of_construction'] = processed_df['year_of_construction'].fillna(mean_year_of_constructions)"
   ]
  },
  {
   "cell_type": "code",
   "execution_count": 356,
   "metadata": {},
   "outputs": [],
   "source": [
    "years = processed_df['year_of_construction'].value_counts()\n",
    "processed_df = processed_df[processed_df['year_of_construction'].isin(years.keys())]\n",
    "processed_df['year_of_construction'] = processed_df['year_of_construction'].astype(int)"
   ]
  },
  {
   "cell_type": "code",
   "execution_count": 357,
   "metadata": {},
   "outputs": [
    {
     "name": "stdout",
     "output_type": "stream",
     "text": [
      "124642\n"
     ]
    }
   ],
   "source": [
    "print(len(processed_df))"
   ]
  },
  {
   "cell_type": "markdown",
   "metadata": {},
   "source": [
    "## Municipal Evaluation"
   ]
  },
  {
   "cell_type": "code",
   "execution_count": 358,
   "metadata": {},
   "outputs": [
    {
     "data": {
      "text/plain": [
       "NaN         62924\n",
       "256000.0     3845\n",
       "150500.0     3812\n",
       "209200.0     3806\n",
       "251100.0     3804\n",
       "Name: municipal_eval, dtype: int64"
      ]
     },
     "execution_count": 358,
     "metadata": {},
     "output_type": "execute_result"
    }
   ],
   "source": [
    "processed_df['municipal_eval'].value_counts(dropna=False).iloc[0:5]"
   ]
  },
  {
   "cell_type": "code",
   "execution_count": 359,
   "metadata": {},
   "outputs": [],
   "source": [
    "drop_municipal_eval = True"
   ]
  },
  {
   "cell_type": "code",
   "execution_count": 360,
   "metadata": {},
   "outputs": [],
   "source": [
    "if drop_municipal_eval:\n",
    "    processed_df = processed_df.drop(['municipal_eval'], axis=1)\n",
    "else:\n",
    "    processed_df = processed_df[processed_df['municipal_eval'] > 2000]\n",
    "    processed_df = processed_df[processed_df['municipal_eval'] < 1000000]\n",
    "    processed_df['municipal_eval'] = processed_df['municipal_eval'].astype(int)\n",
    "\n",
    "    sns.distplot(processed_df['municipal_eval'])"
   ]
  },
  {
   "cell_type": "markdown",
   "metadata": {},
   "source": [
    "## Price"
   ]
  },
  {
   "cell_type": "code",
   "execution_count": 361,
   "metadata": {},
   "outputs": [
    {
     "data": {
      "text/plain": [
       "NaN         23208\n",
       "265000.0     4383\n",
       "360000.0     4134\n",
       "400000.0     4096\n",
       "284000.0     3906\n",
       "Name: price, dtype: int64"
      ]
     },
     "execution_count": 361,
     "metadata": {},
     "output_type": "execute_result"
    }
   ],
   "source": [
    "processed_df['price'].value_counts(dropna=False).iloc[0:5]"
   ]
  },
  {
   "cell_type": "code",
   "execution_count": 362,
   "metadata": {},
   "outputs": [
    {
     "name": "stderr",
     "output_type": "stream",
     "text": [
      "c:\\Users\\simon\\Documents\\GitHub\\quebec-real-estate\\venv\\lib\\site-packages\\seaborn\\distributions.py:2619: FutureWarning: `distplot` is a deprecated function and will be removed in a future version. Please adapt your code to use either `displot` (a figure-level function with similar flexibility) or `histplot` (an axes-level function for histograms).\n",
      "  warnings.warn(msg, FutureWarning)\n"
     ]
    },
    {
     "data": {
      "text/plain": [
       "<AxesSubplot:xlabel='price', ylabel='Density'>"
      ]
     },
     "execution_count": 362,
     "metadata": {},
     "output_type": "execute_result"
    },
    {
     "data": {
      "image/png": "[encoded data removed]",
      "text/plain": [
       "<Figure size 432x288 with 1 Axes>"
      ]
     },
     "metadata": {
      "needs_background": "light"
     },
     "output_type": "display_data"
    }
   ],
   "source": [
    "processed_df = processed_df[processed_df['price'] > 2000]\n",
    "processed_df = processed_df[processed_df['price'] < 1000000]\n",
    "processed_df['price'] = processed_df['price'].astype(int)\n",
    "\n",
    "sns.distplot(processed_df['price'])"
   ]
  },
  {
   "cell_type": "markdown",
   "metadata": {},
   "source": [
    "## Location"
   ]
  },
  {
   "cell_type": "code",
   "execution_count": 363,
   "metadata": {},
   "outputs": [],
   "source": [
    "with open('../data/processed/region_mapper.pkl', 'rb') as f:\n",
    "    location_mapper = pickle.load(f)"
   ]
  },
  {
   "cell_type": "code",
   "execution_count": 364,
   "metadata": {},
   "outputs": [],
   "source": [
    "processed_df = processed_df.replace({'location': location_mapper})"
   ]
  },
  {
   "cell_type": "code",
   "execution_count": 365,
   "metadata": {},
   "outputs": [
    {
     "data": {
      "text/plain": [
       "Capitale-Nationale                          23828\n",
       "Montérégie                                  13337\n",
       "Outaouais                                    8774\n",
       "Laurentides                                  8314\n",
       "Mauricie                                     6775\n",
       "Saguenay-Lac-Saint-Jean                      6495\n",
       "Lachine                                      5072\n",
       "L'Île-Bizard–Sainte-Geneviève                5068\n",
       "Lanaudière                                   5036\n",
       "Chaudière-Appalaches                         4455\n",
       "Estrie                                       3503\n",
       "Centre-du-Québec                             2371\n",
       "Bas-Saint-Laurent                            1262\n",
       "Rivière-des-Prairies–Pointe-aux-Trembles     1106\n",
       "Ahuntsic-Cartierville                         907\n",
       "Laval                                         869\n",
       "Pierrefonds-Roxboro                           765\n",
       "Mercier–Hochelaga-Maisonneuve                 680\n",
       "Outremont                                     624\n",
       "Montréal-Nord                                 394\n",
       "Le Plateau-Mont-Royal                         337\n",
       "Abitibi-Témiscamingue                         236\n",
       "Saint-Laurent                                 188\n",
       "Villeray–Saint-Michel–Parc-Extension          164\n",
       "Côte-Nord                                     156\n",
       "Le Sud-Ouest                                  114\n",
       "Verdun                                        104\n",
       "Anjou                                          99\n",
       "Ville-Marie                                    96\n",
       "LaSalle                                        81\n",
       "Gaspésie                                       80\n",
       "Saint-Léonard                                  21\n",
       "Côte-des-Neiges–Notre-Dame-de-Grâce            21\n",
       "Îles-de-la-Madeleine                           17\n",
       "Nord-du-Québec                                 14\n",
       "St-Stanislas-De-Champlain                       3\n",
       "Name: location, dtype: int64"
      ]
     },
     "execution_count": 365,
     "metadata": {},
     "output_type": "execute_result"
    }
   ],
   "source": [
    "processed_df['location'].value_counts().iloc[0:40]"
   ]
  },
  {
   "cell_type": "code",
   "execution_count": 366,
   "metadata": {},
   "outputs": [],
   "source": [
    "# locations = processed_df['location'].value_counts()\n",
    "# processed_df = processed_df[processed_df['location'].isin(locations.keys()[0:40])]"
   ]
  },
  {
   "cell_type": "code",
   "execution_count": 367,
   "metadata": {},
   "outputs": [
    {
     "data": {
      "text/html": [
       "<div>\n",
       "<style scoped>\n",
       "    .dataframe tbody tr th:only-of-type {\n",
       "        vertical-align: middle;\n",
       "    }\n",
       "\n",
       "    .dataframe tbody tr th {\n",
       "        vertical-align: top;\n",
       "    }\n",
       "\n",
       "    .dataframe thead th {\n",
       "        text-align: right;\n",
       "    }\n",
       "</style>\n",
       "<table border=\"1\" class=\"dataframe\">\n",
       "  <thead>\n",
       "    <tr style=\"text-align: right;\">\n",
       "      <th></th>\n",
       "      <th>subtype</th>\n",
       "      <th>style</th>\n",
       "      <th>living_area</th>\n",
       "      <th>lot_dimensions</th>\n",
       "      <th>bedrooms</th>\n",
       "      <th>bathrooms</th>\n",
       "      <th>levels</th>\n",
       "      <th>location</th>\n",
       "      <th>listing_date</th>\n",
       "      <th>year_of_construction</th>\n",
       "      <th>price</th>\n",
       "    </tr>\n",
       "  </thead>\n",
       "  <tbody>\n",
       "    <tr>\n",
       "      <th>0</th>\n",
       "      <td>2 Storey</td>\n",
       "      <td>2 storey</td>\n",
       "      <td>1191</td>\n",
       "      <td>4076</td>\n",
       "      <td>3</td>\n",
       "      <td>1</td>\n",
       "      <td>2</td>\n",
       "      <td>Capitale-Nationale</td>\n",
       "      <td>2020-12-01</td>\n",
       "      <td>2004</td>\n",
       "      <td>332500</td>\n",
       "    </tr>\n",
       "    <tr>\n",
       "      <th>1</th>\n",
       "      <td>Bungalow</td>\n",
       "      <td>Open area</td>\n",
       "      <td>1261</td>\n",
       "      <td>9500</td>\n",
       "      <td>2</td>\n",
       "      <td>1</td>\n",
       "      <td>1</td>\n",
       "      <td>Mauricie</td>\n",
       "      <td>2021-12-01</td>\n",
       "      <td>1957</td>\n",
       "      <td>265000</td>\n",
       "    </tr>\n",
       "    <tr>\n",
       "      <th>2</th>\n",
       "      <td>Townhouse</td>\n",
       "      <td>Unknown</td>\n",
       "      <td>1645</td>\n",
       "      <td>1360</td>\n",
       "      <td>3</td>\n",
       "      <td>1</td>\n",
       "      <td>3</td>\n",
       "      <td>Lachine</td>\n",
       "      <td>2021-11-01</td>\n",
       "      <td>2006</td>\n",
       "      <td>612000</td>\n",
       "    </tr>\n",
       "    <tr>\n",
       "      <th>3</th>\n",
       "      <td>Bi-generation</td>\n",
       "      <td>Link</td>\n",
       "      <td>2024</td>\n",
       "      <td>17000</td>\n",
       "      <td>4</td>\n",
       "      <td>3</td>\n",
       "      <td>1</td>\n",
       "      <td>Capitale-Nationale</td>\n",
       "      <td>2021-12-01</td>\n",
       "      <td>2019</td>\n",
       "      <td>526500</td>\n",
       "    </tr>\n",
       "    <tr>\n",
       "      <th>5</th>\n",
       "      <td>Semi-detached</td>\n",
       "      <td>2 storey</td>\n",
       "      <td>2400</td>\n",
       "      <td>4471</td>\n",
       "      <td>4</td>\n",
       "      <td>2</td>\n",
       "      <td>2</td>\n",
       "      <td>Outaouais</td>\n",
       "      <td>2021-12-01</td>\n",
       "      <td>1989</td>\n",
       "      <td>360000</td>\n",
       "    </tr>\n",
       "  </tbody>\n",
       "</table>\n",
       "</div>"
      ],
      "text/plain": [
       "         subtype      style  living_area  lot_dimensions  bedrooms  bathrooms  \\\n",
       "0       2 Storey   2 storey         1191            4076         3          1   \n",
       "1       Bungalow  Open area         1261            9500         2          1   \n",
       "2      Townhouse    Unknown         1645            1360         3          1   \n",
       "3  Bi-generation       Link         2024           17000         4          3   \n",
       "5  Semi-detached   2 storey         2400            4471         4          2   \n",
       "\n",
       "   levels            location listing_date  year_of_construction   price  \n",
       "0       2  Capitale-Nationale   2020-12-01                  2004  332500  \n",
       "1       1            Mauricie   2021-12-01                  1957  265000  \n",
       "2       3             Lachine   2021-11-01                  2006  612000  \n",
       "3       1  Capitale-Nationale   2021-12-01                  2019  526500  \n",
       "5       2           Outaouais   2021-12-01                  1989  360000  "
      ]
     },
     "execution_count": 367,
     "metadata": {},
     "output_type": "execute_result"
    }
   ],
   "source": [
    "processed_df.head()"
   ]
  },
  {
   "cell_type": "markdown",
   "metadata": {},
   "source": [
    "## Adding columns"
   ]
  },
  {
   "cell_type": "code",
   "execution_count": 368,
   "metadata": {},
   "outputs": [],
   "source": [
    "processed_df.insert(8, 'listing_year', '')\n",
    "processed_df['listing_year'] = pd.DatetimeIndex(processed_df['listing_date']).year"
   ]
  },
  {
   "cell_type": "code",
   "execution_count": 369,
   "metadata": {},
   "outputs": [],
   "source": [
    "processed_df.insert(9, 'age', '')\n",
    "processed_df['age'] = processed_df['listing_year'] - processed_df['year_of_construction']"
   ]
  },
  {
   "cell_type": "code",
   "execution_count": 370,
   "metadata": {},
   "outputs": [],
   "source": [
    "processed_df.insert(10, 'yard_area', '')\n",
    "processed_df['yard_area'] = processed_df['lot_dimensions'] - processed_df['living_area']\n",
    "processed_df['yard_area'] = processed_df['yard_area'].mask(processed_df['yard_area'].lt(0), 0)"
   ]
  },
  {
   "cell_type": "code",
   "execution_count": 371,
   "metadata": {},
   "outputs": [
    {
     "data": {
      "text/html": [
       "<div>\n",
       "<style scoped>\n",
       "    .dataframe tbody tr th:only-of-type {\n",
       "        vertical-align: middle;\n",
       "    }\n",
       "\n",
       "    .dataframe tbody tr th {\n",
       "        vertical-align: top;\n",
       "    }\n",
       "\n",
       "    .dataframe thead th {\n",
       "        text-align: right;\n",
       "    }\n",
       "</style>\n",
       "<table border=\"1\" class=\"dataframe\">\n",
       "  <thead>\n",
       "    <tr style=\"text-align: right;\">\n",
       "      <th></th>\n",
       "      <th>subtype</th>\n",
       "      <th>style</th>\n",
       "      <th>living_area</th>\n",
       "      <th>lot_dimensions</th>\n",
       "      <th>bedrooms</th>\n",
       "      <th>bathrooms</th>\n",
       "      <th>levels</th>\n",
       "      <th>location</th>\n",
       "      <th>listing_year</th>\n",
       "      <th>age</th>\n",
       "      <th>yard_area</th>\n",
       "      <th>listing_date</th>\n",
       "      <th>year_of_construction</th>\n",
       "      <th>price</th>\n",
       "    </tr>\n",
       "  </thead>\n",
       "  <tbody>\n",
       "    <tr>\n",
       "      <th>0</th>\n",
       "      <td>2 Storey</td>\n",
       "      <td>2 storey</td>\n",
       "      <td>1191</td>\n",
       "      <td>4076</td>\n",
       "      <td>3</td>\n",
       "      <td>1</td>\n",
       "      <td>2</td>\n",
       "      <td>Capitale-Nationale</td>\n",
       "      <td>2020.0</td>\n",
       "      <td>16.0</td>\n",
       "      <td>2885</td>\n",
       "      <td>2020-12-01</td>\n",
       "      <td>2004</td>\n",
       "      <td>332500</td>\n",
       "    </tr>\n",
       "    <tr>\n",
       "      <th>1</th>\n",
       "      <td>Bungalow</td>\n",
       "      <td>Open area</td>\n",
       "      <td>1261</td>\n",
       "      <td>9500</td>\n",
       "      <td>2</td>\n",
       "      <td>1</td>\n",
       "      <td>1</td>\n",
       "      <td>Mauricie</td>\n",
       "      <td>2021.0</td>\n",
       "      <td>64.0</td>\n",
       "      <td>8239</td>\n",
       "      <td>2021-12-01</td>\n",
       "      <td>1957</td>\n",
       "      <td>265000</td>\n",
       "    </tr>\n",
       "    <tr>\n",
       "      <th>2</th>\n",
       "      <td>Townhouse</td>\n",
       "      <td>Unknown</td>\n",
       "      <td>1645</td>\n",
       "      <td>1360</td>\n",
       "      <td>3</td>\n",
       "      <td>1</td>\n",
       "      <td>3</td>\n",
       "      <td>Lachine</td>\n",
       "      <td>2021.0</td>\n",
       "      <td>15.0</td>\n",
       "      <td>0</td>\n",
       "      <td>2021-11-01</td>\n",
       "      <td>2006</td>\n",
       "      <td>612000</td>\n",
       "    </tr>\n",
       "    <tr>\n",
       "      <th>3</th>\n",
       "      <td>Bi-generation</td>\n",
       "      <td>Link</td>\n",
       "      <td>2024</td>\n",
       "      <td>17000</td>\n",
       "      <td>4</td>\n",
       "      <td>3</td>\n",
       "      <td>1</td>\n",
       "      <td>Capitale-Nationale</td>\n",
       "      <td>2021.0</td>\n",
       "      <td>2.0</td>\n",
       "      <td>14976</td>\n",
       "      <td>2021-12-01</td>\n",
       "      <td>2019</td>\n",
       "      <td>526500</td>\n",
       "    </tr>\n",
       "    <tr>\n",
       "      <th>5</th>\n",
       "      <td>Semi-detached</td>\n",
       "      <td>2 storey</td>\n",
       "      <td>2400</td>\n",
       "      <td>4471</td>\n",
       "      <td>4</td>\n",
       "      <td>2</td>\n",
       "      <td>2</td>\n",
       "      <td>Outaouais</td>\n",
       "      <td>2021.0</td>\n",
       "      <td>32.0</td>\n",
       "      <td>2071</td>\n",
       "      <td>2021-12-01</td>\n",
       "      <td>1989</td>\n",
       "      <td>360000</td>\n",
       "    </tr>\n",
       "  </tbody>\n",
       "</table>\n",
       "</div>"
      ],
      "text/plain": [
       "         subtype      style  living_area  lot_dimensions  bedrooms  bathrooms  \\\n",
       "0       2 Storey   2 storey         1191            4076         3          1   \n",
       "1       Bungalow  Open area         1261            9500         2          1   \n",
       "2      Townhouse    Unknown         1645            1360         3          1   \n",
       "3  Bi-generation       Link         2024           17000         4          3   \n",
       "5  Semi-detached   2 storey         2400            4471         4          2   \n",
       "\n",
       "   levels            location  listing_year   age  yard_area listing_date  \\\n",
       "0       2  Capitale-Nationale        2020.0  16.0       2885   2020-12-01   \n",
       "1       1            Mauricie        2021.0  64.0       8239   2021-12-01   \n",
       "2       3             Lachine        2021.0  15.0          0   2021-11-01   \n",
       "3       1  Capitale-Nationale        2021.0   2.0      14976   2021-12-01   \n",
       "5       2           Outaouais        2021.0  32.0       2071   2021-12-01   \n",
       "\n",
       "   year_of_construction   price  \n",
       "0                  2004  332500  \n",
       "1                  1957  265000  \n",
       "2                  2006  612000  \n",
       "3                  2019  526500  \n",
       "5                  1989  360000  "
      ]
     },
     "execution_count": 371,
     "metadata": {},
     "output_type": "execute_result"
    }
   ],
   "source": [
    "processed_df.head()"
   ]
  },
  {
   "cell_type": "code",
   "execution_count": 372,
   "metadata": {},
   "outputs": [
    {
     "name": "stdout",
     "output_type": "stream",
     "text": [
      "169894\n",
      "101366\n"
     ]
    }
   ],
   "source": [
    "print(len(raw_df))\n",
    "print(len(processed_df))"
   ]
  },
  {
   "cell_type": "code",
   "execution_count": 373,
   "metadata": {},
   "outputs": [],
   "source": [
    "processed_df.to_csv('../data/processed/processed_listings.csv', index=False)"
   ]
  }
 ],
 "metadata": {
  "interpreter": {
   "hash": "64dddcbcaec4bb6385c138499a04ba94b2e3f1c047b570a9b11b84db929d6a00"
  },
  "kernelspec": {
   "display_name": "Python 3.8.6 64-bit ('venv': venv)",
   "language": "python",
   "name": "python3"
  },
  "language_info": {
   "codemirror_mode": {
    "name": "ipython",
    "version": 3
   },
   "file_extension": ".py",
   "mimetype": "text/x-python",
   "name": "python",
   "nbconvert_exporter": "python",
   "pygments_lexer": "ipython3",
   "version": "3.8.6"
  },
  "orig_nbformat": 4
 },
 "nbformat": 4,
 "nbformat_minor": 2
}
