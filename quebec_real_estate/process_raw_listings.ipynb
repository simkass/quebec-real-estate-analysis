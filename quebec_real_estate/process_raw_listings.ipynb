{
 "cells": [
  {
   "cell_type": "code",
   "execution_count": 262,
   "metadata": {},
   "outputs": [],
   "source": [
    "import pandas as pd\n",
    "import seaborn as sns"
   ]
  },
  {
   "cell_type": "code",
   "execution_count": 263,
   "metadata": {},
   "outputs": [
    {
     "name": "stdout",
     "output_type": "stream",
     "text": [
      "121324\n"
     ]
    }
   ],
   "source": [
    "raw_df = pd.read_csv('../data/raw/raw_listings.csv')\n",
    "print(len(raw_df))"
   ]
  },
  {
   "cell_type": "code",
   "execution_count": 264,
   "metadata": {},
   "outputs": [
    {
     "data": {
      "text/html": [
       "<div>\n",
       "<style scoped>\n",
       "    .dataframe tbody tr th:only-of-type {\n",
       "        vertical-align: middle;\n",
       "    }\n",
       "\n",
       "    .dataframe tbody tr th {\n",
       "        vertical-align: top;\n",
       "    }\n",
       "\n",
       "    .dataframe thead th {\n",
       "        text-align: right;\n",
       "    }\n",
       "</style>\n",
       "<table border=\"1\" class=\"dataframe\">\n",
       "  <thead>\n",
       "    <tr style=\"text-align: right;\">\n",
       "      <th></th>\n",
       "      <th>style</th>\n",
       "      <th>living_area</th>\n",
       "      <th>lot_dimensions</th>\n",
       "      <th>bedrooms</th>\n",
       "      <th>bathrooms</th>\n",
       "      <th>levels</th>\n",
       "      <th>location</th>\n",
       "      <th>listing_date</th>\n",
       "      <th>year_of_construction</th>\n",
       "      <th>municipal_eval</th>\n",
       "      <th>price</th>\n",
       "    </tr>\n",
       "  </thead>\n",
       "  <tbody>\n",
       "    <tr>\n",
       "      <th>0</th>\n",
       "      <td>2 storey</td>\n",
       "      <td>1191.3</td>\n",
       "      <td>4076.29</td>\n",
       "      <td>3.0</td>\n",
       "      <td>1.0</td>\n",
       "      <td>2.0</td>\n",
       "      <td>Beauport</td>\n",
       "      <td>202012.0</td>\n",
       "      <td>2004.0</td>\n",
       "      <td>256000.0</td>\n",
       "      <td>332500.0</td>\n",
       "    </tr>\n",
       "    <tr>\n",
       "      <th>0</th>\n",
       "      <td>Open area</td>\n",
       "      <td>1261.0</td>\n",
       "      <td>9500.00</td>\n",
       "      <td>2.0</td>\n",
       "      <td>1.0</td>\n",
       "      <td>1.0</td>\n",
       "      <td>Deschambault</td>\n",
       "      <td>202112.0</td>\n",
       "      <td>1957.0</td>\n",
       "      <td>150500.0</td>\n",
       "      <td>265000.0</td>\n",
       "    </tr>\n",
       "    <tr>\n",
       "      <th>0</th>\n",
       "      <td>NaN</td>\n",
       "      <td>1645.0</td>\n",
       "      <td>1360.00</td>\n",
       "      <td>3.0</td>\n",
       "      <td>1.0</td>\n",
       "      <td>3.0</td>\n",
       "      <td>Mercier</td>\n",
       "      <td>202111.0</td>\n",
       "      <td>2006.0</td>\n",
       "      <td>479400.0</td>\n",
       "      <td>612000.0</td>\n",
       "    </tr>\n",
       "    <tr>\n",
       "      <th>0</th>\n",
       "      <td>Link</td>\n",
       "      <td>2024.0</td>\n",
       "      <td>17000.00</td>\n",
       "      <td>4.0</td>\n",
       "      <td>3.0</td>\n",
       "      <td>1.0</td>\n",
       "      <td>Stoneham</td>\n",
       "      <td>202112.0</td>\n",
       "      <td>2019.0</td>\n",
       "      <td>NaN</td>\n",
       "      <td>526500.0</td>\n",
       "    </tr>\n",
       "    <tr>\n",
       "      <th>0</th>\n",
       "      <td>Waterfront</td>\n",
       "      <td>1469.0</td>\n",
       "      <td>16970.00</td>\n",
       "      <td>4.0</td>\n",
       "      <td>2.0</td>\n",
       "      <td>2.0</td>\n",
       "      <td>Trois-Rivières</td>\n",
       "      <td>202111.0</td>\n",
       "      <td>1925.0</td>\n",
       "      <td>NaN</td>\n",
       "      <td>NaN</td>\n",
       "    </tr>\n",
       "  </tbody>\n",
       "</table>\n",
       "</div>"
      ],
      "text/plain": [
       "        style  living_area  lot_dimensions  bedrooms  bathrooms  levels  \\\n",
       "0    2 storey       1191.3         4076.29       3.0        1.0     2.0   \n",
       "0   Open area       1261.0         9500.00       2.0        1.0     1.0   \n",
       "0         NaN       1645.0         1360.00       3.0        1.0     3.0   \n",
       "0        Link       2024.0        17000.00       4.0        3.0     1.0   \n",
       "0  Waterfront       1469.0        16970.00       4.0        2.0     2.0   \n",
       "\n",
       "         location  listing_date  year_of_construction  municipal_eval  \\\n",
       "0        Beauport      202012.0                2004.0        256000.0   \n",
       "0    Deschambault      202112.0                1957.0        150500.0   \n",
       "0         Mercier      202111.0                2006.0        479400.0   \n",
       "0        Stoneham      202112.0                2019.0             NaN   \n",
       "0  Trois-Rivières      202111.0                1925.0             NaN   \n",
       "\n",
       "      price  \n",
       "0  332500.0  \n",
       "0  265000.0  \n",
       "0  612000.0  \n",
       "0  526500.0  \n",
       "0       NaN  "
      ]
     },
     "execution_count": 264,
     "metadata": {},
     "output_type": "execute_result"
    }
   ],
   "source": [
    "raw_df.head()"
   ]
  },
  {
   "cell_type": "code",
   "execution_count": 265,
   "metadata": {},
   "outputs": [],
   "source": [
    "processed_df = raw_df.copy()"
   ]
  },
  {
   "cell_type": "code",
   "execution_count": 266,
   "metadata": {},
   "outputs": [
    {
     "name": "stdout",
     "output_type": "stream",
     "text": [
      "121324\n"
     ]
    }
   ],
   "source": [
    "print(len(processed_df))"
   ]
  },
  {
   "cell_type": "markdown",
   "metadata": {},
   "source": [
    "## Style"
   ]
  },
  {
   "cell_type": "code",
   "execution_count": 267,
   "metadata": {},
   "outputs": [
    {
     "data": {
      "text/plain": [
       "NaN                 25934\n",
       "2 storey            23973\n",
       "Open area           18655\n",
       "Detached            13612\n",
       "Waterfront           4031\n",
       "Side split           3361\n",
       "Semi-detached        3237\n",
       "Rural                3134\n",
       "New construction     2671\n",
       "Link                 2480\n",
       "Name: style, dtype: int64"
      ]
     },
     "execution_count": 267,
     "metadata": {},
     "output_type": "execute_result"
    }
   ],
   "source": [
    "processed_df['style'].value_counts(dropna=False).iloc[0:10]"
   ]
  },
  {
   "cell_type": "code",
   "execution_count": 268,
   "metadata": {},
   "outputs": [],
   "source": [
    "processed_df['style'] = processed_df['style'].fillna('Unknown')\n",
    "styles = processed_df['style'].value_counts()\n",
    "processed_df = processed_df[processed_df['style'].isin(styles.keys())]"
   ]
  },
  {
   "cell_type": "code",
   "execution_count": 269,
   "metadata": {},
   "outputs": [
    {
     "name": "stdout",
     "output_type": "stream",
     "text": [
      "121324\n"
     ]
    }
   ],
   "source": [
    "print(len(processed_df))"
   ]
  },
  {
   "cell_type": "markdown",
   "metadata": {},
   "source": [
    "## Living Area"
   ]
  },
  {
   "cell_type": "code",
   "execution_count": 270,
   "metadata": {},
   "outputs": [
    {
     "data": {
      "text/plain": [
       "960.0     3436\n",
       "1800.0    3014\n",
       "1200.0    2666\n",
       "1560.0    2379\n",
       "NaN       2286\n",
       "Name: living_area, dtype: int64"
      ]
     },
     "execution_count": 270,
     "metadata": {},
     "output_type": "execute_result"
    }
   ],
   "source": [
    "processed_df['living_area'].value_counts(dropna=False).iloc[0:5]"
   ]
  },
  {
   "cell_type": "code",
   "execution_count": 271,
   "metadata": {},
   "outputs": [],
   "source": [
    "mean_living_area = processed_df['living_area'].dropna().mean()\n",
    "processed_df['living_area'] = processed_df['living_area'].fillna(mean_living_area)"
   ]
  },
  {
   "cell_type": "code",
   "execution_count": 272,
   "metadata": {},
   "outputs": [
    {
     "name": "stderr",
     "output_type": "stream",
     "text": [
      "c:\\Users\\simon\\Documents\\GitHub\\quebec-real-estate\\venv\\lib\\site-packages\\seaborn\\distributions.py:2619: FutureWarning: `distplot` is a deprecated function and will be removed in a future version. Please adapt your code to use either `displot` (a figure-level function with similar flexibility) or `histplot` (an axes-level function for histograms).\n",
      "  warnings.warn(msg, FutureWarning)\n"
     ]
    },
    {
     "data": {
      "text/plain": [
       "<AxesSubplot:xlabel='living_area', ylabel='Density'>"
      ]
     },
     "execution_count": 272,
     "metadata": {},
     "output_type": "execute_result"
    },
    {
     "data": {
      "image/png": "[encoded data removed]",
      "text/plain": [
       "<Figure size 432x288 with 1 Axes>"
      ]
     },
     "metadata": {
      "needs_background": "light"
     },
     "output_type": "display_data"
    }
   ],
   "source": [
    "processed_df = processed_df[processed_df['living_area'] > 500]\n",
    "processed_df = processed_df[processed_df['living_area'] < 4000]\n",
    "processed_df['living_area'] = processed_df['living_area'].astype(int)\n",
    "\n",
    "sns.distplot(processed_df['living_area'])"
   ]
  },
  {
   "cell_type": "code",
   "execution_count": 273,
   "metadata": {},
   "outputs": [
    {
     "name": "stdout",
     "output_type": "stream",
     "text": [
      "120504\n"
     ]
    }
   ],
   "source": [
    "print(len(processed_df))"
   ]
  },
  {
   "cell_type": "markdown",
   "metadata": {},
   "source": [
    "## Lot Dimensions"
   ]
  },
  {
   "cell_type": "code",
   "execution_count": 274,
   "metadata": {},
   "outputs": [
    {
     "data": {
      "text/plain": [
       "NaN        2636\n",
       "6000.0     2289\n",
       "17000.0    2110\n",
       "9500.0     2098\n",
       "10100.0    2037\n",
       "Name: lot_dimensions, dtype: int64"
      ]
     },
     "execution_count": 274,
     "metadata": {},
     "output_type": "execute_result"
    }
   ],
   "source": [
    "processed_df['lot_dimensions'].value_counts(dropna=False).iloc[0:5]"
   ]
  },
  {
   "cell_type": "code",
   "execution_count": 275,
   "metadata": {},
   "outputs": [],
   "source": [
    "mean_lot_dimensions = processed_df['lot_dimensions'].dropna().mean()\n",
    "processed_df['lot_dimensions'] = processed_df['lot_dimensions'].fillna(mean_living_area)"
   ]
  },
  {
   "cell_type": "code",
   "execution_count": 276,
   "metadata": {},
   "outputs": [
    {
     "name": "stderr",
     "output_type": "stream",
     "text": [
      "c:\\Users\\simon\\Documents\\GitHub\\quebec-real-estate\\venv\\lib\\site-packages\\seaborn\\distributions.py:2619: FutureWarning: `distplot` is a deprecated function and will be removed in a future version. Please adapt your code to use either `displot` (a figure-level function with similar flexibility) or `histplot` (an axes-level function for histograms).\n",
      "  warnings.warn(msg, FutureWarning)\n"
     ]
    },
    {
     "data": {
      "text/plain": [
       "<AxesSubplot:xlabel='lot_dimensions', ylabel='Density'>"
      ]
     },
     "execution_count": 276,
     "metadata": {},
     "output_type": "execute_result"
    },
    {
     "data": {
      "image/png": "[encoded data removed]",
      "text/plain": [
       "<Figure size 432x288 with 1 Axes>"
      ]
     },
     "metadata": {
      "needs_background": "light"
     },
     "output_type": "display_data"
    }
   ],
   "source": [
    "processed_df = processed_df[processed_df['lot_dimensions'] > 500]\n",
    "processed_df = processed_df[processed_df['lot_dimensions'] < 80000]\n",
    "processed_df['lot_dimensions'] = processed_df['lot_dimensions'].astype(int)\n",
    "\n",
    "sns.distplot(processed_df['lot_dimensions'])"
   ]
  },
  {
   "cell_type": "code",
   "execution_count": 277,
   "metadata": {},
   "outputs": [
    {
     "name": "stdout",
     "output_type": "stream",
     "text": [
      "117308\n"
     ]
    }
   ],
   "source": [
    "print(len(processed_df))"
   ]
  },
  {
   "cell_type": "markdown",
   "metadata": {},
   "source": [
    "## Bedrooms, Bathrooms & Levels"
   ]
  },
  {
   "cell_type": "code",
   "execution_count": 278,
   "metadata": {},
   "outputs": [
    {
     "data": {
      "text/plain": [
       "3.0     49242\n",
       "4.0     39706\n",
       "2.0     14242\n",
       "5.0     11826\n",
       "6.0      1160\n",
       "1.0       531\n",
       "NaN       292\n",
       "7.0       196\n",
       "8.0        67\n",
       "9.0        18\n",
       "10.0       12\n",
       "11.0        6\n",
       "15.0        2\n",
       "3.5         2\n",
       "13.0        1\n",
       "17.0        1\n",
       "2.5         1\n",
       "3.2         1\n",
       "4.5         1\n",
       "2.1         1\n",
       "Name: bedrooms, dtype: int64"
      ]
     },
     "execution_count": 278,
     "metadata": {},
     "output_type": "execute_result"
    }
   ],
   "source": [
    "processed_df['bedrooms'].value_counts(dropna=False)"
   ]
  },
  {
   "cell_type": "code",
   "execution_count": 279,
   "metadata": {},
   "outputs": [
    {
     "data": {
      "text/plain": [
       "2.0       59387\n",
       "1.0       52224\n",
       "3.0        5279\n",
       "NaN         205\n",
       "4.0         172\n",
       "5.0          27\n",
       "6.0           7\n",
       "7.0           2\n",
       "8.0           2\n",
       "11.0          1\n",
       "10.0          1\n",
       "2008.0        1\n",
       "Name: bathrooms, dtype: int64"
      ]
     },
     "execution_count": 279,
     "metadata": {},
     "output_type": "execute_result"
    }
   ],
   "source": [
    "processed_df['bathrooms'].value_counts(dropna=False)"
   ]
  },
  {
   "cell_type": "code",
   "execution_count": 280,
   "metadata": {},
   "outputs": [
    {
     "data": {
      "text/plain": [
       "2.0       55642\n",
       "1.0       55375\n",
       "3.0        3956\n",
       "NaN        2201\n",
       "4.0         124\n",
       "5.0           6\n",
       "11.0          1\n",
       "6.0           1\n",
       "1816.0        1\n",
       "768.0         1\n",
       "Name: levels, dtype: int64"
      ]
     },
     "execution_count": 280,
     "metadata": {},
     "output_type": "execute_result"
    }
   ],
   "source": [
    "processed_df['levels'].value_counts(dropna=False)"
   ]
  },
  {
   "cell_type": "code",
   "execution_count": 281,
   "metadata": {},
   "outputs": [],
   "source": [
    "processed_df = processed_df[processed_df['bedrooms'] < 7]\n",
    "processed_df = processed_df[processed_df['bathrooms'] < 5]\n",
    "processed_df = processed_df[processed_df['levels'] < 4]\n",
    "\n",
    "processed_df['bedrooms'] = processed_df['bedrooms'].astype(int)\n",
    "processed_df['bathrooms'] = processed_df['bathrooms'].astype(int)\n",
    "processed_df['levels'] = processed_df['levels'].astype(int)"
   ]
  },
  {
   "cell_type": "code",
   "execution_count": 282,
   "metadata": {},
   "outputs": [
    {
     "name": "stdout",
     "output_type": "stream",
     "text": [
      "114386\n"
     ]
    }
   ],
   "source": [
    "print(len(processed_df))"
   ]
  },
  {
   "cell_type": "markdown",
   "metadata": {},
   "source": [
    "## Listing Date"
   ]
  },
  {
   "cell_type": "code",
   "execution_count": 283,
   "metadata": {},
   "outputs": [
    {
     "data": {
      "text/plain": [
       "202112.0    12187\n",
       "202111.0     6321\n",
       "201907.0     3978\n",
       "202012.0     2673\n",
       "202109.0     2485\n",
       "Name: listing_date, dtype: int64"
      ]
     },
     "execution_count": 283,
     "metadata": {},
     "output_type": "execute_result"
    }
   ],
   "source": [
    "processed_df['listing_date'].value_counts(dropna=False).iloc[0:5]"
   ]
  },
  {
   "cell_type": "code",
   "execution_count": 284,
   "metadata": {},
   "outputs": [],
   "source": [
    "processed_df['listing_date'] = pd.to_datetime(processed_df['listing_date'], format='%Y%m')"
   ]
  },
  {
   "cell_type": "markdown",
   "metadata": {},
   "source": [
    "## Year of Construction"
   ]
  },
  {
   "cell_type": "code",
   "execution_count": 285,
   "metadata": {},
   "outputs": [
    {
     "data": {
      "text/plain": [
       "NaN       11398\n",
       "2004.0     4378\n",
       "2006.0     4333\n",
       "1989.0     3614\n",
       "1975.0     3260\n",
       "Name: year_of_construction, dtype: int64"
      ]
     },
     "execution_count": 285,
     "metadata": {},
     "output_type": "execute_result"
    }
   ],
   "source": [
    "processed_df['year_of_construction'].value_counts(dropna=False).iloc[0:5]"
   ]
  },
  {
   "cell_type": "code",
   "execution_count": 286,
   "metadata": {},
   "outputs": [],
   "source": [
    "mean_year_of_constructions = processed_df['year_of_construction'].dropna().mean()\n",
    "processed_df['year_of_construction'] = processed_df['year_of_construction'].fillna(mean_living_area)"
   ]
  },
  {
   "cell_type": "code",
   "execution_count": 287,
   "metadata": {},
   "outputs": [],
   "source": [
    "years = processed_df['year_of_construction'].value_counts()\n",
    "processed_df = processed_df[processed_df['year_of_construction'].isin(years.keys())]\n",
    "processed_df['year_of_construction'] = processed_df['year_of_construction'].astype(int)"
   ]
  },
  {
   "cell_type": "code",
   "execution_count": 288,
   "metadata": {},
   "outputs": [
    {
     "name": "stdout",
     "output_type": "stream",
     "text": [
      "114386\n"
     ]
    }
   ],
   "source": [
    "print(len(processed_df))"
   ]
  },
  {
   "cell_type": "markdown",
   "metadata": {},
   "source": [
    "## Municipal Evaluation"
   ]
  },
  {
   "cell_type": "code",
   "execution_count": 289,
   "metadata": {},
   "outputs": [
    {
     "data": {
      "text/plain": [
       "NaN         57873\n",
       "256000.0     2084\n",
       "150500.0     2043\n",
       "209200.0     2036\n",
       "251100.0     2034\n",
       "Name: municipal_eval, dtype: int64"
      ]
     },
     "execution_count": 289,
     "metadata": {},
     "output_type": "execute_result"
    }
   ],
   "source": [
    "processed_df['municipal_eval'].value_counts(dropna=False).iloc[0:5]"
   ]
  },
  {
   "cell_type": "code",
   "execution_count": 290,
   "metadata": {},
   "outputs": [],
   "source": [
    "drop_municipal_eval = True"
   ]
  },
  {
   "cell_type": "code",
   "execution_count": 291,
   "metadata": {},
   "outputs": [],
   "source": [
    "if drop_municipal_eval:\n",
    "    processed_df = processed_df.drop(['municipal_eval'], axis=1)\n",
    "else:\n",
    "    processed_df = processed_df[processed_df['municipal_eval'] > 2000]\n",
    "    processed_df = processed_df[processed_df['municipal_eval'] < 1000000]\n",
    "    processed_df['municipal_eval'] = processed_df['municipal_eval'].astype(int)\n",
    "\n",
    "    sns.distplot(processed_df['municipal_eval'])"
   ]
  },
  {
   "cell_type": "markdown",
   "metadata": {},
   "source": [
    "## Price"
   ]
  },
  {
   "cell_type": "code",
   "execution_count": 292,
   "metadata": {},
   "outputs": [
    {
     "data": {
      "text/plain": [
       "NaN         22610\n",
       "265000.0     2686\n",
       "360000.0     2413\n",
       "400000.0     2384\n",
       "550000.0     2153\n",
       "Name: price, dtype: int64"
      ]
     },
     "execution_count": 292,
     "metadata": {},
     "output_type": "execute_result"
    }
   ],
   "source": [
    "processed_df['price'].value_counts(dropna=False).iloc[0:5]"
   ]
  },
  {
   "cell_type": "code",
   "execution_count": 293,
   "metadata": {},
   "outputs": [
    {
     "name": "stderr",
     "output_type": "stream",
     "text": [
      "c:\\Users\\simon\\Documents\\GitHub\\quebec-real-estate\\venv\\lib\\site-packages\\seaborn\\distributions.py:2619: FutureWarning: `distplot` is a deprecated function and will be removed in a future version. Please adapt your code to use either `displot` (a figure-level function with similar flexibility) or `histplot` (an axes-level function for histograms).\n",
      "  warnings.warn(msg, FutureWarning)\n"
     ]
    },
    {
     "data": {
      "text/plain": [
       "<AxesSubplot:xlabel='price', ylabel='Density'>"
      ]
     },
     "execution_count": 293,
     "metadata": {},
     "output_type": "execute_result"
    },
    {
     "data": {
      "image/png": "[encoded data removed]",
      "text/plain": [
       "<Figure size 432x288 with 1 Axes>"
      ]
     },
     "metadata": {
      "needs_background": "light"
     },
     "output_type": "display_data"
    }
   ],
   "source": [
    "processed_df = processed_df[processed_df['price'] > 2000]\n",
    "processed_df = processed_df[processed_df['price'] < 1000000]\n",
    "processed_df['price'] = processed_df['price'].astype(int)\n",
    "\n",
    "sns.distplot(processed_df['price'])"
   ]
  },
  {
   "cell_type": "code",
   "execution_count": 294,
   "metadata": {},
   "outputs": [
    {
     "data": {
      "text/html": [
       "<div>\n",
       "<style scoped>\n",
       "    .dataframe tbody tr th:only-of-type {\n",
       "        vertical-align: middle;\n",
       "    }\n",
       "\n",
       "    .dataframe tbody tr th {\n",
       "        vertical-align: top;\n",
       "    }\n",
       "\n",
       "    .dataframe thead th {\n",
       "        text-align: right;\n",
       "    }\n",
       "</style>\n",
       "<table border=\"1\" class=\"dataframe\">\n",
       "  <thead>\n",
       "    <tr style=\"text-align: right;\">\n",
       "      <th></th>\n",
       "      <th>style</th>\n",
       "      <th>living_area</th>\n",
       "      <th>lot_dimensions</th>\n",
       "      <th>bedrooms</th>\n",
       "      <th>bathrooms</th>\n",
       "      <th>levels</th>\n",
       "      <th>location</th>\n",
       "      <th>listing_date</th>\n",
       "      <th>year_of_construction</th>\n",
       "      <th>price</th>\n",
       "    </tr>\n",
       "  </thead>\n",
       "  <tbody>\n",
       "    <tr>\n",
       "      <th>0</th>\n",
       "      <td>2 storey</td>\n",
       "      <td>1191</td>\n",
       "      <td>4076</td>\n",
       "      <td>3</td>\n",
       "      <td>1</td>\n",
       "      <td>2</td>\n",
       "      <td>Beauport</td>\n",
       "      <td>2020-12-01</td>\n",
       "      <td>2004</td>\n",
       "      <td>332500</td>\n",
       "    </tr>\n",
       "    <tr>\n",
       "      <th>0</th>\n",
       "      <td>Open area</td>\n",
       "      <td>1261</td>\n",
       "      <td>9500</td>\n",
       "      <td>2</td>\n",
       "      <td>1</td>\n",
       "      <td>1</td>\n",
       "      <td>Deschambault</td>\n",
       "      <td>2021-12-01</td>\n",
       "      <td>1957</td>\n",
       "      <td>265000</td>\n",
       "    </tr>\n",
       "    <tr>\n",
       "      <th>0</th>\n",
       "      <td>Unknown</td>\n",
       "      <td>1645</td>\n",
       "      <td>1360</td>\n",
       "      <td>3</td>\n",
       "      <td>1</td>\n",
       "      <td>3</td>\n",
       "      <td>Mercier</td>\n",
       "      <td>2021-11-01</td>\n",
       "      <td>2006</td>\n",
       "      <td>612000</td>\n",
       "    </tr>\n",
       "    <tr>\n",
       "      <th>0</th>\n",
       "      <td>Link</td>\n",
       "      <td>2024</td>\n",
       "      <td>17000</td>\n",
       "      <td>4</td>\n",
       "      <td>3</td>\n",
       "      <td>1</td>\n",
       "      <td>Stoneham</td>\n",
       "      <td>2021-12-01</td>\n",
       "      <td>2019</td>\n",
       "      <td>526500</td>\n",
       "    </tr>\n",
       "    <tr>\n",
       "      <th>0</th>\n",
       "      <td>2 storey</td>\n",
       "      <td>2400</td>\n",
       "      <td>4471</td>\n",
       "      <td>4</td>\n",
       "      <td>2</td>\n",
       "      <td>2</td>\n",
       "      <td>Gatineau</td>\n",
       "      <td>2021-12-01</td>\n",
       "      <td>1989</td>\n",
       "      <td>360000</td>\n",
       "    </tr>\n",
       "  </tbody>\n",
       "</table>\n",
       "</div>"
      ],
      "text/plain": [
       "       style  living_area  lot_dimensions  bedrooms  bathrooms  levels  \\\n",
       "0   2 storey         1191            4076         3          1       2   \n",
       "0  Open area         1261            9500         2          1       1   \n",
       "0    Unknown         1645            1360         3          1       3   \n",
       "0       Link         2024           17000         4          3       1   \n",
       "0   2 storey         2400            4471         4          2       2   \n",
       "\n",
       "       location listing_date  year_of_construction   price  \n",
       "0      Beauport   2020-12-01                  2004  332500  \n",
       "0  Deschambault   2021-12-01                  1957  265000  \n",
       "0       Mercier   2021-11-01                  2006  612000  \n",
       "0      Stoneham   2021-12-01                  2019  526500  \n",
       "0      Gatineau   2021-12-01                  1989  360000  "
      ]
     },
     "execution_count": 294,
     "metadata": {},
     "output_type": "execute_result"
    }
   ],
   "source": [
    "processed_df.head()"
   ]
  },
  {
   "cell_type": "markdown",
   "metadata": {},
   "source": [
    "## Location"
   ]
  },
  {
   "cell_type": "code",
   "execution_count": 295,
   "metadata": {},
   "outputs": [
    {
     "data": {
      "text/plain": [
       "Cap-Rouge               355\n",
       "Mont-St-Hilaire         343\n",
       "L'Ancienne-Lorette      342\n",
       "Vaudreuil-Dorion        337\n",
       "St-Constant             336\n",
       "Lebourgneuf             333\n",
       "Candiac                 330\n",
       "Chateauguay             324\n",
       "Pointe-Aux-Trembles     320\n",
       "Boisbriand              307\n",
       "Sorel-Tracy             305\n",
       "St-Étienne-De-Lauzon    291\n",
       "St-Basile-Le-Grand      275\n",
       "Bromont                 270\n",
       "St-Colomban             268\n",
       "Ste-Marie               263\n",
       "Ste-Catherine           262\n",
       "Deux-Montagnes          260\n",
       "Marieville              259\n",
       "St-Rédempteur           258\n",
       "Name: location, dtype: int64"
      ]
     },
     "execution_count": 295,
     "metadata": {},
     "output_type": "execute_result"
    }
   ],
   "source": [
    "processed_df['location'].value_counts(dropna=False).iloc[50:70]"
   ]
  },
  {
   "cell_type": "code",
   "execution_count": 296,
   "metadata": {},
   "outputs": [],
   "source": [
    "locations = processed_df['location'].value_counts()\n",
    "processed_df = processed_df[processed_df['location'].isin(locations.keys()[0:50])]"
   ]
  },
  {
   "cell_type": "code",
   "execution_count": 297,
   "metadata": {},
   "outputs": [
    {
     "name": "stdout",
     "output_type": "stream",
     "text": [
      "121324\n",
      "59875\n"
     ]
    }
   ],
   "source": [
    "print(len(raw_df))\n",
    "print(len(processed_df))"
   ]
  },
  {
   "cell_type": "code",
   "execution_count": 298,
   "metadata": {},
   "outputs": [],
   "source": [
    "processed_df.to_csv('../data/processed/processed_listings.csv', index=False)"
   ]
  }
 ],
 "metadata": {
  "interpreter": {
   "hash": "64dddcbcaec4bb6385c138499a04ba94b2e3f1c047b570a9b11b84db929d6a00"
  },
  "kernelspec": {
   "display_name": "Python 3.8.6 64-bit ('venv': venv)",
   "language": "python",
   "name": "python3"
  },
  "language_info": {
   "codemirror_mode": {
    "name": "ipython",
    "version": 3
   },
   "file_extension": ".py",
   "mimetype": "text/x-python",
   "name": "python",
   "nbconvert_exporter": "python",
   "pygments_lexer": "ipython3",
   "version": "3.8.6"
  },
  "orig_nbformat": 4
 },
 "nbformat": 4,
 "nbformat_minor": 2
}
