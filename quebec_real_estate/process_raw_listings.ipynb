{
 "cells": [
  {
   "cell_type": "code",
   "execution_count": 1171,
   "metadata": {},
   "outputs": [],
   "source": [
    "import pandas as pd\n",
    "import seaborn as sns"
   ]
  },
  {
   "cell_type": "code",
   "execution_count": 1172,
   "metadata": {},
   "outputs": [
    {
     "name": "stdout",
     "output_type": "stream",
     "text": [
      "51192\n"
     ]
    }
   ],
   "source": [
    "raw_df = pd.read_csv('../data/raw/raw_listings2.csv', index_col=0)\n",
    "print(len(raw_df))"
   ]
  },
  {
   "cell_type": "code",
   "execution_count": 1173,
   "metadata": {},
   "outputs": [
    {
     "data": {
      "text/html": [
       "<div>\n",
       "<style scoped>\n",
       "    .dataframe tbody tr th:only-of-type {\n",
       "        vertical-align: middle;\n",
       "    }\n",
       "\n",
       "    .dataframe tbody tr th {\n",
       "        vertical-align: top;\n",
       "    }\n",
       "\n",
       "    .dataframe thead th {\n",
       "        text-align: right;\n",
       "    }\n",
       "</style>\n",
       "<table border=\"1\" class=\"dataframe\">\n",
       "  <thead>\n",
       "    <tr style=\"text-align: right;\">\n",
       "      <th></th>\n",
       "      <th>style</th>\n",
       "      <th>living_area</th>\n",
       "      <th>lot_dimensions</th>\n",
       "      <th>bedrooms</th>\n",
       "      <th>bathrooms</th>\n",
       "      <th>levels</th>\n",
       "      <th>location</th>\n",
       "      <th>listing_date</th>\n",
       "      <th>year_of_construction</th>\n",
       "      <th>municipal_eval</th>\n",
       "      <th>price</th>\n",
       "    </tr>\n",
       "  </thead>\n",
       "  <tbody>\n",
       "    <tr>\n",
       "      <th>0</th>\n",
       "      <td>2 storey</td>\n",
       "      <td>1191.3</td>\n",
       "      <td>4076.29</td>\n",
       "      <td>3.0</td>\n",
       "      <td>1.0</td>\n",
       "      <td>2.0</td>\n",
       "      <td>Beauport</td>\n",
       "      <td>202012.0</td>\n",
       "      <td>2004.0</td>\n",
       "      <td>256000.0</td>\n",
       "      <td>332500.0</td>\n",
       "    </tr>\n",
       "    <tr>\n",
       "      <th>0</th>\n",
       "      <td>Open area</td>\n",
       "      <td>1261.0</td>\n",
       "      <td>9500.00</td>\n",
       "      <td>2.0</td>\n",
       "      <td>1.0</td>\n",
       "      <td>1.0</td>\n",
       "      <td>Deschambault</td>\n",
       "      <td>202112.0</td>\n",
       "      <td>1957.0</td>\n",
       "      <td>150500.0</td>\n",
       "      <td>265000.0</td>\n",
       "    </tr>\n",
       "    <tr>\n",
       "      <th>0</th>\n",
       "      <td>NaN</td>\n",
       "      <td>1645.0</td>\n",
       "      <td>1360.00</td>\n",
       "      <td>3.0</td>\n",
       "      <td>1.0</td>\n",
       "      <td>3.0</td>\n",
       "      <td>Mercier</td>\n",
       "      <td>202111.0</td>\n",
       "      <td>2006.0</td>\n",
       "      <td>479400.0</td>\n",
       "      <td>612000.0</td>\n",
       "    </tr>\n",
       "    <tr>\n",
       "      <th>0</th>\n",
       "      <td>Link</td>\n",
       "      <td>2024.0</td>\n",
       "      <td>17000.00</td>\n",
       "      <td>4.0</td>\n",
       "      <td>3.0</td>\n",
       "      <td>1.0</td>\n",
       "      <td>Stoneham</td>\n",
       "      <td>202112.0</td>\n",
       "      <td>2019.0</td>\n",
       "      <td>NaN</td>\n",
       "      <td>526500.0</td>\n",
       "    </tr>\n",
       "    <tr>\n",
       "      <th>0</th>\n",
       "      <td>Waterfront</td>\n",
       "      <td>1469.0</td>\n",
       "      <td>16970.00</td>\n",
       "      <td>4.0</td>\n",
       "      <td>2.0</td>\n",
       "      <td>2.0</td>\n",
       "      <td>Trois-Rivières</td>\n",
       "      <td>202111.0</td>\n",
       "      <td>1925.0</td>\n",
       "      <td>NaN</td>\n",
       "      <td>NaN</td>\n",
       "    </tr>\n",
       "  </tbody>\n",
       "</table>\n",
       "</div>"
      ],
      "text/plain": [
       "        style  living_area  lot_dimensions  bedrooms  bathrooms  levels  \\\n",
       "0    2 storey       1191.3         4076.29       3.0        1.0     2.0   \n",
       "0   Open area       1261.0         9500.00       2.0        1.0     1.0   \n",
       "0         NaN       1645.0         1360.00       3.0        1.0     3.0   \n",
       "0        Link       2024.0        17000.00       4.0        3.0     1.0   \n",
       "0  Waterfront       1469.0        16970.00       4.0        2.0     2.0   \n",
       "\n",
       "         location  listing_date  year_of_construction  municipal_eval  \\\n",
       "0        Beauport      202012.0                2004.0        256000.0   \n",
       "0    Deschambault      202112.0                1957.0        150500.0   \n",
       "0         Mercier      202111.0                2006.0        479400.0   \n",
       "0        Stoneham      202112.0                2019.0             NaN   \n",
       "0  Trois-Rivières      202111.0                1925.0             NaN   \n",
       "\n",
       "      price  \n",
       "0  332500.0  \n",
       "0  265000.0  \n",
       "0  612000.0  \n",
       "0  526500.0  \n",
       "0       NaN  "
      ]
     },
     "execution_count": 1173,
     "metadata": {},
     "output_type": "execute_result"
    }
   ],
   "source": [
    "raw_df.head()"
   ]
  },
  {
   "cell_type": "code",
   "execution_count": 1174,
   "metadata": {},
   "outputs": [],
   "source": [
    "processed_df = raw_df.copy()"
   ]
  },
  {
   "cell_type": "code",
   "execution_count": 1175,
   "metadata": {},
   "outputs": [
    {
     "name": "stdout",
     "output_type": "stream",
     "text": [
      "51192\n"
     ]
    }
   ],
   "source": [
    "print(len(processed_df))"
   ]
  },
  {
   "cell_type": "markdown",
   "metadata": {},
   "source": [
    "## Style"
   ]
  },
  {
   "cell_type": "code",
   "execution_count": 1176,
   "metadata": {},
   "outputs": [
    {
     "data": {
      "text/plain": [
       "NaN                 11417\n",
       "Open area            9583\n",
       "2 storey             9179\n",
       "Detached             5723\n",
       "New construction     1578\n",
       "Side split           1505\n",
       "Rural                1455\n",
       "Waterfront           1166\n",
       "Cathedral roof        987\n",
       "Canadian              963\n",
       "Name: style, dtype: int64"
      ]
     },
     "execution_count": 1176,
     "metadata": {},
     "output_type": "execute_result"
    }
   ],
   "source": [
    "processed_df['style'].value_counts(dropna=False).iloc[0:10]"
   ]
  },
  {
   "cell_type": "code",
   "execution_count": 1177,
   "metadata": {},
   "outputs": [],
   "source": [
    "processed_df['style'] = processed_df['style'].fillna('Unknown')\n",
    "styles = processed_df['style'].value_counts()\n",
    "processed_df = processed_df[processed_df['style'].isin(styles.keys())]"
   ]
  },
  {
   "cell_type": "code",
   "execution_count": 1178,
   "metadata": {},
   "outputs": [
    {
     "name": "stdout",
     "output_type": "stream",
     "text": [
      "51192\n"
     ]
    }
   ],
   "source": [
    "print(len(processed_df))"
   ]
  },
  {
   "cell_type": "markdown",
   "metadata": {},
   "source": [
    "## Living Area"
   ]
  },
  {
   "cell_type": "code",
   "execution_count": 1179,
   "metadata": {},
   "outputs": [
    {
     "data": {
      "text/plain": [
       "NaN       1266\n",
       "1200.0    1171\n",
       "960.0      627\n",
       "1000.0     605\n",
       "1120.0     549\n",
       "Name: living_area, dtype: int64"
      ]
     },
     "execution_count": 1179,
     "metadata": {},
     "output_type": "execute_result"
    }
   ],
   "source": [
    "processed_df['living_area'].value_counts(dropna=False).iloc[0:5]"
   ]
  },
  {
   "cell_type": "code",
   "execution_count": 1180,
   "metadata": {},
   "outputs": [],
   "source": [
    "mean_living_area = processed_df['living_area'].dropna().mean()\n",
    "processed_df['living_area'] = processed_df['living_area'].fillna(mean_living_area)"
   ]
  },
  {
   "cell_type": "code",
   "execution_count": 1181,
   "metadata": {},
   "outputs": [
    {
     "name": "stderr",
     "output_type": "stream",
     "text": [
      "c:\\Users\\simon\\Documents\\GitHub\\quebec-real-estate\\venv\\lib\\site-packages\\seaborn\\distributions.py:2619: FutureWarning: `distplot` is a deprecated function and will be removed in a future version. Please adapt your code to use either `displot` (a figure-level function with similar flexibility) or `histplot` (an axes-level function for histograms).\n",
      "  warnings.warn(msg, FutureWarning)\n"
     ]
    },
    {
     "data": {
      "text/plain": [
       "<AxesSubplot:xlabel='living_area', ylabel='Density'>"
      ]
     },
     "execution_count": 1181,
     "metadata": {},
     "output_type": "execute_result"
    },
    {
     "data": {
      "image/png": "[encoded data removed]",
      "text/plain": [
       "<Figure size 432x288 with 1 Axes>"
      ]
     },
     "metadata": {
      "needs_background": "light"
     },
     "output_type": "display_data"
    }
   ],
   "source": [
    "processed_df = processed_df[processed_df['living_area'] > 500]\n",
    "processed_df = processed_df[processed_df['living_area'] < 4000]\n",
    "processed_df['living_area'] = processed_df['living_area'].astype(int)\n",
    "\n",
    "sns.distplot(processed_df['living_area'])"
   ]
  },
  {
   "cell_type": "code",
   "execution_count": 1182,
   "metadata": {},
   "outputs": [
    {
     "name": "stdout",
     "output_type": "stream",
     "text": [
      "49474\n"
     ]
    }
   ],
   "source": [
    "print(len(processed_df))"
   ]
  },
  {
   "cell_type": "markdown",
   "metadata": {},
   "source": [
    "## Lot Dimensions"
   ]
  },
  {
   "cell_type": "code",
   "execution_count": 1183,
   "metadata": {},
   "outputs": [
    {
     "data": {
      "text/plain": [
       "6000.0     936\n",
       "5000.0     721\n",
       "NaN        419\n",
       "7000.0     373\n",
       "10000.0    333\n",
       "Name: lot_dimensions, dtype: int64"
      ]
     },
     "execution_count": 1183,
     "metadata": {},
     "output_type": "execute_result"
    }
   ],
   "source": [
    "processed_df['lot_dimensions'].value_counts(dropna=False).iloc[0:5]"
   ]
  },
  {
   "cell_type": "code",
   "execution_count": 1184,
   "metadata": {},
   "outputs": [],
   "source": [
    "mean_lot_dimensions = processed_df['lot_dimensions'].dropna().mean()\n",
    "processed_df['lot_dimensions'] = processed_df['lot_dimensions'].fillna(mean_living_area)"
   ]
  },
  {
   "cell_type": "code",
   "execution_count": 1185,
   "metadata": {},
   "outputs": [
    {
     "name": "stderr",
     "output_type": "stream",
     "text": [
      "c:\\Users\\simon\\Documents\\GitHub\\quebec-real-estate\\venv\\lib\\site-packages\\seaborn\\distributions.py:2619: FutureWarning: `distplot` is a deprecated function and will be removed in a future version. Please adapt your code to use either `displot` (a figure-level function with similar flexibility) or `histplot` (an axes-level function for histograms).\n",
      "  warnings.warn(msg, FutureWarning)\n"
     ]
    },
    {
     "data": {
      "text/plain": [
       "<AxesSubplot:xlabel='lot_dimensions', ylabel='Density'>"
      ]
     },
     "execution_count": 1185,
     "metadata": {},
     "output_type": "execute_result"
    },
    {
     "data": {
      "image/png": "[encoded data removed]",
      "text/plain": [
       "<Figure size 432x288 with 1 Axes>"
      ]
     },
     "metadata": {
      "needs_background": "light"
     },
     "output_type": "display_data"
    }
   ],
   "source": [
    "processed_df = processed_df[processed_df['lot_dimensions'] > 500]\n",
    "processed_df = processed_df[processed_df['lot_dimensions'] < 80000]\n",
    "processed_df['lot_dimensions'] = processed_df['lot_dimensions'].astype(int)\n",
    "\n",
    "sns.distplot(processed_df['lot_dimensions'])"
   ]
  },
  {
   "cell_type": "code",
   "execution_count": 1186,
   "metadata": {},
   "outputs": [
    {
     "name": "stdout",
     "output_type": "stream",
     "text": [
      "47744\n"
     ]
    }
   ],
   "source": [
    "print(len(processed_df))"
   ]
  },
  {
   "cell_type": "markdown",
   "metadata": {},
   "source": [
    "## Bedrooms, Bathrooms & Levels"
   ]
  },
  {
   "cell_type": "code",
   "execution_count": 1187,
   "metadata": {},
   "outputs": [
    {
     "data": {
      "text/plain": [
       "3.0     20952\n",
       "4.0     15262\n",
       "2.0      6069\n",
       "5.0      4312\n",
       "6.0       662\n",
       "1.0       310\n",
       "7.0       117\n",
       "8.0        33\n",
       "9.0        11\n",
       "NaN         9\n",
       "10.0        4\n",
       "11.0        2\n",
       "15.0        1\n",
       "Name: bedrooms, dtype: int64"
      ]
     },
     "execution_count": 1187,
     "metadata": {},
     "output_type": "execute_result"
    }
   ],
   "source": [
    "processed_df['bedrooms'].value_counts(dropna=False)"
   ]
  },
  {
   "cell_type": "code",
   "execution_count": 1188,
   "metadata": {},
   "outputs": [
    {
     "data": {
      "text/plain": [
       "2.0    25107\n",
       "1.0    20699\n",
       "3.0     1819\n",
       "4.0       85\n",
       "5.0       18\n",
       "NaN        9\n",
       "6.0        4\n",
       "8.0        2\n",
       "7.0        1\n",
       "Name: bathrooms, dtype: int64"
      ]
     },
     "execution_count": 1188,
     "metadata": {},
     "output_type": "execute_result"
    }
   ],
   "source": [
    "processed_df['bathrooms'].value_counts(dropna=False)"
   ]
  },
  {
   "cell_type": "code",
   "execution_count": 1189,
   "metadata": {},
   "outputs": [
    {
     "data": {
      "text/plain": [
       "1.0       23516\n",
       "2.0       22555\n",
       "3.0        1033\n",
       "NaN         563\n",
       "4.0          70\n",
       "5.0           4\n",
       "11.0          1\n",
       "6.0           1\n",
       "1816.0        1\n",
       "Name: levels, dtype: int64"
      ]
     },
     "execution_count": 1189,
     "metadata": {},
     "output_type": "execute_result"
    }
   ],
   "source": [
    "processed_df['levels'].value_counts(dropna=False)"
   ]
  },
  {
   "cell_type": "code",
   "execution_count": 1190,
   "metadata": {},
   "outputs": [],
   "source": [
    "processed_df = processed_df[processed_df['bedrooms'] < 9]\n",
    "processed_df = processed_df[processed_df['bathrooms'] < 6]\n",
    "processed_df = processed_df[processed_df['levels'] < 4]\n",
    "\n",
    "processed_df['bedrooms'] = processed_df['bedrooms'].astype(int)\n",
    "processed_df['bathrooms'] = processed_df['bathrooms'].astype(int)\n",
    "processed_df['levels'] = processed_df['levels'].astype(int)"
   ]
  },
  {
   "cell_type": "code",
   "execution_count": 1191,
   "metadata": {},
   "outputs": [
    {
     "name": "stdout",
     "output_type": "stream",
     "text": [
      "47065\n"
     ]
    }
   ],
   "source": [
    "print(len(processed_df))"
   ]
  },
  {
   "cell_type": "markdown",
   "metadata": {},
   "source": [
    "## Listing Date"
   ]
  },
  {
   "cell_type": "code",
   "execution_count": 1192,
   "metadata": {},
   "outputs": [
    {
     "data": {
      "text/plain": [
       "201907.0    3884\n",
       "202006.0    1167\n",
       "202005.0    1114\n",
       "202009.0    1091\n",
       "202002.0    1055\n",
       "Name: listing_date, dtype: int64"
      ]
     },
     "execution_count": 1192,
     "metadata": {},
     "output_type": "execute_result"
    }
   ],
   "source": [
    "processed_df['listing_date'].value_counts(dropna=False).iloc[0:5]"
   ]
  },
  {
   "cell_type": "code",
   "execution_count": 1193,
   "metadata": {},
   "outputs": [],
   "source": [
    "processed_df['listing_date'] = pd.to_datetime(processed_df['listing_date'], format='%Y%m')"
   ]
  },
  {
   "cell_type": "markdown",
   "metadata": {},
   "source": [
    "## Year of Construction"
   ]
  },
  {
   "cell_type": "code",
   "execution_count": 1194,
   "metadata": {},
   "outputs": [
    {
     "data": {
      "text/plain": [
       "NaN       3984\n",
       "2010.0    1497\n",
       "2012.0    1373\n",
       "2011.0    1328\n",
       "2008.0    1183\n",
       "Name: year_of_construction, dtype: int64"
      ]
     },
     "execution_count": 1194,
     "metadata": {},
     "output_type": "execute_result"
    }
   ],
   "source": [
    "processed_df['year_of_construction'].value_counts(dropna=False).iloc[0:5]"
   ]
  },
  {
   "cell_type": "code",
   "execution_count": 1195,
   "metadata": {},
   "outputs": [],
   "source": [
    "mean_year_of_constructions = processed_df['year_of_construction'].dropna().mean()\n",
    "processed_df['year_of_construction'] = processed_df['year_of_construction'].fillna(mean_living_area)"
   ]
  },
  {
   "cell_type": "code",
   "execution_count": 1196,
   "metadata": {},
   "outputs": [],
   "source": [
    "years = processed_df['year_of_construction'].value_counts()\n",
    "processed_df = processed_df[processed_df['year_of_construction'].isin(years.keys())]\n",
    "processed_df['year_of_construction'] = processed_df['year_of_construction'].astype(int)"
   ]
  },
  {
   "cell_type": "code",
   "execution_count": 1197,
   "metadata": {},
   "outputs": [
    {
     "name": "stdout",
     "output_type": "stream",
     "text": [
      "47065\n"
     ]
    }
   ],
   "source": [
    "print(len(processed_df))"
   ]
  },
  {
   "cell_type": "markdown",
   "metadata": {},
   "source": [
    "## Municipal Evaluation"
   ]
  },
  {
   "cell_type": "code",
   "execution_count": 1198,
   "metadata": {},
   "outputs": [
    {
     "data": {
      "text/plain": [
       "NaN         23520\n",
       "236000.0       58\n",
       "240000.0       57\n",
       "215000.0       52\n",
       "225000.0       50\n",
       "Name: municipal_eval, dtype: int64"
      ]
     },
     "execution_count": 1198,
     "metadata": {},
     "output_type": "execute_result"
    }
   ],
   "source": [
    "processed_df['municipal_eval'].value_counts(dropna=False).iloc[0:5]"
   ]
  },
  {
   "cell_type": "code",
   "execution_count": 1199,
   "metadata": {},
   "outputs": [],
   "source": [
    "drop_municipal_eval = True"
   ]
  },
  {
   "cell_type": "code",
   "execution_count": 1200,
   "metadata": {},
   "outputs": [],
   "source": [
    "if drop_municipal_eval:\n",
    "    processed_df = processed_df.drop(['municipal_eval'], axis=1)\n",
    "else:\n",
    "    processed_df = processed_df[processed_df['municipal_eval'] > 2000]\n",
    "    processed_df = processed_df[processed_df['municipal_eval'] < 1000000]\n",
    "    processed_df['municipal_eval'] = processed_df['municipal_eval'].astype(int)\n",
    "\n",
    "    sns.distplot(processed_df['municipal_eval'])"
   ]
  },
  {
   "cell_type": "markdown",
   "metadata": {},
   "source": [
    "## Price"
   ]
  },
  {
   "cell_type": "code",
   "execution_count": 1201,
   "metadata": {},
   "outputs": [
    {
     "data": {
      "text/plain": [
       "NaN         10026\n",
       "250000.0      431\n",
       "300000.0      393\n",
       "260000.0      377\n",
       "225000.0      373\n",
       "Name: price, dtype: int64"
      ]
     },
     "execution_count": 1201,
     "metadata": {},
     "output_type": "execute_result"
    }
   ],
   "source": [
    "processed_df['price'].value_counts(dropna=False).iloc[0:5]"
   ]
  },
  {
   "cell_type": "code",
   "execution_count": 1202,
   "metadata": {},
   "outputs": [
    {
     "name": "stderr",
     "output_type": "stream",
     "text": [
      "c:\\Users\\simon\\Documents\\GitHub\\quebec-real-estate\\venv\\lib\\site-packages\\seaborn\\distributions.py:2619: FutureWarning: `distplot` is a deprecated function and will be removed in a future version. Please adapt your code to use either `displot` (a figure-level function with similar flexibility) or `histplot` (an axes-level function for histograms).\n",
      "  warnings.warn(msg, FutureWarning)\n"
     ]
    },
    {
     "data": {
      "text/plain": [
       "<AxesSubplot:xlabel='price', ylabel='Density'>"
      ]
     },
     "execution_count": 1202,
     "metadata": {},
     "output_type": "execute_result"
    },
    {
     "data": {
      "image/png": "[encoded data removed]",
      "text/plain": [
       "<Figure size 432x288 with 1 Axes>"
      ]
     },
     "metadata": {
      "needs_background": "light"
     },
     "output_type": "display_data"
    }
   ],
   "source": [
    "processed_df = processed_df[processed_df['price'] > 2000]\n",
    "processed_df = processed_df[processed_df['price'] < 1000000]\n",
    "processed_df['price'] = processed_df['price'].astype(int)\n",
    "\n",
    "sns.distplot(processed_df['price'])"
   ]
  },
  {
   "cell_type": "code",
   "execution_count": 1203,
   "metadata": {},
   "outputs": [
    {
     "data": {
      "text/html": [
       "<div>\n",
       "<style scoped>\n",
       "    .dataframe tbody tr th:only-of-type {\n",
       "        vertical-align: middle;\n",
       "    }\n",
       "\n",
       "    .dataframe tbody tr th {\n",
       "        vertical-align: top;\n",
       "    }\n",
       "\n",
       "    .dataframe thead th {\n",
       "        text-align: right;\n",
       "    }\n",
       "</style>\n",
       "<table border=\"1\" class=\"dataframe\">\n",
       "  <thead>\n",
       "    <tr style=\"text-align: right;\">\n",
       "      <th></th>\n",
       "      <th>style</th>\n",
       "      <th>living_area</th>\n",
       "      <th>lot_dimensions</th>\n",
       "      <th>bedrooms</th>\n",
       "      <th>bathrooms</th>\n",
       "      <th>levels</th>\n",
       "      <th>location</th>\n",
       "      <th>listing_date</th>\n",
       "      <th>year_of_construction</th>\n",
       "      <th>price</th>\n",
       "    </tr>\n",
       "  </thead>\n",
       "  <tbody>\n",
       "    <tr>\n",
       "      <th>0</th>\n",
       "      <td>2 storey</td>\n",
       "      <td>1191</td>\n",
       "      <td>4076</td>\n",
       "      <td>3</td>\n",
       "      <td>1</td>\n",
       "      <td>2</td>\n",
       "      <td>Beauport</td>\n",
       "      <td>2020-12-01</td>\n",
       "      <td>2004</td>\n",
       "      <td>332500</td>\n",
       "    </tr>\n",
       "    <tr>\n",
       "      <th>0</th>\n",
       "      <td>Open area</td>\n",
       "      <td>1261</td>\n",
       "      <td>9500</td>\n",
       "      <td>2</td>\n",
       "      <td>1</td>\n",
       "      <td>1</td>\n",
       "      <td>Deschambault</td>\n",
       "      <td>2021-12-01</td>\n",
       "      <td>1957</td>\n",
       "      <td>265000</td>\n",
       "    </tr>\n",
       "    <tr>\n",
       "      <th>0</th>\n",
       "      <td>Unknown</td>\n",
       "      <td>1645</td>\n",
       "      <td>1360</td>\n",
       "      <td>3</td>\n",
       "      <td>1</td>\n",
       "      <td>3</td>\n",
       "      <td>Mercier</td>\n",
       "      <td>2021-11-01</td>\n",
       "      <td>2006</td>\n",
       "      <td>612000</td>\n",
       "    </tr>\n",
       "    <tr>\n",
       "      <th>0</th>\n",
       "      <td>Link</td>\n",
       "      <td>2024</td>\n",
       "      <td>17000</td>\n",
       "      <td>4</td>\n",
       "      <td>3</td>\n",
       "      <td>1</td>\n",
       "      <td>Stoneham</td>\n",
       "      <td>2021-12-01</td>\n",
       "      <td>2019</td>\n",
       "      <td>526500</td>\n",
       "    </tr>\n",
       "    <tr>\n",
       "      <th>0</th>\n",
       "      <td>2 storey</td>\n",
       "      <td>2400</td>\n",
       "      <td>4471</td>\n",
       "      <td>4</td>\n",
       "      <td>2</td>\n",
       "      <td>2</td>\n",
       "      <td>Gatineau</td>\n",
       "      <td>2021-12-01</td>\n",
       "      <td>1989</td>\n",
       "      <td>360000</td>\n",
       "    </tr>\n",
       "  </tbody>\n",
       "</table>\n",
       "</div>"
      ],
      "text/plain": [
       "       style  living_area  lot_dimensions  bedrooms  bathrooms  levels  \\\n",
       "0   2 storey         1191            4076         3          1       2   \n",
       "0  Open area         1261            9500         2          1       1   \n",
       "0    Unknown         1645            1360         3          1       3   \n",
       "0       Link         2024           17000         4          3       1   \n",
       "0   2 storey         2400            4471         4          2       2   \n",
       "\n",
       "       location listing_date  year_of_construction   price  \n",
       "0      Beauport   2020-12-01                  2004  332500  \n",
       "0  Deschambault   2021-12-01                  1957  265000  \n",
       "0       Mercier   2021-11-01                  2006  612000  \n",
       "0      Stoneham   2021-12-01                  2019  526500  \n",
       "0      Gatineau   2021-12-01                  1989  360000  "
      ]
     },
     "execution_count": 1203,
     "metadata": {},
     "output_type": "execute_result"
    }
   ],
   "source": [
    "processed_df.head()"
   ]
  },
  {
   "cell_type": "markdown",
   "metadata": {},
   "source": [
    "## Location"
   ]
  },
  {
   "cell_type": "code",
   "execution_count": 1204,
   "metadata": {},
   "outputs": [
    {
     "data": {
      "text/plain": [
       "La Pêche                    38\n",
       "Les Côteaux                 38\n",
       "St-Mathias-sur-Richelieu    38\n",
       "Villeray                    37\n",
       "Louiseville                 37\n",
       "Roxton Pond                 37\n",
       "Hébertville                 37\n",
       "St-Ambroise                 37\n",
       "St-David-de-Falardeau       36\n",
       "Waterloo                    36\n",
       "Morin-Heights               36\n",
       "Name: location, dtype: int64"
      ]
     },
     "execution_count": 1204,
     "metadata": {},
     "output_type": "execute_result"
    }
   ],
   "source": [
    "processed_df['location'].value_counts(dropna=False).iloc[190:201]"
   ]
  },
  {
   "cell_type": "code",
   "execution_count": 1205,
   "metadata": {},
   "outputs": [],
   "source": [
    "locations = processed_df['location'].value_counts()\n",
    "processed_df = processed_df[processed_df['location'].isin(locations.keys()[0:250])]"
   ]
  },
  {
   "cell_type": "code",
   "execution_count": 1206,
   "metadata": {},
   "outputs": [
    {
     "name": "stdout",
     "output_type": "stream",
     "text": [
      "51192\n",
      "32180\n"
     ]
    }
   ],
   "source": [
    "print(len(raw_df))\n",
    "print(len(processed_df))"
   ]
  },
  {
   "cell_type": "code",
   "execution_count": 1207,
   "metadata": {},
   "outputs": [],
   "source": [
    "processed_df.to_csv('../data/processed/processed_listings.csv', index=False)"
   ]
  }
 ],
 "metadata": {
  "interpreter": {
   "hash": "64dddcbcaec4bb6385c138499a04ba94b2e3f1c047b570a9b11b84db929d6a00"
  },
  "kernelspec": {
   "display_name": "Python 3.8.6 64-bit ('venv': venv)",
   "language": "python",
   "name": "python3"
  },
  "language_info": {
   "codemirror_mode": {
    "name": "ipython",
    "version": 3
   },
   "file_extension": ".py",
   "mimetype": "text/x-python",
   "name": "python",
   "nbconvert_exporter": "python",
   "pygments_lexer": "ipython3",
   "version": "3.8.6"
  },
  "orig_nbformat": 4
 },
 "nbformat": 4,
 "nbformat_minor": 2
}
