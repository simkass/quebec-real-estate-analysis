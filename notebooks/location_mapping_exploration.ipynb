{
 "cells": [
  {
   "cell_type": "markdown",
   "metadata": {},
   "source": [
    "# Location Mapping Exploration\n",
    "This notebook is just to explore the best solution for location mapping. Final mapping is done in location_mapping.ipynb\n",
    "\\\n",
    "\\\n",
    "The raw data contains over a thousand different locations, a lot of them with very low occurrences. This can considerably reduce the quality of our model. We must filter our locations carefully without reducing the size of our dataset. To do so, we will associate every location to its closest population center.\n",
    "\\\n",
    "\\\n",
    "This notebook goes through all location values and maps them to their closest population center. Population centers are defined as either:\n",
    "1. Quebec Administrative Regions Main Cities (Estrie: Sherbrooke, Magog, Montérégie: Brossard, Granby etc.)\n",
    "2. Quebec Administrative Regions (Estrie, Outaouais, Montérégie etc.)\n",
    "3. Quebec Administrative Regions Main Cities + MTL Boroughs\n",
    "4. Quebec Administrative Regions + MTL Boroughs\n",
    "5. Quebec's 112 Biggest Cities + MTL Boroughs"
   ]
  },
  {
   "cell_type": "code",
   "execution_count": 41,
   "metadata": {},
   "outputs": [],
   "source": [
    "import numpy as np\n",
    "import pandas as pd\n",
    "import pickle\n",
    "\n",
    "from geopy.distance import geodesic\n",
    "from geopy.location import Location\n",
    "from geopy.geocoders import Nominatim\n",
    "from tqdm import tqdm\n",
    "\n",
    "from os import path\n",
    "from IPython.display import display"
   ]
  },
  {
   "cell_type": "markdown",
   "metadata": {},
   "source": [
    "## Useful Methods & Resources"
   ]
  },
  {
   "cell_type": "markdown",
   "metadata": {},
   "source": [
    "### Geolocation Methods"
   ]
  },
  {
   "cell_type": "code",
   "execution_count": 42,
   "metadata": {},
   "outputs": [],
   "source": [
    "geolocator = Nominatim(user_agent='housing-qc')"
   ]
  },
  {
   "cell_type": "code",
   "execution_count": 43,
   "metadata": {},
   "outputs": [],
   "source": [
    "# Find geographical coordinates of all locations in given list\n",
    "def find_coordinates(locations):\n",
    "    location_dict = []\n",
    "    unknown_locations = []\n",
    "\n",
    "    for location in tqdm(locations, desc='Finding Location Coordinates'):\n",
    "        try:\n",
    "            geocode = geolocator.geocode(location + ', QC')\n",
    "        except:\n",
    "            geocode = None\n",
    "        \n",
    "        if geocode is None:\n",
    "            unknown_locations.append(location)\n",
    "            print(location + ' is an unknown location')\n",
    "        else:\n",
    "            location_dict.append({'Name': location, 'Latitude': geocode.latitude, 'Longitude': geocode.longitude})\n",
    "\n",
    "    return pd.DataFrame(location_dict), unknown_locations"
   ]
  },
  {
   "cell_type": "code",
   "execution_count": 44,
   "metadata": {},
   "outputs": [],
   "source": [
    "# Given geographical latitude and longitude, find the closest location in the given list\n",
    "def find_closest_location(latitude, longitude, locations: pd.DataFrame):\n",
    "    distances = []\n",
    "\n",
    "    for _, location in locations.iterrows():\n",
    "        distances.append(geodesic((latitude, longitude), (location['Latitude'], location['Longitude'])))\n",
    "\n",
    "    return locations.iloc[np.argmin(distances)]['Name']"
   ]
  },
  {
   "cell_type": "code",
   "execution_count": 45,
   "metadata": {},
   "outputs": [],
   "source": [
    "# Map all locations to a reference location based on distance\n",
    "def build_location_mapper(locations: pd.DataFrame, reference_locations: pd.DataFrame):\n",
    "    location_mapper = {}\n",
    "    \n",
    "    for _, location in tqdm(locations.iterrows(), desc=\"Building Location Mapper\", total=locations.shape[0]):\n",
    "        closest_location = find_closest_location(location['Latitude'], location['Longitude'], reference_locations)\n",
    "        location_mapper[location['Name']] = closest_location\n",
    "        \n",
    "    return location_mapper"
   ]
  },
  {
   "cell_type": "markdown",
   "metadata": {},
   "source": [
    "### Formatting Unknown Locations"
   ]
  },
  {
   "cell_type": "code",
   "execution_count": 46,
   "metadata": {},
   "outputs": [],
   "source": [
    "# Dictionnary for unknown locations\n",
    "unknown_locations_dict = {}\n",
    "unknown_locations_dict[\"L'Ile Des Soeurs\"] = \"Ile des soeurs\"\n",
    "unknown_locations_dict[\"St-Joseph-De-Ham-Sud\"] = \"Ham-Sud\"\n",
    "unknown_locations_dict[\"St-Mathieu-De-Laprairie\"] = \"Saint-Mathieu\"\n",
    "unknown_locations_dict[\"St-Denis-sur-Mer\"] = \"Saint-Denis\"\n",
    "unknown_locations_dict[\"St-Isidore-De-Laprairie\"] = \"Saint-Isidore\"\n",
    "unknown_locations_dict[\"St-Stanislas-De-Champlain\"] = \"Saint-Denis\"\n",
    "unknown_locations_dict[\"St-Sebastien-De-Frontenac\"] = \"Saint-Sebastien\"\n",
    "unknown_locations_dict[\"St-Simon-De-Rimouski\"] = \"Saint-Simon\"\n",
    "unknown_locations_dict[\"Ste-Francoise-De-Lotbiniere\"] = \"Saint-Francoise\"\n",
    "unknown_locations_dict[\"St-Guillaume-D'Upton\"] = \"Saint-Guillaume\"\n",
    "unknown_locations_dict[\"St-Adelphe-De-Champlain\"] = \"Saint-Adelphe\""
   ]
  },
  {
   "cell_type": "code",
   "execution_count": 47,
   "metadata": {},
   "outputs": [],
   "source": [
    "def fix_unknown_location(unknown_location: str):\n",
    "    if unknown_location in unknown_locations_dict.keys():\n",
    "        return unknown_locations_dict[unknown_location]\n",
    "    elif \"ND-\" in unknown_location:\n",
    "        return unknown_location.replace(\"ND-\", \"Notre-Dame-\")\n",
    "    elif \"JC\" in unknown_location:\n",
    "        return unknown_location.replace(\"JC\", \"Jacques-Cartier\")\n",
    "    elif \"St-\" in unknown_location:\n",
    "        return unknown_location.replace(\"St-\", \"Saint-\")\n",
    "    elif \"Ste-\" in unknown_location:\n",
    "        return unknown_location.replace(\"Ste-\", \"Sainte-\")\n",
    "    elif \"Sts-\" in unknown_location:\n",
    "        return unknown_location.replace(\"Sts-\", \"Saints-\")\n",
    "    else:\n",
    "        return unknown_location"
   ]
  },
  {
   "cell_type": "markdown",
   "metadata": {},
   "source": [
    "## Raw Locations"
   ]
  },
  {
   "cell_type": "markdown",
   "metadata": {},
   "source": [
    "### Get Locations from Raw Listings"
   ]
  },
  {
   "cell_type": "code",
   "execution_count": 48,
   "metadata": {},
   "outputs": [
    {
     "name": "stdout",
     "output_type": "stream",
     "text": [
      "Raw Locations: Gatineau, Trois-Rivières, Beauport etc.\n"
     ]
    }
   ],
   "source": [
    "home_df = pd.read_csv('../data/raw/home_listings.csv')\n",
    "condo_df = pd.read_csv('../data/raw/condo_listings.csv')\n",
    "raw_df = pd.concat([home_df, condo_df], axis=0, ignore_index=True)\n",
    "\n",
    "raw_locations = list(raw_df['location'].value_counts().to_dict().keys())\n",
    "print('Raw Locations: ' + str(raw_locations[0]) + ', ' + str(raw_locations[1]) + ', ' + str(raw_locations[2]) + ' etc.')"
   ]
  },
  {
   "cell_type": "markdown",
   "metadata": {},
   "source": [
    "### Get Raw Locations Coordinates"
   ]
  },
  {
   "cell_type": "code",
   "execution_count": 49,
   "metadata": {},
   "outputs": [],
   "source": [
    "if path.exists('../data/processed/mappers exploration/raw_location_coordinates.csv'):\n",
    "    raw_location_coordinates = pd.read_csv('../data/processed/mappers exploration/raw_location_coordinates.csv')\n",
    "else:\n",
    "    raw_location_coordinates, unknown_locations = find_coordinates(raw_locations)\n",
    "\n",
    "    fixed_locations = list(map(fix_unknown_location, unknown_locations))\n",
    "    unknown_locations_mapper = {fixed_locations[i]: unknown_locations[i] for i in range(len(unknown_locations))}\n",
    "\n",
    "    raw_location_coordinates2, unknown_locations2 = find_coordinates(fixed_locations)\n",
    "    if len(unknown_locations2) == 0:\n",
    "        raw_location_coordinates2 = { unknown_locations_mapper.get(k, k): v for k, v in raw_location_coordinates2.items() }\n",
    "        raw_location_coordinates.update(raw_location_coordinates2)"
   ]
  },
  {
   "cell_type": "markdown",
   "metadata": {},
   "source": [
    "### Save Final Raw Locations Coordinates"
   ]
  },
  {
   "cell_type": "code",
   "execution_count": 50,
   "metadata": {},
   "outputs": [
    {
     "data": {
      "text/html": [
       "<div>\n",
       "<style scoped>\n",
       "    .dataframe tbody tr th:only-of-type {\n",
       "        vertical-align: middle;\n",
       "    }\n",
       "\n",
       "    .dataframe tbody tr th {\n",
       "        vertical-align: top;\n",
       "    }\n",
       "\n",
       "    .dataframe thead th {\n",
       "        text-align: right;\n",
       "    }\n",
       "</style>\n",
       "<table border=\"1\" class=\"dataframe\">\n",
       "  <thead>\n",
       "    <tr style=\"text-align: right;\">\n",
       "      <th></th>\n",
       "      <th>Name</th>\n",
       "      <th>Latitude</th>\n",
       "      <th>Longitude</th>\n",
       "    </tr>\n",
       "  </thead>\n",
       "  <tbody>\n",
       "    <tr>\n",
       "      <th>0</th>\n",
       "      <td>Ste-Catherine-de-la-Jacques-Cartier</td>\n",
       "      <td>46.844381</td>\n",
       "      <td>-71.615023</td>\n",
       "    </tr>\n",
       "    <tr>\n",
       "      <th>1</th>\n",
       "      <td>Notre-Dame-De-L'Ile-Perrot</td>\n",
       "      <td>45.351663</td>\n",
       "      <td>-73.902969</td>\n",
       "    </tr>\n",
       "    <tr>\n",
       "      <th>2</th>\n",
       "      <td>Saint-Mathieu</td>\n",
       "      <td>45.312563</td>\n",
       "      <td>-73.518448</td>\n",
       "    </tr>\n",
       "    <tr>\n",
       "      <th>3</th>\n",
       "      <td>Saint-Isidore</td>\n",
       "      <td>46.585058</td>\n",
       "      <td>-71.090469</td>\n",
       "    </tr>\n",
       "    <tr>\n",
       "      <th>4</th>\n",
       "      <td>Saint-Magloire-De-Bellechasse</td>\n",
       "      <td>46.592524</td>\n",
       "      <td>-70.440777</td>\n",
       "    </tr>\n",
       "  </tbody>\n",
       "</table>\n",
       "</div>"
      ],
      "text/plain": [
       "                                  Name   Latitude  Longitude\n",
       "0  Ste-Catherine-de-la-Jacques-Cartier  46.844381 -71.615023\n",
       "1           Notre-Dame-De-L'Ile-Perrot  45.351663 -73.902969\n",
       "2                        Saint-Mathieu  45.312563 -73.518448\n",
       "3                        Saint-Isidore  46.585058 -71.090469\n",
       "4        Saint-Magloire-De-Bellechasse  46.592524 -70.440777"
      ]
     },
     "execution_count": 50,
     "metadata": {},
     "output_type": "execute_result"
    }
   ],
   "source": [
    "raw_location_coordinates.to_csv('../data/processed/mappers exploration/raw_location_coordinates.csv', index=False)\n",
    "raw_location_coordinates.head()"
   ]
  },
  {
   "cell_type": "markdown",
   "metadata": {},
   "source": [
    "## 1. Quebec Administrative Regions Main Cities"
   ]
  },
  {
   "cell_type": "markdown",
   "metadata": {},
   "source": [
    "### Read Data"
   ]
  },
  {
   "cell_type": "code",
   "execution_count": 51,
   "metadata": {},
   "outputs": [
    {
     "data": {
      "text/html": [
       "<div>\n",
       "<style scoped>\n",
       "    .dataframe tbody tr th:only-of-type {\n",
       "        vertical-align: middle;\n",
       "    }\n",
       "\n",
       "    .dataframe tbody tr th {\n",
       "        vertical-align: top;\n",
       "    }\n",
       "\n",
       "    .dataframe thead th {\n",
       "        text-align: right;\n",
       "    }\n",
       "</style>\n",
       "<table border=\"1\" class=\"dataframe\">\n",
       "  <thead>\n",
       "    <tr style=\"text-align: right;\">\n",
       "      <th></th>\n",
       "      <th>City</th>\n",
       "      <th>Region</th>\n",
       "    </tr>\n",
       "  </thead>\n",
       "  <tbody>\n",
       "    <tr>\n",
       "      <th>0</th>\n",
       "      <td>Rimouski</td>\n",
       "      <td>Bas-Saint-Laurent</td>\n",
       "    </tr>\n",
       "    <tr>\n",
       "      <th>1</th>\n",
       "      <td>Rivière-du-Loup</td>\n",
       "      <td>Bas-Saint-Laurent</td>\n",
       "    </tr>\n",
       "    <tr>\n",
       "      <th>2</th>\n",
       "      <td>Matane</td>\n",
       "      <td>Bas-Saint-Laurent</td>\n",
       "    </tr>\n",
       "    <tr>\n",
       "      <th>3</th>\n",
       "      <td>Alma</td>\n",
       "      <td>Saguenay-Lac-Saint-Jean</td>\n",
       "    </tr>\n",
       "    <tr>\n",
       "      <th>4</th>\n",
       "      <td>Saguenay</td>\n",
       "      <td>Saguenay-Lac-Saint-Jean</td>\n",
       "    </tr>\n",
       "  </tbody>\n",
       "</table>\n",
       "</div>"
      ],
      "text/plain": [
       "              City                   Region\n",
       "0         Rimouski        Bas-Saint-Laurent\n",
       "1  Rivière-du-Loup        Bas-Saint-Laurent\n",
       "2           Matane        Bas-Saint-Laurent\n",
       "3             Alma  Saguenay-Lac-Saint-Jean\n",
       "4         Saguenay  Saguenay-Lac-Saint-Jean"
      ]
     },
     "metadata": {},
     "output_type": "display_data"
    }
   ],
   "source": [
    "regions_df = pd.read_csv('../data/references/wikipedia/qc-administrative-regions.csv')\n",
    "regions_dict = dict(zip(regions_df['City'], regions_df['Region']))\n",
    "\n",
    "display(regions_df.head())"
   ]
  },
  {
   "cell_type": "code",
   "execution_count": 52,
   "metadata": {},
   "outputs": [],
   "source": [
    "mtl_boroughs = pd.read_csv('../data/references/wikipedia/mtl-boroughs.csv')\n",
    "for borough in mtl_boroughs['Borough']:\n",
    "    regions_dict[borough] = borough"
   ]
  },
  {
   "cell_type": "markdown",
   "metadata": {},
   "source": [
    "### Get Region City Coordinates"
   ]
  },
  {
   "cell_type": "code",
   "execution_count": 53,
   "metadata": {},
   "outputs": [],
   "source": [
    "if path.exists('../data/processed/mappers exploration/city_region_coordinates.csv'):\n",
    "    city_region_coordinates = pd.read_csv('../data/processed/mappers exploration/city_region_coordinates.csv')\n",
    "else:\n",
    "    city_region_coordinates, unknown_cities = find_coordinates(regions_dict.keys())\n",
    "\n",
    "    city_region_coordinates.to_csv('../data/processed/mappers exploration/city_region_coordinates.csv', index=False)\n",
    "    city_region_coordinates.head()"
   ]
  },
  {
   "cell_type": "markdown",
   "metadata": {},
   "source": [
    "### Map Raw Locations to City Regions"
   ]
  },
  {
   "cell_type": "code",
   "execution_count": 54,
   "metadata": {},
   "outputs": [
    {
     "name": "stderr",
     "output_type": "stream",
     "text": [
      "Building Location Mapper: 100%|██████████| 1142/1142 [00:09<00:00, 121.56it/s]\n"
     ]
    },
    {
     "data": {
      "text/html": [
       "<div>\n",
       "<style scoped>\n",
       "    .dataframe tbody tr th:only-of-type {\n",
       "        vertical-align: middle;\n",
       "    }\n",
       "\n",
       "    .dataframe tbody tr th {\n",
       "        vertical-align: top;\n",
       "    }\n",
       "\n",
       "    .dataframe thead th {\n",
       "        text-align: right;\n",
       "    }\n",
       "</style>\n",
       "<table border=\"1\" class=\"dataframe\">\n",
       "  <thead>\n",
       "    <tr style=\"text-align: right;\">\n",
       "      <th></th>\n",
       "      <th>location</th>\n",
       "      <th>mapping</th>\n",
       "    </tr>\n",
       "  </thead>\n",
       "  <tbody>\n",
       "    <tr>\n",
       "      <th>0</th>\n",
       "      <td>Ste-Catherine-de-la-Jacques-Cartier</td>\n",
       "      <td>Quebec City</td>\n",
       "    </tr>\n",
       "    <tr>\n",
       "      <th>1</th>\n",
       "      <td>Notre-Dame-De-L'Ile-Perrot</td>\n",
       "      <td>Vaudreuil-Dorion</td>\n",
       "    </tr>\n",
       "    <tr>\n",
       "      <th>2</th>\n",
       "      <td>Saint-Mathieu</td>\n",
       "      <td>Candiac</td>\n",
       "    </tr>\n",
       "    <tr>\n",
       "      <th>3</th>\n",
       "      <td>Saint-Isidore</td>\n",
       "      <td>Lévis</td>\n",
       "    </tr>\n",
       "    <tr>\n",
       "      <th>4</th>\n",
       "      <td>Saint-Magloire-De-Bellechasse</td>\n",
       "      <td>Saint-Georges</td>\n",
       "    </tr>\n",
       "  </tbody>\n",
       "</table>\n",
       "</div>"
      ],
      "text/plain": [
       "                              location           mapping\n",
       "0  Ste-Catherine-de-la-Jacques-Cartier       Quebec City\n",
       "1           Notre-Dame-De-L'Ile-Perrot  Vaudreuil-Dorion\n",
       "2                        Saint-Mathieu           Candiac\n",
       "3                        Saint-Isidore             Lévis\n",
       "4        Saint-Magloire-De-Bellechasse     Saint-Georges"
      ]
     },
     "metadata": {},
     "output_type": "display_data"
    }
   ],
   "source": [
    "city_region_mapper = build_location_mapper(raw_location_coordinates, city_region_coordinates)\n",
    "\n",
    "city_region_mapper_df = pd.DataFrame(city_region_mapper.items(), columns=['location', 'mapping'])\n",
    "city_region_mapper_df.to_csv('../data/processed/mappers exploration/city_region_mapper.csv', index=False)\n",
    "display(city_region_mapper_df.head())\n",
    "\n",
    "with open('../data/processed/mappers exploration/city_region_mapper.pkl', 'wb') as f:\n",
    "    pickle.dump(city_region_mapper, f)"
   ]
  },
  {
   "cell_type": "markdown",
   "metadata": {},
   "source": [
    "## 2. Quebec Administrative Regions"
   ]
  },
  {
   "cell_type": "markdown",
   "metadata": {},
   "source": [
    "### Map Raw Locations to Regions"
   ]
  },
  {
   "cell_type": "code",
   "execution_count": 55,
   "metadata": {},
   "outputs": [],
   "source": [
    "region_mapper = {}\n",
    "for location in city_region_mapper.keys():\n",
    "    region_city = city_region_mapper[location]\n",
    "    region_mapper[location] = regions_dict[region_city]\n",
    "\n",
    "with open('../data/processed/mappers exploration/region_mapper.pkl', 'wb') as f:\n",
    "    pickle.dump(region_mapper, f)"
   ]
  },
  {
   "cell_type": "markdown",
   "metadata": {},
   "source": [
    "## 3. Quebec Administrative Regions Main Cities + MTL Boroughs"
   ]
  },
  {
   "cell_type": "markdown",
   "metadata": {},
   "source": [
    "### Get Coordinates"
   ]
  },
  {
   "cell_type": "code",
   "execution_count": 56,
   "metadata": {},
   "outputs": [
    {
     "data": {
      "text/html": [
       "<div>\n",
       "<style scoped>\n",
       "    .dataframe tbody tr th:only-of-type {\n",
       "        vertical-align: middle;\n",
       "    }\n",
       "\n",
       "    .dataframe tbody tr th {\n",
       "        vertical-align: top;\n",
       "    }\n",
       "\n",
       "    .dataframe thead th {\n",
       "        text-align: right;\n",
       "    }\n",
       "</style>\n",
       "<table border=\"1\" class=\"dataframe\">\n",
       "  <thead>\n",
       "    <tr style=\"text-align: right;\">\n",
       "      <th></th>\n",
       "      <th>Name</th>\n",
       "      <th>Latitude</th>\n",
       "      <th>Longitude</th>\n",
       "    </tr>\n",
       "  </thead>\n",
       "  <tbody>\n",
       "    <tr>\n",
       "      <th>0</th>\n",
       "      <td>Rimouski</td>\n",
       "      <td>48.450155</td>\n",
       "      <td>-68.529968</td>\n",
       "    </tr>\n",
       "    <tr>\n",
       "      <th>1</th>\n",
       "      <td>Rivière-du-Loup</td>\n",
       "      <td>47.835816</td>\n",
       "      <td>-69.536802</td>\n",
       "    </tr>\n",
       "    <tr>\n",
       "      <th>2</th>\n",
       "      <td>Matane</td>\n",
       "      <td>48.846877</td>\n",
       "      <td>-67.529550</td>\n",
       "    </tr>\n",
       "    <tr>\n",
       "      <th>3</th>\n",
       "      <td>Alma</td>\n",
       "      <td>48.548887</td>\n",
       "      <td>-71.651459</td>\n",
       "    </tr>\n",
       "    <tr>\n",
       "      <th>4</th>\n",
       "      <td>Saguenay</td>\n",
       "      <td>48.405959</td>\n",
       "      <td>-71.069183</td>\n",
       "    </tr>\n",
       "  </tbody>\n",
       "</table>\n",
       "</div>"
      ],
      "text/plain": [
       "              Name   Latitude  Longitude\n",
       "0         Rimouski  48.450155 -68.529968\n",
       "1  Rivière-du-Loup  47.835816 -69.536802\n",
       "2           Matane  48.846877 -67.529550\n",
       "3             Alma  48.548887 -71.651459\n",
       "4         Saguenay  48.405959 -71.069183"
      ]
     },
     "metadata": {},
     "output_type": "display_data"
    }
   ],
   "source": [
    "if path.exists('../data/processed/mappers exploration/city_region_mtl_coordinates.csv'):\n",
    "    city_region_mtl_coordinates = pd.read_csv('../data/processed/mappers exploration/city_region_mtl_coordinates.csv')\n",
    "else:\n",
    "    city_region_mtl_coordinates, unknown_cities = find_coordinates(regions_dict.keys())\n",
    "\n",
    "    city_region_mtl_coordinates.to_csv('../data/processed/mappers exploration/city_region_mtl_coordinates.csv', index=False)\n",
    "\n",
    "display(city_region_mtl_coordinates.head())"
   ]
  },
  {
   "cell_type": "markdown",
   "metadata": {},
   "source": [
    "### Map Raw Locations to Regions Main Cities + MTL Boroughs"
   ]
  },
  {
   "cell_type": "code",
   "execution_count": 57,
   "metadata": {},
   "outputs": [
    {
     "name": "stderr",
     "output_type": "stream",
     "text": [
      "Building Location Mapper: 100%|██████████| 1142/1142 [00:13<00:00, 83.93it/s]\n"
     ]
    }
   ],
   "source": [
    "city_region_mtl_mapper = build_location_mapper(raw_location_coordinates, city_region_mtl_coordinates)\n",
    "\n",
    "city_region_mtl_mapper_df = pd.DataFrame(city_region_mtl_mapper.items(), columns=['location', 'mapping'])\n",
    "city_region_mtl_mapper_df.to_csv('../data/processed/mappers exploration/city_region_mtl_mapper.csv', index=False)\n",
    "city_region_mtl_mapper_df.head()\n",
    "\n",
    "with open('../data/processed/mappers exploration/city_region_mtl_mapper.pkl', 'wb') as f:\n",
    "    pickle.dump(city_region_mtl_mapper, f)"
   ]
  },
  {
   "cell_type": "markdown",
   "metadata": {},
   "source": [
    "## 4. Quebec Administrative Regions + MTL Boroughs"
   ]
  },
  {
   "cell_type": "markdown",
   "metadata": {},
   "source": [
    "### Map Raw Locations to Regions + MTL Boroughs"
   ]
  },
  {
   "cell_type": "code",
   "execution_count": 58,
   "metadata": {},
   "outputs": [],
   "source": [
    "region_mtl_mapper = {}\n",
    "for location in city_region_mtl_mapper.keys():\n",
    "    region_city = city_region_mtl_mapper[location]\n",
    "    region_mtl_mapper[location] = regions_dict[region_city]\n",
    "\n",
    "with open('../data/processed/mappers exploration/region_mtl_mapper.pkl', 'wb') as f:\n",
    "    pickle.dump(region_mtl_mapper, f)"
   ]
  },
  {
   "cell_type": "markdown",
   "metadata": {},
   "source": [
    "## 5. Quebec's 112 Biggest Cities + MTL Boroughs"
   ]
  },
  {
   "cell_type": "markdown",
   "metadata": {},
   "source": [
    "### Read Data"
   ]
  },
  {
   "cell_type": "code",
   "execution_count": 59,
   "metadata": {},
   "outputs": [],
   "source": [
    "big_cities = pd.read_csv('../data/references/wikipedia/qc-cities.csv')['Name'].to_list()\n",
    "big_cities.remove('Montréal')\n",
    "big_cities = big_cities + mtl_boroughs['Borough'].to_list()"
   ]
  },
  {
   "cell_type": "markdown",
   "metadata": {},
   "source": [
    "### Find Coordinates"
   ]
  },
  {
   "cell_type": "code",
   "execution_count": 60,
   "metadata": {},
   "outputs": [
    {
     "data": {
      "text/html": [
       "<div>\n",
       "<style scoped>\n",
       "    .dataframe tbody tr th:only-of-type {\n",
       "        vertical-align: middle;\n",
       "    }\n",
       "\n",
       "    .dataframe tbody tr th {\n",
       "        vertical-align: top;\n",
       "    }\n",
       "\n",
       "    .dataframe thead th {\n",
       "        text-align: right;\n",
       "    }\n",
       "</style>\n",
       "<table border=\"1\" class=\"dataframe\">\n",
       "  <thead>\n",
       "    <tr style=\"text-align: right;\">\n",
       "      <th></th>\n",
       "      <th>Name</th>\n",
       "      <th>Latitude</th>\n",
       "      <th>Longitude</th>\n",
       "    </tr>\n",
       "  </thead>\n",
       "  <tbody>\n",
       "    <tr>\n",
       "      <th>0</th>\n",
       "      <td>Québec</td>\n",
       "      <td>46.813743</td>\n",
       "      <td>-71.208406</td>\n",
       "    </tr>\n",
       "    <tr>\n",
       "      <th>1</th>\n",
       "      <td>Laval</td>\n",
       "      <td>45.605589</td>\n",
       "      <td>-73.734417</td>\n",
       "    </tr>\n",
       "    <tr>\n",
       "      <th>2</th>\n",
       "      <td>Longueuil</td>\n",
       "      <td>45.533339</td>\n",
       "      <td>-73.420032</td>\n",
       "    </tr>\n",
       "    <tr>\n",
       "      <th>3</th>\n",
       "      <td>Gatineau</td>\n",
       "      <td>45.484121</td>\n",
       "      <td>-75.681373</td>\n",
       "    </tr>\n",
       "    <tr>\n",
       "      <th>4</th>\n",
       "      <td>Chicoutimi</td>\n",
       "      <td>48.337025</td>\n",
       "      <td>-71.123526</td>\n",
       "    </tr>\n",
       "  </tbody>\n",
       "</table>\n",
       "</div>"
      ],
      "text/plain": [
       "         Name   Latitude  Longitude\n",
       "0      Québec  46.813743 -71.208406\n",
       "1       Laval  45.605589 -73.734417\n",
       "2   Longueuil  45.533339 -73.420032\n",
       "3    Gatineau  45.484121 -75.681373\n",
       "4  Chicoutimi  48.337025 -71.123526"
      ]
     },
     "metadata": {},
     "output_type": "display_data"
    }
   ],
   "source": [
    "if path.exists('../data/processed/mappers exploration/big_city_coordinates.csv'):\n",
    "    big_city_coordinates = pd.read_csv('../data/processed/mappers exploration/big_city_coordinates.csv')\n",
    "else:\n",
    "    big_city_coordinates, unknown_locations = find_coordinates(big_cities)\n",
    "\n",
    "    big_city_coordinates.to_csv('../data/processed/mappers exploration/big_city_coordinates.csv', index=False)\n",
    "\n",
    "display(big_city_coordinates.head())"
   ]
  },
  {
   "cell_type": "markdown",
   "metadata": {},
   "source": [
    "### Map Raw Locations to 112 Biggest Cities + MTL Boroughs"
   ]
  },
  {
   "cell_type": "code",
   "execution_count": 61,
   "metadata": {},
   "outputs": [
    {
     "name": "stderr",
     "output_type": "stream",
     "text": [
      "Building Location Mapper: 100%|██████████| 1142/1142 [00:30<00:00, 37.88it/s]\n"
     ]
    }
   ],
   "source": [
    "big_city_mapper = build_location_mapper(raw_location_coordinates, big_city_coordinates)\n",
    "\n",
    "big_city_mapper_df = pd.DataFrame(big_city_mapper.items(), columns=['location', 'mapping'])\n",
    "big_city_mapper_df.to_csv('../data/processed/mappers exploration/big_city_mapper.csv', index=False)\n",
    "big_city_mapper_df.head()\n",
    "\n",
    "with open('../data/processed/mappers exploration/big_city_mapper.pkl', 'wb') as f:\n",
    "    pickle.dump(big_city_mapper, f)"
   ]
  }
 ],
 "metadata": {
  "kernelspec": {
   "display_name": "Python 3.10.4 ('venv': venv)",
   "language": "python",
   "name": "python3"
  },
  "language_info": {
   "codemirror_mode": {
    "name": "ipython",
    "version": 3
   },
   "file_extension": ".py",
   "mimetype": "text/x-python",
   "name": "python",
   "nbconvert_exporter": "python",
   "pygments_lexer": "ipython3",
   "version": "3.10.4"
  },
  "orig_nbformat": 4,
  "vscode": {
   "interpreter": {
    "hash": "35baa29fccf03004b73c6d7efa1229fc55fcd4d7e436d14040fdb80c99cecdea"
   }
  }
 },
 "nbformat": 4,
 "nbformat_minor": 2
}
