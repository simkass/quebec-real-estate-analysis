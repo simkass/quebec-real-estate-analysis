{
 "cells": [
  {
   "cell_type": "markdown",
   "metadata": {},
   "source": [
    "# Location Polygons\n",
    "Compute Polygons of areas from curated list of locations"
   ]
  },
  {
   "cell_type": "code",
   "execution_count": 16,
   "metadata": {},
   "outputs": [],
   "source": [
    "import numpy as np\n",
    "import pandas as pd\n",
    "import pickle\n",
    "\n",
    "import geopandas as gpd\n",
    "from geopy.distance import geodesic\n",
    "from geopy.geocoders import Nominatim\n",
    "from os import path\n",
    "import matplotlib.pyplot as plt\n",
    "import seaborn as sns\n",
    "from shapely.geometry import Point\n",
    "from shapely.ops import unary_union\n",
    "from shapely import wkt\n",
    "from tqdm import tqdm"
   ]
  },
  {
   "cell_type": "code",
   "execution_count": 18,
   "metadata": {},
   "outputs": [],
   "source": [
    "geolocator = Nominatim(user_agent='housing-qc')"
   ]
  },
  {
   "cell_type": "markdown",
   "metadata": {},
   "source": [
    "### Read Data"
   ]
  },
  {
   "cell_type": "code",
   "execution_count": 19,
   "metadata": {},
   "outputs": [
    {
     "data": {
      "text/html": [
       "<div>\n",
       "<style scoped>\n",
       "    .dataframe tbody tr th:only-of-type {\n",
       "        vertical-align: middle;\n",
       "    }\n",
       "\n",
       "    .dataframe tbody tr th {\n",
       "        vertical-align: top;\n",
       "    }\n",
       "\n",
       "    .dataframe thead th {\n",
       "        text-align: right;\n",
       "    }\n",
       "</style>\n",
       "<table border=\"1\" class=\"dataframe\">\n",
       "  <thead>\n",
       "    <tr style=\"text-align: right;\">\n",
       "      <th></th>\n",
       "      <th>Bounding Territory</th>\n",
       "      <th>Display Name</th>\n",
       "      <th>Bounding Type</th>\n",
       "      <th>Bounding Population</th>\n",
       "      <th>GeoPy Index</th>\n",
       "    </tr>\n",
       "  </thead>\n",
       "  <tbody>\n",
       "    <tr>\n",
       "      <th>14</th>\n",
       "      <td>Lévis</td>\n",
       "      <td>Lévis</td>\n",
       "      <td>Municipality</td>\n",
       "      <td>145000</td>\n",
       "      <td>0</td>\n",
       "    </tr>\n",
       "    <tr>\n",
       "      <th>43</th>\n",
       "      <td>[Les Jardins-de-Napierville,Le Haut-Saint-Laur...</td>\n",
       "      <td>Les Jardins-de-Napierville &amp; Le Haut-Saint-Lau...</td>\n",
       "      <td>Regional County Municipality (RCM)</td>\n",
       "      <td>50000</td>\n",
       "      <td>0</td>\n",
       "    </tr>\n",
       "    <tr>\n",
       "      <th>18</th>\n",
       "      <td>Les Appalaches</td>\n",
       "      <td>Les Appalaches</td>\n",
       "      <td>Regional County Municipality (RCM)</td>\n",
       "      <td>40000</td>\n",
       "      <td>0</td>\n",
       "    </tr>\n",
       "    <tr>\n",
       "      <th>91</th>\n",
       "      <td>Les Moulins</td>\n",
       "      <td>Les Moulins</td>\n",
       "      <td>Regional County Municipality (RCM)</td>\n",
       "      <td>160000</td>\n",
       "      <td>0</td>\n",
       "    </tr>\n",
       "    <tr>\n",
       "      <th>80</th>\n",
       "      <td>Villeray-Saint-Michel-Parc-Extension</td>\n",
       "      <td>Villeray-Saint-Michel-Parc-Extension</td>\n",
       "      <td>Montréal Borough</td>\n",
       "      <td>145000</td>\n",
       "      <td>0</td>\n",
       "    </tr>\n",
       "  </tbody>\n",
       "</table>\n",
       "</div>"
      ],
      "text/plain": [
       "                                   Bounding Territory  \\\n",
       "14                                              Lévis   \n",
       "43  [Les Jardins-de-Napierville,Le Haut-Saint-Laur...   \n",
       "18                                     Les Appalaches   \n",
       "91                                        Les Moulins   \n",
       "80               Villeray-Saint-Michel-Parc-Extension   \n",
       "\n",
       "                                         Display Name  \\\n",
       "14                                              Lévis   \n",
       "43  Les Jardins-de-Napierville & Le Haut-Saint-Lau...   \n",
       "18                                     Les Appalaches   \n",
       "91                                        Les Moulins   \n",
       "80               Villeray-Saint-Michel-Parc-Extension   \n",
       "\n",
       "                         Bounding Type  Bounding Population  GeoPy Index  \n",
       "14                        Municipality               145000            0  \n",
       "43  Regional County Municipality (RCM)                50000            0  \n",
       "18  Regional County Municipality (RCM)                40000            0  \n",
       "91  Regional County Municipality (RCM)               160000            0  \n",
       "80                    Montréal Borough               145000            0  "
      ]
     },
     "execution_count": 19,
     "metadata": {},
     "output_type": "execute_result"
    }
   ],
   "source": [
    "bounding_territories_df = pd.read_csv('../data/references/handmade/bounding-territories.csv')\n",
    "bounding_territories_df.sample(5)"
   ]
  },
  {
   "cell_type": "code",
   "execution_count": 28,
   "metadata": {},
   "outputs": [
    {
     "name": "stdout",
     "output_type": "stream",
     "text": [
      "Avg: 72812.5, Std: 48065.18307802774\n"
     ]
    }
   ],
   "source": [
    "mean_pop = bounding_territories_df['Bounding Population'].mean()\n",
    "std_pop = bounding_territories_df['Bounding Population'].std()\n",
    "print('Avg: ' + str(mean_pop) + ', Std: ' + str(std_pop))"
   ]
  },
  {
   "cell_type": "markdown",
   "metadata": {},
   "source": [
    "### Methods"
   ]
  },
  {
   "cell_type": "code",
   "execution_count": 17,
   "metadata": {},
   "outputs": [],
   "source": [
    "def get_bounding_polygons(geolocator: Nominatim, bounding: str, geopy_index: int):\n",
    "    \"\"\"Get polygons of locations in list format\"\"\"\n",
    "    polygons = []\n",
    "    substracts = []\n",
    "    for location in bounding.replace(\"[\", \"\").replace(\"]\", \"\").split(\",\"):\n",
    "        if location.startswith(\"-\"):\n",
    "            geocodes = geolocator.geocode(location[1:] + ', QC', geometry='wkt', exactly_one=False)\n",
    "            for geocode in geocodes:\n",
    "                substracts.append(wkt.loads(geocode.raw['geotext']))\n",
    "        else:\n",
    "            geocode = geolocator.geocode(location + ', QC', geometry='wkt', exactly_one=False)[geopy_index]\n",
    "            polygons.append(wkt.loads(geocode.raw['geotext']))\n",
    "\n",
    "    return polygons, substracts"
   ]
  },
  {
   "cell_type": "code",
   "execution_count": 18,
   "metadata": {},
   "outputs": [],
   "source": [
    "def get_bounding_polygon(geolocator: Nominatim, bounding: str, geopy_index: int):\n",
    "    \"\"\"Get single location polygon\"\"\"\n",
    "    polygons, substracts = get_bounding_polygons(geolocator, bounding, geopy_index)\n",
    "    return gpd.GeoSeries(unary_union(polygons).difference(unary_union(substracts))).simplify(tolerance=0.001).iloc[0]"
   ]
  },
  {
   "cell_type": "code",
   "execution_count": 19,
   "metadata": {},
   "outputs": [],
   "source": [
    "def get_polygons(geolocator: Nominatim, bounding_territories_df: pd.DataFrame):\n",
    "    \"\"\"Get combination of polygons for locations in list format\"\"\"\n",
    "    polygons = []\n",
    "    for _, location in tqdm(bounding_territories_df.iterrows(), desc=\"Building GeoSeries\", total=bounding_territories_df.shape[0]):\n",
    "        polygons.append(get_bounding_polygon(geolocator, location[\"Bounding Territory\"], location[\"GeoPy Index\"]))\n",
    "    return polygons"
   ]
  },
  {
   "cell_type": "markdown",
   "metadata": {},
   "source": [
    "### Execute computations"
   ]
  },
  {
   "cell_type": "code",
   "execution_count": 20,
   "metadata": {},
   "outputs": [],
   "source": [
    "output = '../data/processed/locations/location-polygons.gpkg'\n",
    "\n",
    "if path.exists(output):\n",
    "    unknown_locations = []\n",
    "    polygons_gdf = gpd.read_file(output)\n",
    "else:\n",
    "    polygons = get_polygons(geolocator, bounding_territories_df)\n",
    "    d = {'location': bounding_territories_df[\"Display Name\"].to_list(), 'geometry': polygons}\n",
    "    polygons_gdf = gpd.GeoDataFrame(d, crs=\"EPSG:4326\")\n",
    "    polygons_gdf.to_file(output)"
   ]
  },
  {
   "cell_type": "code",
   "execution_count": 21,
   "metadata": {},
   "outputs": [
    {
     "data": {
      "text/html": [
       "<div>\n",
       "<style scoped>\n",
       "    .dataframe tbody tr th:only-of-type {\n",
       "        vertical-align: middle;\n",
       "    }\n",
       "\n",
       "    .dataframe tbody tr th {\n",
       "        vertical-align: top;\n",
       "    }\n",
       "\n",
       "    .dataframe thead th {\n",
       "        text-align: right;\n",
       "    }\n",
       "</style>\n",
       "<table border=\"1\" class=\"dataframe\">\n",
       "  <thead>\n",
       "    <tr style=\"text-align: right;\">\n",
       "      <th></th>\n",
       "      <th>location</th>\n",
       "      <th>geometry</th>\n",
       "    </tr>\n",
       "  </thead>\n",
       "  <tbody>\n",
       "    <tr>\n",
       "      <th>83</th>\n",
       "      <td>Trois-Rivières</td>\n",
       "      <td>POLYGON ((-72.77942 46.31866, -72.77905 46.316...</td>\n",
       "    </tr>\n",
       "    <tr>\n",
       "      <th>37</th>\n",
       "      <td>Pierre-de-Saurel</td>\n",
       "      <td>POLYGON ((-73.20407 45.87555, -73.12387 45.817...</td>\n",
       "    </tr>\n",
       "    <tr>\n",
       "      <th>30</th>\n",
       "      <td>Brossard</td>\n",
       "      <td>POLYGON ((-73.52372 45.47791, -73.51924 45.468...</td>\n",
       "    </tr>\n",
       "    <tr>\n",
       "      <th>87</th>\n",
       "      <td>L'Assomption</td>\n",
       "      <td>POLYGON ((-73.58056 45.82039, -73.55007 45.816...</td>\n",
       "    </tr>\n",
       "    <tr>\n",
       "      <th>18</th>\n",
       "      <td>Les Appalaches</td>\n",
       "      <td>POLYGON ((-71.68612 45.96671, -71.56214 45.906...</td>\n",
       "    </tr>\n",
       "    <tr>\n",
       "      <th>35</th>\n",
       "      <td>La Haute-Yamaska</td>\n",
       "      <td>POLYGON ((-72.87613 45.28444, -72.86160 45.286...</td>\n",
       "    </tr>\n",
       "    <tr>\n",
       "      <th>93</th>\n",
       "      <td>Hull</td>\n",
       "      <td>POLYGON ((-75.79685 45.48246, -75.79399 45.478...</td>\n",
       "    </tr>\n",
       "    <tr>\n",
       "      <th>76</th>\n",
       "      <td>Saint-Laurent</td>\n",
       "      <td>POLYGON ((-73.77388 45.50051, -73.77185 45.499...</td>\n",
       "    </tr>\n",
       "    <tr>\n",
       "      <th>66</th>\n",
       "      <td>Le Sud-Ouest</td>\n",
       "      <td>POLYGON ((-73.63515 45.45074, -73.62886 45.448...</td>\n",
       "    </tr>\n",
       "    <tr>\n",
       "      <th>102</th>\n",
       "      <td>Mirabel</td>\n",
       "      <td>MULTIPOLYGON (((-74.20253 45.49178, -74.25107 ...</td>\n",
       "    </tr>\n",
       "  </tbody>\n",
       "</table>\n",
       "</div>"
      ],
      "text/plain": [
       "             location                                           geometry\n",
       "83     Trois-Rivières  POLYGON ((-72.77942 46.31866, -72.77905 46.316...\n",
       "37   Pierre-de-Saurel  POLYGON ((-73.20407 45.87555, -73.12387 45.817...\n",
       "30           Brossard  POLYGON ((-73.52372 45.47791, -73.51924 45.468...\n",
       "87       L'Assomption  POLYGON ((-73.58056 45.82039, -73.55007 45.816...\n",
       "18     Les Appalaches  POLYGON ((-71.68612 45.96671, -71.56214 45.906...\n",
       "35   La Haute-Yamaska  POLYGON ((-72.87613 45.28444, -72.86160 45.286...\n",
       "93               Hull  POLYGON ((-75.79685 45.48246, -75.79399 45.478...\n",
       "76      Saint-Laurent  POLYGON ((-73.77388 45.50051, -73.77185 45.499...\n",
       "66       Le Sud-Ouest  POLYGON ((-73.63515 45.45074, -73.62886 45.448...\n",
       "102           Mirabel  MULTIPOLYGON (((-74.20253 45.49178, -74.25107 ..."
      ]
     },
     "execution_count": 21,
     "metadata": {},
     "output_type": "execute_result"
    }
   ],
   "source": [
    "polygons_gdf.sample(10)"
   ]
  }
 ],
 "metadata": {
  "kernelspec": {
   "display_name": "Python 3.10.4 ('venv': venv)",
   "language": "python",
   "name": "python3"
  },
  "language_info": {
   "codemirror_mode": {
    "name": "ipython",
    "version": 3
   },
   "file_extension": ".py",
   "mimetype": "text/x-python",
   "name": "python",
   "nbconvert_exporter": "python",
   "pygments_lexer": "ipython3",
   "version": "3.10.4"
  },
  "orig_nbformat": 4,
  "vscode": {
   "interpreter": {
    "hash": "35baa29fccf03004b73c6d7efa1229fc55fcd4d7e436d14040fdb80c99cecdea"
   }
  }
 },
 "nbformat": 4,
 "nbformat_minor": 2
}
