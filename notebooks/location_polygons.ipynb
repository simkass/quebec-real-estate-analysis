{
 "cells": [
  {
   "cell_type": "code",
   "execution_count": 148,
   "metadata": {},
   "outputs": [],
   "source": [
    "import numpy as np\n",
    "import pandas as pd\n",
    "import pickle\n",
    "\n",
    "import geopandas as gpd\n",
    "from geopy.distance import geodesic\n",
    "from geopy.geocoders import Nominatim\n",
    "from os import path\n",
    "from shapely.geometry import Point\n",
    "from shapely.ops import unary_union\n",
    "from shapely import wkt\n",
    "from tqdm import tqdm"
   ]
  },
  {
   "cell_type": "code",
   "execution_count": 149,
   "metadata": {},
   "outputs": [],
   "source": [
    "geolocator = Nominatim(user_agent='housing-qc')"
   ]
  },
  {
   "cell_type": "code",
   "execution_count": 150,
   "metadata": {},
   "outputs": [
    {
     "data": {
      "text/html": [
       "<div>\n",
       "<style scoped>\n",
       "    .dataframe tbody tr th:only-of-type {\n",
       "        vertical-align: middle;\n",
       "    }\n",
       "\n",
       "    .dataframe tbody tr th {\n",
       "        vertical-align: top;\n",
       "    }\n",
       "\n",
       "    .dataframe thead th {\n",
       "        text-align: right;\n",
       "    }\n",
       "</style>\n",
       "<table border=\"1\" class=\"dataframe\">\n",
       "  <thead>\n",
       "    <tr style=\"text-align: right;\">\n",
       "      <th></th>\n",
       "      <th>Bounding Territory</th>\n",
       "      <th>Display Name</th>\n",
       "      <th>Bounding Type</th>\n",
       "      <th>Bounding Population</th>\n",
       "      <th>GeoPy Index</th>\n",
       "    </tr>\n",
       "  </thead>\n",
       "  <tbody>\n",
       "    <tr>\n",
       "      <th>34</th>\n",
       "      <td>Brome-Missisquoi</td>\n",
       "      <td>Brome-Missisquoi</td>\n",
       "      <td>Regional County Municipality (RCM)</td>\n",
       "      <td>60000</td>\n",
       "      <td>0</td>\n",
       "    </tr>\n",
       "    <tr>\n",
       "      <th>84</th>\n",
       "      <td>[La Tuque,Mékinac,Les Chenaux]</td>\n",
       "      <td>La Tuque, Mékinac &amp; Les Chenaux</td>\n",
       "      <td>Regional County Municipality (RCM)</td>\n",
       "      <td>40000</td>\n",
       "      <td>0</td>\n",
       "    </tr>\n",
       "    <tr>\n",
       "      <th>43</th>\n",
       "      <td>[Les Jardins-de-Napierville,Le Haut-Saint-Laur...</td>\n",
       "      <td>Les Jardins-de-Napierville &amp; Le Haut-Saint-Lau...</td>\n",
       "      <td>Regional County Municipality (RCM)</td>\n",
       "      <td>50000</td>\n",
       "      <td>0</td>\n",
       "    </tr>\n",
       "    <tr>\n",
       "      <th>24</th>\n",
       "      <td>Coaticook (MRC)</td>\n",
       "      <td>Coaticook</td>\n",
       "      <td>Regional County Municipality (RCM)</td>\n",
       "      <td>20000</td>\n",
       "      <td>0</td>\n",
       "    </tr>\n",
       "    <tr>\n",
       "      <th>19</th>\n",
       "      <td>Lotbinière</td>\n",
       "      <td>Lotbinière</td>\n",
       "      <td>Regional County Municipality (RCM)</td>\n",
       "      <td>30000</td>\n",
       "      <td>1</td>\n",
       "    </tr>\n",
       "  </tbody>\n",
       "</table>\n",
       "</div>"
      ],
      "text/plain": [
       "                                   Bounding Territory  \\\n",
       "34                                   Brome-Missisquoi   \n",
       "84                     [La Tuque,Mékinac,Les Chenaux]   \n",
       "43  [Les Jardins-de-Napierville,Le Haut-Saint-Laur...   \n",
       "24                                    Coaticook (MRC)   \n",
       "19                                         Lotbinière   \n",
       "\n",
       "                                         Display Name  \\\n",
       "34                                   Brome-Missisquoi   \n",
       "84                    La Tuque, Mékinac & Les Chenaux   \n",
       "43  Les Jardins-de-Napierville & Le Haut-Saint-Lau...   \n",
       "24                                          Coaticook   \n",
       "19                                         Lotbinière   \n",
       "\n",
       "                         Bounding Type  Bounding Population  GeoPy Index  \n",
       "34  Regional County Municipality (RCM)                60000            0  \n",
       "84  Regional County Municipality (RCM)                40000            0  \n",
       "43  Regional County Municipality (RCM)                50000            0  \n",
       "24  Regional County Municipality (RCM)                20000            0  \n",
       "19  Regional County Municipality (RCM)                30000            1  "
      ]
     },
     "execution_count": 150,
     "metadata": {},
     "output_type": "execute_result"
    }
   ],
   "source": [
    "bounding_territories_df = pd.read_csv('../data/references/handmade/bounding-territories.csv')\n",
    "bounding_territories_df.sample(5)"
   ]
  },
  {
   "cell_type": "code",
   "execution_count": 151,
   "metadata": {},
   "outputs": [],
   "source": [
    "def get_bounding_polygons(geolocator: Nominatim, bounding: str, geopy_index: int):\n",
    "    polygons = []\n",
    "    substracts = []\n",
    "    for location in bounding.replace(\"[\", \"\").replace(\"]\", \"\").split(\",\"):\n",
    "        if location.startswith(\"-\"):\n",
    "            geocodes = geolocator.geocode(location[1:] + ', QC', geometry='wkt', exactly_one=False)\n",
    "            for geocode in geocodes:\n",
    "                substracts.append(wkt.loads(geocode.raw['geotext']))\n",
    "        else:\n",
    "            geocode = geolocator.geocode(location + ', QC', geometry='wkt', exactly_one=False)[geopy_index]\n",
    "            polygons.append(wkt.loads(geocode.raw['geotext']))\n",
    "\n",
    "    return polygons, substracts"
   ]
  },
  {
   "cell_type": "code",
   "execution_count": 152,
   "metadata": {},
   "outputs": [],
   "source": [
    "def get_bounding_polygon(geolocator: Nominatim, bounding: str, geopy_index: int):\n",
    "    polygons, substracts = get_bounding_polygons(geolocator, bounding, geopy_index)\n",
    "    return gpd.GeoSeries(unary_union(polygons).difference(unary_union(substracts))).simplify(tolerance=0.001).iloc[0]"
   ]
  },
  {
   "cell_type": "code",
   "execution_count": 153,
   "metadata": {},
   "outputs": [],
   "source": [
    "def get_polygons(geolocator: Nominatim, bounding_territories_df: pd.DataFrame):\n",
    "    polygons = []\n",
    "    for _, location in tqdm(bounding_territories_df.iterrows(), desc=\"Building GeoSeries\", total=bounding_territories_df.shape[0]):\n",
    "        polygons.append(get_bounding_polygon(geolocator, location[\"Bounding Territory\"], location[\"GeoPy Index\"]))\n",
    "    return polygons"
   ]
  },
  {
   "cell_type": "code",
   "execution_count": 154,
   "metadata": {},
   "outputs": [
    {
     "name": "stderr",
     "output_type": "stream",
     "text": [
      "Building GeoSeries: 100%|██████████| 110/110 [01:11<00:00,  1.53it/s]\n"
     ]
    }
   ],
   "source": [
    "output = '../data/processed/locations/location-polygons.gpkg'\n",
    "\n",
    "if path.exists(output):\n",
    "    unknown_locations = []\n",
    "    polygons_gdf = gpd.read_file(output)\n",
    "else:\n",
    "    polygons = get_polygons(geolocator, bounding_territories_df)\n",
    "    d = {'location': bounding_territories_df[\"Display Name\"].to_list(), 'geometry': polygons}\n",
    "    polygons_gdf = gpd.GeoDataFrame(d, crs=\"EPSG:4326\")\n",
    "    polygons_gdf.to_file(output)"
   ]
  },
  {
   "cell_type": "code",
   "execution_count": 156,
   "metadata": {},
   "outputs": [
    {
     "data": {
      "text/html": [
       "<div>\n",
       "<style scoped>\n",
       "    .dataframe tbody tr th:only-of-type {\n",
       "        vertical-align: middle;\n",
       "    }\n",
       "\n",
       "    .dataframe tbody tr th {\n",
       "        vertical-align: top;\n",
       "    }\n",
       "\n",
       "    .dataframe thead th {\n",
       "        text-align: right;\n",
       "    }\n",
       "</style>\n",
       "<table border=\"1\" class=\"dataframe\">\n",
       "  <thead>\n",
       "    <tr style=\"text-align: right;\">\n",
       "      <th></th>\n",
       "      <th>location</th>\n",
       "      <th>geometry</th>\n",
       "    </tr>\n",
       "  </thead>\n",
       "  <tbody>\n",
       "    <tr>\n",
       "      <th>26</th>\n",
       "      <td>Bécancour &amp; Nicolet</td>\n",
       "      <td>POLYGON ((-72.21853 46.18586, -72.21888 46.170...</td>\n",
       "    </tr>\n",
       "    <tr>\n",
       "      <th>83</th>\n",
       "      <td>Trois-Rivières</td>\n",
       "      <td>POLYGON ((-72.77942 46.31866, -72.77905 46.316...</td>\n",
       "    </tr>\n",
       "    <tr>\n",
       "      <th>56</th>\n",
       "      <td>Beaconsfield</td>\n",
       "      <td>POLYGON ((-73.90118 45.43481, -73.89409 45.409...</td>\n",
       "    </tr>\n",
       "    <tr>\n",
       "      <th>20</th>\n",
       "      <td>Sherbrooke</td>\n",
       "      <td>POLYGON ((-72.10879 45.30149, -72.04219 45.299...</td>\n",
       "    </tr>\n",
       "    <tr>\n",
       "      <th>48</th>\n",
       "      <td>Duvernay, Saint-Vincent-de-Paul &amp; Saint-François</td>\n",
       "      <td>POLYGON ((-73.63864 45.62648, -73.63874 45.624...</td>\n",
       "    </tr>\n",
       "    <tr>\n",
       "      <th>54</th>\n",
       "      <td>Ahuntsic-Cartierville</td>\n",
       "      <td>MULTIPOLYGON (((-73.76113 45.51047, -73.75702 ...</td>\n",
       "    </tr>\n",
       "    <tr>\n",
       "      <th>47</th>\n",
       "      <td>Chomedey</td>\n",
       "      <td>POLYGON ((-73.81391 45.55635, -73.80087 45.542...</td>\n",
       "    </tr>\n",
       "    <tr>\n",
       "      <th>7</th>\n",
       "      <td>La Haute-Saint-Charles</td>\n",
       "      <td>POLYGON ((-71.54922 46.85118, -71.53139 46.838...</td>\n",
       "    </tr>\n",
       "    <tr>\n",
       "      <th>102</th>\n",
       "      <td>Thérèse-De Blainville</td>\n",
       "      <td>POLYGON ((-73.93177 45.63979, -73.88043 45.606...</td>\n",
       "    </tr>\n",
       "    <tr>\n",
       "      <th>78</th>\n",
       "      <td>Senneville, Baie-D'Urfé &amp; Saint-Anne-de-Bellevue</td>\n",
       "      <td>POLYGON ((-73.90125 45.43513, -73.89409 45.409...</td>\n",
       "    </tr>\n",
       "  </tbody>\n",
       "</table>\n",
       "</div>"
      ],
      "text/plain": [
       "                                             location  \\\n",
       "26                                Bécancour & Nicolet   \n",
       "83                                     Trois-Rivières   \n",
       "56                                       Beaconsfield   \n",
       "20                                         Sherbrooke   \n",
       "48   Duvernay, Saint-Vincent-de-Paul & Saint-François   \n",
       "54                              Ahuntsic-Cartierville   \n",
       "47                                           Chomedey   \n",
       "7                              La Haute-Saint-Charles   \n",
       "102                             Thérèse-De Blainville   \n",
       "78   Senneville, Baie-D'Urfé & Saint-Anne-de-Bellevue   \n",
       "\n",
       "                                              geometry  \n",
       "26   POLYGON ((-72.21853 46.18586, -72.21888 46.170...  \n",
       "83   POLYGON ((-72.77942 46.31866, -72.77905 46.316...  \n",
       "56   POLYGON ((-73.90118 45.43481, -73.89409 45.409...  \n",
       "20   POLYGON ((-72.10879 45.30149, -72.04219 45.299...  \n",
       "48   POLYGON ((-73.63864 45.62648, -73.63874 45.624...  \n",
       "54   MULTIPOLYGON (((-73.76113 45.51047, -73.75702 ...  \n",
       "47   POLYGON ((-73.81391 45.55635, -73.80087 45.542...  \n",
       "7    POLYGON ((-71.54922 46.85118, -71.53139 46.838...  \n",
       "102  POLYGON ((-73.93177 45.63979, -73.88043 45.606...  \n",
       "78   POLYGON ((-73.90125 45.43513, -73.89409 45.409...  "
      ]
     },
     "execution_count": 156,
     "metadata": {},
     "output_type": "execute_result"
    }
   ],
   "source": [
    "polygons_gdf.sample(10)"
   ]
  }
 ],
 "metadata": {
  "kernelspec": {
   "display_name": "Python 3.10.4 ('venv': venv)",
   "language": "python",
   "name": "python3"
  },
  "language_info": {
   "codemirror_mode": {
    "name": "ipython",
    "version": 3
   },
   "file_extension": ".py",
   "mimetype": "text/x-python",
   "name": "python",
   "nbconvert_exporter": "python",
   "pygments_lexer": "ipython3",
   "version": "3.10.4"
  },
  "orig_nbformat": 4,
  "vscode": {
   "interpreter": {
    "hash": "35baa29fccf03004b73c6d7efa1229fc55fcd4d7e436d14040fdb80c99cecdea"
   }
  }
 },
 "nbformat": 4,
 "nbformat_minor": 2
}
