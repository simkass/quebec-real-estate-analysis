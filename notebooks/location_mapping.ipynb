{
 "cells": [
  {
   "cell_type": "markdown",
   "metadata": {},
   "source": [
    "# Location Mapping"
   ]
  },
  {
   "cell_type": "code",
   "execution_count": 101,
   "metadata": {},
   "outputs": [],
   "source": [
    "import numpy as np\n",
    "import pandas as pd\n",
    "import pickle\n",
    "\n",
    "from geopy.distance import geodesic\n",
    "from geopy.geocoders import Nominatim\n",
    "from os import path\n",
    "from tqdm import tqdm"
   ]
  },
  {
   "cell_type": "code",
   "execution_count": 102,
   "metadata": {},
   "outputs": [],
   "source": [
    "geolocator = Nominatim(user_agent='housing-qc')"
   ]
  },
  {
   "cell_type": "markdown",
   "metadata": {},
   "source": [
    "### Read Data"
   ]
  },
  {
   "cell_type": "code",
   "execution_count": 103,
   "metadata": {},
   "outputs": [],
   "source": [
    "home_df = pd.read_csv('../data/raw/home_listings.csv')\n",
    "condo_df = pd.read_csv('../data/raw/condo_listings.csv')\n",
    "raw_df = pd.concat([home_df, condo_df], axis=0, ignore_index=True)"
   ]
  },
  {
   "cell_type": "code",
   "execution_count": 104,
   "metadata": {},
   "outputs": [],
   "source": [
    "raw_locations = list(raw_df['location'].unique())"
   ]
  },
  {
   "cell_type": "code",
   "execution_count": 105,
   "metadata": {},
   "outputs": [
    {
     "data": {
      "text/html": [
       "<div>\n",
       "<style scoped>\n",
       "    .dataframe tbody tr th:only-of-type {\n",
       "        vertical-align: middle;\n",
       "    }\n",
       "\n",
       "    .dataframe tbody tr th {\n",
       "        vertical-align: top;\n",
       "    }\n",
       "\n",
       "    .dataframe thead th {\n",
       "        text-align: right;\n",
       "    }\n",
       "</style>\n",
       "<table border=\"1\" class=\"dataframe\">\n",
       "  <thead>\n",
       "    <tr style=\"text-align: right;\">\n",
       "      <th></th>\n",
       "      <th>Location</th>\n",
       "      <th>City</th>\n",
       "      <th>RCM</th>\n",
       "      <th>Region</th>\n",
       "      <th>Bounding Territory</th>\n",
       "      <th>Display Name</th>\n",
       "      <th>Bounding Type</th>\n",
       "      <th>Bounding Population</th>\n",
       "      <th>GeoPy Index</th>\n",
       "    </tr>\n",
       "  </thead>\n",
       "  <tbody>\n",
       "    <tr>\n",
       "      <th>24</th>\n",
       "      <td>Saint-Apollinaire</td>\n",
       "      <td>Saint-Apollinaire</td>\n",
       "      <td>Lotbinière</td>\n",
       "      <td>Chaudière-Appalaches</td>\n",
       "      <td>Lotbinière</td>\n",
       "      <td>Lotbinière</td>\n",
       "      <td>Regional County Municipality (RCM)</td>\n",
       "      <td>30000</td>\n",
       "      <td>1</td>\n",
       "    </tr>\n",
       "    <tr>\n",
       "      <th>113</th>\n",
       "      <td>Saint-Calixte</td>\n",
       "      <td>Saint-Calixte</td>\n",
       "      <td>Montcalm</td>\n",
       "      <td>Lanaudière</td>\n",
       "      <td>Montcalm</td>\n",
       "      <td>Montcalm</td>\n",
       "      <td>Regional County Municipality (RCM)</td>\n",
       "      <td>50000</td>\n",
       "      <td>1</td>\n",
       "    </tr>\n",
       "    <tr>\n",
       "      <th>128</th>\n",
       "      <td>Blainville</td>\n",
       "      <td>Blainville</td>\n",
       "      <td>Thérèse-De Blainville</td>\n",
       "      <td>Laurentides</td>\n",
       "      <td>Thérèse-De Blainville</td>\n",
       "      <td>Thérèse-De Blainville</td>\n",
       "      <td>Regional County Municipality (RCM)</td>\n",
       "      <td>160000</td>\n",
       "      <td>0</td>\n",
       "    </tr>\n",
       "    <tr>\n",
       "      <th>129</th>\n",
       "      <td>Saint-Jérôme</td>\n",
       "      <td>Saint-Jérôme</td>\n",
       "      <td>La Rivière-du-Nord</td>\n",
       "      <td>Laurentides</td>\n",
       "      <td>La Rivière-du-Nord</td>\n",
       "      <td>La Rivière-du-Nord</td>\n",
       "      <td>Regional County Municipality (RCM)</td>\n",
       "      <td>130000</td>\n",
       "      <td>0</td>\n",
       "    </tr>\n",
       "    <tr>\n",
       "      <th>126</th>\n",
       "      <td>Mirabel</td>\n",
       "      <td>Mirabel</td>\n",
       "      <td>Mirabel</td>\n",
       "      <td>Laurentides</td>\n",
       "      <td>[Mirabel,-Deux-Montagnes,-La Rivière-du-Nord,-...</td>\n",
       "      <td>Mirabel</td>\n",
       "      <td>Municipality</td>\n",
       "      <td>60000</td>\n",
       "      <td>0</td>\n",
       "    </tr>\n",
       "  </tbody>\n",
       "</table>\n",
       "</div>"
      ],
      "text/plain": [
       "              Location               City                    RCM  \\\n",
       "24   Saint-Apollinaire  Saint-Apollinaire             Lotbinière   \n",
       "113      Saint-Calixte      Saint-Calixte               Montcalm   \n",
       "128         Blainville         Blainville  Thérèse-De Blainville   \n",
       "129       Saint-Jérôme       Saint-Jérôme     La Rivière-du-Nord   \n",
       "126            Mirabel            Mirabel                Mirabel   \n",
       "\n",
       "                   Region                                 Bounding Territory  \\\n",
       "24   Chaudière-Appalaches                                         Lotbinière   \n",
       "113            Lanaudière                                           Montcalm   \n",
       "128           Laurentides                              Thérèse-De Blainville   \n",
       "129           Laurentides                                 La Rivière-du-Nord   \n",
       "126           Laurentides  [Mirabel,-Deux-Montagnes,-La Rivière-du-Nord,-...   \n",
       "\n",
       "              Display Name                       Bounding Type  \\\n",
       "24              Lotbinière  Regional County Municipality (RCM)   \n",
       "113               Montcalm  Regional County Municipality (RCM)   \n",
       "128  Thérèse-De Blainville  Regional County Municipality (RCM)   \n",
       "129     La Rivière-du-Nord  Regional County Municipality (RCM)   \n",
       "126                Mirabel                        Municipality   \n",
       "\n",
       "     Bounding Population  GeoPy Index  \n",
       "24                 30000            1  \n",
       "113                50000            1  \n",
       "128               160000            0  \n",
       "129               130000            0  \n",
       "126                60000            0  "
      ]
     },
     "execution_count": 105,
     "metadata": {},
     "output_type": "execute_result"
    }
   ],
   "source": [
    "population_centers_df = pd.read_csv('../data/references/handmade/qc-population-centers.csv')\n",
    "population_centers_df.sample(5)"
   ]
  },
  {
   "cell_type": "markdown",
   "metadata": {},
   "source": [
    "### Methods"
   ]
  },
  {
   "cell_type": "code",
   "execution_count": 106,
   "metadata": {},
   "outputs": [],
   "source": [
    "def compute_location_coordinates(location: str):\n",
    "    geocode = geolocator.geocode(location + ', QC')\n",
    "    return {'Location': location, 'Latitude': geocode.latitude, 'Longitude': geocode.longitude}"
   ]
  },
  {
   "cell_type": "code",
   "execution_count": 107,
   "metadata": {},
   "outputs": [],
   "source": [
    "def compute_locations_coordinates(locations: list):\n",
    "    location_coordinates = []\n",
    "    unknown_locations = []\n",
    "    for location in tqdm(locations, desc='Finding Location Coordinates'):\n",
    "        try:\n",
    "            coordinates = compute_location_coordinates(location)\n",
    "            location_coordinates.append(coordinates)\n",
    "        except:\n",
    "            unknown_locations.append(location)\n",
    "            print('Unable to find Geocode for: ' + str(location))\n",
    "    return pd.DataFrame(location_coordinates), unknown_locations"
   ]
  },
  {
   "cell_type": "code",
   "execution_count": 108,
   "metadata": {},
   "outputs": [],
   "source": [
    "def compute_coordinates(locations: list, output: str):\n",
    "    if path.exists(output):\n",
    "        unknown_locations = []\n",
    "        coordinates = pd.read_csv(output)\n",
    "    else:\n",
    "        coordinates, unknown_locations = compute_locations_coordinates(locations)\n",
    "        coordinates.to_csv(output, index=False)\n",
    "    \n",
    "    return coordinates, unknown_locations"
   ]
  },
  {
   "cell_type": "code",
   "execution_count": 109,
   "metadata": {},
   "outputs": [],
   "source": [
    "# Given geographical latitude and longitude, find the closest location in the given list.\n",
    "def find_closest_location(latitude: float, longitude: float, locations: pd.DataFrame):\n",
    "    distances = []\n",
    "\n",
    "    for _, location in locations.iterrows():\n",
    "        distances.append(geodesic((latitude, longitude), (location['Latitude'], location['Longitude'])))\n",
    "\n",
    "    return locations.iloc[np.argmin(distances)]['Location']"
   ]
  },
  {
   "cell_type": "code",
   "execution_count": 110,
   "metadata": {},
   "outputs": [],
   "source": [
    "# Map all locations to a reference location based on closest distance.\n",
    "def build_location_mapper(locations: pd.DataFrame, reference_locations: pd.DataFrame):\n",
    "    location_mapper = {}\n",
    "    \n",
    "    for _, location in tqdm(locations.iterrows(), desc=\"Building Location Mapper\", total=locations.shape[0]):\n",
    "        closest_location = find_closest_location(location['Latitude'], location['Longitude'], reference_locations)\n",
    "        location_mapper[location['Location']] = closest_location\n",
    "        \n",
    "    return location_mapper"
   ]
  },
  {
   "cell_type": "markdown",
   "metadata": {},
   "source": [
    "### Format Location Strings"
   ]
  },
  {
   "cell_type": "code",
   "execution_count": 111,
   "metadata": {},
   "outputs": [],
   "source": [
    "raw_locations = [str(i) for i in raw_locations]\n",
    "raw_locations = [location.replace('St-', 'Saint-') for location in raw_locations]\n",
    "raw_locations = [location.replace('Ste-', 'Sainte-') for location in raw_locations]\n",
    "raw_locations = [location.replace('Sts-', 'Saints-') for location in raw_locations]\n",
    "raw_locations = [location.replace('ND-', 'Notre-Dame-') for location in raw_locations]\n",
    "raw_locations = [location.replace('JC', 'Jacques-Cartier') for location in raw_locations]"
   ]
  },
  {
   "cell_type": "code",
   "execution_count": 112,
   "metadata": {},
   "outputs": [],
   "source": [
    "unknown_locations_dict = {\n",
    "    \"Saint-Denis-sur-Mer\": \"Saint-Denis\",\n",
    "    \"Saint-Simon-De-Rimouski\": \"Saint-Simon\",\n",
    "    \"Saint-Guillaume-D'Upton\": \"Saint-Guillaume\",\n",
    "    \"Saint-Joseph-De-Ham-Sud\": \"Ham-Sud\",\n",
    "    \"Saint-Adelphe-De-Champlain\": \"Saint-Adelphe\",\n",
    "    \"Saint-Mathieu-De-Laprairie\": \"Saint-Mathieu\",\n",
    "    \"Saint-Isidore-De-Laprairie\": \"Saint-Isidore\",\n",
    "    \"Saint-Stanislas-De-Champlain\": \"Saint-Denis\",\n",
    "    \"Saint-Sebastien-De-Frontenac\": \"Saint-Sebastien\",\n",
    "    \"Sainte-Francoise-De-Lotbiniere\": \"Saint-Francoise\",\n",
    "    \"Saint-Donat-De-Rimouski\": \"Rimouski\",\n",
    "    \"Sheenboro\": \"Pontiac\",\n",
    "    \"Mercier\": \"Hochelaga\", \n",
    "    \"Mont-Royal\": \"Ville de Mont-Royal\",\n",
    "    \"Rosemont\": \"Rosemont-La Petite-Patrie\",\n",
    "    \"Rivière des Prairies\": \"Rivière-des-Prairies-Pointe-aux-Trembles\",\n",
    "    \"Pointe-Aux-Trembles\": \"Rivière-des-Prairies-Pointe-aux-Trembles\",\n",
    "    \"Côte-des-Neiges\": \"Côte-des-Neiges–Notre-Dame-de-Grâce\"\n",
    "}\n",
    "\n",
    "raw_locations = [x if x not in unknown_locations_dict else unknown_locations_dict[x] for x in raw_locations]"
   ]
  },
  {
   "cell_type": "markdown",
   "metadata": {},
   "source": [
    "### Compute Coordinates"
   ]
  },
  {
   "cell_type": "markdown",
   "metadata": {},
   "source": [
    "Raw Location Coordinates"
   ]
  },
  {
   "cell_type": "code",
   "execution_count": 113,
   "metadata": {},
   "outputs": [
    {
     "name": "stdout",
     "output_type": "stream",
     "text": [
      "All coordinates successfully calculated.\n"
     ]
    },
    {
     "data": {
      "text/html": [
       "<div>\n",
       "<style scoped>\n",
       "    .dataframe tbody tr th:only-of-type {\n",
       "        vertical-align: middle;\n",
       "    }\n",
       "\n",
       "    .dataframe tbody tr th {\n",
       "        vertical-align: top;\n",
       "    }\n",
       "\n",
       "    .dataframe thead th {\n",
       "        text-align: right;\n",
       "    }\n",
       "</style>\n",
       "<table border=\"1\" class=\"dataframe\">\n",
       "  <thead>\n",
       "    <tr style=\"text-align: right;\">\n",
       "      <th></th>\n",
       "      <th>Location</th>\n",
       "      <th>Latitude</th>\n",
       "      <th>Longitude</th>\n",
       "    </tr>\n",
       "  </thead>\n",
       "  <tbody>\n",
       "    <tr>\n",
       "      <th>0</th>\n",
       "      <td>Beauport</td>\n",
       "      <td>46.907111</td>\n",
       "      <td>-71.212797</td>\n",
       "    </tr>\n",
       "    <tr>\n",
       "      <th>1</th>\n",
       "      <td>Deschambault</td>\n",
       "      <td>46.649200</td>\n",
       "      <td>-71.929893</td>\n",
       "    </tr>\n",
       "    <tr>\n",
       "      <th>2</th>\n",
       "      <td>Hochelaga</td>\n",
       "      <td>45.542133</td>\n",
       "      <td>-73.547630</td>\n",
       "    </tr>\n",
       "    <tr>\n",
       "      <th>3</th>\n",
       "      <td>Stoneham</td>\n",
       "      <td>46.999608</td>\n",
       "      <td>-71.369475</td>\n",
       "    </tr>\n",
       "    <tr>\n",
       "      <th>4</th>\n",
       "      <td>Trois-Rivières</td>\n",
       "      <td>46.371592</td>\n",
       "      <td>-72.600502</td>\n",
       "    </tr>\n",
       "  </tbody>\n",
       "</table>\n",
       "</div>"
      ],
      "text/plain": [
       "         Location   Latitude  Longitude\n",
       "0        Beauport  46.907111 -71.212797\n",
       "1    Deschambault  46.649200 -71.929893\n",
       "2       Hochelaga  45.542133 -73.547630\n",
       "3        Stoneham  46.999608 -71.369475\n",
       "4  Trois-Rivières  46.371592 -72.600502"
      ]
     },
     "execution_count": 113,
     "metadata": {},
     "output_type": "execute_result"
    }
   ],
   "source": [
    "output = '../data/processed/locations/raw_location_coordinates.csv'\n",
    "raw_location_coordinates, unknown_locations = compute_coordinates(locations=raw_locations, output=output)\n",
    "\n",
    "if len(unknown_locations) == 0:\n",
    "    print(\"All coordinates successfully calculated.\")\n",
    "\n",
    "raw_location_coordinates.head()"
   ]
  },
  {
   "cell_type": "markdown",
   "metadata": {},
   "source": [
    "Population Center Coordinates"
   ]
  },
  {
   "cell_type": "code",
   "execution_count": 114,
   "metadata": {},
   "outputs": [
    {
     "name": "stderr",
     "output_type": "stream",
     "text": [
      "Finding Location Coordinates: 100%|██████████| 137/137 [01:08<00:00,  2.00it/s]"
     ]
    },
    {
     "name": "stdout",
     "output_type": "stream",
     "text": [
      "All coordinates successfully calculated.\n"
     ]
    },
    {
     "name": "stderr",
     "output_type": "stream",
     "text": [
      "\n"
     ]
    },
    {
     "data": {
      "text/html": [
       "<div>\n",
       "<style scoped>\n",
       "    .dataframe tbody tr th:only-of-type {\n",
       "        vertical-align: middle;\n",
       "    }\n",
       "\n",
       "    .dataframe tbody tr th {\n",
       "        vertical-align: top;\n",
       "    }\n",
       "\n",
       "    .dataframe thead th {\n",
       "        text-align: right;\n",
       "    }\n",
       "</style>\n",
       "<table border=\"1\" class=\"dataframe\">\n",
       "  <thead>\n",
       "    <tr style=\"text-align: right;\">\n",
       "      <th></th>\n",
       "      <th>Location</th>\n",
       "      <th>Latitude</th>\n",
       "      <th>Longitude</th>\n",
       "    </tr>\n",
       "  </thead>\n",
       "  <tbody>\n",
       "    <tr>\n",
       "      <th>0</th>\n",
       "      <td>Rimouski</td>\n",
       "      <td>48.450155</td>\n",
       "      <td>-68.529968</td>\n",
       "    </tr>\n",
       "    <tr>\n",
       "      <th>1</th>\n",
       "      <td>Gaspé</td>\n",
       "      <td>48.658056</td>\n",
       "      <td>-65.752778</td>\n",
       "    </tr>\n",
       "    <tr>\n",
       "      <th>2</th>\n",
       "      <td>La Cité-Limoilou</td>\n",
       "      <td>46.829408</td>\n",
       "      <td>-71.225593</td>\n",
       "    </tr>\n",
       "    <tr>\n",
       "      <th>3</th>\n",
       "      <td>Les Rivières</td>\n",
       "      <td>46.839562</td>\n",
       "      <td>-71.304570</td>\n",
       "    </tr>\n",
       "    <tr>\n",
       "      <th>4</th>\n",
       "      <td>Sainte-Foy-Sillery-Cap-Rouge</td>\n",
       "      <td>46.782012</td>\n",
       "      <td>-71.349279</td>\n",
       "    </tr>\n",
       "  </tbody>\n",
       "</table>\n",
       "</div>"
      ],
      "text/plain": [
       "                       Location   Latitude  Longitude\n",
       "0                      Rimouski  48.450155 -68.529968\n",
       "1                         Gaspé  48.658056 -65.752778\n",
       "2              La Cité-Limoilou  46.829408 -71.225593\n",
       "3                  Les Rivières  46.839562 -71.304570\n",
       "4  Sainte-Foy-Sillery-Cap-Rouge  46.782012 -71.349279"
      ]
     },
     "execution_count": 114,
     "metadata": {},
     "output_type": "execute_result"
    }
   ],
   "source": [
    "output = '../data/processed/locations/population_centers_coordinates.csv'\n",
    "population_centers_coordinates, unknown_locations = compute_coordinates(locations=population_centers_df[\"Location\"].unique(), output=output)\n",
    "\n",
    "if len(unknown_locations) == 0:\n",
    "    print(\"All coordinates successfully calculated.\")\n",
    "\n",
    "population_centers_coordinates.head()"
   ]
  },
  {
   "cell_type": "markdown",
   "metadata": {},
   "source": [
    "### Map Raw Locations to Population Centers"
   ]
  },
  {
   "cell_type": "code",
   "execution_count": 115,
   "metadata": {},
   "outputs": [
    {
     "name": "stderr",
     "output_type": "stream",
     "text": [
      "Building Location Mapper: 100%|██████████| 1168/1168 [00:31<00:00, 37.09it/s]\n"
     ]
    }
   ],
   "source": [
    "location_mapper = build_location_mapper(raw_location_coordinates, population_centers_coordinates)"
   ]
  },
  {
   "cell_type": "markdown",
   "metadata": {},
   "source": [
    "To .csv"
   ]
  },
  {
   "cell_type": "code",
   "execution_count": 116,
   "metadata": {},
   "outputs": [
    {
     "data": {
      "text/html": [
       "<div>\n",
       "<style scoped>\n",
       "    .dataframe tbody tr th:only-of-type {\n",
       "        vertical-align: middle;\n",
       "    }\n",
       "\n",
       "    .dataframe tbody tr th {\n",
       "        vertical-align: top;\n",
       "    }\n",
       "\n",
       "    .dataframe thead th {\n",
       "        text-align: right;\n",
       "    }\n",
       "</style>\n",
       "<table border=\"1\" class=\"dataframe\">\n",
       "  <thead>\n",
       "    <tr style=\"text-align: right;\">\n",
       "      <th></th>\n",
       "      <th>location</th>\n",
       "      <th>mapping</th>\n",
       "    </tr>\n",
       "  </thead>\n",
       "  <tbody>\n",
       "    <tr>\n",
       "      <th>0</th>\n",
       "      <td>Beauport</td>\n",
       "      <td>Beauport</td>\n",
       "    </tr>\n",
       "    <tr>\n",
       "      <th>1</th>\n",
       "      <td>Deschambault</td>\n",
       "      <td>Cap-Santé</td>\n",
       "    </tr>\n",
       "    <tr>\n",
       "      <th>2</th>\n",
       "      <td>Hochelaga</td>\n",
       "      <td>Hochelaga-Maisonneuve</td>\n",
       "    </tr>\n",
       "    <tr>\n",
       "      <th>3</th>\n",
       "      <td>Stoneham</td>\n",
       "      <td>Lac-Beauport</td>\n",
       "    </tr>\n",
       "    <tr>\n",
       "      <th>4</th>\n",
       "      <td>Trois-Rivières</td>\n",
       "      <td>Trois-Rivières</td>\n",
       "    </tr>\n",
       "  </tbody>\n",
       "</table>\n",
       "</div>"
      ],
      "text/plain": [
       "         location                mapping\n",
       "0        Beauport               Beauport\n",
       "1    Deschambault              Cap-Santé\n",
       "2       Hochelaga  Hochelaga-Maisonneuve\n",
       "3        Stoneham           Lac-Beauport\n",
       "4  Trois-Rivières         Trois-Rivières"
      ]
     },
     "metadata": {},
     "output_type": "display_data"
    }
   ],
   "source": [
    "location_mapper_df = pd.DataFrame(location_mapper.items(), columns=['location', 'mapping'])\n",
    "location_mapper_df.to_csv('../data/processed/locations/location_mapper.csv', index=False)\n",
    "display(location_mapper_df.head())"
   ]
  },
  {
   "cell_type": "markdown",
   "metadata": {},
   "source": [
    "To .pkl"
   ]
  },
  {
   "cell_type": "code",
   "execution_count": 117,
   "metadata": {},
   "outputs": [],
   "source": [
    "with open('../data/processed/locations/location_mapper.pkl', 'wb') as f:\n",
    "    pickle.dump(location_mapper, f)"
   ]
  }
 ],
 "metadata": {
  "kernelspec": {
   "display_name": "Python 3.10.4 ('venv': venv)",
   "language": "python",
   "name": "python3"
  },
  "language_info": {
   "codemirror_mode": {
    "name": "ipython",
    "version": 3
   },
   "file_extension": ".py",
   "mimetype": "text/x-python",
   "name": "python",
   "nbconvert_exporter": "python",
   "pygments_lexer": "ipython3",
   "version": "3.10.4"
  },
  "orig_nbformat": 4,
  "vscode": {
   "interpreter": {
    "hash": "35baa29fccf03004b73c6d7efa1229fc55fcd4d7e436d14040fdb80c99cecdea"
   }
  }
 },
 "nbformat": 4,
 "nbformat_minor": 2
}
