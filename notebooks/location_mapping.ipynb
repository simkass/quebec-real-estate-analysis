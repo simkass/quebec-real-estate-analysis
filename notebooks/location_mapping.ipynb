{
 "cells": [
  {
   "cell_type": "markdown",
   "metadata": {},
   "source": [
    "# Location Mapping"
   ]
  },
  {
   "cell_type": "code",
   "execution_count": 35,
   "metadata": {},
   "outputs": [],
   "source": [
    "import numpy as np\n",
    "import pandas as pd\n",
    "import pickle\n",
    "\n",
    "import geopandas as gpd\n",
    "from geopy.distance import geodesic\n",
    "from geopy.geocoders import Nominatim\n",
    "from os import path\n",
    "from shapely.geometry import Point\n",
    "from tqdm import tqdm"
   ]
  },
  {
   "cell_type": "code",
   "execution_count": 36,
   "metadata": {},
   "outputs": [],
   "source": [
    "geolocator = Nominatim(user_agent='housing-qc')"
   ]
  },
  {
   "cell_type": "markdown",
   "metadata": {},
   "source": [
    "### Read Data"
   ]
  },
  {
   "cell_type": "code",
   "execution_count": 37,
   "metadata": {},
   "outputs": [],
   "source": [
    "home_df = pd.read_csv('../data/raw/home-listings.csv')\n",
    "condo_df = pd.read_csv('../data/raw/condo-listings.csv')\n",
    "raw_df = pd.concat([home_df, condo_df], axis=0, ignore_index=True)"
   ]
  },
  {
   "cell_type": "code",
   "execution_count": 38,
   "metadata": {},
   "outputs": [],
   "source": [
    "raw_locations = list(raw_df['location'].unique())"
   ]
  },
  {
   "cell_type": "markdown",
   "metadata": {},
   "source": [
    "### Methods"
   ]
  },
  {
   "cell_type": "code",
   "execution_count": 39,
   "metadata": {},
   "outputs": [],
   "source": [
    "def compute_location_coordinates(location: str):\n",
    "    geocode = geolocator.geocode(location + ', QC')\n",
    "    return {'Location': location, 'Latitude': geocode.latitude, 'Longitude': geocode.longitude}"
   ]
  },
  {
   "cell_type": "code",
   "execution_count": 40,
   "metadata": {},
   "outputs": [],
   "source": [
    "def compute_locations_coordinates(locations: list):\n",
    "    location_coordinates = []\n",
    "    unknown_locations = []\n",
    "    for location in tqdm(locations, desc='Finding Location Coordinates'):\n",
    "        try:\n",
    "            coordinates = compute_location_coordinates(location)\n",
    "            location_coordinates.append(coordinates)\n",
    "        except:\n",
    "            unknown_locations.append(location)\n",
    "            print('Unable to find Geocode for: ' + str(location))\n",
    "    return pd.DataFrame(location_coordinates), unknown_locations"
   ]
  },
  {
   "cell_type": "code",
   "execution_count": 41,
   "metadata": {},
   "outputs": [],
   "source": [
    "def compute_coordinates(locations: list, output: str):\n",
    "    if path.exists(output):\n",
    "        unknown_locations = []\n",
    "        coordinates = pd.read_csv(output)\n",
    "    else:\n",
    "        coordinates, unknown_locations = compute_locations_coordinates(locations)\n",
    "        coordinates.to_csv(output, index=False)\n",
    "    \n",
    "    return coordinates, unknown_locations"
   ]
  },
  {
   "cell_type": "code",
   "execution_count": 50,
   "metadata": {},
   "outputs": [],
   "source": [
    "def extract_parent_location(gdf: gpd.GeoDataFrame, contains: list):\n",
    "    gdf['contains'] = contains\n",
    "    parent_location = gdf[gdf[\"contains\"] == True][\"location\"]\n",
    "    if len(parent_location) == 0:\n",
    "        return \"Unknown Location\"\n",
    "    return parent_location.iloc[0]"
   ]
  },
  {
   "cell_type": "markdown",
   "metadata": {},
   "source": [
    "### Format Location Strings"
   ]
  },
  {
   "cell_type": "code",
   "execution_count": 44,
   "metadata": {},
   "outputs": [],
   "source": [
    "raw_locations = [str(i) for i in raw_locations]\n",
    "raw_locations = [location.replace('St-', 'Saint-') for location in raw_locations]\n",
    "raw_locations = [location.replace('Ste-', 'Sainte-') for location in raw_locations]\n",
    "raw_locations = [location.replace('Sts-', 'Saints-') for location in raw_locations]\n",
    "raw_locations = [location.replace('ND-', 'Notre-Dame-') for location in raw_locations]\n",
    "raw_locations = [location.replace('JC', 'Jacques-Cartier') for location in raw_locations]"
   ]
  },
  {
   "cell_type": "code",
   "execution_count": 45,
   "metadata": {},
   "outputs": [],
   "source": [
    "unknown_locations_dict = {\n",
    "    \"Saint-Denis-sur-Mer\": \"Saint-Denis\",\n",
    "    \"Saint-Simon-De-Rimouski\": \"Saint-Simon\",\n",
    "    \"Saint-Guillaume-D'Upton\": \"Saint-Guillaume\",\n",
    "    \"Saint-Joseph-De-Ham-Sud\": \"Ham-Sud\",\n",
    "    \"Saint-Adelphe-De-Champlain\": \"Saint-Adelphe\",\n",
    "    \"Saint-Mathieu-De-Laprairie\": \"Saint-Mathieu\",\n",
    "    \"Saint-Isidore-De-Laprairie\": \"Saint-Isidore\",\n",
    "    \"Saint-Stanislas-De-Champlain\": \"Saint-Denis\",\n",
    "    \"Saint-Sebastien-De-Frontenac\": \"Saint-Sebastien\",\n",
    "    \"Sainte-Francoise-De-Lotbiniere\": \"Saint-Francoise\",\n",
    "    \"Saint-Donat-De-Rimouski\": \"Rimouski\",\n",
    "    \"Sheenboro\": \"Pontiac\",\n",
    "    \"Mercier\": \"Hochelaga\", \n",
    "    \"Mont-Royal\": \"Ville de Mont-Royal\",\n",
    "    \"Rosemont\": \"Rosemont-La Petite-Patrie\",\n",
    "    \"Rivière des Prairies\": \"Rivière-des-Prairies-Pointe-aux-Trembles\",\n",
    "    \"Pointe-Aux-Trembles\": \"Rivière-des-Prairies-Pointe-aux-Trembles\",\n",
    "    \"Côte-des-Neiges\": \"Côte-des-Neiges–Notre-Dame-de-Grâce\"\n",
    "}\n",
    "\n",
    "raw_locations = [x if x not in unknown_locations_dict else unknown_locations_dict[x] for x in raw_locations]"
   ]
  },
  {
   "cell_type": "markdown",
   "metadata": {},
   "source": [
    "### Compute Coordinates"
   ]
  },
  {
   "cell_type": "markdown",
   "metadata": {},
   "source": [
    "Raw Location Coordinates"
   ]
  },
  {
   "cell_type": "code",
   "execution_count": 46,
   "metadata": {},
   "outputs": [
    {
     "name": "stderr",
     "output_type": "stream",
     "text": [
      "Finding Location Coordinates: 100%|██████████| 1170/1170 [09:45<00:00,  2.00it/s]"
     ]
    },
    {
     "name": "stdout",
     "output_type": "stream",
     "text": [
      "All coordinates successfully calculated.\n"
     ]
    },
    {
     "name": "stderr",
     "output_type": "stream",
     "text": [
      "\n"
     ]
    },
    {
     "data": {
      "text/html": [
       "<div>\n",
       "<style scoped>\n",
       "    .dataframe tbody tr th:only-of-type {\n",
       "        vertical-align: middle;\n",
       "    }\n",
       "\n",
       "    .dataframe tbody tr th {\n",
       "        vertical-align: top;\n",
       "    }\n",
       "\n",
       "    .dataframe thead th {\n",
       "        text-align: right;\n",
       "    }\n",
       "</style>\n",
       "<table border=\"1\" class=\"dataframe\">\n",
       "  <thead>\n",
       "    <tr style=\"text-align: right;\">\n",
       "      <th></th>\n",
       "      <th>Location</th>\n",
       "      <th>Latitude</th>\n",
       "      <th>Longitude</th>\n",
       "    </tr>\n",
       "  </thead>\n",
       "  <tbody>\n",
       "    <tr>\n",
       "      <th>0</th>\n",
       "      <td>Beauport</td>\n",
       "      <td>46.907111</td>\n",
       "      <td>-71.212797</td>\n",
       "    </tr>\n",
       "    <tr>\n",
       "      <th>1</th>\n",
       "      <td>Deschambault</td>\n",
       "      <td>46.662647</td>\n",
       "      <td>-71.944288</td>\n",
       "    </tr>\n",
       "    <tr>\n",
       "      <th>2</th>\n",
       "      <td>Hochelaga</td>\n",
       "      <td>45.542133</td>\n",
       "      <td>-73.547630</td>\n",
       "    </tr>\n",
       "    <tr>\n",
       "      <th>3</th>\n",
       "      <td>Stoneham</td>\n",
       "      <td>46.999608</td>\n",
       "      <td>-71.369475</td>\n",
       "    </tr>\n",
       "    <tr>\n",
       "      <th>4</th>\n",
       "      <td>Trois-Rivières</td>\n",
       "      <td>46.371592</td>\n",
       "      <td>-72.600502</td>\n",
       "    </tr>\n",
       "  </tbody>\n",
       "</table>\n",
       "</div>"
      ],
      "text/plain": [
       "         Location   Latitude  Longitude\n",
       "0        Beauport  46.907111 -71.212797\n",
       "1    Deschambault  46.662647 -71.944288\n",
       "2       Hochelaga  45.542133 -73.547630\n",
       "3        Stoneham  46.999608 -71.369475\n",
       "4  Trois-Rivières  46.371592 -72.600502"
      ]
     },
     "execution_count": 46,
     "metadata": {},
     "output_type": "execute_result"
    }
   ],
   "source": [
    "output = '../data/processed/locations/raw-location-coordinates.csv'\n",
    "raw_location_coordinates, unknown_locations = compute_coordinates(locations=raw_locations, output=output)\n",
    "\n",
    "if len(unknown_locations) == 0:\n",
    "    print(\"All coordinates successfully calculated.\")\n",
    "\n",
    "raw_location_coordinates.head()"
   ]
  },
  {
   "cell_type": "markdown",
   "metadata": {},
   "source": [
    "### Map Raw Locations to Bounding Territories"
   ]
  },
  {
   "cell_type": "code",
   "execution_count": 49,
   "metadata": {},
   "outputs": [],
   "source": [
    "polygons_gdf = gpd.read_file('../data/processed/locations/location-polygons.gpkg')"
   ]
  },
  {
   "cell_type": "code",
   "execution_count": 51,
   "metadata": {},
   "outputs": [
    {
     "name": "stderr",
     "output_type": "stream",
     "text": [
      "Building Location Mapper: 100%|██████████| 1170/1170 [00:03<00:00, 386.14it/s]\n"
     ]
    }
   ],
   "source": [
    "location_mapper = {}\n",
    "\n",
    "for _, location in tqdm(raw_location_coordinates.iterrows(), desc=\"Building Location Mapper\", total=raw_location_coordinates.shape[0]):\n",
    "    point = Point(location[\"Longitude\"], location[\"Latitude\"])\n",
    "    contains = polygons_gdf[\"geometry\"].contains(point)\n",
    "    location_mapper[location[\"Location\"]] = extract_parent_location(polygons_gdf.copy(), contains)"
   ]
  },
  {
   "cell_type": "code",
   "execution_count": 52,
   "metadata": {},
   "outputs": [
    {
     "data": {
      "text/html": [
       "<div>\n",
       "<style scoped>\n",
       "    .dataframe tbody tr th:only-of-type {\n",
       "        vertical-align: middle;\n",
       "    }\n",
       "\n",
       "    .dataframe tbody tr th {\n",
       "        vertical-align: top;\n",
       "    }\n",
       "\n",
       "    .dataframe thead th {\n",
       "        text-align: right;\n",
       "    }\n",
       "</style>\n",
       "<table border=\"1\" class=\"dataframe\">\n",
       "  <thead>\n",
       "    <tr style=\"text-align: right;\">\n",
       "      <th></th>\n",
       "      <th>location</th>\n",
       "      <th>mapping</th>\n",
       "    </tr>\n",
       "  </thead>\n",
       "  <tbody>\n",
       "    <tr>\n",
       "      <th>0</th>\n",
       "      <td>Beauport</td>\n",
       "      <td>Beauport</td>\n",
       "    </tr>\n",
       "    <tr>\n",
       "      <th>1</th>\n",
       "      <td>Deschambault</td>\n",
       "      <td>Portneuf</td>\n",
       "    </tr>\n",
       "    <tr>\n",
       "      <th>2</th>\n",
       "      <td>Hochelaga</td>\n",
       "      <td>Mercier-Hochelaga-Maisonneuve</td>\n",
       "    </tr>\n",
       "    <tr>\n",
       "      <th>3</th>\n",
       "      <td>Stoneham</td>\n",
       "      <td>La Jacques-Cartier</td>\n",
       "    </tr>\n",
       "    <tr>\n",
       "      <th>4</th>\n",
       "      <td>Trois-Rivières</td>\n",
       "      <td>Trois-Rivières</td>\n",
       "    </tr>\n",
       "  </tbody>\n",
       "</table>\n",
       "</div>"
      ],
      "text/plain": [
       "         location                        mapping\n",
       "0        Beauport                       Beauport\n",
       "1    Deschambault                       Portneuf\n",
       "2       Hochelaga  Mercier-Hochelaga-Maisonneuve\n",
       "3        Stoneham             La Jacques-Cartier\n",
       "4  Trois-Rivières                 Trois-Rivières"
      ]
     },
     "metadata": {},
     "output_type": "display_data"
    }
   ],
   "source": [
    "location_mapper_df = pd.DataFrame(location_mapper.items(), columns=['location', 'mapping'])\n",
    "location_mapper_df.to_csv('../data/processed/locations/location-mapper.csv', index=False)\n",
    "display(location_mapper_df.head())"
   ]
  },
  {
   "cell_type": "code",
   "execution_count": 53,
   "metadata": {},
   "outputs": [],
   "source": [
    "with open('../data/processed/locations/location-mapper.pkl', 'wb') as f:\n",
    "    pickle.dump(location_mapper, f)"
   ]
  }
 ],
 "metadata": {
  "kernelspec": {
   "display_name": "Python 3.10.4 ('venv': venv)",
   "language": "python",
   "name": "python3"
  },
  "language_info": {
   "codemirror_mode": {
    "name": "ipython",
    "version": 3
   },
   "file_extension": ".py",
   "mimetype": "text/x-python",
   "name": "python",
   "nbconvert_exporter": "python",
   "pygments_lexer": "ipython3",
   "version": "3.10.4"
  },
  "orig_nbformat": 4,
  "vscode": {
   "interpreter": {
    "hash": "35baa29fccf03004b73c6d7efa1229fc55fcd4d7e436d14040fdb80c99cecdea"
   }
  }
 },
 "nbformat": 4,
 "nbformat_minor": 2
}
