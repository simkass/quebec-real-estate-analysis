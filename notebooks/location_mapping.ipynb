{
 "cells": [
  {
   "cell_type": "markdown",
   "metadata": {},
   "source": [
    "# Location Mapping\n",
    "The raw data contains over a thousand different locations, a lot of them with very low occurrences. This can considerably reduce the quality of our model. We must filter our locations carefully without reducing the size of our dataset. To do so, we will associate every location to its closest population center.\n",
    "\\\n",
    "\\\n",
    "This notebook goes through all location values and maps them to their closest population center. Population centers are defined as either:\n",
    "\\\n",
    "\\\n",
    "Regions\n",
    "- Quebec Administrative Regions (Estrie, Outaouais, Montérégie etc.)"
   ]
  },
  {
   "cell_type": "code",
   "execution_count": 151,
   "metadata": {},
   "outputs": [],
   "source": [
    "import numpy as np\n",
    "import pandas as pd\n",
    "\n",
    "from geopy.distance import geodesic\n",
    "from geopy.location import Location\n",
    "from geopy.geocoders import Nominatim\n",
    "from tqdm import tqdm\n",
    "\n",
    "from IPython.display import display"
   ]
  },
  {
   "cell_type": "markdown",
   "metadata": {},
   "source": [
    "## Useful Methods & Resources"
   ]
  },
  {
   "cell_type": "code",
   "execution_count": 137,
   "metadata": {},
   "outputs": [],
   "source": [
    "geolocator = Nominatim(user_agent='housing-qc')"
   ]
  },
  {
   "cell_type": "code",
   "execution_count": 138,
   "metadata": {},
   "outputs": [],
   "source": [
    "def find_coordinates(locations):\n",
    "    location_dict = []\n",
    "    unknown_locations = []\n",
    "\n",
    "    for location in tqdm(locations):\n",
    "        try:\n",
    "            geocode = geolocator.geocode(location + ', QC')\n",
    "        except:\n",
    "            geocode = None\n",
    "        \n",
    "        if geocode is None:\n",
    "            unknown_locations.append(location)\n",
    "            print(location + ' is an unknown location')\n",
    "        else:\n",
    "            location_dict.append({'Name': location, 'Latitude': geocode.latitude, 'Longitude': geocode.longitude})\n",
    "\n",
    "    return pd.DataFrame(location_dict), unknown_locations"
   ]
  },
  {
   "cell_type": "code",
   "execution_count": 139,
   "metadata": {},
   "outputs": [],
   "source": [
    "# Dictionnary for unknown locations\n",
    "unknown_locations_dict = {}\n",
    "unknown_locations_dict[\"L'Ile Des Soeurs\"] = \"Ile des soeurs\"\n",
    "unknown_locations_dict[\"St-Joseph-De-Ham-Sud\"] = \"Ham-Sud\"\n",
    "unknown_locations_dict[\"St-Mathieu-De-Laprairie\"] = \"Saint-Mathieu\"\n",
    "unknown_locations_dict[\"St-Denis-sur-Mer\"] = \"Saint-Denis\"\n",
    "unknown_locations_dict[\"St-Isidore-De-Laprairie\"] = \"Saint-Isidore\"\n",
    "unknown_locations_dict[\"St-Stanislas-De-Champlain\"] = \"Saint-Denis\"\n",
    "unknown_locations_dict[\"St-Sebastien-De-Frontenac\"] = \"Saint-Sebastien\"\n",
    "unknown_locations_dict[\"St-Simon-De-Rimouski\"] = \"Saint-Simon\"\n",
    "unknown_locations_dict[\"Ste-Francoise-De-Lotbiniere\"] = \"Saint-Francoise\"\n",
    "unknown_locations_dict[\"St-Guillaume-D'Upton\"] = \"Saint-Guillaume\"\n",
    "unknown_locations_dict[\"St-Adelphe-De-Champlain\"] = \"Saint-Adelphe\""
   ]
  },
  {
   "cell_type": "code",
   "execution_count": 140,
   "metadata": {},
   "outputs": [],
   "source": [
    "def fix_unknown_location(unknown_location: str):\n",
    "    if unknown_location in unknown_locations_dict.keys():\n",
    "        return unknown_locations_dict[unknown_location]\n",
    "    elif \"ND-\" in unknown_location:\n",
    "        return unknown_location.replace(\"ND-\", \"Notre-Dame-\")\n",
    "    elif \"JC\" in unknown_location:\n",
    "        return unknown_location.replace(\"JC\", \"Jacques-Cartier\")\n",
    "    elif \"St-\" in unknown_location:\n",
    "        return unknown_location.replace(\"St-\", \"Saint-\")\n",
    "    elif \"Ste-\" in unknown_location:\n",
    "        return unknown_location.replace(\"Ste-\", \"Sainte-\")\n",
    "    elif \"Sts-\" in unknown_location:\n",
    "        return unknown_location.replace(\"Sts-\", \"Saints-\")\n",
    "    else:\n",
    "        return unknown_location"
   ]
  },
  {
   "cell_type": "markdown",
   "metadata": {},
   "source": [
    "## Raw Locations"
   ]
  },
  {
   "cell_type": "markdown",
   "metadata": {},
   "source": [
    "### Get Locations from Raw Listings"
   ]
  },
  {
   "cell_type": "code",
   "execution_count": 141,
   "metadata": {},
   "outputs": [
    {
     "name": "stdout",
     "output_type": "stream",
     "text": [
      "Raw Locations: Gatineau, Trois-Rivières, Beauport etc.\n"
     ]
    }
   ],
   "source": [
    "home_df = pd.read_csv('../data/raw/home_listings.csv')\n",
    "condo_df = pd.read_csv('../data/raw/condo_listings.csv')\n",
    "raw_df = pd.concat([home_df, condo_df], axis=0, ignore_index=True)\n",
    "\n",
    "raw_locations = list(raw_df['location'].value_counts().to_dict().keys())\n",
    "print('Raw Locations: ' + str(raw_locations[0]) + ', ' + str(raw_locations[1]) + ', ' + str(raw_locations[2]) + ' etc.')"
   ]
  },
  {
   "cell_type": "markdown",
   "metadata": {},
   "source": [
    "### Get Raw Locations Coordinates"
   ]
  },
  {
   "cell_type": "code",
   "execution_count": 142,
   "metadata": {},
   "outputs": [
    {
     "name": "stderr",
     "output_type": "stream",
     "text": [
      " 10%|▉         | 113/1167 [00:57<12:15,  1.43it/s]"
     ]
    },
    {
     "name": "stdout",
     "output_type": "stream",
     "text": [
      "Ste-Catherine-de-la-JC is an unknown location\n"
     ]
    },
    {
     "name": "stderr",
     "output_type": "stream",
     "text": [
      " 17%|█▋        | 195/1167 [01:38<08:33,  1.89it/s]"
     ]
    },
    {
     "name": "stdout",
     "output_type": "stream",
     "text": [
      "ND-De-L'Ile-Perrot is an unknown location\n"
     ]
    },
    {
     "name": "stderr",
     "output_type": "stream",
     "text": [
      " 26%|██▋       | 307/1167 [02:34<07:25,  1.93it/s]"
     ]
    },
    {
     "name": "stdout",
     "output_type": "stream",
     "text": [
      "St-Mathieu-De-Laprairie is an unknown location\n"
     ]
    },
    {
     "name": "stderr",
     "output_type": "stream",
     "text": [
      " 32%|███▏      | 369/1167 [03:05<06:51,  1.94it/s]"
     ]
    },
    {
     "name": "stdout",
     "output_type": "stream",
     "text": [
      "St-Isidore-De-Laprairie is an unknown location\n"
     ]
    },
    {
     "name": "stderr",
     "output_type": "stream",
     "text": [
      " 42%|████▏     | 489/1167 [04:06<05:47,  1.95it/s]"
     ]
    },
    {
     "name": "stdout",
     "output_type": "stream",
     "text": [
      "St-Magloire-De-Bellechasse is an unknown location\n"
     ]
    },
    {
     "name": "stderr",
     "output_type": "stream",
     "text": [
      " 42%|████▏     | 494/1167 [04:08<05:34,  2.01it/s]"
     ]
    },
    {
     "name": "stdout",
     "output_type": "stream",
     "text": [
      "Sts-Anges is an unknown location\n"
     ]
    },
    {
     "name": "stderr",
     "output_type": "stream",
     "text": [
      " 45%|████▍     | 522/1167 [04:23<05:42,  1.88it/s]"
     ]
    },
    {
     "name": "stdout",
     "output_type": "stream",
     "text": [
      "ND-De-La-Merci is an unknown location\n"
     ]
    },
    {
     "name": "stderr",
     "output_type": "stream",
     "text": [
      " 52%|█████▏    | 609/1167 [05:06<04:55,  1.89it/s]"
     ]
    },
    {
     "name": "stdout",
     "output_type": "stream",
     "text": [
      "St-Donat-De-Rimouski is an unknown location\n"
     ]
    },
    {
     "name": "stderr",
     "output_type": "stream",
     "text": [
      " 57%|█████▋    | 671/1167 [05:37<04:38,  1.78it/s]"
     ]
    },
    {
     "name": "stdout",
     "output_type": "stream",
     "text": [
      "ND-De-La-Salette is an unknown location\n"
     ]
    },
    {
     "name": "stderr",
     "output_type": "stream",
     "text": [
      " 58%|█████▊    | 673/1167 [05:38<04:18,  1.91it/s]"
     ]
    },
    {
     "name": "stdout",
     "output_type": "stream",
     "text": [
      "St-Stanislas-De-Champlain is an unknown location\n"
     ]
    },
    {
     "name": "stderr",
     "output_type": "stream",
     "text": [
      " 60%|█████▉    | 700/1167 [05:52<04:09,  1.87it/s]"
     ]
    },
    {
     "name": "stdout",
     "output_type": "stream",
     "text": [
      "St-Sebastien-De-Frontenac is an unknown location\n"
     ]
    },
    {
     "name": "stderr",
     "output_type": "stream",
     "text": [
      " 60%|██████    | 703/1167 [05:53<03:34,  2.16it/s]"
     ]
    },
    {
     "name": "stdout",
     "output_type": "stream",
     "text": [
      "ND-De-Montauban is an unknown location\n"
     ]
    },
    {
     "name": "stderr",
     "output_type": "stream",
     "text": [
      " 66%|██████▌   | 765/1167 [06:24<03:36,  1.85it/s]"
     ]
    },
    {
     "name": "stdout",
     "output_type": "stream",
     "text": [
      "St-Marcel-De-L'Islet is an unknown location\n"
     ]
    },
    {
     "name": "stderr",
     "output_type": "stream",
     "text": [
      " 70%|███████   | 817/1167 [06:51<04:07,  1.41it/s]"
     ]
    },
    {
     "name": "stdout",
     "output_type": "stream",
     "text": [
      "St-Joseph-De-Ham-Sud is an unknown location\n"
     ]
    },
    {
     "name": "stderr",
     "output_type": "stream",
     "text": [
      " 71%|███████   | 829/1167 [07:00<07:45,  1.38s/it]"
     ]
    },
    {
     "name": "stdout",
     "output_type": "stream",
     "text": [
      "ND-Du-Lac is an unknown location\n"
     ]
    },
    {
     "name": "stderr",
     "output_type": "stream",
     "text": [
      " 76%|███████▌  | 883/1167 [07:27<02:43,  1.73it/s]"
     ]
    },
    {
     "name": "stdout",
     "output_type": "stream",
     "text": [
      "ND-De-La-Paix is an unknown location\n"
     ]
    },
    {
     "name": "stderr",
     "output_type": "stream",
     "text": [
      " 77%|███████▋  | 893/1167 [07:32<02:20,  1.94it/s]"
     ]
    },
    {
     "name": "stdout",
     "output_type": "stream",
     "text": [
      "Ste-Francoise-De-Lotbiniere is an unknown location\n"
     ]
    },
    {
     "name": "stderr",
     "output_type": "stream",
     "text": [
      " 77%|███████▋  | 896/1167 [07:33<02:17,  1.97it/s]"
     ]
    },
    {
     "name": "stdout",
     "output_type": "stream",
     "text": [
      "St-Simon-De-Rimouski is an unknown location\n"
     ]
    },
    {
     "name": "stderr",
     "output_type": "stream",
     "text": [
      " 77%|███████▋  | 904/1167 [07:41<06:07,  1.40s/it]"
     ]
    },
    {
     "name": "stdout",
     "output_type": "stream",
     "text": [
      "ND-De-Ham is an unknown location\n"
     ]
    },
    {
     "name": "stderr",
     "output_type": "stream",
     "text": [
      " 86%|████████▌ | 1005/1167 [08:32<01:16,  2.13it/s]"
     ]
    },
    {
     "name": "stdout",
     "output_type": "stream",
     "text": [
      "St-Guillaume-D'Upton is an unknown location\n"
     ]
    },
    {
     "name": "stderr",
     "output_type": "stream",
     "text": [
      " 88%|████████▊ | 1030/1167 [08:44<01:11,  1.93it/s]"
     ]
    },
    {
     "name": "stdout",
     "output_type": "stream",
     "text": [
      "ND-De-Stanbridge is an unknown location\n"
     ]
    },
    {
     "name": "stderr",
     "output_type": "stream",
     "text": [
      " 90%|█████████ | 1051/1167 [08:55<01:00,  1.93it/s]"
     ]
    },
    {
     "name": "stdout",
     "output_type": "stream",
     "text": [
      "St-Adelphe-De-Champlain is an unknown location\n"
     ]
    },
    {
     "name": "stderr",
     "output_type": "stream",
     "text": [
      " 93%|█████████▎| 1089/1167 [09:14<00:41,  1.89it/s]"
     ]
    },
    {
     "name": "stdout",
     "output_type": "stream",
     "text": [
      "St-Severin-De-Beauce is an unknown location\n"
     ]
    },
    {
     "name": "stderr",
     "output_type": "stream",
     "text": [
      " 95%|█████████▌| 1113/1167 [09:26<00:25,  2.14it/s]"
     ]
    },
    {
     "name": "stdout",
     "output_type": "stream",
     "text": [
      "St-Denis-sur-Mer is an unknown location\n"
     ]
    },
    {
     "name": "stderr",
     "output_type": "stream",
     "text": [
      " 99%|█████████▉| 1158/1167 [09:48<00:04,  1.90it/s]"
     ]
    },
    {
     "name": "stdout",
     "output_type": "stream",
     "text": [
      "ND-De-Bonsecours is an unknown location\n"
     ]
    },
    {
     "name": "stderr",
     "output_type": "stream",
     "text": [
      "100%|██████████| 1167/1167 [09:53<00:00,  1.97it/s]\n"
     ]
    }
   ],
   "source": [
    "raw_location_coordinates, unknown_locations = find_coordinates(raw_locations)"
   ]
  },
  {
   "cell_type": "markdown",
   "metadata": {},
   "source": [
    "### Format Unknown Locations"
   ]
  },
  {
   "cell_type": "code",
   "execution_count": 143,
   "metadata": {},
   "outputs": [
    {
     "name": "stderr",
     "output_type": "stream",
     "text": [
      "100%|██████████| 25/25 [00:12<00:00,  2.01it/s]\n"
     ]
    }
   ],
   "source": [
    "fixed_locations = list(map(fix_unknown_location, unknown_locations))\n",
    "unknown_locations_mapper = {fixed_locations[i]: unknown_locations[i] for i in range(len(unknown_locations))}\n",
    "\n",
    "raw_location_coordinates2, unknown_locations2 = find_coordinates(fixed_locations)\n",
    "if len(unknown_locations2) == 0:\n",
    "    raw_location_coordinates2 = { unknown_locations_mapper.get(k, k): v for k, v in raw_location_coordinates2.items() }\n",
    "    raw_location_coordinates.update(raw_location_coordinates2)"
   ]
  },
  {
   "cell_type": "markdown",
   "metadata": {},
   "source": [
    "### Save Final Raw Locations Coordinates"
   ]
  },
  {
   "cell_type": "code",
   "execution_count": 145,
   "metadata": {},
   "outputs": [
    {
     "data": {
      "text/html": [
       "<div>\n",
       "<style scoped>\n",
       "    .dataframe tbody tr th:only-of-type {\n",
       "        vertical-align: middle;\n",
       "    }\n",
       "\n",
       "    .dataframe tbody tr th {\n",
       "        vertical-align: top;\n",
       "    }\n",
       "\n",
       "    .dataframe thead th {\n",
       "        text-align: right;\n",
       "    }\n",
       "</style>\n",
       "<table border=\"1\" class=\"dataframe\">\n",
       "  <thead>\n",
       "    <tr style=\"text-align: right;\">\n",
       "      <th></th>\n",
       "      <th>Name</th>\n",
       "      <th>Latitude</th>\n",
       "      <th>Longitude</th>\n",
       "    </tr>\n",
       "  </thead>\n",
       "  <tbody>\n",
       "    <tr>\n",
       "      <th>0</th>\n",
       "      <td>Ste-Catherine-de-la-Jacques-Cartier</td>\n",
       "      <td>46.844381</td>\n",
       "      <td>-71.615023</td>\n",
       "    </tr>\n",
       "    <tr>\n",
       "      <th>1</th>\n",
       "      <td>Notre-Dame-De-L'Ile-Perrot</td>\n",
       "      <td>45.351663</td>\n",
       "      <td>-73.902969</td>\n",
       "    </tr>\n",
       "    <tr>\n",
       "      <th>2</th>\n",
       "      <td>Saint-Mathieu</td>\n",
       "      <td>45.312563</td>\n",
       "      <td>-73.518448</td>\n",
       "    </tr>\n",
       "    <tr>\n",
       "      <th>3</th>\n",
       "      <td>Saint-Isidore</td>\n",
       "      <td>46.585058</td>\n",
       "      <td>-71.090469</td>\n",
       "    </tr>\n",
       "    <tr>\n",
       "      <th>4</th>\n",
       "      <td>Saint-Magloire-De-Bellechasse</td>\n",
       "      <td>46.592524</td>\n",
       "      <td>-70.440777</td>\n",
       "    </tr>\n",
       "  </tbody>\n",
       "</table>\n",
       "</div>"
      ],
      "text/plain": [
       "                                  Name   Latitude  Longitude\n",
       "0  Ste-Catherine-de-la-Jacques-Cartier  46.844381 -71.615023\n",
       "1           Notre-Dame-De-L'Ile-Perrot  45.351663 -73.902969\n",
       "2                        Saint-Mathieu  45.312563 -73.518448\n",
       "3                        Saint-Isidore  46.585058 -71.090469\n",
       "4        Saint-Magloire-De-Bellechasse  46.592524 -70.440777"
      ]
     },
     "execution_count": 145,
     "metadata": {},
     "output_type": "execute_result"
    }
   ],
   "source": [
    "raw_location_coordinates.to_csv('../data/processed/raw_location_coordinates.csv')\n",
    "raw_location_coordinates.head()"
   ]
  },
  {
   "cell_type": "markdown",
   "metadata": {},
   "source": [
    "## Regions"
   ]
  },
  {
   "cell_type": "code",
   "execution_count": 146,
   "metadata": {},
   "outputs": [
    {
     "data": {
      "text/html": [
       "<div>\n",
       "<style scoped>\n",
       "    .dataframe tbody tr th:only-of-type {\n",
       "        vertical-align: middle;\n",
       "    }\n",
       "\n",
       "    .dataframe tbody tr th {\n",
       "        vertical-align: top;\n",
       "    }\n",
       "\n",
       "    .dataframe thead th {\n",
       "        text-align: right;\n",
       "    }\n",
       "</style>\n",
       "<table border=\"1\" class=\"dataframe\">\n",
       "  <thead>\n",
       "    <tr style=\"text-align: right;\">\n",
       "      <th></th>\n",
       "      <th>City</th>\n",
       "      <th>Region</th>\n",
       "    </tr>\n",
       "  </thead>\n",
       "  <tbody>\n",
       "    <tr>\n",
       "      <th>0</th>\n",
       "      <td>Rimouski</td>\n",
       "      <td>Bas-Saint-Laurent</td>\n",
       "    </tr>\n",
       "    <tr>\n",
       "      <th>1</th>\n",
       "      <td>Rivière-du-Loup</td>\n",
       "      <td>Bas-Saint-Laurent</td>\n",
       "    </tr>\n",
       "    <tr>\n",
       "      <th>2</th>\n",
       "      <td>Matane</td>\n",
       "      <td>Bas-Saint-Laurent</td>\n",
       "    </tr>\n",
       "    <tr>\n",
       "      <th>3</th>\n",
       "      <td>Alma</td>\n",
       "      <td>Saguenay-Lac-Saint-Jean</td>\n",
       "    </tr>\n",
       "    <tr>\n",
       "      <th>4</th>\n",
       "      <td>Saguenay</td>\n",
       "      <td>Saguenay-Lac-Saint-Jean</td>\n",
       "    </tr>\n",
       "  </tbody>\n",
       "</table>\n",
       "</div>"
      ],
      "text/plain": [
       "              City                   Region\n",
       "0         Rimouski        Bas-Saint-Laurent\n",
       "1  Rivière-du-Loup        Bas-Saint-Laurent\n",
       "2           Matane        Bas-Saint-Laurent\n",
       "3             Alma  Saguenay-Lac-Saint-Jean\n",
       "4         Saguenay  Saguenay-Lac-Saint-Jean"
      ]
     },
     "metadata": {},
     "output_type": "display_data"
    }
   ],
   "source": [
    "regions_df = pd.read_csv('../data/references/qc-administrative-regions.csv')\n",
    "regions = dict(zip(regions_df['City'], regions_df['Region']))\n",
    "\n",
    "display(regions_df.head())"
   ]
  },
  {
   "cell_type": "markdown",
   "metadata": {},
   "source": [
    "### Get Region City Coordinates"
   ]
  },
  {
   "cell_type": "code",
   "execution_count": 148,
   "metadata": {},
   "outputs": [
    {
     "name": "stderr",
     "output_type": "stream",
     "text": [
      "100%|██████████| 40/40 [00:19<00:00,  2.02it/s]\n"
     ]
    },
    {
     "data": {
      "text/html": [
       "<div>\n",
       "<style scoped>\n",
       "    .dataframe tbody tr th:only-of-type {\n",
       "        vertical-align: middle;\n",
       "    }\n",
       "\n",
       "    .dataframe tbody tr th {\n",
       "        vertical-align: top;\n",
       "    }\n",
       "\n",
       "    .dataframe thead th {\n",
       "        text-align: right;\n",
       "    }\n",
       "</style>\n",
       "<table border=\"1\" class=\"dataframe\">\n",
       "  <thead>\n",
       "    <tr style=\"text-align: right;\">\n",
       "      <th></th>\n",
       "      <th>Name</th>\n",
       "      <th>Latitude</th>\n",
       "      <th>Longitude</th>\n",
       "    </tr>\n",
       "  </thead>\n",
       "  <tbody>\n",
       "    <tr>\n",
       "      <th>0</th>\n",
       "      <td>Rimouski</td>\n",
       "      <td>48.450155</td>\n",
       "      <td>-68.529968</td>\n",
       "    </tr>\n",
       "    <tr>\n",
       "      <th>1</th>\n",
       "      <td>Rivière-du-Loup</td>\n",
       "      <td>47.835816</td>\n",
       "      <td>-69.536802</td>\n",
       "    </tr>\n",
       "    <tr>\n",
       "      <th>2</th>\n",
       "      <td>Matane</td>\n",
       "      <td>48.846877</td>\n",
       "      <td>-67.529550</td>\n",
       "    </tr>\n",
       "    <tr>\n",
       "      <th>3</th>\n",
       "      <td>Alma</td>\n",
       "      <td>48.548887</td>\n",
       "      <td>-71.651459</td>\n",
       "    </tr>\n",
       "    <tr>\n",
       "      <th>4</th>\n",
       "      <td>Saguenay</td>\n",
       "      <td>48.405959</td>\n",
       "      <td>-71.069183</td>\n",
       "    </tr>\n",
       "  </tbody>\n",
       "</table>\n",
       "</div>"
      ],
      "text/plain": [
       "              Name   Latitude  Longitude\n",
       "0         Rimouski  48.450155 -68.529968\n",
       "1  Rivière-du-Loup  47.835816 -69.536802\n",
       "2           Matane  48.846877 -67.529550\n",
       "3             Alma  48.548887 -71.651459\n",
       "4         Saguenay  48.405959 -71.069183"
      ]
     },
     "execution_count": 148,
     "metadata": {},
     "output_type": "execute_result"
    }
   ],
   "source": [
    "region_city_coordinates, unknown_cities = find_coordinates(regions.keys())\n",
    "\n",
    "region_city_coordinates.to_csv('../data/processed/region_city_coordinates.csv')\n",
    "region_city_coordinates.head()"
   ]
  },
  {
   "cell_type": "code",
   "execution_count": null,
   "metadata": {},
   "outputs": [],
   "source": [
    "def find_closest_location(latitude, longitude, locations: pd.DataFrame):\n",
    "    distances = []\n",
    "\n",
    "    for _, location in locations.iterrows():\n",
    "        distances.append(geodesic((latitude, longitude), (location['Latitude'], location['Longitude'])))\n",
    "\n",
    "    return locations.iloc[np.argmin(distances)]['Name']"
   ]
  },
  {
   "cell_type": "code",
   "execution_count": null,
   "metadata": {},
   "outputs": [],
   "source": [
    "def build_location_mapper(locations: pd.DataFrame, reference_locations: pd.DataFrame):\n",
    "    location_mapper = {}\n",
    "    \n",
    "    for _, location in locations.iterrows:\n",
    "        closest_location = find_closest_location(location['Latitude'], location['Longitude'], reference_locations)\n",
    "        location_mapper[location] = closest_location\n",
    "        \n",
    "    return location_mapper"
   ]
  }
 ],
 "metadata": {
  "interpreter": {
   "hash": "de57d745cc4195420c092bc73c67e3cc216dbe9ee5edc75dcb326eb98fc6a359"
  },
  "kernelspec": {
   "display_name": "Python 3.10.4 ('venv': venv)",
   "language": "python",
   "name": "python3"
  },
  "language_info": {
   "codemirror_mode": {
    "name": "ipython",
    "version": 3
   },
   "file_extension": ".py",
   "mimetype": "text/x-python",
   "name": "python",
   "nbconvert_exporter": "python",
   "pygments_lexer": "ipython3",
   "version": "3.10.4"
  },
  "orig_nbformat": 4
 },
 "nbformat": 4,
 "nbformat_minor": 2
}
