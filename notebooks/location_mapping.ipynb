{
 "cells": [
  {
   "cell_type": "markdown",
   "metadata": {},
   "source": [
    "# Location Mapping"
   ]
  },
  {
   "cell_type": "markdown",
   "metadata": {},
   "source": [
    "The raw data contains over a thousand different locations, a lot of them with very low occurrences. This can considerably reduce the quality of our model. We must filter our locations carefully without reducing the size of our dataset. To do so, we will associate every location to its closest population center. \n",
    "\\\n",
    "\\\n",
    "To do so, we must define a list of population centers. Those are regions with large populations therefore increasing the number of possible listings for that specific location. In high density regions such as Montreal, a population center can be as small as borough (e.g. Plateau Mont-Royal ~10 000 listings). In medium density regions, we will typically choose a city (e.g. Granby ~10 000 listings). In low density regions, we might pick a full region! (e.g. Gaspésie ~1000 listings)\n",
    "\\\n",
    "\\\n",
    "I handmade the final list of population centers by listing all boroughs, cities and regions with a population of more than 5000. I tried multiple lists found on wikipedia and other places, sometimes with my own little tweaks. In the end, I found that my handmade list gave the best results.\n",
    "\\\n",
    "\\\n",
    "Here's how the list is built:\n",
    "1. Rows 1 to 20: Montreal Boroughs\n",
    "2. Rows 21 to 29: Cities on the island of Montreal (e.g. Kirkland, Dorval etc.)\n",
    "3. Rows 30 to 44: Laval Boroughs \n",
    "4. Rows 45 to 82: Major cities in Montérégie (e.g. Brossard, Saint-Jean, Granby etc.)\n",
    "5. Rows 83 to 92: Major Cities in Laurentides (e.g. Mirabel, Blainville etc.)\n",
    "6. Rows 93 to 97: Major cities in Lanaudière (e.g. Joliette, Terrebonne etc.)\n",
    "7. Rows 98 to 101: Major cities in Chaudières Appalaches (e.g. Lévis, Saint-Georges etc.)\n",
    "8. Rows 102 to 105: Major cities in Estrie (e.g. Sherbrooke, Magog etc.)\n",
    "9. Rows 106 to 110: Major cities in Saguenay (e.g. Alma, Chicoutimi etc.)\n",
    "10. Rows 111 to 116: Major cities in Capitale-Nationale (e.g. Quebec City, Portneuf etc.)\n",
    "11. Rows 117 to 135: Major cities in Outaouais, Mauricie, Centre du Québec, Bas-Saint-Laurent, Abitibi-Temiscamingue, Gaspésie and Côte Nord"
   ]
  },
  {
   "cell_type": "markdown",
   "metadata": {},
   "source": [
    "### Imports"
   ]
  },
  {
   "cell_type": "code",
   "execution_count": 11,
   "metadata": {},
   "outputs": [],
   "source": [
    "import numpy as np\n",
    "import pandas as pd\n",
    "import pickle\n",
    "\n",
    "from geopy.distance import geodesic\n",
    "from geopy.geocoders import Nominatim\n",
    "from tqdm import tqdm\n",
    "from os import path"
   ]
  },
  {
   "cell_type": "markdown",
   "metadata": {},
   "source": [
    "### Methods & Resources"
   ]
  },
  {
   "cell_type": "code",
   "execution_count": 12,
   "metadata": {},
   "outputs": [],
   "source": [
    "geolocator = Nominatim(user_agent='housing-qc')"
   ]
  },
  {
   "cell_type": "code",
   "execution_count": 13,
   "metadata": {},
   "outputs": [],
   "source": [
    "# Find geographical coordinates of all locations in given list.\n",
    "def compute_coordinates(locations: list):\n",
    "    location_dict = []\n",
    "    unknown_locations = []\n",
    "\n",
    "    for location in tqdm(locations, desc='Finding Location Coordinates'):\n",
    "        # Try to get geocode, None if error occurs.\n",
    "        try:\n",
    "            geocode = geolocator.geocode(location + ', QC')\n",
    "        except:\n",
    "            geocode = None\n",
    "        \n",
    "        if geocode is None:\n",
    "            unknown_locations.append(location)\n",
    "            print(location + ' is an unknown location')\n",
    "        else:\n",
    "            location_dict.append({'Name': location, 'Latitude': geocode.latitude, 'Longitude': geocode.longitude})\n",
    "\n",
    "    return pd.DataFrame(location_dict), unknown_locations"
   ]
  },
  {
   "cell_type": "code",
   "execution_count": 14,
   "metadata": {},
   "outputs": [],
   "source": [
    "def compute_list_coordinates(locations: list, output: str):\n",
    "    if path.exists(output):\n",
    "        unknown_locations = []\n",
    "        coordinates = pd.read_csv(output)\n",
    "    else:\n",
    "        coordinates, unknown_locations = compute_coordinates(locations)\n",
    "        coordinates.to_csv(output, index=False)\n",
    "    \n",
    "    return coordinates, unknown_locations"
   ]
  },
  {
   "cell_type": "code",
   "execution_count": 15,
   "metadata": {},
   "outputs": [],
   "source": [
    "# Given geographical latitude and longitude, find the closest location in the given list.\n",
    "def find_closest_location(latitude: float, longitude: float, locations: pd.DataFrame):\n",
    "    distances = []\n",
    "\n",
    "    for _, location in locations.iterrows():\n",
    "        distances.append(geodesic((latitude, longitude), (location['Latitude'], location['Longitude'])))\n",
    "\n",
    "    return locations.iloc[np.argmin(distances)]['Name']"
   ]
  },
  {
   "cell_type": "code",
   "execution_count": 16,
   "metadata": {},
   "outputs": [],
   "source": [
    "# Map all locations to a reference location based on closest distance.\n",
    "def build_location_mapper(locations: pd.DataFrame, reference_locations: pd.DataFrame):\n",
    "    location_mapper = {}\n",
    "    \n",
    "    for _, location in tqdm(locations.iterrows(), desc=\"Building Location Mapper\", total=locations.shape[0]):\n",
    "        closest_location = find_closest_location(location['Latitude'], location['Longitude'], reference_locations)\n",
    "        location_mapper[location['Name']] = closest_location\n",
    "        \n",
    "    return location_mapper"
   ]
  },
  {
   "cell_type": "markdown",
   "metadata": {},
   "source": [
    "### Read Data"
   ]
  },
  {
   "cell_type": "markdown",
   "metadata": {},
   "source": [
    "Read unique raw locations"
   ]
  },
  {
   "cell_type": "code",
   "execution_count": 17,
   "metadata": {},
   "outputs": [],
   "source": [
    "home_df = pd.read_csv('../data/raw/home_listings.csv')\n",
    "condo_df = pd.read_csv('../data/raw/condo_listings.csv')\n",
    "raw_df = pd.concat([home_df, condo_df], axis=0, ignore_index=True)"
   ]
  },
  {
   "cell_type": "code",
   "execution_count": 18,
   "metadata": {},
   "outputs": [
    {
     "name": "stdout",
     "output_type": "stream",
     "text": [
      "Raw Locations: Beauport, Deschambault, Mercier etc.\n"
     ]
    }
   ],
   "source": [
    "locations = list(raw_df['location'].unique())\n",
    "print('Raw Locations: ' + str(locations[0]) + ', ' + str(locations[1]) + ', ' + str(locations[2]) + ' etc.')"
   ]
  },
  {
   "cell_type": "markdown",
   "metadata": {},
   "source": [
    "Read list of population centers"
   ]
  },
  {
   "cell_type": "code",
   "execution_count": 19,
   "metadata": {},
   "outputs": [
    {
     "name": "stdout",
     "output_type": "stream",
     "text": [
      "Population Centers: Lachine, Granby, Saint-Bruno-de-Montarville etc.\n"
     ]
    }
   ],
   "source": [
    "population_centers = pd.read_csv('../data/references/handmade/qc-population-centers.csv')['Name'].to_list()\n",
    "print('Population Centers: ' + str(population_centers[15]) + ', ' + str(population_centers[50]) + ', ' + str(population_centers[80]) + ' etc.')"
   ]
  },
  {
   "cell_type": "markdown",
   "metadata": {},
   "source": [
    "### Format Raw Location Strings"
   ]
  },
  {
   "cell_type": "markdown",
   "metadata": {},
   "source": [
    "Abbreviations"
   ]
  },
  {
   "cell_type": "code",
   "execution_count": 20,
   "metadata": {},
   "outputs": [],
   "source": [
    "unknown_locations_dict = {\n",
    "    \"L'Ile Des Soeurs\": \"Ile des soeurs\",\n",
    "    \"St-Denis-sur-Mer\": \"Saint-Denis\",\n",
    "    \"St-Simon-De-Rimouski\": \"Saint-Simon\",\n",
    "    \"St-Guillaume-D'Upton\": \"Saint-Guillaume\",\n",
    "    \"St-Joseph-De-Ham-Sud\": \"Ham-Sud\",\n",
    "    \"St-Adelphe-De-Champlain\": \"Saint-Adelphe\",\n",
    "    \"St-Mathieu-De-Laprairie\": \"Saint-Mathieu\",\n",
    "    \"St-Isidore-De-Laprairie\": \"Saint-Isidore\",\n",
    "    \"St-Stanislas-De-Champlain\": \"Saint-Denis\",\n",
    "    \"St-Sebastien-De-Frontenac\": \"Saint-Sebastien\",\n",
    "    \"Ste-Francoise-De-Lotbiniere\": \"Saint-Francoise\",\n",
    "    \"Sheenboro\": \"Pontiac\"\n",
    "}\n",
    "\n",
    "locations = [x if x not in unknown_locations_dict else unknown_locations_dict[x] for x in locations]"
   ]
  },
  {
   "cell_type": "code",
   "execution_count": 21,
   "metadata": {},
   "outputs": [],
   "source": [
    "locations = [str(i) for i in locations]\n",
    "\n",
    "locations = [location.replace('St-', 'Saint-') for location in locations]\n",
    "locations = [location.replace('Ste-', 'Sainte-') for location in locations]\n",
    "locations = [location.replace('Sts-', 'Saints-') for location in locations]\n",
    "locations = [location.replace('ND-', 'Notre-Dame-') for location in locations]\n",
    "locations = [location.replace('JC', 'Jacques-Cartier') for location in locations]"
   ]
  },
  {
   "cell_type": "markdown",
   "metadata": {},
   "source": [
    "Unknown locations by geopy (most likely due to name changes over the years)"
   ]
  },
  {
   "cell_type": "markdown",
   "metadata": {},
   "source": [
    "### Compute Geographical Coordinates"
   ]
  },
  {
   "cell_type": "markdown",
   "metadata": {},
   "source": [
    "For Raw Locations"
   ]
  },
  {
   "cell_type": "code",
   "execution_count": 22,
   "metadata": {},
   "outputs": [
    {
     "name": "stdout",
     "output_type": "stream",
     "text": [
      "All coordinates successfully calculated.\n"
     ]
    },
    {
     "data": {
      "text/html": [
       "<div>\n",
       "<style scoped>\n",
       "    .dataframe tbody tr th:only-of-type {\n",
       "        vertical-align: middle;\n",
       "    }\n",
       "\n",
       "    .dataframe tbody tr th {\n",
       "        vertical-align: top;\n",
       "    }\n",
       "\n",
       "    .dataframe thead th {\n",
       "        text-align: right;\n",
       "    }\n",
       "</style>\n",
       "<table border=\"1\" class=\"dataframe\">\n",
       "  <thead>\n",
       "    <tr style=\"text-align: right;\">\n",
       "      <th></th>\n",
       "      <th>Name</th>\n",
       "      <th>Latitude</th>\n",
       "      <th>Longitude</th>\n",
       "    </tr>\n",
       "  </thead>\n",
       "  <tbody>\n",
       "    <tr>\n",
       "      <th>0</th>\n",
       "      <td>Beauport</td>\n",
       "      <td>46.907111</td>\n",
       "      <td>-71.212797</td>\n",
       "    </tr>\n",
       "    <tr>\n",
       "      <th>1</th>\n",
       "      <td>Deschambault</td>\n",
       "      <td>46.662647</td>\n",
       "      <td>-71.944288</td>\n",
       "    </tr>\n",
       "    <tr>\n",
       "      <th>2</th>\n",
       "      <td>Mercier</td>\n",
       "      <td>45.310444</td>\n",
       "      <td>-73.746051</td>\n",
       "    </tr>\n",
       "    <tr>\n",
       "      <th>3</th>\n",
       "      <td>Stoneham</td>\n",
       "      <td>46.999608</td>\n",
       "      <td>-71.369475</td>\n",
       "    </tr>\n",
       "    <tr>\n",
       "      <th>4</th>\n",
       "      <td>Trois-Rivières</td>\n",
       "      <td>46.371592</td>\n",
       "      <td>-72.600502</td>\n",
       "    </tr>\n",
       "  </tbody>\n",
       "</table>\n",
       "</div>"
      ],
      "text/plain": [
       "             Name   Latitude  Longitude\n",
       "0        Beauport  46.907111 -71.212797\n",
       "1    Deschambault  46.662647 -71.944288\n",
       "2         Mercier  45.310444 -73.746051\n",
       "3        Stoneham  46.999608 -71.369475\n",
       "4  Trois-Rivières  46.371592 -72.600502"
      ]
     },
     "execution_count": 22,
     "metadata": {},
     "output_type": "execute_result"
    }
   ],
   "source": [
    "output = '../data/processed/raw_location_coordinates.csv'\n",
    "raw_location_coordinates, unknown_locations = compute_list_coordinates(locations=locations, output=output)\n",
    "\n",
    "if len(unknown_locations) == 0:\n",
    "    print(\"All coordinates successfully calculated.\")\n",
    "\n",
    "raw_location_coordinates.head()"
   ]
  },
  {
   "cell_type": "markdown",
   "metadata": {},
   "source": [
    "For Population Centers"
   ]
  },
  {
   "cell_type": "code",
   "execution_count": 23,
   "metadata": {},
   "outputs": [
    {
     "name": "stdout",
     "output_type": "stream",
     "text": [
      "All coordinates successfully calculated.\n"
     ]
    },
    {
     "data": {
      "text/html": [
       "<div>\n",
       "<style scoped>\n",
       "    .dataframe tbody tr th:only-of-type {\n",
       "        vertical-align: middle;\n",
       "    }\n",
       "\n",
       "    .dataframe tbody tr th {\n",
       "        vertical-align: top;\n",
       "    }\n",
       "\n",
       "    .dataframe thead th {\n",
       "        text-align: right;\n",
       "    }\n",
       "</style>\n",
       "<table border=\"1\" class=\"dataframe\">\n",
       "  <thead>\n",
       "    <tr style=\"text-align: right;\">\n",
       "      <th></th>\n",
       "      <th>Name</th>\n",
       "      <th>Latitude</th>\n",
       "      <th>Longitude</th>\n",
       "    </tr>\n",
       "  </thead>\n",
       "  <tbody>\n",
       "    <tr>\n",
       "      <th>0</th>\n",
       "      <td>Côte-des-Neiges-Notre-Dame-de-Grâce</td>\n",
       "      <td>45.467967</td>\n",
       "      <td>-73.628922</td>\n",
       "    </tr>\n",
       "    <tr>\n",
       "      <th>1</th>\n",
       "      <td>Villeray-Saint-Michel-Parc-Extension</td>\n",
       "      <td>45.537006</td>\n",
       "      <td>-73.625796</td>\n",
       "    </tr>\n",
       "    <tr>\n",
       "      <th>2</th>\n",
       "      <td>Rosemont-La Petite-Patrie</td>\n",
       "      <td>45.553384</td>\n",
       "      <td>-73.576036</td>\n",
       "    </tr>\n",
       "    <tr>\n",
       "      <th>3</th>\n",
       "      <td>Mercier-Hochelaga-Maisonneuve</td>\n",
       "      <td>45.574106</td>\n",
       "      <td>-73.525846</td>\n",
       "    </tr>\n",
       "    <tr>\n",
       "      <th>4</th>\n",
       "      <td>Ahuntsic-Cartierville</td>\n",
       "      <td>45.541892</td>\n",
       "      <td>-73.680319</td>\n",
       "    </tr>\n",
       "  </tbody>\n",
       "</table>\n",
       "</div>"
      ],
      "text/plain": [
       "                                   Name   Latitude  Longitude\n",
       "0   Côte-des-Neiges-Notre-Dame-de-Grâce  45.467967 -73.628922\n",
       "1  Villeray-Saint-Michel-Parc-Extension  45.537006 -73.625796\n",
       "2             Rosemont-La Petite-Patrie  45.553384 -73.576036\n",
       "3         Mercier-Hochelaga-Maisonneuve  45.574106 -73.525846\n",
       "4                 Ahuntsic-Cartierville  45.541892 -73.680319"
      ]
     },
     "execution_count": 23,
     "metadata": {},
     "output_type": "execute_result"
    }
   ],
   "source": [
    "output = '../data/processed/population_centers_coordinates.csv'\n",
    "population_centers_coordinates, unknown_locations = compute_list_coordinates(locations=population_centers, output=output)\n",
    "\n",
    "if len(unknown_locations) == 0:\n",
    "    print(\"All coordinates successfully calculated.\")\n",
    "\n",
    "population_centers_coordinates.head()"
   ]
  },
  {
   "cell_type": "markdown",
   "metadata": {},
   "source": [
    "### Map Locations"
   ]
  },
  {
   "cell_type": "code",
   "execution_count": 24,
   "metadata": {},
   "outputs": [
    {
     "name": "stderr",
     "output_type": "stream",
     "text": [
      "Building Location Mapper: 100%|██████████| 1168/1168 [00:31<00:00, 37.29it/s]\n"
     ]
    }
   ],
   "source": [
    "location_mapper = build_location_mapper(raw_location_coordinates, population_centers_coordinates)"
   ]
  },
  {
   "cell_type": "markdown",
   "metadata": {},
   "source": [
    "Save to .csv"
   ]
  },
  {
   "cell_type": "code",
   "execution_count": 25,
   "metadata": {},
   "outputs": [
    {
     "data": {
      "text/html": [
       "<div>\n",
       "<style scoped>\n",
       "    .dataframe tbody tr th:only-of-type {\n",
       "        vertical-align: middle;\n",
       "    }\n",
       "\n",
       "    .dataframe tbody tr th {\n",
       "        vertical-align: top;\n",
       "    }\n",
       "\n",
       "    .dataframe thead th {\n",
       "        text-align: right;\n",
       "    }\n",
       "</style>\n",
       "<table border=\"1\" class=\"dataframe\">\n",
       "  <thead>\n",
       "    <tr style=\"text-align: right;\">\n",
       "      <th></th>\n",
       "      <th>location</th>\n",
       "      <th>mapping</th>\n",
       "    </tr>\n",
       "  </thead>\n",
       "  <tbody>\n",
       "    <tr>\n",
       "      <th>0</th>\n",
       "      <td>Beauport</td>\n",
       "      <td>Quebec City</td>\n",
       "    </tr>\n",
       "    <tr>\n",
       "      <th>1</th>\n",
       "      <td>Deschambault</td>\n",
       "      <td>Portneuf</td>\n",
       "    </tr>\n",
       "    <tr>\n",
       "      <th>2</th>\n",
       "      <td>Mercier</td>\n",
       "      <td>Mercier</td>\n",
       "    </tr>\n",
       "    <tr>\n",
       "      <th>3</th>\n",
       "      <td>Stoneham</td>\n",
       "      <td>Stoneham-et-Tewkesbury</td>\n",
       "    </tr>\n",
       "    <tr>\n",
       "      <th>4</th>\n",
       "      <td>Trois-Rivières</td>\n",
       "      <td>Trois-Rivières</td>\n",
       "    </tr>\n",
       "  </tbody>\n",
       "</table>\n",
       "</div>"
      ],
      "text/plain": [
       "         location                 mapping\n",
       "0        Beauport             Quebec City\n",
       "1    Deschambault                Portneuf\n",
       "2         Mercier                 Mercier\n",
       "3        Stoneham  Stoneham-et-Tewkesbury\n",
       "4  Trois-Rivières          Trois-Rivières"
      ]
     },
     "metadata": {},
     "output_type": "display_data"
    }
   ],
   "source": [
    "location_mapper_df = pd.DataFrame(location_mapper.items(), columns=['location', 'mapping'])\n",
    "location_mapper_df.to_csv('../data/processed/location_mapper.csv', index=False)\n",
    "display(location_mapper_df.head())"
   ]
  },
  {
   "cell_type": "markdown",
   "metadata": {},
   "source": [
    "Save to .pkl"
   ]
  },
  {
   "cell_type": "code",
   "execution_count": 26,
   "metadata": {},
   "outputs": [],
   "source": [
    "with open('../data/processed/location_mapper.pkl', 'wb') as f:\n",
    "    pickle.dump(location_mapper, f)"
   ]
  },
  {
   "cell_type": "code",
   "execution_count": 27,
   "metadata": {},
   "outputs": [
    {
     "data": {
      "text/plain": [
       "129"
      ]
     },
     "execution_count": 27,
     "metadata": {},
     "output_type": "execute_result"
    }
   ],
   "source": [
    "len(location_mapper_df['mapping'].unique())"
   ]
  },
  {
   "cell_type": "code",
   "execution_count": null,
   "metadata": {},
   "outputs": [],
   "source": []
  }
 ],
 "metadata": {
  "kernelspec": {
   "display_name": "Python 3.10.4 ('venv': venv)",
   "language": "python",
   "name": "python3"
  },
  "language_info": {
   "codemirror_mode": {
    "name": "ipython",
    "version": 3
   },
   "file_extension": ".py",
   "mimetype": "text/x-python",
   "name": "python",
   "nbconvert_exporter": "python",
   "pygments_lexer": "ipython3",
   "version": "3.10.4"
  },
  "orig_nbformat": 4,
  "vscode": {
   "interpreter": {
    "hash": "35baa29fccf03004b73c6d7efa1229fc55fcd4d7e436d14040fdb80c99cecdea"
   }
  }
 },
 "nbformat": 4,
 "nbformat_minor": 2
}
