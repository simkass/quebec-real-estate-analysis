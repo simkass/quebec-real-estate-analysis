{
 "cells": [
  {
   "cell_type": "markdown",
   "metadata": {},
   "source": [
    "# Fixing Gatineau Locations\n",
    "We want to separate Gatineau in 3 boroughs: Gatineau, Hull and Aylmer"
   ]
  },
  {
   "cell_type": "code",
   "execution_count": 1,
   "metadata": {},
   "outputs": [],
   "source": [
    "import pandas as pd\n",
    "from tqdm import tqdm"
   ]
  },
  {
   "cell_type": "code",
   "execution_count": 2,
   "metadata": {},
   "outputs": [],
   "source": [
    "home_df = pd.read_csv('../data/raw/home-listings.csv')\n",
    "condo_df = pd.read_csv('../data/raw/condo-listings.csv')"
   ]
  },
  {
   "cell_type": "code",
   "execution_count": 3,
   "metadata": {},
   "outputs": [],
   "source": [
    "def get_gatineau_borough(filepath, total):\n",
    "    locations = []\n",
    "\n",
    "    for url in tqdm(open(filepath), total=total):\n",
    "        if 'gatineau' in url:\n",
    "            locations.append('Gatineau')\n",
    "        if 'hull' in url:\n",
    "            locations.append('Hull')\n",
    "        if 'aylmer' in url:\n",
    "            locations.append('Aylmer')\n",
    "\n",
    "    return locations"
   ]
  },
  {
   "cell_type": "code",
   "execution_count": 4,
   "metadata": {},
   "outputs": [
    {
     "name": "stderr",
     "output_type": "stream",
     "text": [
      "100%|██████████| 99069/99069 [00:00<00:00, 1280663.94it/s]\n",
      "100%|██████████| 29114/29114 [00:00<00:00, 1322957.72it/s]\n"
     ]
    }
   ],
   "source": [
    "home_gat = get_gatineau_borough('../data/raw/home-listings-urls.txt', 99069)\n",
    "condo_gat = get_gatineau_borough('../data/raw/condo-listings-urls.txt', 29114)"
   ]
  },
  {
   "cell_type": "code",
   "execution_count": 5,
   "metadata": {},
   "outputs": [
    {
     "name": "stderr",
     "output_type": "stream",
     "text": [
      "99102it [00:03, 32540.60it/s]                           \n"
     ]
    }
   ],
   "source": [
    "x = 0\n",
    "for i, r in tqdm(home_df.iterrows(), total=99069):\n",
    "    if r['location'] == 'Gatineau':\n",
    "        home_df.loc[i, 'location'] = home_gat[x]\n",
    "        x += 1"
   ]
  },
  {
   "cell_type": "code",
   "execution_count": 6,
   "metadata": {},
   "outputs": [
    {
     "name": "stderr",
     "output_type": "stream",
     "text": [
      " 29%|██▉       | 29113/99069 [00:00<00:02, 33789.00it/s]\n"
     ]
    }
   ],
   "source": [
    "x = 0\n",
    "for i, r in tqdm(condo_df.iterrows(), total=29113):\n",
    "    if r['location'] == 'Gatineau':\n",
    "        condo_df.loc[i, 'location'] = condo_gat[x]\n",
    "        x += 1"
   ]
  },
  {
   "cell_type": "code",
   "execution_count": 7,
   "metadata": {},
   "outputs": [],
   "source": [
    "home_df.to_csv('../data/raw/home-listings.csv')\n",
    "condo_df.to_csv('../data/raw/condo-listings.csv')"
   ]
  }
 ],
 "metadata": {
  "kernelspec": {
   "display_name": "Python 3.10.4 ('venv': venv)",
   "language": "python",
   "name": "python3"
  },
  "language_info": {
   "codemirror_mode": {
    "name": "ipython",
    "version": 3
   },
   "file_extension": ".py",
   "mimetype": "text/x-python",
   "name": "python",
   "nbconvert_exporter": "python",
   "pygments_lexer": "ipython3",
   "version": "3.10.4"
  },
  "orig_nbformat": 4,
  "vscode": {
   "interpreter": {
    "hash": "35baa29fccf03004b73c6d7efa1229fc55fcd4d7e436d14040fdb80c99cecdea"
   }
  }
 },
 "nbformat": 4,
 "nbformat_minor": 2
}
