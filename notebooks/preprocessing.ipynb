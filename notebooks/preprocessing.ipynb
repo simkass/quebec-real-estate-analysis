{
 "cells": [
  {
   "cell_type": "markdown",
   "metadata": {},
   "source": [
    "## Preprocessing\n",
    "Preprocess Raw Data"
   ]
  },
  {
   "cell_type": "code",
   "execution_count": 1,
   "metadata": {},
   "outputs": [],
   "source": [
    "import pandas as pd\n",
    "import pickle\n",
    "\n",
    "import seaborn as sns\n",
    "import matplotlib.pyplot as plt"
   ]
  },
  {
   "cell_type": "code",
   "execution_count": 1,
   "metadata": {},
   "outputs": [
    {
     "ename": "NameError",
     "evalue": "name 'sns' is not defined",
     "output_type": "error",
     "traceback": [
      "\u001b[1;31m---------------------------------------------------------------------------\u001b[0m",
      "\u001b[1;31mNameError\u001b[0m                                 Traceback (most recent call last)",
      "\u001b[1;32mc:\\Users\\simka\\Documents\\GitHub\\quebec-real-estate\\notebooks\\preprocessing.ipynb Cell 3\u001b[0m in \u001b[0;36m<cell line: 3>\u001b[1;34m()\u001b[0m\n\u001b[0;32m      <a href='vscode-notebook-cell:/c%3A/Users/simka/Documents/GitHub/quebec-real-estate/notebooks/preprocessing.ipynb#W2sZmlsZQ%3D%3D?line=0'>1</a>\u001b[0m \u001b[39m# Visualization settings\u001b[39;00m\n\u001b[0;32m      <a href='vscode-notebook-cell:/c%3A/Users/simka/Documents/GitHub/quebec-real-estate/notebooks/preprocessing.ipynb#W2sZmlsZQ%3D%3D?line=1'>2</a>\u001b[0m plt_color \u001b[39m=\u001b[39m \u001b[39m'\u001b[39m\u001b[39molive\u001b[39m\u001b[39m'\u001b[39m\n\u001b[1;32m----> <a href='vscode-notebook-cell:/c%3A/Users/simka/Documents/GitHub/quebec-real-estate/notebooks/preprocessing.ipynb#W2sZmlsZQ%3D%3D?line=2'>3</a>\u001b[0m sns\u001b[39m.\u001b[39mset(font_scale \u001b[39m=\u001b[39m \u001b[39m2\u001b[39m)\n\u001b[0;32m      <a href='vscode-notebook-cell:/c%3A/Users/simka/Documents/GitHub/quebec-real-estate/notebooks/preprocessing.ipynb#W2sZmlsZQ%3D%3D?line=3'>4</a>\u001b[0m sns\u001b[39m.\u001b[39mset_style(style\u001b[39m=\u001b[39m\u001b[39m'\u001b[39m\u001b[39mwhite\u001b[39m\u001b[39m'\u001b[39m)\n",
      "\u001b[1;31mNameError\u001b[0m: name 'sns' is not defined"
     ]
    }
   ],
   "source": [
    "# Visualization settings\n",
    "plt_color = 'olive'\n",
    "sns.set(font_scale = 2)\n",
    "sns.set_style(style='white') "
   ]
  },
  {
   "cell_type": "markdown",
   "metadata": {},
   "source": [
    "### Read Data"
   ]
  },
  {
   "cell_type": "code",
   "execution_count": 3,
   "metadata": {},
   "outputs": [],
   "source": [
    "home_df = pd.read_csv('../data/raw/home-listings.csv')\n",
    "condo_df = pd.read_csv('../data/raw/condo-listings.csv')"
   ]
  },
  {
   "cell_type": "code",
   "execution_count": 4,
   "metadata": {},
   "outputs": [],
   "source": [
    "raw_listings = pd.concat([home_df, condo_df], axis=0, ignore_index=True)\n",
    "listings_df = raw_listings.copy()"
   ]
  },
  {
   "cell_type": "code",
   "execution_count": 5,
   "metadata": {},
   "outputs": [
    {
     "data": {
      "text/html": [
       "<div>\n",
       "<style scoped>\n",
       "    .dataframe tbody tr th:only-of-type {\n",
       "        vertical-align: middle;\n",
       "    }\n",
       "\n",
       "    .dataframe tbody tr th {\n",
       "        vertical-align: top;\n",
       "    }\n",
       "\n",
       "    .dataframe thead th {\n",
       "        text-align: right;\n",
       "    }\n",
       "</style>\n",
       "<table border=\"1\" class=\"dataframe\">\n",
       "  <thead>\n",
       "    <tr style=\"text-align: right;\">\n",
       "      <th></th>\n",
       "      <th>Unnamed: 0</th>\n",
       "      <th>subtype</th>\n",
       "      <th>style</th>\n",
       "      <th>living_area</th>\n",
       "      <th>lot_dimensions</th>\n",
       "      <th>bedrooms</th>\n",
       "      <th>bathrooms</th>\n",
       "      <th>levels</th>\n",
       "      <th>location</th>\n",
       "      <th>listing_date</th>\n",
       "      <th>year_of_construction</th>\n",
       "      <th>municipal_eval</th>\n",
       "      <th>price</th>\n",
       "    </tr>\n",
       "  </thead>\n",
       "  <tbody>\n",
       "    <tr>\n",
       "      <th>0</th>\n",
       "      <td>0</td>\n",
       "      <td>2 Storey</td>\n",
       "      <td>2 storey</td>\n",
       "      <td>1191.3</td>\n",
       "      <td>4076.29</td>\n",
       "      <td>3.0</td>\n",
       "      <td>1.0</td>\n",
       "      <td>2.0</td>\n",
       "      <td>Beauport</td>\n",
       "      <td>202012.0</td>\n",
       "      <td>2004.0</td>\n",
       "      <td>256000.0</td>\n",
       "      <td>332500.0</td>\n",
       "    </tr>\n",
       "    <tr>\n",
       "      <th>1</th>\n",
       "      <td>1</td>\n",
       "      <td>Bungalow</td>\n",
       "      <td>Open area</td>\n",
       "      <td>1261.0</td>\n",
       "      <td>9500.00</td>\n",
       "      <td>2.0</td>\n",
       "      <td>1.0</td>\n",
       "      <td>1.0</td>\n",
       "      <td>Deschambault</td>\n",
       "      <td>202112.0</td>\n",
       "      <td>1957.0</td>\n",
       "      <td>150500.0</td>\n",
       "      <td>265000.0</td>\n",
       "    </tr>\n",
       "    <tr>\n",
       "      <th>2</th>\n",
       "      <td>2</td>\n",
       "      <td>Townhouse</td>\n",
       "      <td>NaN</td>\n",
       "      <td>1645.0</td>\n",
       "      <td>1360.00</td>\n",
       "      <td>3.0</td>\n",
       "      <td>1.0</td>\n",
       "      <td>3.0</td>\n",
       "      <td>Mercier</td>\n",
       "      <td>202111.0</td>\n",
       "      <td>2006.0</td>\n",
       "      <td>479400.0</td>\n",
       "      <td>612000.0</td>\n",
       "    </tr>\n",
       "    <tr>\n",
       "      <th>3</th>\n",
       "      <td>3</td>\n",
       "      <td>Bi-generation</td>\n",
       "      <td>Link</td>\n",
       "      <td>2024.0</td>\n",
       "      <td>17000.00</td>\n",
       "      <td>4.0</td>\n",
       "      <td>3.0</td>\n",
       "      <td>1.0</td>\n",
       "      <td>Stoneham</td>\n",
       "      <td>202112.0</td>\n",
       "      <td>2019.0</td>\n",
       "      <td>NaN</td>\n",
       "      <td>526500.0</td>\n",
       "    </tr>\n",
       "    <tr>\n",
       "      <th>4</th>\n",
       "      <td>4</td>\n",
       "      <td>2 Storey</td>\n",
       "      <td>Waterfront</td>\n",
       "      <td>1469.0</td>\n",
       "      <td>16970.00</td>\n",
       "      <td>4.0</td>\n",
       "      <td>2.0</td>\n",
       "      <td>2.0</td>\n",
       "      <td>Trois-Rivières</td>\n",
       "      <td>202111.0</td>\n",
       "      <td>1925.0</td>\n",
       "      <td>NaN</td>\n",
       "      <td>NaN</td>\n",
       "    </tr>\n",
       "  </tbody>\n",
       "</table>\n",
       "</div>"
      ],
      "text/plain": [
       "   Unnamed: 0        subtype       style  living_area  lot_dimensions  \\\n",
       "0           0       2 Storey    2 storey       1191.3         4076.29   \n",
       "1           1       Bungalow   Open area       1261.0         9500.00   \n",
       "2           2      Townhouse         NaN       1645.0         1360.00   \n",
       "3           3  Bi-generation        Link       2024.0        17000.00   \n",
       "4           4       2 Storey  Waterfront       1469.0        16970.00   \n",
       "\n",
       "   bedrooms  bathrooms  levels        location  listing_date  \\\n",
       "0       3.0        1.0     2.0        Beauport      202012.0   \n",
       "1       2.0        1.0     1.0    Deschambault      202112.0   \n",
       "2       3.0        1.0     3.0         Mercier      202111.0   \n",
       "3       4.0        3.0     1.0        Stoneham      202112.0   \n",
       "4       4.0        2.0     2.0  Trois-Rivières      202111.0   \n",
       "\n",
       "   year_of_construction  municipal_eval     price  \n",
       "0                2004.0        256000.0  332500.0  \n",
       "1                1957.0        150500.0  265000.0  \n",
       "2                2006.0        479400.0  612000.0  \n",
       "3                2019.0             NaN  526500.0  \n",
       "4                1925.0             NaN       NaN  "
      ]
     },
     "metadata": {},
     "output_type": "display_data"
    },
    {
     "name": "stdout",
     "output_type": "stream",
     "text": [
      "Number of listings: 128215\n"
     ]
    }
   ],
   "source": [
    "display(listings_df.head())\n",
    "print(\"Number of listings: \" + str(len(listings_df)))"
   ]
  },
  {
   "cell_type": "markdown",
   "metadata": {},
   "source": [
    "### Subtype"
   ]
  },
  {
   "cell_type": "code",
   "execution_count": 6,
   "metadata": {},
   "outputs": [
    {
     "data": {
      "text/plain": [
       "Bungalow                        39393\n",
       "Condominium                     28902\n",
       "2 Storey                        27110\n",
       "Semi-detached                   15022\n",
       "Townhouse                        6351\n",
       "Split Level                      4158\n",
       "1 1/2 Storey                     4046\n",
       "Country Home                      659\n",
       "Mobile home                       611\n",
       "Acreage / Hobby Farm / Ranch      531\n",
       "Bi-generation                     428\n",
       "3 Storey                          363\n",
       "Manufactured home                 184\n",
       "Loft                              170\n",
       "Bi-Level                          161\n",
       "Villa                              63\n",
       "Penthouse                          41\n",
       "Misc.                              14\n",
       "4 Storey                            8\n",
       "Name: subtype, dtype: int64"
      ]
     },
     "execution_count": 6,
     "metadata": {},
     "output_type": "execute_result"
    }
   ],
   "source": [
    "listings_df['subtype'].value_counts(dropna=False)"
   ]
  },
  {
   "cell_type": "markdown",
   "metadata": {},
   "source": [
    "Keeping the following: \n",
    "\\\n",
    "Bungalow, 2 Storey, Condominium, Semi-detached, Townhouse, Bi-generation, Split Level, 1 1/2 Storey"
   ]
  },
  {
   "cell_type": "code",
   "execution_count": 7,
   "metadata": {},
   "outputs": [
    {
     "name": "stdout",
     "output_type": "stream",
     "text": [
      "Number of listings: 126252\n"
     ]
    }
   ],
   "source": [
    "subtypes = listings_df['subtype'].value_counts()\n",
    "listings_df = listings_df[listings_df['subtype'].isin(subtypes.keys()[0:9])]\n",
    "\n",
    "print(\"Number of listings: \" + str(len(listings_df)))"
   ]
  },
  {
   "cell_type": "markdown",
   "metadata": {},
   "source": [
    "### Style"
   ]
  },
  {
   "cell_type": "code",
   "execution_count": 8,
   "metadata": {},
   "outputs": [
    {
     "data": {
      "text/plain": [
       "NaN                     23959\n",
       "Open area               21918\n",
       "2 storey                19478\n",
       "Divided Co-Ownership    12145\n",
       "Detached                11544\n",
       "New construction         3725\n",
       "Side split               3332\n",
       "Semi-detached            3294\n",
       "Rural                    3031\n",
       "Townhouse                2726\n",
       "Executive                2472\n",
       "Waterfront               2147\n",
       "Name: style, dtype: int64"
      ]
     },
     "execution_count": 8,
     "metadata": {},
     "output_type": "execute_result"
    }
   ],
   "source": [
    "listings_df['style'].value_counts(dropna=False).iloc[0:12]"
   ]
  },
  {
   "cell_type": "markdown",
   "metadata": {},
   "source": [
    "Replace NaN styles with Unknown. Keep all other values."
   ]
  },
  {
   "cell_type": "code",
   "execution_count": 9,
   "metadata": {},
   "outputs": [
    {
     "name": "stdout",
     "output_type": "stream",
     "text": [
      "Number of listings: 126252\n"
     ]
    }
   ],
   "source": [
    "listings_df['style'] = listings_df['style'].fillna('Unknown')\n",
    "\n",
    "styles = listings_df['style'].value_counts()\n",
    "listings_df = listings_df[listings_df['style'].isin(styles.keys())]\n",
    "\n",
    "print(\"Number of listings: \" + str(len(listings_df)))"
   ]
  },
  {
   "cell_type": "markdown",
   "metadata": {},
   "source": [
    "### Living Area"
   ]
  },
  {
   "cell_type": "code",
   "execution_count": 10,
   "metadata": {},
   "outputs": [
    {
     "data": {
      "image/png": "[encoded data removed]",
      "text/plain": [
       "<Figure size 864x576 with 1 Axes>"
      ]
     },
     "metadata": {},
     "output_type": "display_data"
    }
   ],
   "source": [
    "ax = sns.displot(listings_df[listings_df['living_area'] <= 10000], x='living_area', kde=True, stat='percent', fill=True, bins=40, height=8, aspect=1.5, linewidth=0, color=plt_color)\n",
    "ax.set(xlabel=\"Living Area (sq. ft)\")\n",
    "plt.savefig('./figures/preprocessing/living-area-hist-orig.png', transparent=True)"
   ]
  },
  {
   "cell_type": "code",
   "execution_count": 11,
   "metadata": {},
   "outputs": [],
   "source": [
    "min_living_area = 500\n",
    "max_living_area = 4000"
   ]
  },
  {
   "cell_type": "code",
   "execution_count": 12,
   "metadata": {},
   "outputs": [],
   "source": [
    "listings_df = listings_df[listings_df['living_area'] >= min_living_area]\n",
    "listings_df = listings_df[listings_df['living_area'] <= max_living_area]\n",
    "listings_df['living_area'] = listings_df['living_area'].astype(int)"
   ]
  },
  {
   "cell_type": "markdown",
   "metadata": {},
   "source": [
    "Replace NaN values with mean value."
   ]
  },
  {
   "cell_type": "code",
   "execution_count": 13,
   "metadata": {},
   "outputs": [
    {
     "name": "stdout",
     "output_type": "stream",
     "text": [
      "Mean Living Area: 1291.625793764595\n"
     ]
    }
   ],
   "source": [
    "mean_living_area = listings_df['living_area'].dropna().mean()\n",
    "print(\"Mean Living Area: \" + str(mean_living_area))\n",
    "\n",
    "# Fill the NaN living areas with the mean value\n",
    "listings_df['living_area'] = listings_df['living_area'].fillna(mean_living_area)"
   ]
  },
  {
   "cell_type": "markdown",
   "metadata": {},
   "source": [
    "Final Distribution"
   ]
  },
  {
   "cell_type": "code",
   "execution_count": 14,
   "metadata": {},
   "outputs": [
    {
     "data": {
      "image/png": "[encoded data removed]",
      "text/plain": [
       "<Figure size 864x576 with 1 Axes>"
      ]
     },
     "metadata": {},
     "output_type": "display_data"
    }
   ],
   "source": [
    "ax = sns.displot(listings_df, x='living_area', kde=True, stat='percent', fill=True, bins=40, height=8, aspect=1.5, linewidth=0, color=plt_color)\n",
    "ax.set(xlabel=\"Living Area (sq. ft)\")\n",
    "plt.savefig('./figures/preprocessing/living-area-hist.png', transparent=True)"
   ]
  },
  {
   "cell_type": "code",
   "execution_count": 15,
   "metadata": {},
   "outputs": [
    {
     "name": "stdout",
     "output_type": "stream",
     "text": [
      "Number of listings: 122045\n"
     ]
    }
   ],
   "source": [
    "print(\"Number of listings: \" + str(len(listings_df)))"
   ]
  },
  {
   "cell_type": "markdown",
   "metadata": {},
   "source": [
    "### Lot Dimensions"
   ]
  },
  {
   "cell_type": "markdown",
   "metadata": {},
   "source": [
    "Replace Outliers & NaNs with mean."
   ]
  },
  {
   "cell_type": "code",
   "execution_count": 16,
   "metadata": {},
   "outputs": [],
   "source": [
    "min_lot_dimensions = 500\n",
    "max_lot_dimensions = 50000"
   ]
  },
  {
   "cell_type": "code",
   "execution_count": 17,
   "metadata": {},
   "outputs": [
    {
     "name": "stdout",
     "output_type": "stream",
     "text": [
      "Mean Lot Dimensions: 9283.612996015512\n"
     ]
    }
   ],
   "source": [
    "# Mean value without outliers\n",
    "mean_lot_dimensions = listings_df[listings_df['lot_dimensions'] < max_lot_dimensions]['lot_dimensions'].dropna().mean()\n",
    "print(\"Mean Lot Dimensions: \" + str(mean_lot_dimensions))"
   ]
  },
  {
   "cell_type": "code",
   "execution_count": 18,
   "metadata": {},
   "outputs": [],
   "source": [
    "# Outliers\n",
    "listings_df.loc[(listings_df['lot_dimensions'] > max_lot_dimensions), 'lot_dimensions'] = mean_lot_dimensions\n",
    "# NaNs\n",
    "listings_df['lot_dimensions'] = listings_df['lot_dimensions'].fillna(mean_lot_dimensions)\n",
    "# Min Value\n",
    "listings_df = listings_df[listings_df['lot_dimensions'] >= min_lot_dimensions]"
   ]
  },
  {
   "cell_type": "code",
   "execution_count": 19,
   "metadata": {},
   "outputs": [],
   "source": [
    "listings_df['lot_dimensions'] = listings_df['lot_dimensions'].astype(int)"
   ]
  },
  {
   "cell_type": "code",
   "execution_count": 20,
   "metadata": {},
   "outputs": [
    {
     "data": {
      "image/png": "[encoded data removed]",
      "text/plain": [
       "<Figure size 864x576 with 1 Axes>"
      ]
     },
     "metadata": {},
     "output_type": "display_data"
    }
   ],
   "source": [
    "ax = sns.displot(listings_df, x='lot_dimensions', kde=True, stat='percent', fill=True, bins=40, height=8, aspect=1.5, linewidth=0, color=plt_color)\n",
    "ax.set(xlabel=\"Lot Dimensions (sq. ft)\")\n",
    "plt.savefig('./figures/preprocessing/lot-dimensions-hist.png', transparent=True)"
   ]
  },
  {
   "cell_type": "code",
   "execution_count": 21,
   "metadata": {},
   "outputs": [
    {
     "name": "stdout",
     "output_type": "stream",
     "text": [
      "Number of listings: 121390\n"
     ]
    }
   ],
   "source": [
    "print(\"Number of listings: \" + str(len(listings_df)))"
   ]
  },
  {
   "cell_type": "markdown",
   "metadata": {},
   "source": [
    "### Bedrooms, Bathrooms & Levels\n",
    "No more than 5 bedrooms, 3 bathrooms and 3 stories."
   ]
  },
  {
   "cell_type": "code",
   "execution_count": 22,
   "metadata": {},
   "outputs": [],
   "source": [
    "listings_df = listings_df[listings_df['bedrooms'] <= 5]\n",
    "listings_df = listings_df[listings_df['bathrooms'] <= 3]\n",
    "listings_df = listings_df[listings_df['levels'] <= 3]\n",
    "\n",
    "listings_df['bedrooms'] = listings_df['bedrooms'].astype(int)\n",
    "listings_df['bathrooms'] = listings_df['bathrooms'].astype(int)\n",
    "listings_df['levels'] = listings_df['levels'].astype(int)"
   ]
  },
  {
   "cell_type": "code",
   "execution_count": 23,
   "metadata": {},
   "outputs": [
    {
     "name": "stdout",
     "output_type": "stream",
     "text": [
      "Number of listings: 113722\n"
     ]
    }
   ],
   "source": [
    "print(\"Number of listings: \" + str(len(listings_df)))"
   ]
  },
  {
   "cell_type": "markdown",
   "metadata": {},
   "source": [
    "### Listing Date\n",
    "Convert to datetime."
   ]
  },
  {
   "cell_type": "code",
   "execution_count": 24,
   "metadata": {},
   "outputs": [
    {
     "name": "stdout",
     "output_type": "stream",
     "text": [
      "Number of listings: 113722\n"
     ]
    },
    {
     "data": {
      "text/html": [
       "<div>\n",
       "<style scoped>\n",
       "    .dataframe tbody tr th:only-of-type {\n",
       "        vertical-align: middle;\n",
       "    }\n",
       "\n",
       "    .dataframe tbody tr th {\n",
       "        vertical-align: top;\n",
       "    }\n",
       "\n",
       "    .dataframe thead th {\n",
       "        text-align: right;\n",
       "    }\n",
       "</style>\n",
       "<table border=\"1\" class=\"dataframe\">\n",
       "  <thead>\n",
       "    <tr style=\"text-align: right;\">\n",
       "      <th></th>\n",
       "      <th>Unnamed: 0</th>\n",
       "      <th>subtype</th>\n",
       "      <th>style</th>\n",
       "      <th>living_area</th>\n",
       "      <th>lot_dimensions</th>\n",
       "      <th>bedrooms</th>\n",
       "      <th>bathrooms</th>\n",
       "      <th>levels</th>\n",
       "      <th>location</th>\n",
       "      <th>listing_date</th>\n",
       "      <th>year_of_construction</th>\n",
       "      <th>municipal_eval</th>\n",
       "      <th>price</th>\n",
       "    </tr>\n",
       "  </thead>\n",
       "  <tbody>\n",
       "    <tr>\n",
       "      <th>0</th>\n",
       "      <td>0</td>\n",
       "      <td>2 Storey</td>\n",
       "      <td>2 storey</td>\n",
       "      <td>1191</td>\n",
       "      <td>4076</td>\n",
       "      <td>3</td>\n",
       "      <td>1</td>\n",
       "      <td>2</td>\n",
       "      <td>Beauport</td>\n",
       "      <td>2020-12-01</td>\n",
       "      <td>2004.0</td>\n",
       "      <td>256000.0</td>\n",
       "      <td>332500.0</td>\n",
       "    </tr>\n",
       "    <tr>\n",
       "      <th>1</th>\n",
       "      <td>1</td>\n",
       "      <td>Bungalow</td>\n",
       "      <td>Open area</td>\n",
       "      <td>1261</td>\n",
       "      <td>9500</td>\n",
       "      <td>2</td>\n",
       "      <td>1</td>\n",
       "      <td>1</td>\n",
       "      <td>Deschambault</td>\n",
       "      <td>2021-12-01</td>\n",
       "      <td>1957.0</td>\n",
       "      <td>150500.0</td>\n",
       "      <td>265000.0</td>\n",
       "    </tr>\n",
       "    <tr>\n",
       "      <th>2</th>\n",
       "      <td>2</td>\n",
       "      <td>Townhouse</td>\n",
       "      <td>Unknown</td>\n",
       "      <td>1645</td>\n",
       "      <td>1360</td>\n",
       "      <td>3</td>\n",
       "      <td>1</td>\n",
       "      <td>3</td>\n",
       "      <td>Mercier</td>\n",
       "      <td>2021-11-01</td>\n",
       "      <td>2006.0</td>\n",
       "      <td>479400.0</td>\n",
       "      <td>612000.0</td>\n",
       "    </tr>\n",
       "    <tr>\n",
       "      <th>4</th>\n",
       "      <td>4</td>\n",
       "      <td>2 Storey</td>\n",
       "      <td>Waterfront</td>\n",
       "      <td>1469</td>\n",
       "      <td>16970</td>\n",
       "      <td>4</td>\n",
       "      <td>2</td>\n",
       "      <td>2</td>\n",
       "      <td>Trois-Rivières</td>\n",
       "      <td>2021-11-01</td>\n",
       "      <td>1925.0</td>\n",
       "      <td>NaN</td>\n",
       "      <td>NaN</td>\n",
       "    </tr>\n",
       "    <tr>\n",
       "      <th>5</th>\n",
       "      <td>5</td>\n",
       "      <td>Semi-detached</td>\n",
       "      <td>2 storey</td>\n",
       "      <td>2400</td>\n",
       "      <td>4471</td>\n",
       "      <td>4</td>\n",
       "      <td>2</td>\n",
       "      <td>2</td>\n",
       "      <td>Gatineau</td>\n",
       "      <td>2021-12-01</td>\n",
       "      <td>1989.0</td>\n",
       "      <td>209200.0</td>\n",
       "      <td>360000.0</td>\n",
       "    </tr>\n",
       "  </tbody>\n",
       "</table>\n",
       "</div>"
      ],
      "text/plain": [
       "   Unnamed: 0        subtype       style  living_area  lot_dimensions  \\\n",
       "0           0       2 Storey    2 storey         1191            4076   \n",
       "1           1       Bungalow   Open area         1261            9500   \n",
       "2           2      Townhouse     Unknown         1645            1360   \n",
       "4           4       2 Storey  Waterfront         1469           16970   \n",
       "5           5  Semi-detached    2 storey         2400            4471   \n",
       "\n",
       "   bedrooms  bathrooms  levels        location listing_date  \\\n",
       "0         3          1       2        Beauport   2020-12-01   \n",
       "1         2          1       1    Deschambault   2021-12-01   \n",
       "2         3          1       3         Mercier   2021-11-01   \n",
       "4         4          2       2  Trois-Rivières   2021-11-01   \n",
       "5         4          2       2        Gatineau   2021-12-01   \n",
       "\n",
       "   year_of_construction  municipal_eval     price  \n",
       "0                2004.0        256000.0  332500.0  \n",
       "1                1957.0        150500.0  265000.0  \n",
       "2                2006.0        479400.0  612000.0  \n",
       "4                1925.0             NaN       NaN  \n",
       "5                1989.0        209200.0  360000.0  "
      ]
     },
     "execution_count": 24,
     "metadata": {},
     "output_type": "execute_result"
    }
   ],
   "source": [
    "listings_df['listing_date'] = pd.to_datetime(listings_df['listing_date'], format='%Y%m')\n",
    "print(\"Number of listings: \" + str(len(listings_df)))\n",
    "listings_df.head()"
   ]
  },
  {
   "cell_type": "markdown",
   "metadata": {},
   "source": [
    "### Year of Construction\n",
    "Replace NaNs and outliers with mean value. Convert to int."
   ]
  },
  {
   "cell_type": "code",
   "execution_count": 25,
   "metadata": {},
   "outputs": [],
   "source": [
    "min_year_of_construction = 1850\n",
    "max_year_of_construction = 2021"
   ]
  },
  {
   "cell_type": "code",
   "execution_count": 26,
   "metadata": {},
   "outputs": [
    {
     "name": "stdout",
     "output_type": "stream",
     "text": [
      "Mean Year of Construction: 1990\n"
     ]
    }
   ],
   "source": [
    "temp_listings_df = listings_df.copy()\n",
    "temp_listings_df = temp_listings_df[temp_listings_df['year_of_construction'] >= min_year_of_construction]\n",
    "temp_listings_df = temp_listings_df[temp_listings_df['year_of_construction'] <= max_year_of_construction]\n",
    "\n",
    "mean_year_of_construction = temp_listings_df['year_of_construction'].dropna().mean()\n",
    "\n",
    "print(\"Mean Year of Construction: \" + str(int(mean_year_of_construction)))"
   ]
  },
  {
   "cell_type": "code",
   "execution_count": 27,
   "metadata": {},
   "outputs": [],
   "source": [
    "listings_df['year_of_construction'] = listings_df['year_of_construction'].fillna(mean_year_of_construction)\n",
    "listings_df.loc[(listings_df['year_of_construction'] <= min_year_of_construction), 'year_of_construction'] = mean_year_of_construction\n",
    "listings_df.loc[(listings_df['year_of_construction'] >= max_year_of_construction), 'year_of_construction'] = mean_year_of_construction\n",
    "\n",
    "listings_df['year_of_construction'] = listings_df['year_of_construction'].astype(int)"
   ]
  },
  {
   "cell_type": "code",
   "execution_count": 28,
   "metadata": {},
   "outputs": [
    {
     "data": {
      "image/png": "[encoded data removed]",
      "text/plain": [
       "<Figure size 864x576 with 1 Axes>"
      ]
     },
     "metadata": {},
     "output_type": "display_data"
    }
   ],
   "source": [
    "ax = sns.displot(listings_df, x='year_of_construction', kde=True, stat='percent', fill=True, bins=40, height=8, aspect=1.5, linewidth=0, color=plt_color)\n",
    "ax.set(xlabel=\"Year of construction\")\n",
    "plt.savefig('./figures/preprocessing/year-of-construction-hist.png', transparent=True)"
   ]
  },
  {
   "cell_type": "code",
   "execution_count": 29,
   "metadata": {},
   "outputs": [
    {
     "name": "stdout",
     "output_type": "stream",
     "text": [
      "Number of listings: 113722\n"
     ]
    }
   ],
   "source": [
    "print(\"Number of listings: \" + str(len(listings_df)))"
   ]
  },
  {
   "cell_type": "markdown",
   "metadata": {},
   "source": [
    "### Municipal Evaluation\n",
    "Dropping this feature."
   ]
  },
  {
   "cell_type": "code",
   "execution_count": 30,
   "metadata": {},
   "outputs": [
    {
     "name": "stdout",
     "output_type": "stream",
     "text": [
      "Number of listings: 113722\n"
     ]
    }
   ],
   "source": [
    "listings_df = listings_df.drop(['municipal_eval'], axis=1)\n",
    "\n",
    "print(\"Number of listings: \" + str(len(listings_df)))"
   ]
  },
  {
   "cell_type": "markdown",
   "metadata": {},
   "source": [
    "### Price\n",
    "Remove Outliers and NaNs"
   ]
  },
  {
   "cell_type": "code",
   "execution_count": 31,
   "metadata": {},
   "outputs": [],
   "source": [
    "min_price = 20000\n",
    "max_price = 1000000"
   ]
  },
  {
   "cell_type": "code",
   "execution_count": 32,
   "metadata": {},
   "outputs": [],
   "source": [
    "listings_df = listings_df[listings_df['price'].notna()]\n",
    "listings_df = listings_df[listings_df['price'] >= min_price]\n",
    "listings_df = listings_df[listings_df['price'] <= max_price]"
   ]
  },
  {
   "cell_type": "code",
   "execution_count": 33,
   "metadata": {},
   "outputs": [],
   "source": [
    "listings_df['price'] = listings_df['price'].astype(int)"
   ]
  },
  {
   "cell_type": "code",
   "execution_count": 34,
   "metadata": {},
   "outputs": [
    {
     "name": "stderr",
     "output_type": "stream",
     "text": [
      "c:\\Users\\simka\\Documents\\GitHub\\quebec-real-estate\\venv\\lib\\site-packages\\seaborn\\axisgrid.py:38: UserWarning: FixedFormatter should only be used together with FixedLocator\n",
      "  ax.set(**kwargs)\n"
     ]
    },
    {
     "data": {
      "image/png": "[encoded data removed]",
      "text/plain": [
       "<Figure size 864x576 with 1 Axes>"
      ]
     },
     "metadata": {},
     "output_type": "display_data"
    }
   ],
   "source": [
    "ax = sns.displot(listings_df, x='price', kde=True, stat='percent', fill=True, bins=40, height=8, aspect=1.5, linewidth=0, color=plt_color)\n",
    "ax.set(xlabel=\"Price ($)\", xticklabels=[\"0\", \"0\", \"200k\", \"400k\", \"600k\", \"800k\", \"1M\"])\n",
    "plt.savefig('./figures/preprocessing/price-hist.png', transparent=True)"
   ]
  },
  {
   "cell_type": "code",
   "execution_count": 35,
   "metadata": {},
   "outputs": [
    {
     "name": "stdout",
     "output_type": "stream",
     "text": [
      "Number of listings: 89063\n"
     ]
    }
   ],
   "source": [
    "print(\"Number of listings: \" + str(len(listings_df)))"
   ]
  },
  {
   "cell_type": "code",
   "execution_count": 36,
   "metadata": {},
   "outputs": [
    {
     "data": {
      "text/html": [
       "<div>\n",
       "<style scoped>\n",
       "    .dataframe tbody tr th:only-of-type {\n",
       "        vertical-align: middle;\n",
       "    }\n",
       "\n",
       "    .dataframe tbody tr th {\n",
       "        vertical-align: top;\n",
       "    }\n",
       "\n",
       "    .dataframe thead th {\n",
       "        text-align: right;\n",
       "    }\n",
       "</style>\n",
       "<table border=\"1\" class=\"dataframe\">\n",
       "  <thead>\n",
       "    <tr style=\"text-align: right;\">\n",
       "      <th></th>\n",
       "      <th>location</th>\n",
       "    </tr>\n",
       "  </thead>\n",
       "  <tbody>\n",
       "    <tr>\n",
       "      <th>0</th>\n",
       "      <td>Beauport</td>\n",
       "    </tr>\n",
       "    <tr>\n",
       "      <th>1</th>\n",
       "      <td>Deschambault</td>\n",
       "    </tr>\n",
       "    <tr>\n",
       "      <th>2</th>\n",
       "      <td>Mercier</td>\n",
       "    </tr>\n",
       "    <tr>\n",
       "      <th>5</th>\n",
       "      <td>Gatineau</td>\n",
       "    </tr>\n",
       "    <tr>\n",
       "      <th>6</th>\n",
       "      <td>Alma</td>\n",
       "    </tr>\n",
       "    <tr>\n",
       "      <th>...</th>\n",
       "      <td>...</td>\n",
       "    </tr>\n",
       "    <tr>\n",
       "      <th>128210</th>\n",
       "      <td>Mercier</td>\n",
       "    </tr>\n",
       "    <tr>\n",
       "      <th>128211</th>\n",
       "      <td>Le Sud-Ouest</td>\n",
       "    </tr>\n",
       "    <tr>\n",
       "      <th>128212</th>\n",
       "      <td>Le Sud-Ouest</td>\n",
       "    </tr>\n",
       "    <tr>\n",
       "      <th>128213</th>\n",
       "      <td>Beauport</td>\n",
       "    </tr>\n",
       "    <tr>\n",
       "      <th>128214</th>\n",
       "      <td>Ste-Foy</td>\n",
       "    </tr>\n",
       "  </tbody>\n",
       "</table>\n",
       "<p>89063 rows × 1 columns</p>\n",
       "</div>"
      ],
      "text/plain": [
       "            location\n",
       "0           Beauport\n",
       "1       Deschambault\n",
       "2            Mercier\n",
       "5           Gatineau\n",
       "6               Alma\n",
       "...              ...\n",
       "128210       Mercier\n",
       "128211  Le Sud-Ouest\n",
       "128212  Le Sud-Ouest\n",
       "128213      Beauport\n",
       "128214       Ste-Foy\n",
       "\n",
       "[89063 rows x 1 columns]"
      ]
     },
     "execution_count": 36,
     "metadata": {},
     "output_type": "execute_result"
    }
   ],
   "source": [
    "listings_df[['location']]"
   ]
  },
  {
   "cell_type": "markdown",
   "metadata": {},
   "source": [
    "### Location"
   ]
  },
  {
   "cell_type": "code",
   "execution_count": 37,
   "metadata": {},
   "outputs": [],
   "source": [
    "raw_dropna = raw_listings[['location']].dropna()\n",
    "raw_locations = raw_dropna.groupby('location').mean().astype(int).reset_index()"
   ]
  },
  {
   "cell_type": "code",
   "execution_count": 38,
   "metadata": {},
   "outputs": [],
   "source": [
    "raw_locations.insert(0, 'Nb of listings', '')\n",
    "location_value_counts = raw_dropna['location'].value_counts()\n",
    "raw_locations['Nb of listings'] = raw_locations['location'].map(location_value_counts).astype(int)"
   ]
  },
  {
   "cell_type": "code",
   "execution_count": 39,
   "metadata": {},
   "outputs": [
    {
     "data": {
      "text/html": [
       "<div>\n",
       "<style scoped>\n",
       "    .dataframe tbody tr th:only-of-type {\n",
       "        vertical-align: middle;\n",
       "    }\n",
       "\n",
       "    .dataframe tbody tr th {\n",
       "        vertical-align: top;\n",
       "    }\n",
       "\n",
       "    .dataframe thead th {\n",
       "        text-align: right;\n",
       "    }\n",
       "</style>\n",
       "<table border=\"1\" class=\"dataframe\">\n",
       "  <thead>\n",
       "    <tr style=\"text-align: right;\">\n",
       "      <th></th>\n",
       "      <th>Nb of listings</th>\n",
       "      <th>location</th>\n",
       "    </tr>\n",
       "  </thead>\n",
       "  <tbody>\n",
       "    <tr>\n",
       "      <th>0</th>\n",
       "      <td>2</td>\n",
       "      <td>Abercorn</td>\n",
       "    </tr>\n",
       "    <tr>\n",
       "      <th>1</th>\n",
       "      <td>66</td>\n",
       "      <td>Acton Vale</td>\n",
       "    </tr>\n",
       "    <tr>\n",
       "      <th>2</th>\n",
       "      <td>12</td>\n",
       "      <td>Adstock</td>\n",
       "    </tr>\n",
       "    <tr>\n",
       "      <th>3</th>\n",
       "      <td>1</td>\n",
       "      <td>Aguanish</td>\n",
       "    </tr>\n",
       "    <tr>\n",
       "      <th>4</th>\n",
       "      <td>823</td>\n",
       "      <td>Ahuntsic</td>\n",
       "    </tr>\n",
       "    <tr>\n",
       "      <th>5</th>\n",
       "      <td>10</td>\n",
       "      <td>Albanel</td>\n",
       "    </tr>\n",
       "    <tr>\n",
       "      <th>6</th>\n",
       "      <td>1</td>\n",
       "      <td>Albertville</td>\n",
       "    </tr>\n",
       "    <tr>\n",
       "      <th>7</th>\n",
       "      <td>1</td>\n",
       "      <td>Alleyn-Et-Cawood</td>\n",
       "    </tr>\n",
       "    <tr>\n",
       "      <th>8</th>\n",
       "      <td>627</td>\n",
       "      <td>Alma</td>\n",
       "    </tr>\n",
       "    <tr>\n",
       "      <th>9</th>\n",
       "      <td>25</td>\n",
       "      <td>Amherst</td>\n",
       "    </tr>\n",
       "  </tbody>\n",
       "</table>\n",
       "</div>"
      ],
      "text/plain": [
       "   Nb of listings          location\n",
       "0               2          Abercorn\n",
       "1              66        Acton Vale\n",
       "2              12           Adstock\n",
       "3               1          Aguanish\n",
       "4             823          Ahuntsic\n",
       "5              10           Albanel\n",
       "6               1       Albertville\n",
       "7               1  Alleyn-Et-Cawood\n",
       "8             627              Alma\n",
       "9              25           Amherst"
      ]
     },
     "execution_count": 39,
     "metadata": {},
     "output_type": "execute_result"
    }
   ],
   "source": [
    "raw_locations.to_csv('../data/processed/visualization/raw-locations-dist.csv', index=False)\n",
    "raw_locations.head(10)"
   ]
  },
  {
   "cell_type": "code",
   "execution_count": 40,
   "metadata": {},
   "outputs": [
    {
     "name": "stderr",
     "output_type": "stream",
     "text": [
      "c:\\Users\\simka\\Documents\\GitHub\\quebec-real-estate\\venv\\lib\\site-packages\\seaborn\\axisgrid.py:38: UserWarning: FixedFormatter should only be used together with FixedLocator\n",
      "  ax.set(**kwargs)\n"
     ]
    },
    {
     "data": {
      "image/png": "[encoded data removed]",
      "text/plain": [
       "<Figure size 864x576 with 1 Axes>"
      ]
     },
     "metadata": {},
     "output_type": "display_data"
    }
   ],
   "source": [
    "ax = sns.displot(raw_locations, x='Nb of listings', stat=\"percent\", fill=True, height=8, aspect=1.5, linewidth=0, color=plt_color)\n",
    "ax.set(xscale=\"log\")\n",
    "ax.set(xlabel=\"Number of listings per location\", xticklabels=[\"0\", \"0\", \"10\", \"100\", \"1000\", \"10000\"])\n",
    "plt.savefig('./figures/preprocessing/raw-locations-dist.png', transparent=True)"
   ]
  },
  {
   "cell_type": "markdown",
   "metadata": {},
   "source": [
    "Format Raw Location Strings like in the location mapping notebook"
   ]
  },
  {
   "cell_type": "code",
   "execution_count": 41,
   "metadata": {},
   "outputs": [],
   "source": [
    "listings_df['location'] = listings_df['location'].str.replace('St-', 'Saint-')\n",
    "listings_df['location'] = listings_df['location'].str.replace('Ste-', 'Sainte-')\n",
    "listings_df['location'] = listings_df['location'].str.replace('Sts-', 'Saints-')\n",
    "listings_df['location'] = listings_df['location'].str.replace('ND-', 'Notre-Dame-')\n",
    "listings_df['location'] = listings_df['location'].str.replace('JC', 'Jacques-Cartier')"
   ]
  },
  {
   "cell_type": "code",
   "execution_count": 42,
   "metadata": {},
   "outputs": [],
   "source": [
    "unknown_locations_dict = {\n",
    "    \"Saint-Denis-sur-Mer\": \"Saint-Denis\",\n",
    "    \"Saint-Simon-De-Rimouski\": \"Saint-Simon\",\n",
    "    \"Saint-Guillaume-D'Upton\": \"Saint-Guillaume\",\n",
    "    \"Saint-Joseph-De-Ham-Sud\": \"Ham-Sud\",\n",
    "    \"Saint-Adelphe-De-Champlain\": \"Saint-Adelphe\",\n",
    "    \"Saint-Mathieu-De-Laprairie\": \"Saint-Mathieu\",\n",
    "    \"Saint-Isidore-De-Laprairie\": \"Saint-Isidore\",\n",
    "    \"Saint-Stanislas-De-Champlain\": \"Saint-Denis\",\n",
    "    \"Saint-Sebastien-De-Frontenac\": \"Saint-Sebastien\",\n",
    "    \"Sainte-Francoise-De-Lotbiniere\": \"Saint-Francoise\",\n",
    "    \"Saint-Donat-De-Rimouski\": \"Rimouski\",\n",
    "    \"Sheenboro\": \"Pontiac\",\n",
    "    \"Mercier\": \"Hochelaga\", \n",
    "    \"Mont-Royal\": \"Ville de Mont-Royal\",\n",
    "    \"Rosemont\": \"Rosemont-La Petite-Patrie\",\n",
    "    \"Rivière des Prairies\": \"Rivière-des-Prairies-Pointe-aux-Trembles\",\n",
    "    \"Pointe-Aux-Trembles\": \"Rivière-des-Prairies-Pointe-aux-Trembles\",\n",
    "    \"Côte-des-Neiges\": \"Côte-des-Neiges–Notre-Dame-de-Grâce\"\n",
    "}\n",
    "\n",
    "listings_df = listings_df.replace({'location': unknown_locations_dict})"
   ]
  },
  {
   "cell_type": "markdown",
   "metadata": {},
   "source": [
    "Read Data"
   ]
  },
  {
   "cell_type": "code",
   "execution_count": 43,
   "metadata": {},
   "outputs": [],
   "source": [
    "# Geographical Boundaries DataFrame\n",
    "boundaries_df = pd.read_csv('../data/references/handmade/bounding-territories.csv')\n",
    "boundaries_df = boundaries_df[[\"Display Name\"]]\n",
    "\n",
    "# Mapper\n",
    "with open('../data/processed/locations/location-mapper.pkl', 'rb') as f:\n",
    "    location_mapper = pickle.load(f)"
   ]
  },
  {
   "cell_type": "code",
   "execution_count": 44,
   "metadata": {},
   "outputs": [
    {
     "data": {
      "text/plain": [
       "112"
      ]
     },
     "execution_count": 44,
     "metadata": {},
     "output_type": "execute_result"
    }
   ],
   "source": [
    "len(set(location_mapper.values()))"
   ]
  },
  {
   "cell_type": "markdown",
   "metadata": {},
   "source": [
    "Replace locations using pre defined mapper."
   ]
  },
  {
   "cell_type": "code",
   "execution_count": 45,
   "metadata": {},
   "outputs": [
    {
     "name": "stdout",
     "output_type": "stream",
     "text": [
      "111\n"
     ]
    }
   ],
   "source": [
    "listings_df = listings_df.replace({'location': location_mapper}).rename(columns={\"location\": \"Location\"})\n",
    "print(len(listings_df[\"Location\"].unique()))"
   ]
  },
  {
   "cell_type": "code",
   "execution_count": 46,
   "metadata": {},
   "outputs": [
    {
     "data": {
      "text/html": [
       "<div>\n",
       "<style scoped>\n",
       "    .dataframe tbody tr th:only-of-type {\n",
       "        vertical-align: middle;\n",
       "    }\n",
       "\n",
       "    .dataframe tbody tr th {\n",
       "        vertical-align: top;\n",
       "    }\n",
       "\n",
       "    .dataframe thead th {\n",
       "        text-align: right;\n",
       "    }\n",
       "</style>\n",
       "<table border=\"1\" class=\"dataframe\">\n",
       "  <thead>\n",
       "    <tr style=\"text-align: right;\">\n",
       "      <th></th>\n",
       "      <th>Unnamed: 0</th>\n",
       "      <th>subtype</th>\n",
       "      <th>style</th>\n",
       "      <th>living_area</th>\n",
       "      <th>lot_dimensions</th>\n",
       "      <th>bedrooms</th>\n",
       "      <th>bathrooms</th>\n",
       "      <th>levels</th>\n",
       "      <th>Location</th>\n",
       "      <th>listing_date</th>\n",
       "      <th>year_of_construction</th>\n",
       "      <th>price</th>\n",
       "    </tr>\n",
       "  </thead>\n",
       "  <tbody>\n",
       "    <tr>\n",
       "      <th>15022</th>\n",
       "      <td>15022</td>\n",
       "      <td>Semi-detached</td>\n",
       "      <td>2 storey</td>\n",
       "      <td>1121</td>\n",
       "      <td>3999</td>\n",
       "      <td>3</td>\n",
       "      <td>1</td>\n",
       "      <td>2</td>\n",
       "      <td>Lévis</td>\n",
       "      <td>2020-06-01</td>\n",
       "      <td>1975</td>\n",
       "      <td>204000</td>\n",
       "    </tr>\n",
       "    <tr>\n",
       "      <th>74603</th>\n",
       "      <td>74603</td>\n",
       "      <td>Bungalow</td>\n",
       "      <td>Unknown</td>\n",
       "      <td>1197</td>\n",
       "      <td>30019</td>\n",
       "      <td>4</td>\n",
       "      <td>1</td>\n",
       "      <td>1</td>\n",
       "      <td>Antoine-Labelle</td>\n",
       "      <td>2013-01-01</td>\n",
       "      <td>2006</td>\n",
       "      <td>185000</td>\n",
       "    </tr>\n",
       "    <tr>\n",
       "      <th>108935</th>\n",
       "      <td>9833</td>\n",
       "      <td>Condominium</td>\n",
       "      <td>2 storey</td>\n",
       "      <td>600</td>\n",
       "      <td>9283</td>\n",
       "      <td>1</td>\n",
       "      <td>1</td>\n",
       "      <td>2</td>\n",
       "      <td>Le Sud-Ouest</td>\n",
       "      <td>2018-12-01</td>\n",
       "      <td>2011</td>\n",
       "      <td>230000</td>\n",
       "    </tr>\n",
       "    <tr>\n",
       "      <th>69210</th>\n",
       "      <td>69210</td>\n",
       "      <td>Semi-detached</td>\n",
       "      <td>Unknown</td>\n",
       "      <td>1418</td>\n",
       "      <td>2478</td>\n",
       "      <td>3</td>\n",
       "      <td>1</td>\n",
       "      <td>2</td>\n",
       "      <td>Rivière-des-Prairies-Pointe-aux-Trembles &amp; Mon...</td>\n",
       "      <td>2014-01-01</td>\n",
       "      <td>2008</td>\n",
       "      <td>337000</td>\n",
       "    </tr>\n",
       "    <tr>\n",
       "      <th>111369</th>\n",
       "      <td>12267</td>\n",
       "      <td>Condominium</td>\n",
       "      <td>Open area</td>\n",
       "      <td>1107</td>\n",
       "      <td>9283</td>\n",
       "      <td>2</td>\n",
       "      <td>1</td>\n",
       "      <td>1</td>\n",
       "      <td>Chomedey</td>\n",
       "      <td>2018-01-01</td>\n",
       "      <td>2007</td>\n",
       "      <td>225000</td>\n",
       "    </tr>\n",
       "  </tbody>\n",
       "</table>\n",
       "</div>"
      ],
      "text/plain": [
       "        Unnamed: 0        subtype      style  living_area  lot_dimensions  \\\n",
       "15022        15022  Semi-detached   2 storey         1121            3999   \n",
       "74603        74603       Bungalow    Unknown         1197           30019   \n",
       "108935        9833    Condominium   2 storey          600            9283   \n",
       "69210        69210  Semi-detached    Unknown         1418            2478   \n",
       "111369       12267    Condominium  Open area         1107            9283   \n",
       "\n",
       "        bedrooms  bathrooms  levels  \\\n",
       "15022          3          1       2   \n",
       "74603          4          1       1   \n",
       "108935         1          1       2   \n",
       "69210          3          1       2   \n",
       "111369         2          1       1   \n",
       "\n",
       "                                                 Location listing_date  \\\n",
       "15022                                               Lévis   2020-06-01   \n",
       "74603                                     Antoine-Labelle   2013-01-01   \n",
       "108935                                       Le Sud-Ouest   2018-12-01   \n",
       "69210   Rivière-des-Prairies-Pointe-aux-Trembles & Mon...   2014-01-01   \n",
       "111369                                           Chomedey   2018-01-01   \n",
       "\n",
       "        year_of_construction   price  \n",
       "15022                   1975  204000  \n",
       "74603                   2006  185000  \n",
       "108935                  2011  230000  \n",
       "69210                   2008  337000  \n",
       "111369                  2007  225000  "
      ]
     },
     "execution_count": 46,
     "metadata": {},
     "output_type": "execute_result"
    }
   ],
   "source": [
    "listings_df.sample(5)"
   ]
  },
  {
   "cell_type": "code",
   "execution_count": 47,
   "metadata": {},
   "outputs": [],
   "source": [
    "df_copy = listings_df[['Location']]\n",
    "location_df = df_copy.groupby('Location').mean().astype(int).reset_index()"
   ]
  },
  {
   "cell_type": "code",
   "execution_count": 48,
   "metadata": {},
   "outputs": [],
   "source": [
    "location_df.insert(0, 'Nb of listings', '')\n",
    "location_value_counts = df_copy['Location'].value_counts()\n",
    "location_df['Nb of listings'] = location_df['Location'].map(location_value_counts).astype(int)"
   ]
  },
  {
   "cell_type": "code",
   "execution_count": 62,
   "metadata": {},
   "outputs": [
    {
     "data": {
      "text/html": [
       "<div>\n",
       "<style scoped>\n",
       "    .dataframe tbody tr th:only-of-type {\n",
       "        vertical-align: middle;\n",
       "    }\n",
       "\n",
       "    .dataframe tbody tr th {\n",
       "        vertical-align: top;\n",
       "    }\n",
       "\n",
       "    .dataframe thead th {\n",
       "        text-align: right;\n",
       "    }\n",
       "</style>\n",
       "<table border=\"1\" class=\"dataframe\">\n",
       "  <thead>\n",
       "    <tr style=\"text-align: right;\">\n",
       "      <th></th>\n",
       "      <th>Nb of listings</th>\n",
       "      <th>Location</th>\n",
       "    </tr>\n",
       "  </thead>\n",
       "  <tbody>\n",
       "    <tr>\n",
       "      <th>0</th>\n",
       "      <td>545</td>\n",
       "      <td>Abitibi-Témiscamingue</td>\n",
       "    </tr>\n",
       "    <tr>\n",
       "      <th>1</th>\n",
       "      <td>513</td>\n",
       "      <td>Ahuntsic-Cartierville</td>\n",
       "    </tr>\n",
       "    <tr>\n",
       "      <th>2</th>\n",
       "      <td>171</td>\n",
       "      <td>Anjou</td>\n",
       "    </tr>\n",
       "    <tr>\n",
       "      <th>3</th>\n",
       "      <td>243</td>\n",
       "      <td>Antoine-Labelle</td>\n",
       "    </tr>\n",
       "    <tr>\n",
       "      <th>4</th>\n",
       "      <td>185</td>\n",
       "      <td>Argenteuil</td>\n",
       "    </tr>\n",
       "    <tr>\n",
       "      <th>5</th>\n",
       "      <td>852</td>\n",
       "      <td>Arthabaska &amp; L'Érable</td>\n",
       "    </tr>\n",
       "    <tr>\n",
       "      <th>6</th>\n",
       "      <td>744</td>\n",
       "      <td>Auteuil</td>\n",
       "    </tr>\n",
       "    <tr>\n",
       "      <th>7</th>\n",
       "      <td>991</td>\n",
       "      <td>Aylmer</td>\n",
       "    </tr>\n",
       "    <tr>\n",
       "      <th>8</th>\n",
       "      <td>1419</td>\n",
       "      <td>Bas-Saint-Laurent</td>\n",
       "    </tr>\n",
       "    <tr>\n",
       "      <th>9</th>\n",
       "      <td>36</td>\n",
       "      <td>Beaconsfield</td>\n",
       "    </tr>\n",
       "  </tbody>\n",
       "</table>\n",
       "</div>"
      ],
      "text/plain": [
       "   Nb of listings               Location\n",
       "0             545  Abitibi-Témiscamingue\n",
       "1             513  Ahuntsic-Cartierville\n",
       "2             171                  Anjou\n",
       "3             243        Antoine-Labelle\n",
       "4             185             Argenteuil\n",
       "5             852  Arthabaska & L'Érable\n",
       "6             744                Auteuil\n",
       "7             991                 Aylmer\n",
       "8            1419      Bas-Saint-Laurent\n",
       "9              36           Beaconsfield"
      ]
     },
     "execution_count": 62,
     "metadata": {},
     "output_type": "execute_result"
    }
   ],
   "source": [
    "location_df.to_csv('../data/processed/visualization/locations-dist.csv', index=False)\n",
    "location_df.head(10)"
   ]
  },
  {
   "cell_type": "code",
   "execution_count": 50,
   "metadata": {},
   "outputs": [
    {
     "data": {
      "image/png": "[encoded data removed]",
      "text/plain": [
       "<Figure size 864x576 with 1 Axes>"
      ]
     },
     "metadata": {},
     "output_type": "display_data"
    }
   ],
   "source": [
    "ax = sns.displot(location_df, x='Nb of listings', stat=\"percent\", fill=True, height=8, aspect=1.5, linewidth=0, color=plt_color)\n",
    "plt.savefig('./figures/preprocessing/locations-dist.png', transparent=True)"
   ]
  },
  {
   "cell_type": "markdown",
   "metadata": {},
   "source": [
    "### New Columns"
   ]
  },
  {
   "cell_type": "markdown",
   "metadata": {},
   "source": [
    "Listing Year"
   ]
  },
  {
   "cell_type": "code",
   "execution_count": 51,
   "metadata": {},
   "outputs": [],
   "source": [
    "listings_df.insert(8, 'listing_year', '')\n",
    "listings_df['listing_year'] = pd.DatetimeIndex(listings_df['listing_date']).year\n",
    "listings_df = listings_df[listings_df['listing_year'] <= 2021]\n",
    "\n",
    "listings_df['listing_year'] = listings_df['listing_year'].astype(int)"
   ]
  },
  {
   "cell_type": "markdown",
   "metadata": {},
   "source": [
    "Age"
   ]
  },
  {
   "cell_type": "code",
   "execution_count": 52,
   "metadata": {},
   "outputs": [],
   "source": [
    "listings_df.insert(9, 'age', '')\n",
    "listings_df['age'] = listings_df['listing_year'] - listings_df['year_of_construction']\n",
    "listings_df = listings_df[listings_df['age'] >= 0]\n",
    "\n",
    "listings_df['age'] = listings_df['age'].astype(int)"
   ]
  },
  {
   "cell_type": "markdown",
   "metadata": {},
   "source": [
    "Yard Area"
   ]
  },
  {
   "cell_type": "code",
   "execution_count": 53,
   "metadata": {},
   "outputs": [],
   "source": [
    "listings_df.insert(10, 'yard_area', '')\n",
    "listings_df['yard_area'] = listings_df['lot_dimensions'] - listings_df['living_area']\n",
    "listings_df['yard_area'] = listings_df['yard_area'].mask(listings_df['yard_area'].lt(0), 0)\n",
    "\n",
    "listings_df['yard_area'] = listings_df['yard_area'].astype(int)"
   ]
  },
  {
   "cell_type": "markdown",
   "metadata": {},
   "source": [
    "### Rearrange and Rename Columns"
   ]
  },
  {
   "cell_type": "code",
   "execution_count": 54,
   "metadata": {},
   "outputs": [],
   "source": [
    "listings_df = listings_df[[\"subtype\", \"style\", \"living_area\", \"lot_dimensions\", \"bedrooms\", \"bathrooms\",\n",
    "                           \"levels\", \"listing_date\", \"listing_year\", \"year_of_construction\", \"age\", \"Location\", \"price\"]]"
   ]
  },
  {
   "cell_type": "code",
   "execution_count": 55,
   "metadata": {},
   "outputs": [],
   "source": [
    "listings_df = listings_df.rename(columns={\"subtype\": \"Subtype\", \"style\": \"Style\", \"living_area\": \"Living Area\", \"lot_dimensions\": \"Lot Dimensions\", \"bedrooms\": \"Bedrooms\",\n",
    "                                 \"bathrooms\": \"Bathrooms\", \"levels\": \"Levels\", \"listing_date\": \"Listing Date\", \"listing_year\": \"Listing Year\", \"year_of_construction\": \"Year of Construction\", \"age\": \"Age\", \"price\": \"Price\"})\n"
   ]
  },
  {
   "cell_type": "markdown",
   "metadata": {},
   "source": [
    "### Save Data"
   ]
  },
  {
   "cell_type": "code",
   "execution_count": 56,
   "metadata": {},
   "outputs": [
    {
     "name": "stdout",
     "output_type": "stream",
     "text": [
      "Original Data Length: 128215\n",
      "Processed Data Length: 88962\n"
     ]
    }
   ],
   "source": [
    "print(\"Original Data Length: \" + str(len(raw_listings)))\n",
    "print(\"Processed Data Length: \" + str(len(listings_df)))"
   ]
  },
  {
   "cell_type": "code",
   "execution_count": 57,
   "metadata": {},
   "outputs": [],
   "source": [
    "listings_df.to_csv('../data/processed/processed-listings.csv', index=False)"
   ]
  },
  {
   "cell_type": "code",
   "execution_count": 58,
   "metadata": {},
   "outputs": [],
   "source": [
    "locations = listings_df['Location'].unique()"
   ]
  },
  {
   "cell_type": "code",
   "execution_count": 59,
   "metadata": {},
   "outputs": [
    {
     "data": {
      "text/plain": [
       "111"
      ]
     },
     "execution_count": 59,
     "metadata": {},
     "output_type": "execute_result"
    }
   ],
   "source": [
    "len(locations)"
   ]
  },
  {
   "cell_type": "code",
   "execution_count": 60,
   "metadata": {},
   "outputs": [
    {
     "data": {
      "text/html": [
       "<div>\n",
       "<style scoped>\n",
       "    .dataframe tbody tr th:only-of-type {\n",
       "        vertical-align: middle;\n",
       "    }\n",
       "\n",
       "    .dataframe tbody tr th {\n",
       "        vertical-align: top;\n",
       "    }\n",
       "\n",
       "    .dataframe thead th {\n",
       "        text-align: right;\n",
       "    }\n",
       "</style>\n",
       "<table border=\"1\" class=\"dataframe\">\n",
       "  <thead>\n",
       "    <tr style=\"text-align: right;\">\n",
       "      <th></th>\n",
       "      <th>Subtype</th>\n",
       "      <th>Style</th>\n",
       "      <th>Living Area</th>\n",
       "      <th>Lot Dimensions</th>\n",
       "      <th>Bedrooms</th>\n",
       "      <th>Bathrooms</th>\n",
       "      <th>Levels</th>\n",
       "      <th>Listing Date</th>\n",
       "      <th>Listing Year</th>\n",
       "      <th>Year of Construction</th>\n",
       "      <th>Age</th>\n",
       "      <th>Location</th>\n",
       "      <th>Price</th>\n",
       "    </tr>\n",
       "  </thead>\n",
       "  <tbody>\n",
       "    <tr>\n",
       "      <th>36473</th>\n",
       "      <td>2 Storey</td>\n",
       "      <td>Open area</td>\n",
       "      <td>1450</td>\n",
       "      <td>5013</td>\n",
       "      <td>3</td>\n",
       "      <td>2</td>\n",
       "      <td>2</td>\n",
       "      <td>2018-05-01</td>\n",
       "      <td>2018</td>\n",
       "      <td>1989</td>\n",
       "      <td>29</td>\n",
       "      <td>Gatineau</td>\n",
       "      <td>369900</td>\n",
       "    </tr>\n",
       "    <tr>\n",
       "      <th>79952</th>\n",
       "      <td>2 Storey</td>\n",
       "      <td>2 storey</td>\n",
       "      <td>1456</td>\n",
       "      <td>7083</td>\n",
       "      <td>3</td>\n",
       "      <td>2</td>\n",
       "      <td>2</td>\n",
       "      <td>2012-02-01</td>\n",
       "      <td>2012</td>\n",
       "      <td>2007</td>\n",
       "      <td>5</td>\n",
       "      <td>L'Ancienne-Lorette</td>\n",
       "      <td>378000</td>\n",
       "    </tr>\n",
       "    <tr>\n",
       "      <th>115698</th>\n",
       "      <td>Condominium</td>\n",
       "      <td>Divided Co-Ownership</td>\n",
       "      <td>1087</td>\n",
       "      <td>2484</td>\n",
       "      <td>3</td>\n",
       "      <td>1</td>\n",
       "      <td>1</td>\n",
       "      <td>2016-03-01</td>\n",
       "      <td>2016</td>\n",
       "      <td>1910</td>\n",
       "      <td>106</td>\n",
       "      <td>Ahuntsic-Cartierville</td>\n",
       "      <td>335000</td>\n",
       "    </tr>\n",
       "    <tr>\n",
       "      <th>56223</th>\n",
       "      <td>Bungalow</td>\n",
       "      <td>Open area</td>\n",
       "      <td>1700</td>\n",
       "      <td>7500</td>\n",
       "      <td>4</td>\n",
       "      <td>2</td>\n",
       "      <td>1</td>\n",
       "      <td>2015-06-01</td>\n",
       "      <td>2015</td>\n",
       "      <td>2014</td>\n",
       "      <td>1</td>\n",
       "      <td>Matawinie</td>\n",
       "      <td>255000</td>\n",
       "    </tr>\n",
       "    <tr>\n",
       "      <th>20485</th>\n",
       "      <td>Bungalow</td>\n",
       "      <td>Rural</td>\n",
       "      <td>1076</td>\n",
       "      <td>45866</td>\n",
       "      <td>3</td>\n",
       "      <td>2</td>\n",
       "      <td>1</td>\n",
       "      <td>2020-02-01</td>\n",
       "      <td>2020</td>\n",
       "      <td>2009</td>\n",
       "      <td>11</td>\n",
       "      <td>La Rivière-du-Nord</td>\n",
       "      <td>288000</td>\n",
       "    </tr>\n",
       "    <tr>\n",
       "      <th>73966</th>\n",
       "      <td>2 Storey</td>\n",
       "      <td>2 storey</td>\n",
       "      <td>1516</td>\n",
       "      <td>7321</td>\n",
       "      <td>5</td>\n",
       "      <td>2</td>\n",
       "      <td>2</td>\n",
       "      <td>2012-06-01</td>\n",
       "      <td>2012</td>\n",
       "      <td>1990</td>\n",
       "      <td>22</td>\n",
       "      <td>L'Ancienne-Lorette</td>\n",
       "      <td>345000</td>\n",
       "    </tr>\n",
       "    <tr>\n",
       "      <th>1444</th>\n",
       "      <td>Bungalow</td>\n",
       "      <td>Unknown</td>\n",
       "      <td>1050</td>\n",
       "      <td>9100</td>\n",
       "      <td>4</td>\n",
       "      <td>2</td>\n",
       "      <td>1</td>\n",
       "      <td>2021-09-01</td>\n",
       "      <td>2021</td>\n",
       "      <td>1965</td>\n",
       "      <td>56</td>\n",
       "      <td>Drummond</td>\n",
       "      <td>287000</td>\n",
       "    </tr>\n",
       "    <tr>\n",
       "      <th>97782</th>\n",
       "      <td>2 Storey</td>\n",
       "      <td>Rural</td>\n",
       "      <td>1680</td>\n",
       "      <td>9283</td>\n",
       "      <td>3</td>\n",
       "      <td>1</td>\n",
       "      <td>2</td>\n",
       "      <td>2006-02-01</td>\n",
       "      <td>2006</td>\n",
       "      <td>2004</td>\n",
       "      <td>2</td>\n",
       "      <td>Beauce &amp; Les Etchemins</td>\n",
       "      <td>186000</td>\n",
       "    </tr>\n",
       "    <tr>\n",
       "      <th>7986</th>\n",
       "      <td>Split Level</td>\n",
       "      <td>Side split</td>\n",
       "      <td>1382</td>\n",
       "      <td>11914</td>\n",
       "      <td>3</td>\n",
       "      <td>1</td>\n",
       "      <td>2</td>\n",
       "      <td>2021-01-01</td>\n",
       "      <td>2021</td>\n",
       "      <td>1965</td>\n",
       "      <td>56</td>\n",
       "      <td>Brome-Missisquoi</td>\n",
       "      <td>346000</td>\n",
       "    </tr>\n",
       "    <tr>\n",
       "      <th>100187</th>\n",
       "      <td>Condominium</td>\n",
       "      <td>Divided Co-Ownership</td>\n",
       "      <td>520</td>\n",
       "      <td>9283</td>\n",
       "      <td>1</td>\n",
       "      <td>1</td>\n",
       "      <td>1</td>\n",
       "      <td>2021-07-01</td>\n",
       "      <td>2021</td>\n",
       "      <td>1992</td>\n",
       "      <td>29</td>\n",
       "      <td>Mercier-Hochelaga-Maisonneuve</td>\n",
       "      <td>214000</td>\n",
       "    </tr>\n",
       "    <tr>\n",
       "      <th>123426</th>\n",
       "      <td>Condominium</td>\n",
       "      <td>Divided Co-Ownership</td>\n",
       "      <td>1100</td>\n",
       "      <td>9283</td>\n",
       "      <td>2</td>\n",
       "      <td>1</td>\n",
       "      <td>3</td>\n",
       "      <td>2011-10-01</td>\n",
       "      <td>2011</td>\n",
       "      <td>2010</td>\n",
       "      <td>1</td>\n",
       "      <td>Beauport</td>\n",
       "      <td>185000</td>\n",
       "    </tr>\n",
       "    <tr>\n",
       "      <th>63578</th>\n",
       "      <td>Bungalow</td>\n",
       "      <td>Open area</td>\n",
       "      <td>1016</td>\n",
       "      <td>4499</td>\n",
       "      <td>4</td>\n",
       "      <td>2</td>\n",
       "      <td>1</td>\n",
       "      <td>2014-10-01</td>\n",
       "      <td>2014</td>\n",
       "      <td>1985</td>\n",
       "      <td>29</td>\n",
       "      <td>Vimont</td>\n",
       "      <td>337000</td>\n",
       "    </tr>\n",
       "    <tr>\n",
       "      <th>128187</th>\n",
       "      <td>Condominium</td>\n",
       "      <td>Unknown</td>\n",
       "      <td>1030</td>\n",
       "      <td>9283</td>\n",
       "      <td>2</td>\n",
       "      <td>1</td>\n",
       "      <td>1</td>\n",
       "      <td>2004-10-01</td>\n",
       "      <td>2004</td>\n",
       "      <td>1977</td>\n",
       "      <td>27</td>\n",
       "      <td>Sainte-Foy-Sillery-Cap-Rouge</td>\n",
       "      <td>106000</td>\n",
       "    </tr>\n",
       "    <tr>\n",
       "      <th>70110</th>\n",
       "      <td>Mobile home</td>\n",
       "      <td>Mobile home</td>\n",
       "      <td>990</td>\n",
       "      <td>25000</td>\n",
       "      <td>1</td>\n",
       "      <td>1</td>\n",
       "      <td>1</td>\n",
       "      <td>2013-06-01</td>\n",
       "      <td>2013</td>\n",
       "      <td>1970</td>\n",
       "      <td>43</td>\n",
       "      <td>Les Maskoutains &amp; Acton</td>\n",
       "      <td>55000</td>\n",
       "    </tr>\n",
       "    <tr>\n",
       "      <th>89154</th>\n",
       "      <td>Bungalow</td>\n",
       "      <td>Open area</td>\n",
       "      <td>1068</td>\n",
       "      <td>8000</td>\n",
       "      <td>3</td>\n",
       "      <td>2</td>\n",
       "      <td>1</td>\n",
       "      <td>2010-02-01</td>\n",
       "      <td>2010</td>\n",
       "      <td>2008</td>\n",
       "      <td>2</td>\n",
       "      <td>La Jacques-Cartier</td>\n",
       "      <td>244000</td>\n",
       "    </tr>\n",
       "    <tr>\n",
       "      <th>65304</th>\n",
       "      <td>Bungalow</td>\n",
       "      <td>Open area</td>\n",
       "      <td>896</td>\n",
       "      <td>9283</td>\n",
       "      <td>3</td>\n",
       "      <td>2</td>\n",
       "      <td>1</td>\n",
       "      <td>2014-08-01</td>\n",
       "      <td>2014</td>\n",
       "      <td>2007</td>\n",
       "      <td>7</td>\n",
       "      <td>Les Laurentides</td>\n",
       "      <td>255000</td>\n",
       "    </tr>\n",
       "    <tr>\n",
       "      <th>94979</th>\n",
       "      <td>2 Storey</td>\n",
       "      <td>New house</td>\n",
       "      <td>1922</td>\n",
       "      <td>10125</td>\n",
       "      <td>3</td>\n",
       "      <td>1</td>\n",
       "      <td>2</td>\n",
       "      <td>2007-12-01</td>\n",
       "      <td>2007</td>\n",
       "      <td>2007</td>\n",
       "      <td>0</td>\n",
       "      <td>Sherbrooke</td>\n",
       "      <td>235000</td>\n",
       "    </tr>\n",
       "    <tr>\n",
       "      <th>98302</th>\n",
       "      <td>2 Storey</td>\n",
       "      <td>Rural</td>\n",
       "      <td>2368</td>\n",
       "      <td>9600</td>\n",
       "      <td>4</td>\n",
       "      <td>1</td>\n",
       "      <td>2</td>\n",
       "      <td>2005-12-01</td>\n",
       "      <td>2005</td>\n",
       "      <td>2004</td>\n",
       "      <td>1</td>\n",
       "      <td>La Vallée-du-Richelieu</td>\n",
       "      <td>253000</td>\n",
       "    </tr>\n",
       "    <tr>\n",
       "      <th>91992</th>\n",
       "      <td>Bungalow</td>\n",
       "      <td>Open area</td>\n",
       "      <td>1440</td>\n",
       "      <td>6431</td>\n",
       "      <td>3</td>\n",
       "      <td>2</td>\n",
       "      <td>1</td>\n",
       "      <td>2009-04-01</td>\n",
       "      <td>2009</td>\n",
       "      <td>2000</td>\n",
       "      <td>9</td>\n",
       "      <td>Gatineau</td>\n",
       "      <td>332000</td>\n",
       "    </tr>\n",
       "    <tr>\n",
       "      <th>64152</th>\n",
       "      <td>Bungalow</td>\n",
       "      <td>Rural</td>\n",
       "      <td>1778</td>\n",
       "      <td>21900</td>\n",
       "      <td>5</td>\n",
       "      <td>2</td>\n",
       "      <td>1</td>\n",
       "      <td>2014-10-01</td>\n",
       "      <td>2014</td>\n",
       "      <td>2008</td>\n",
       "      <td>6</td>\n",
       "      <td>La Rivière-du-Nord</td>\n",
       "      <td>380000</td>\n",
       "    </tr>\n",
       "  </tbody>\n",
       "</table>\n",
       "</div>"
      ],
      "text/plain": [
       "            Subtype                 Style  Living Area  Lot Dimensions  \\\n",
       "36473      2 Storey             Open area         1450            5013   \n",
       "79952      2 Storey              2 storey         1456            7083   \n",
       "115698  Condominium  Divided Co-Ownership         1087            2484   \n",
       "56223      Bungalow             Open area         1700            7500   \n",
       "20485      Bungalow                 Rural         1076           45866   \n",
       "73966      2 Storey              2 storey         1516            7321   \n",
       "1444       Bungalow               Unknown         1050            9100   \n",
       "97782      2 Storey                 Rural         1680            9283   \n",
       "7986    Split Level            Side split         1382           11914   \n",
       "100187  Condominium  Divided Co-Ownership          520            9283   \n",
       "123426  Condominium  Divided Co-Ownership         1100            9283   \n",
       "63578      Bungalow             Open area         1016            4499   \n",
       "128187  Condominium               Unknown         1030            9283   \n",
       "70110   Mobile home           Mobile home          990           25000   \n",
       "89154      Bungalow             Open area         1068            8000   \n",
       "65304      Bungalow             Open area          896            9283   \n",
       "94979      2 Storey             New house         1922           10125   \n",
       "98302      2 Storey                 Rural         2368            9600   \n",
       "91992      Bungalow             Open area         1440            6431   \n",
       "64152      Bungalow                 Rural         1778           21900   \n",
       "\n",
       "        Bedrooms  Bathrooms  Levels Listing Date  Listing Year  \\\n",
       "36473          3          2       2   2018-05-01          2018   \n",
       "79952          3          2       2   2012-02-01          2012   \n",
       "115698         3          1       1   2016-03-01          2016   \n",
       "56223          4          2       1   2015-06-01          2015   \n",
       "20485          3          2       1   2020-02-01          2020   \n",
       "73966          5          2       2   2012-06-01          2012   \n",
       "1444           4          2       1   2021-09-01          2021   \n",
       "97782          3          1       2   2006-02-01          2006   \n",
       "7986           3          1       2   2021-01-01          2021   \n",
       "100187         1          1       1   2021-07-01          2021   \n",
       "123426         2          1       3   2011-10-01          2011   \n",
       "63578          4          2       1   2014-10-01          2014   \n",
       "128187         2          1       1   2004-10-01          2004   \n",
       "70110          1          1       1   2013-06-01          2013   \n",
       "89154          3          2       1   2010-02-01          2010   \n",
       "65304          3          2       1   2014-08-01          2014   \n",
       "94979          3          1       2   2007-12-01          2007   \n",
       "98302          4          1       2   2005-12-01          2005   \n",
       "91992          3          2       1   2009-04-01          2009   \n",
       "64152          5          2       1   2014-10-01          2014   \n",
       "\n",
       "        Year of Construction  Age                       Location   Price  \n",
       "36473                   1989   29                       Gatineau  369900  \n",
       "79952                   2007    5             L'Ancienne-Lorette  378000  \n",
       "115698                  1910  106          Ahuntsic-Cartierville  335000  \n",
       "56223                   2014    1                      Matawinie  255000  \n",
       "20485                   2009   11             La Rivière-du-Nord  288000  \n",
       "73966                   1990   22             L'Ancienne-Lorette  345000  \n",
       "1444                    1965   56                       Drummond  287000  \n",
       "97782                   2004    2         Beauce & Les Etchemins  186000  \n",
       "7986                    1965   56               Brome-Missisquoi  346000  \n",
       "100187                  1992   29  Mercier-Hochelaga-Maisonneuve  214000  \n",
       "123426                  2010    1                       Beauport  185000  \n",
       "63578                   1985   29                         Vimont  337000  \n",
       "128187                  1977   27   Sainte-Foy-Sillery-Cap-Rouge  106000  \n",
       "70110                   1970   43        Les Maskoutains & Acton   55000  \n",
       "89154                   2008    2             La Jacques-Cartier  244000  \n",
       "65304                   2007    7                Les Laurentides  255000  \n",
       "94979                   2007    0                     Sherbrooke  235000  \n",
       "98302                   2004    1         La Vallée-du-Richelieu  253000  \n",
       "91992                   2000    9                       Gatineau  332000  \n",
       "64152                   2008    6             La Rivière-du-Nord  380000  "
      ]
     },
     "execution_count": 60,
     "metadata": {},
     "output_type": "execute_result"
    }
   ],
   "source": [
    "listings_df.sample(20)"
   ]
  }
 ],
 "metadata": {
  "kernelspec": {
   "display_name": "Python 3.10.4 ('venv': venv)",
   "language": "python",
   "name": "python3"
  },
  "language_info": {
   "codemirror_mode": {
    "name": "ipython",
    "version": 3
   },
   "file_extension": ".py",
   "mimetype": "text/x-python",
   "name": "python",
   "nbconvert_exporter": "python",
   "pygments_lexer": "ipython3",
   "version": "3.10.4"
  },
  "orig_nbformat": 4,
  "vscode": {
   "interpreter": {
    "hash": "35baa29fccf03004b73c6d7efa1229fc55fcd4d7e436d14040fdb80c99cecdea"
   }
  }
 },
 "nbformat": 4,
 "nbformat_minor": 2
}
