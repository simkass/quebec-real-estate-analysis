{
 "cells": [
  {
   "cell_type": "markdown",
   "metadata": {},
   "source": [
    "# Preprocessing\n",
    "Preprocess raw listings to use in visualization and model training notebooks"
   ]
  },
  {
   "cell_type": "code",
   "execution_count": 1,
   "metadata": {},
   "outputs": [],
   "source": [
    "import pickle\n",
    "import pandas as pd\n",
    "import seaborn as sns\n",
    "import matplotlib.pyplot as plt\n",
    "\n",
    "from IPython.display import display"
   ]
  },
  {
   "cell_type": "markdown",
   "metadata": {},
   "source": [
    "### Read Raw Listings\n",
    "Read Home and Condo raw listings."
   ]
  },
  {
   "cell_type": "code",
   "execution_count": 2,
   "metadata": {},
   "outputs": [
    {
     "data": {
      "text/html": [
       "<div>\n",
       "<style scoped>\n",
       "    .dataframe tbody tr th:only-of-type {\n",
       "        vertical-align: middle;\n",
       "    }\n",
       "\n",
       "    .dataframe tbody tr th {\n",
       "        vertical-align: top;\n",
       "    }\n",
       "\n",
       "    .dataframe thead th {\n",
       "        text-align: right;\n",
       "    }\n",
       "</style>\n",
       "<table border=\"1\" class=\"dataframe\">\n",
       "  <thead>\n",
       "    <tr style=\"text-align: right;\">\n",
       "      <th></th>\n",
       "      <th>subtype</th>\n",
       "      <th>style</th>\n",
       "      <th>living_area</th>\n",
       "      <th>lot_dimensions</th>\n",
       "      <th>bedrooms</th>\n",
       "      <th>bathrooms</th>\n",
       "      <th>levels</th>\n",
       "      <th>location</th>\n",
       "      <th>listing_date</th>\n",
       "      <th>year_of_construction</th>\n",
       "      <th>municipal_eval</th>\n",
       "      <th>price</th>\n",
       "    </tr>\n",
       "  </thead>\n",
       "  <tbody>\n",
       "    <tr>\n",
       "      <th>0</th>\n",
       "      <td>2 Storey</td>\n",
       "      <td>2 storey</td>\n",
       "      <td>1191.3</td>\n",
       "      <td>4076.29</td>\n",
       "      <td>3.0</td>\n",
       "      <td>1.0</td>\n",
       "      <td>2.0</td>\n",
       "      <td>Beauport</td>\n",
       "      <td>202012.0</td>\n",
       "      <td>2004.0</td>\n",
       "      <td>256000.0</td>\n",
       "      <td>332500.0</td>\n",
       "    </tr>\n",
       "    <tr>\n",
       "      <th>1</th>\n",
       "      <td>Bungalow</td>\n",
       "      <td>Open area</td>\n",
       "      <td>1261.0</td>\n",
       "      <td>9500.00</td>\n",
       "      <td>2.0</td>\n",
       "      <td>1.0</td>\n",
       "      <td>1.0</td>\n",
       "      <td>Deschambault</td>\n",
       "      <td>202112.0</td>\n",
       "      <td>1957.0</td>\n",
       "      <td>150500.0</td>\n",
       "      <td>265000.0</td>\n",
       "    </tr>\n",
       "    <tr>\n",
       "      <th>2</th>\n",
       "      <td>Townhouse</td>\n",
       "      <td>NaN</td>\n",
       "      <td>1645.0</td>\n",
       "      <td>1360.00</td>\n",
       "      <td>3.0</td>\n",
       "      <td>1.0</td>\n",
       "      <td>3.0</td>\n",
       "      <td>Mercier</td>\n",
       "      <td>202111.0</td>\n",
       "      <td>2006.0</td>\n",
       "      <td>479400.0</td>\n",
       "      <td>612000.0</td>\n",
       "    </tr>\n",
       "    <tr>\n",
       "      <th>3</th>\n",
       "      <td>Bi-generation</td>\n",
       "      <td>Link</td>\n",
       "      <td>2024.0</td>\n",
       "      <td>17000.00</td>\n",
       "      <td>4.0</td>\n",
       "      <td>3.0</td>\n",
       "      <td>1.0</td>\n",
       "      <td>Stoneham</td>\n",
       "      <td>202112.0</td>\n",
       "      <td>2019.0</td>\n",
       "      <td>NaN</td>\n",
       "      <td>526500.0</td>\n",
       "    </tr>\n",
       "    <tr>\n",
       "      <th>4</th>\n",
       "      <td>2 Storey</td>\n",
       "      <td>Waterfront</td>\n",
       "      <td>1469.0</td>\n",
       "      <td>16970.00</td>\n",
       "      <td>4.0</td>\n",
       "      <td>2.0</td>\n",
       "      <td>2.0</td>\n",
       "      <td>Trois-Rivières</td>\n",
       "      <td>202111.0</td>\n",
       "      <td>1925.0</td>\n",
       "      <td>NaN</td>\n",
       "      <td>NaN</td>\n",
       "    </tr>\n",
       "  </tbody>\n",
       "</table>\n",
       "</div>"
      ],
      "text/plain": [
       "         subtype       style  living_area  lot_dimensions  bedrooms  \\\n",
       "0       2 Storey    2 storey       1191.3         4076.29       3.0   \n",
       "1       Bungalow   Open area       1261.0         9500.00       2.0   \n",
       "2      Townhouse         NaN       1645.0         1360.00       3.0   \n",
       "3  Bi-generation        Link       2024.0        17000.00       4.0   \n",
       "4       2 Storey  Waterfront       1469.0        16970.00       4.0   \n",
       "\n",
       "   bathrooms  levels        location  listing_date  year_of_construction  \\\n",
       "0        1.0     2.0        Beauport      202012.0                2004.0   \n",
       "1        1.0     1.0    Deschambault      202112.0                1957.0   \n",
       "2        1.0     3.0         Mercier      202111.0                2006.0   \n",
       "3        3.0     1.0        Stoneham      202112.0                2019.0   \n",
       "4        2.0     2.0  Trois-Rivières      202111.0                1925.0   \n",
       "\n",
       "   municipal_eval     price  \n",
       "0        256000.0  332500.0  \n",
       "1        150500.0  265000.0  \n",
       "2        479400.0  612000.0  \n",
       "3             NaN  526500.0  \n",
       "4             NaN       NaN  "
      ]
     },
     "metadata": {},
     "output_type": "display_data"
    },
    {
     "name": "stdout",
     "output_type": "stream",
     "text": [
      "Number of listings: 169894\n"
     ]
    }
   ],
   "source": [
    "# Family Homes\n",
    "home_df = pd.read_csv('../data/raw/home_listings.csv')\n",
    "\n",
    "# Condos\n",
    "condo_df = pd.read_csv('../data/raw/condo_listings.csv')\n",
    "\n",
    "raw_listings = pd.concat([home_df, condo_df], axis=0, ignore_index=True)\n",
    "listings_df = raw_listings.copy()\n",
    "\n",
    "display(listings_df.head())\n",
    "print(\"Number of listings: \" + str(len(listings_df)))"
   ]
  },
  {
   "cell_type": "markdown",
   "metadata": {},
   "source": [
    "### Subtype\n",
    "Filter out subtypes with too few values."
   ]
  },
  {
   "cell_type": "code",
   "execution_count": 3,
   "metadata": {},
   "outputs": [
    {
     "data": {
      "text/plain": [
       "Bungalow                        48502\n",
       "2 Storey                        38477\n",
       "Condominium                     28902\n",
       "Semi-detached                   24858\n",
       "Townhouse                       10140\n",
       "Bi-generation                    8006\n",
       "Split Level                      4158\n",
       "1 1/2 Storey                     4046\n",
       "Country Home                      659\n",
       "Mobile home                       611\n",
       "Acreage / Hobby Farm / Ranch      531\n",
       "3 Storey                          363\n",
       "Manufactured home                 184\n",
       "Loft                              170\n",
       "Bi-Level                          161\n",
       "Villa                              63\n",
       "Penthouse                          41\n",
       "Misc.                              14\n",
       "4 Storey                            8\n",
       "Name: subtype, dtype: int64"
      ]
     },
     "execution_count": 3,
     "metadata": {},
     "output_type": "execute_result"
    }
   ],
   "source": [
    "listings_df['subtype'].value_counts(dropna=False)"
   ]
  },
  {
   "cell_type": "markdown",
   "metadata": {},
   "source": [
    "Keep: Bungalow, 2 Storey, Condominium, Semi-detached, Townhouse, Bi-generation, Split Level, 1 1/2 Storey"
   ]
  },
  {
   "cell_type": "code",
   "execution_count": 4,
   "metadata": {},
   "outputs": [
    {
     "name": "stdout",
     "output_type": "stream",
     "text": [
      "Number of listings: 167748\n"
     ]
    }
   ],
   "source": [
    "subtypes = listings_df['subtype'].value_counts()\n",
    "listings_df = listings_df[listings_df['subtype'].isin(subtypes.keys()[0:9])]\n",
    "\n",
    "print(\"Number of listings: \" + str(len(listings_df)))"
   ]
  },
  {
   "cell_type": "markdown",
   "metadata": {},
   "source": [
    "### Style\n",
    "Replace NaN styles with Unknown. Keep all other values."
   ]
  },
  {
   "cell_type": "code",
   "execution_count": 5,
   "metadata": {},
   "outputs": [
    {
     "data": {
      "text/plain": [
       "NaN                     33608\n",
       "2 storey                30921\n",
       "Open area               25655\n",
       "Detached                15325\n",
       "Divided Co-Ownership    12145\n",
       "Waterfront               5948\n",
       "Link                     4333\n",
       "Bungaloft                3948\n",
       "New construction         3729\n",
       "Side split               3334\n",
       "Semi-detached            3298\n",
       "Rural                    3039\n",
       "Name: style, dtype: int64"
      ]
     },
     "execution_count": 5,
     "metadata": {},
     "output_type": "execute_result"
    }
   ],
   "source": [
    "listings_df['style'].value_counts(dropna=False).iloc[0:12]"
   ]
  },
  {
   "cell_type": "code",
   "execution_count": 6,
   "metadata": {},
   "outputs": [
    {
     "name": "stdout",
     "output_type": "stream",
     "text": [
      "Number of listings: 167748\n"
     ]
    }
   ],
   "source": [
    "listings_df['style'] = listings_df['style'].fillna('Unknown')\n",
    "\n",
    "styles = listings_df['style'].value_counts()\n",
    "listings_df = listings_df[listings_df['style'].isin(styles.keys())]\n",
    "\n",
    "print(\"Number of listings: \" + str(len(listings_df)))"
   ]
  },
  {
   "cell_type": "markdown",
   "metadata": {},
   "source": [
    "### Living Area\n",
    "Remove outliers and replace NaN values with mean value."
   ]
  },
  {
   "cell_type": "code",
   "execution_count": 7,
   "metadata": {},
   "outputs": [
    {
     "data": {
      "text/plain": [
       "960.00     5363\n",
       "1800.00    4813\n",
       "1560.00    4157\n",
       "1645.00    3823\n",
       "1267.00    3816\n",
       "2024.00    3812\n",
       "1469.00    3812\n",
       "1261.00    3809\n",
       "2400.35    3801\n",
       "1191.30    3794\n",
       "Name: living_area, dtype: int64"
      ]
     },
     "execution_count": 7,
     "metadata": {},
     "output_type": "execute_result"
    }
   ],
   "source": [
    "listings_df['living_area'].value_counts(dropna=False).iloc[0:10]"
   ]
  },
  {
   "cell_type": "markdown",
   "metadata": {},
   "source": [
    "Remove Outliers"
   ]
  },
  {
   "cell_type": "code",
   "execution_count": 8,
   "metadata": {},
   "outputs": [],
   "source": [
    "min_living_area = 500\n",
    "max_living_area = 4000"
   ]
  },
  {
   "cell_type": "code",
   "execution_count": 9,
   "metadata": {},
   "outputs": [],
   "source": [
    "listings_df = listings_df[listings_df['living_area'] >= min_living_area]\n",
    "listings_df = listings_df[listings_df['living_area'] <= max_living_area]\n",
    "listings_df['living_area'] = listings_df['living_area'].astype(int)"
   ]
  },
  {
   "cell_type": "markdown",
   "metadata": {},
   "source": [
    "Replace NaNs with mean"
   ]
  },
  {
   "cell_type": "code",
   "execution_count": 10,
   "metadata": {},
   "outputs": [
    {
     "name": "stdout",
     "output_type": "stream",
     "text": [
      "Mean Living Area: 1345.422774965148\n"
     ]
    }
   ],
   "source": [
    "mean_living_area = listings_df['living_area'].dropna().mean()\n",
    "print(\"Mean Living Area: \" + str(mean_living_area))\n",
    "\n",
    "# Fill the NaN living areas with the mean value\n",
    "listings_df['living_area'] = listings_df['living_area'].fillna(mean_living_area)"
   ]
  },
  {
   "cell_type": "markdown",
   "metadata": {},
   "source": [
    "Final value distribution of living area."
   ]
  },
  {
   "cell_type": "code",
   "execution_count": 11,
   "metadata": {},
   "outputs": [
    {
     "data": {
      "image/png": "[encoded data removed]",
      "text/plain": [
       "<Figure size 540x360 with 1 Axes>"
      ]
     },
     "metadata": {
      "needs_background": "light"
     },
     "output_type": "display_data"
    }
   ],
   "source": [
    "ax = sns.displot(listings_df, x='living_area', kde=True, fill=True, bins=40, height=5, aspect=1.5, linewidth=0)\n",
    "ax.set(xlabel=\"Living Area (sq. ft)\")\n",
    "plt.savefig('./figures/living-area-hist.png', transparent=True)"
   ]
  },
  {
   "cell_type": "code",
   "execution_count": 12,
   "metadata": {},
   "outputs": [
    {
     "name": "stdout",
     "output_type": "stream",
     "text": [
      "Number of listings: 163548\n"
     ]
    }
   ],
   "source": [
    "print(\"Number of listings: \" + str(len(listings_df)))"
   ]
  },
  {
   "cell_type": "markdown",
   "metadata": {},
   "source": [
    "### Lot Dimensions\n",
    "Replace outliers and NaN values with mean."
   ]
  },
  {
   "cell_type": "code",
   "execution_count": 13,
   "metadata": {},
   "outputs": [
    {
     "data": {
      "text/plain": [
       "NaN        22806\n",
       "17000.0     3877\n",
       "9500.0      3866\n",
       "10100.0     3805\n",
       "6157.0      3804\n",
       "Name: lot_dimensions, dtype: int64"
      ]
     },
     "execution_count": 13,
     "metadata": {},
     "output_type": "execute_result"
    }
   ],
   "source": [
    "listings_df['lot_dimensions'].value_counts(dropna=False).iloc[0:5]"
   ]
  },
  {
   "cell_type": "code",
   "execution_count": 14,
   "metadata": {},
   "outputs": [
    {
     "name": "stdout",
     "output_type": "stream",
     "text": [
      "Mean Lot Dimensions: 9084.889465803617\n",
      "Mean Lot Dimensions without outliers: 7800.64033760437\n"
     ]
    }
   ],
   "source": [
    "# Mean value\n",
    "mean_lot_dimensions = listings_df[listings_df['lot_dimensions'] < 50000]['lot_dimensions'].dropna().mean()\n",
    "\n",
    "# Mean value without outliers (over 30k sq.ft)\n",
    "mean_lot_dimensions_no_outliers = listings_df[listings_df['lot_dimensions'] < 30000]['lot_dimensions'].dropna().mean()\n",
    "\n",
    "print(\"Mean Lot Dimensions: \" + str(mean_lot_dimensions))\n",
    "print(\"Mean Lot Dimensions without outliers: \" + str(mean_lot_dimensions_no_outliers))"
   ]
  },
  {
   "cell_type": "code",
   "execution_count": 15,
   "metadata": {},
   "outputs": [],
   "source": [
    "# Replace outliers with mean value.\n",
    "listings_df.loc[(listings_df['lot_dimensions'] > 30000), 'lot_dimensions'] = mean_lot_dimensions\n",
    "\n",
    "# Replace NaN lot dimensions with mean value without outliers.\n",
    "listings_df['lot_dimensions'] = listings_df['lot_dimensions'].fillna(mean_lot_dimensions_no_outliers)\n",
    "\n",
    "listings_df['lot_dimensions'] = listings_df['lot_dimensions'].astype(int)"
   ]
  },
  {
   "cell_type": "markdown",
   "metadata": {},
   "source": [
    "Final value distribution for lot dimensions."
   ]
  },
  {
   "cell_type": "code",
   "execution_count": 16,
   "metadata": {},
   "outputs": [
    {
     "data": {
      "image/png": "[encoded data removed]",
      "text/plain": [
       "<Figure size 540x360 with 1 Axes>"
      ]
     },
     "metadata": {
      "needs_background": "light"
     },
     "output_type": "display_data"
    }
   ],
   "source": [
    "ax = sns.displot(listings_df, x='lot_dimensions', kde=True, fill=True, bins=40, height=5, aspect=1.5, linewidth=0)\n",
    "ax.set(xlabel=\"Lot Dimensions (sq. ft)\")\n",
    "plt.savefig('./figures/lot-dimensions-hist.png', transparent=True)"
   ]
  },
  {
   "cell_type": "code",
   "execution_count": 17,
   "metadata": {},
   "outputs": [
    {
     "name": "stdout",
     "output_type": "stream",
     "text": [
      "Number of listings: 163548\n"
     ]
    }
   ],
   "source": [
    "print(\"Number of listings: \" + str(len(listings_df)))"
   ]
  },
  {
   "cell_type": "markdown",
   "metadata": {},
   "source": [
    "### Bedrooms, Bathrooms & Levels\n",
    "No more than 7 bedrooms, 5 bathrooms and 4 stories."
   ]
  },
  {
   "cell_type": "code",
   "execution_count": 18,
   "metadata": {},
   "outputs": [],
   "source": [
    "listings_df = listings_df[listings_df['bedrooms'] <= 7]\n",
    "listings_df = listings_df[listings_df['bathrooms'] <= 5]\n",
    "listings_df = listings_df[listings_df['levels'] <= 4]\n",
    "\n",
    "listings_df['bedrooms'] = listings_df['bedrooms'].astype(int)\n",
    "listings_df['bathrooms'] = listings_df['bathrooms'].astype(int)\n",
    "listings_df['levels'] = listings_df['levels'].astype(int)"
   ]
  },
  {
   "cell_type": "code",
   "execution_count": 19,
   "metadata": {},
   "outputs": [
    {
     "name": "stdout",
     "output_type": "stream",
     "text": [
      "Number of listings: 158320\n"
     ]
    }
   ],
   "source": [
    "print(\"Number of listings: \" + str(len(listings_df)))"
   ]
  },
  {
   "cell_type": "markdown",
   "metadata": {},
   "source": [
    "### Listing Date\n",
    "Convert to datetime."
   ]
  },
  {
   "cell_type": "code",
   "execution_count": 20,
   "metadata": {},
   "outputs": [
    {
     "data": {
      "text/plain": [
       "202112.0    21313\n",
       "202111.0    11741\n",
       "201907.0     4946\n",
       "202012.0     4659\n",
       "202109.0     4423\n",
       "Name: listing_date, dtype: int64"
      ]
     },
     "execution_count": 20,
     "metadata": {},
     "output_type": "execute_result"
    }
   ],
   "source": [
    "listings_df['listing_date'].value_counts(dropna=False).iloc[0:5]"
   ]
  },
  {
   "cell_type": "code",
   "execution_count": 21,
   "metadata": {},
   "outputs": [
    {
     "name": "stdout",
     "output_type": "stream",
     "text": [
      "Number of listings: 158320\n"
     ]
    },
    {
     "data": {
      "text/html": [
       "<div>\n",
       "<style scoped>\n",
       "    .dataframe tbody tr th:only-of-type {\n",
       "        vertical-align: middle;\n",
       "    }\n",
       "\n",
       "    .dataframe tbody tr th {\n",
       "        vertical-align: top;\n",
       "    }\n",
       "\n",
       "    .dataframe thead th {\n",
       "        text-align: right;\n",
       "    }\n",
       "</style>\n",
       "<table border=\"1\" class=\"dataframe\">\n",
       "  <thead>\n",
       "    <tr style=\"text-align: right;\">\n",
       "      <th></th>\n",
       "      <th>subtype</th>\n",
       "      <th>style</th>\n",
       "      <th>living_area</th>\n",
       "      <th>lot_dimensions</th>\n",
       "      <th>bedrooms</th>\n",
       "      <th>bathrooms</th>\n",
       "      <th>levels</th>\n",
       "      <th>location</th>\n",
       "      <th>listing_date</th>\n",
       "      <th>year_of_construction</th>\n",
       "      <th>municipal_eval</th>\n",
       "      <th>price</th>\n",
       "    </tr>\n",
       "  </thead>\n",
       "  <tbody>\n",
       "    <tr>\n",
       "      <th>0</th>\n",
       "      <td>2 Storey</td>\n",
       "      <td>2 storey</td>\n",
       "      <td>1191</td>\n",
       "      <td>4076</td>\n",
       "      <td>3</td>\n",
       "      <td>1</td>\n",
       "      <td>2</td>\n",
       "      <td>Beauport</td>\n",
       "      <td>2020-12-01</td>\n",
       "      <td>2004.0</td>\n",
       "      <td>256000.0</td>\n",
       "      <td>332500.0</td>\n",
       "    </tr>\n",
       "    <tr>\n",
       "      <th>1</th>\n",
       "      <td>Bungalow</td>\n",
       "      <td>Open area</td>\n",
       "      <td>1261</td>\n",
       "      <td>9500</td>\n",
       "      <td>2</td>\n",
       "      <td>1</td>\n",
       "      <td>1</td>\n",
       "      <td>Deschambault</td>\n",
       "      <td>2021-12-01</td>\n",
       "      <td>1957.0</td>\n",
       "      <td>150500.0</td>\n",
       "      <td>265000.0</td>\n",
       "    </tr>\n",
       "    <tr>\n",
       "      <th>2</th>\n",
       "      <td>Townhouse</td>\n",
       "      <td>Unknown</td>\n",
       "      <td>1645</td>\n",
       "      <td>1360</td>\n",
       "      <td>3</td>\n",
       "      <td>1</td>\n",
       "      <td>3</td>\n",
       "      <td>Mercier</td>\n",
       "      <td>2021-11-01</td>\n",
       "      <td>2006.0</td>\n",
       "      <td>479400.0</td>\n",
       "      <td>612000.0</td>\n",
       "    </tr>\n",
       "    <tr>\n",
       "      <th>3</th>\n",
       "      <td>Bi-generation</td>\n",
       "      <td>Link</td>\n",
       "      <td>2024</td>\n",
       "      <td>17000</td>\n",
       "      <td>4</td>\n",
       "      <td>3</td>\n",
       "      <td>1</td>\n",
       "      <td>Stoneham</td>\n",
       "      <td>2021-12-01</td>\n",
       "      <td>2019.0</td>\n",
       "      <td>NaN</td>\n",
       "      <td>526500.0</td>\n",
       "    </tr>\n",
       "    <tr>\n",
       "      <th>4</th>\n",
       "      <td>2 Storey</td>\n",
       "      <td>Waterfront</td>\n",
       "      <td>1469</td>\n",
       "      <td>16970</td>\n",
       "      <td>4</td>\n",
       "      <td>2</td>\n",
       "      <td>2</td>\n",
       "      <td>Trois-Rivières</td>\n",
       "      <td>2021-11-01</td>\n",
       "      <td>1925.0</td>\n",
       "      <td>NaN</td>\n",
       "      <td>NaN</td>\n",
       "    </tr>\n",
       "  </tbody>\n",
       "</table>\n",
       "</div>"
      ],
      "text/plain": [
       "         subtype       style  living_area  lot_dimensions  bedrooms  \\\n",
       "0       2 Storey    2 storey         1191            4076         3   \n",
       "1       Bungalow   Open area         1261            9500         2   \n",
       "2      Townhouse     Unknown         1645            1360         3   \n",
       "3  Bi-generation        Link         2024           17000         4   \n",
       "4       2 Storey  Waterfront         1469           16970         4   \n",
       "\n",
       "   bathrooms  levels        location listing_date  year_of_construction  \\\n",
       "0          1       2        Beauport   2020-12-01                2004.0   \n",
       "1          1       1    Deschambault   2021-12-01                1957.0   \n",
       "2          1       3         Mercier   2021-11-01                2006.0   \n",
       "3          3       1        Stoneham   2021-12-01                2019.0   \n",
       "4          2       2  Trois-Rivières   2021-11-01                1925.0   \n",
       "\n",
       "   municipal_eval     price  \n",
       "0        256000.0  332500.0  \n",
       "1        150500.0  265000.0  \n",
       "2        479400.0  612000.0  \n",
       "3             NaN  526500.0  \n",
       "4             NaN       NaN  "
      ]
     },
     "execution_count": 21,
     "metadata": {},
     "output_type": "execute_result"
    }
   ],
   "source": [
    "listings_df['listing_date'] = pd.to_datetime(listings_df['listing_date'], format='%Y%m')\n",
    "print(\"Number of listings: \" + str(len(listings_df)))\n",
    "listings_df.head()"
   ]
  },
  {
   "cell_type": "markdown",
   "metadata": {},
   "source": [
    "### Year of Construction\n",
    "Replace NaNs and outliers with mean value. Convert to int."
   ]
  },
  {
   "cell_type": "code",
   "execution_count": 22,
   "metadata": {},
   "outputs": [
    {
     "data": {
      "text/plain": [
       "NaN       16235\n",
       "2006.0     7226\n",
       "2004.0     6994\n",
       "1989.0     5766\n",
       "1975.0     5034\n",
       "Name: year_of_construction, dtype: int64"
      ]
     },
     "execution_count": 22,
     "metadata": {},
     "output_type": "execute_result"
    }
   ],
   "source": [
    "listings_df['year_of_construction'].value_counts(dropna=False).iloc[0:5]"
   ]
  },
  {
   "cell_type": "code",
   "execution_count": 23,
   "metadata": {},
   "outputs": [
    {
     "name": "stdout",
     "output_type": "stream",
     "text": [
      "Mean Year of Construction: 1990.4456950192866\n"
     ]
    }
   ],
   "source": [
    "temp_listings_df = listings_df.copy()\n",
    "temp_listings_df = temp_listings_df[temp_listings_df['year_of_construction'] > 1700]\n",
    "temp_listings_df = temp_listings_df[temp_listings_df['year_of_construction'] < 2022]\n",
    "\n",
    "mean_year_of_construction = temp_listings_df['year_of_construction'].dropna().mean()\n",
    "\n",
    "print(\"Mean Year of Construction: \" + str(mean_year_of_construction))"
   ]
  },
  {
   "cell_type": "code",
   "execution_count": 24,
   "metadata": {},
   "outputs": [],
   "source": [
    "listings_df['year_of_construction'] = listings_df['year_of_construction'].fillna(mean_year_of_construction)\n",
    "listings_df.loc[(listings_df['year_of_construction'] < 1700), 'year_of_construction'] = mean_year_of_construction\n",
    "listings_df.loc[(listings_df['year_of_construction'] > 2022), 'year_of_construction'] = mean_year_of_construction\n",
    "\n",
    "listings_df['year_of_construction'] = listings_df['year_of_construction'].astype(int)"
   ]
  },
  {
   "cell_type": "code",
   "execution_count": 25,
   "metadata": {},
   "outputs": [
    {
     "name": "stdout",
     "output_type": "stream",
     "text": [
      "Number of listings: 158320\n"
     ]
    }
   ],
   "source": [
    "print(\"Number of listings: \" + str(len(listings_df)))"
   ]
  },
  {
   "cell_type": "markdown",
   "metadata": {},
   "source": [
    "### Municipal Evaluation\n",
    "Dropping this feature."
   ]
  },
  {
   "cell_type": "code",
   "execution_count": 26,
   "metadata": {},
   "outputs": [
    {
     "data": {
      "text/plain": [
       "NaN         79967\n",
       "256000.0     3859\n",
       "150500.0     3816\n",
       "209200.0     3811\n",
       "251100.0     3806\n",
       "Name: municipal_eval, dtype: int64"
      ]
     },
     "execution_count": 26,
     "metadata": {},
     "output_type": "execute_result"
    }
   ],
   "source": [
    "listings_df['municipal_eval'].value_counts(dropna=False).iloc[0:5]"
   ]
  },
  {
   "cell_type": "code",
   "execution_count": 27,
   "metadata": {},
   "outputs": [],
   "source": [
    "drop_municipal_eval = True"
   ]
  },
  {
   "cell_type": "code",
   "execution_count": 28,
   "metadata": {},
   "outputs": [],
   "source": [
    "if drop_municipal_eval:\n",
    "    listings_df = listings_df.drop(['municipal_eval'], axis=1)\n",
    "else:\n",
    "    listings_df = listings_df[listings_df['municipal_eval'] > 2000]\n",
    "    listings_df = listings_df[listings_df['municipal_eval'] < 1000000]\n",
    "    listings_df['municipal_eval'] = listings_df['municipal_eval'].astype(int)\n",
    "\n",
    "    sns.distplot(listings_df['municipal_eval'])"
   ]
  },
  {
   "cell_type": "code",
   "execution_count": 29,
   "metadata": {},
   "outputs": [
    {
     "name": "stdout",
     "output_type": "stream",
     "text": [
      "Number of listings: 158320\n"
     ]
    }
   ],
   "source": [
    "print(\"Number of listings: \" + str(len(listings_df)))"
   ]
  },
  {
   "cell_type": "markdown",
   "metadata": {},
   "source": [
    "### Price\n",
    "Drop NaNs, replace outliers with mean value. Convert to int."
   ]
  },
  {
   "cell_type": "code",
   "execution_count": 30,
   "metadata": {},
   "outputs": [
    {
     "data": {
      "image/png": "[encoded data removed]",
      "text/plain": [
       "<Figure size 540x360 with 1 Axes>"
      ]
     },
     "metadata": {
      "needs_background": "light"
     },
     "output_type": "display_data"
    }
   ],
   "source": [
    "ax = sns.displot(listings_df, x='price', kde=True, fill=True, bins=40, height=5, aspect=1.5, linewidth=0)\n",
    "ax.set(xlabel=\"Price (CAD )\")\n",
    "plt.savefig('./figures/price-hist-orig.png', transparent=True)"
   ]
  },
  {
   "cell_type": "code",
   "execution_count": 31,
   "metadata": {},
   "outputs": [],
   "source": [
    "drop_nan = True\n",
    "drop_outliers = True\n",
    "\n",
    "min_price = 2000\n",
    "max_price = 1000000"
   ]
  },
  {
   "cell_type": "code",
   "execution_count": 32,
   "metadata": {},
   "outputs": [],
   "source": [
    "if drop_nan:\n",
    "    listings_df = listings_df.dropna()\n",
    "if drop_outliers:\n",
    "    listings_df = listings_df[listings_df['price'] >= min_price]\n",
    "    listings_df = listings_df[listings_df['price'] <= max_price]"
   ]
  },
  {
   "cell_type": "code",
   "execution_count": 33,
   "metadata": {},
   "outputs": [
    {
     "name": "stdout",
     "output_type": "stream",
     "text": [
      "Mean Price: 320670.8474428948\n"
     ]
    }
   ],
   "source": [
    "mean_price = listings_df['price'].dropna().mean()\n",
    "print(\"Mean Price: \" + str(mean_price))"
   ]
  },
  {
   "cell_type": "code",
   "execution_count": 34,
   "metadata": {},
   "outputs": [
    {
     "name": "stdout",
     "output_type": "stream",
     "text": [
      "Number of listings: 127703\n"
     ]
    }
   ],
   "source": [
    "listings_df['price'] = listings_df['price'].fillna(mean_price)\n",
    "listings_df.loc[(listings_df['price'] < 2000), 'price'] = mean_price\n",
    "listings_df.loc[(listings_df['price'] > 1000000), 'price'] = mean_price\n",
    "\n",
    "listings_df['price'] = listings_df['price'].astype(int)\n",
    "\n",
    "print(\"Number of listings: \" + str(len(listings_df)))"
   ]
  },
  {
   "cell_type": "markdown",
   "metadata": {},
   "source": [
    "Final value distribution for price."
   ]
  },
  {
   "cell_type": "code",
   "execution_count": 35,
   "metadata": {},
   "outputs": [
    {
     "data": {
      "image/png": "[encoded data removed]",
      "text/plain": [
       "<Figure size 540x360 with 1 Axes>"
      ]
     },
     "metadata": {
      "needs_background": "light"
     },
     "output_type": "display_data"
    }
   ],
   "source": [
    "ax = sns.displot(listings_df, x='price', kde=True, fill=True, bins=40, height=5, aspect=1.5, linewidth=0)\n",
    "ax.set(xlabel=\"Price (CAD )\")\n",
    "plt.savefig('./figures/price-hist.png', transparent=True)"
   ]
  },
  {
   "cell_type": "markdown",
   "metadata": {},
   "source": [
    "### Location"
   ]
  },
  {
   "cell_type": "markdown",
   "metadata": {},
   "source": [
    "Format Raw Location Strings"
   ]
  },
  {
   "cell_type": "code",
   "execution_count": 36,
   "metadata": {},
   "outputs": [],
   "source": [
    "unknown_locations_dict = {\n",
    "    \"L'Ile Des Soeurs\": \"Ile des soeurs\",\n",
    "    \"St-Denis-sur-Mer\": \"Saint-Denis\",\n",
    "    \"St-Simon-De-Rimouski\": \"Saint-Simon\",\n",
    "    \"St-Guillaume-D'Upton\": \"Saint-Guillaume\",\n",
    "    \"St-Joseph-De-Ham-Sud\": \"Ham-Sud\",\n",
    "    \"St-Adelphe-De-Champlain\": \"Saint-Adelphe\",\n",
    "    \"St-Mathieu-De-Laprairie\": \"Saint-Mathieu\",\n",
    "    \"St-Isidore-De-Laprairie\": \"Saint-Isidore\",\n",
    "    \"St-Stanislas-De-Champlain\": \"Saint-Denis\",\n",
    "    \"St-Sebastien-De-Frontenac\": \"Saint-Sebastien\",\n",
    "    \"Ste-Francoise-De-Lotbiniere\": \"Saint-Francoise\",\n",
    "    \"Sheenboro\": \"Pontiac\"\n",
    "}\n",
    "\n",
    "listings_df = listings_df.replace({'location': unknown_locations_dict})"
   ]
  },
  {
   "cell_type": "code",
   "execution_count": 37,
   "metadata": {},
   "outputs": [],
   "source": [
    "listings_df['location'] = listings_df['location'].str.replace('St-', 'Saint-')\n",
    "listings_df['location'] = listings_df['location'].str.replace('Ste-', 'Sainte-')\n",
    "listings_df['location'] = listings_df['location'].str.replace('Sts-', 'Saints-')\n",
    "listings_df['location'] = listings_df['location'].str.replace('ND-', 'Notre-Dame-')\n",
    "listings_df['location'] = listings_df['location'].str.replace('JC', 'Jacques-Cartier')"
   ]
  },
  {
   "cell_type": "markdown",
   "metadata": {},
   "source": [
    "Replace locations using pre defined mapper."
   ]
  },
  {
   "cell_type": "code",
   "execution_count": 38,
   "metadata": {},
   "outputs": [],
   "source": [
    "with open('../data/processed/location_mapper.pkl', 'rb') as f:\n",
    "    location_mapper = pickle.load(f)"
   ]
  },
  {
   "cell_type": "code",
   "execution_count": 39,
   "metadata": {},
   "outputs": [],
   "source": [
    "listings_df = listings_df.replace({'location': location_mapper})"
   ]
  },
  {
   "cell_type": "code",
   "execution_count": 40,
   "metadata": {},
   "outputs": [
    {
     "data": {
      "text/html": [
       "<div>\n",
       "<style scoped>\n",
       "    .dataframe tbody tr th:only-of-type {\n",
       "        vertical-align: middle;\n",
       "    }\n",
       "\n",
       "    .dataframe tbody tr th {\n",
       "        vertical-align: top;\n",
       "    }\n",
       "\n",
       "    .dataframe thead th {\n",
       "        text-align: right;\n",
       "    }\n",
       "</style>\n",
       "<table border=\"1\" class=\"dataframe\">\n",
       "  <thead>\n",
       "    <tr style=\"text-align: right;\">\n",
       "      <th></th>\n",
       "      <th>subtype</th>\n",
       "      <th>style</th>\n",
       "      <th>living_area</th>\n",
       "      <th>lot_dimensions</th>\n",
       "      <th>bedrooms</th>\n",
       "      <th>bathrooms</th>\n",
       "      <th>levels</th>\n",
       "      <th>location</th>\n",
       "      <th>listing_date</th>\n",
       "      <th>year_of_construction</th>\n",
       "      <th>price</th>\n",
       "    </tr>\n",
       "  </thead>\n",
       "  <tbody>\n",
       "    <tr>\n",
       "      <th>0</th>\n",
       "      <td>2 Storey</td>\n",
       "      <td>2 storey</td>\n",
       "      <td>1191</td>\n",
       "      <td>4076</td>\n",
       "      <td>3</td>\n",
       "      <td>1</td>\n",
       "      <td>2</td>\n",
       "      <td>Lévis</td>\n",
       "      <td>2020-12-01</td>\n",
       "      <td>2004</td>\n",
       "      <td>332500</td>\n",
       "    </tr>\n",
       "    <tr>\n",
       "      <th>1</th>\n",
       "      <td>Bungalow</td>\n",
       "      <td>Open area</td>\n",
       "      <td>1261</td>\n",
       "      <td>9500</td>\n",
       "      <td>2</td>\n",
       "      <td>1</td>\n",
       "      <td>1</td>\n",
       "      <td>Portneuf</td>\n",
       "      <td>2021-12-01</td>\n",
       "      <td>1957</td>\n",
       "      <td>265000</td>\n",
       "    </tr>\n",
       "    <tr>\n",
       "      <th>2</th>\n",
       "      <td>Townhouse</td>\n",
       "      <td>Unknown</td>\n",
       "      <td>1645</td>\n",
       "      <td>1360</td>\n",
       "      <td>3</td>\n",
       "      <td>1</td>\n",
       "      <td>3</td>\n",
       "      <td>Mercier</td>\n",
       "      <td>2021-11-01</td>\n",
       "      <td>2006</td>\n",
       "      <td>612000</td>\n",
       "    </tr>\n",
       "    <tr>\n",
       "      <th>3</th>\n",
       "      <td>Bi-generation</td>\n",
       "      <td>Link</td>\n",
       "      <td>2024</td>\n",
       "      <td>17000</td>\n",
       "      <td>4</td>\n",
       "      <td>3</td>\n",
       "      <td>1</td>\n",
       "      <td>Stoneham-et-Tewkesbury</td>\n",
       "      <td>2021-12-01</td>\n",
       "      <td>2019</td>\n",
       "      <td>526500</td>\n",
       "    </tr>\n",
       "    <tr>\n",
       "      <th>5</th>\n",
       "      <td>Semi-detached</td>\n",
       "      <td>2 storey</td>\n",
       "      <td>2400</td>\n",
       "      <td>4471</td>\n",
       "      <td>4</td>\n",
       "      <td>2</td>\n",
       "      <td>2</td>\n",
       "      <td>Gatineau</td>\n",
       "      <td>2021-12-01</td>\n",
       "      <td>1989</td>\n",
       "      <td>360000</td>\n",
       "    </tr>\n",
       "  </tbody>\n",
       "</table>\n",
       "</div>"
      ],
      "text/plain": [
       "         subtype      style  living_area  lot_dimensions  bedrooms  bathrooms  \\\n",
       "0       2 Storey   2 storey         1191            4076         3          1   \n",
       "1       Bungalow  Open area         1261            9500         2          1   \n",
       "2      Townhouse    Unknown         1645            1360         3          1   \n",
       "3  Bi-generation       Link         2024           17000         4          3   \n",
       "5  Semi-detached   2 storey         2400            4471         4          2   \n",
       "\n",
       "   levels                location listing_date  year_of_construction   price  \n",
       "0       2                   Lévis   2020-12-01                  2004  332500  \n",
       "1       1                Portneuf   2021-12-01                  1957  265000  \n",
       "2       3                 Mercier   2021-11-01                  2006  612000  \n",
       "3       1  Stoneham-et-Tewkesbury   2021-12-01                  2019  526500  \n",
       "5       2                Gatineau   2021-12-01                  1989  360000  "
      ]
     },
     "execution_count": 40,
     "metadata": {},
     "output_type": "execute_result"
    }
   ],
   "source": [
    "listings_df.head()"
   ]
  },
  {
   "cell_type": "markdown",
   "metadata": {},
   "source": [
    "### New Columns"
   ]
  },
  {
   "cell_type": "markdown",
   "metadata": {},
   "source": [
    "Listing Year"
   ]
  },
  {
   "cell_type": "code",
   "execution_count": 41,
   "metadata": {},
   "outputs": [],
   "source": [
    "listings_df.insert(8, 'listing_year', '')\n",
    "listings_df['listing_year'] = pd.DatetimeIndex(listings_df['listing_date']).year\n",
    "listings_df = listings_df[listings_df['listing_year'] <= 2021]"
   ]
  },
  {
   "cell_type": "code",
   "execution_count": 42,
   "metadata": {},
   "outputs": [],
   "source": [
    "listings_df['listing_year'] = listings_df['listing_year'].astype(int)"
   ]
  },
  {
   "cell_type": "markdown",
   "metadata": {},
   "source": [
    "Age"
   ]
  },
  {
   "cell_type": "code",
   "execution_count": 43,
   "metadata": {},
   "outputs": [],
   "source": [
    "listings_df.insert(9, 'age', '')\n",
    "listings_df['age'] = listings_df['listing_year'] - listings_df['year_of_construction']\n",
    "listings_df = listings_df[listings_df['age'] >= 0]"
   ]
  },
  {
   "cell_type": "code",
   "execution_count": 44,
   "metadata": {},
   "outputs": [],
   "source": [
    "listings_df['age'] = listings_df['age'].astype(int)"
   ]
  },
  {
   "cell_type": "markdown",
   "metadata": {},
   "source": [
    "Yard Area"
   ]
  },
  {
   "cell_type": "code",
   "execution_count": 45,
   "metadata": {},
   "outputs": [],
   "source": [
    "listings_df.insert(10, 'yard_area', '')\n",
    "listings_df['yard_area'] = listings_df['lot_dimensions'] - listings_df['living_area']\n",
    "listings_df['yard_area'] = listings_df['yard_area'].mask(listings_df['yard_area'].lt(0), 0)"
   ]
  },
  {
   "cell_type": "code",
   "execution_count": 46,
   "metadata": {},
   "outputs": [],
   "source": [
    "listings_df['yard_area'] = listings_df['yard_area'].astype(int)"
   ]
  },
  {
   "cell_type": "code",
   "execution_count": 47,
   "metadata": {},
   "outputs": [
    {
     "data": {
      "text/html": [
       "<div>\n",
       "<style scoped>\n",
       "    .dataframe tbody tr th:only-of-type {\n",
       "        vertical-align: middle;\n",
       "    }\n",
       "\n",
       "    .dataframe tbody tr th {\n",
       "        vertical-align: top;\n",
       "    }\n",
       "\n",
       "    .dataframe thead th {\n",
       "        text-align: right;\n",
       "    }\n",
       "</style>\n",
       "<table border=\"1\" class=\"dataframe\">\n",
       "  <thead>\n",
       "    <tr style=\"text-align: right;\">\n",
       "      <th></th>\n",
       "      <th>subtype</th>\n",
       "      <th>style</th>\n",
       "      <th>living_area</th>\n",
       "      <th>lot_dimensions</th>\n",
       "      <th>bedrooms</th>\n",
       "      <th>bathrooms</th>\n",
       "      <th>levels</th>\n",
       "      <th>location</th>\n",
       "      <th>listing_year</th>\n",
       "      <th>age</th>\n",
       "      <th>yard_area</th>\n",
       "      <th>listing_date</th>\n",
       "      <th>year_of_construction</th>\n",
       "      <th>price</th>\n",
       "    </tr>\n",
       "  </thead>\n",
       "  <tbody>\n",
       "    <tr>\n",
       "      <th>0</th>\n",
       "      <td>2 Storey</td>\n",
       "      <td>2 storey</td>\n",
       "      <td>1191</td>\n",
       "      <td>4076</td>\n",
       "      <td>3</td>\n",
       "      <td>1</td>\n",
       "      <td>2</td>\n",
       "      <td>Lévis</td>\n",
       "      <td>2020</td>\n",
       "      <td>16</td>\n",
       "      <td>2885</td>\n",
       "      <td>2020-12-01</td>\n",
       "      <td>2004</td>\n",
       "      <td>332500</td>\n",
       "    </tr>\n",
       "    <tr>\n",
       "      <th>1</th>\n",
       "      <td>Bungalow</td>\n",
       "      <td>Open area</td>\n",
       "      <td>1261</td>\n",
       "      <td>9500</td>\n",
       "      <td>2</td>\n",
       "      <td>1</td>\n",
       "      <td>1</td>\n",
       "      <td>Portneuf</td>\n",
       "      <td>2021</td>\n",
       "      <td>64</td>\n",
       "      <td>8239</td>\n",
       "      <td>2021-12-01</td>\n",
       "      <td>1957</td>\n",
       "      <td>265000</td>\n",
       "    </tr>\n",
       "    <tr>\n",
       "      <th>2</th>\n",
       "      <td>Townhouse</td>\n",
       "      <td>Unknown</td>\n",
       "      <td>1645</td>\n",
       "      <td>1360</td>\n",
       "      <td>3</td>\n",
       "      <td>1</td>\n",
       "      <td>3</td>\n",
       "      <td>Mercier</td>\n",
       "      <td>2021</td>\n",
       "      <td>15</td>\n",
       "      <td>0</td>\n",
       "      <td>2021-11-01</td>\n",
       "      <td>2006</td>\n",
       "      <td>612000</td>\n",
       "    </tr>\n",
       "    <tr>\n",
       "      <th>3</th>\n",
       "      <td>Bi-generation</td>\n",
       "      <td>Link</td>\n",
       "      <td>2024</td>\n",
       "      <td>17000</td>\n",
       "      <td>4</td>\n",
       "      <td>3</td>\n",
       "      <td>1</td>\n",
       "      <td>Stoneham-et-Tewkesbury</td>\n",
       "      <td>2021</td>\n",
       "      <td>2</td>\n",
       "      <td>14976</td>\n",
       "      <td>2021-12-01</td>\n",
       "      <td>2019</td>\n",
       "      <td>526500</td>\n",
       "    </tr>\n",
       "    <tr>\n",
       "      <th>5</th>\n",
       "      <td>Semi-detached</td>\n",
       "      <td>2 storey</td>\n",
       "      <td>2400</td>\n",
       "      <td>4471</td>\n",
       "      <td>4</td>\n",
       "      <td>2</td>\n",
       "      <td>2</td>\n",
       "      <td>Gatineau</td>\n",
       "      <td>2021</td>\n",
       "      <td>32</td>\n",
       "      <td>2071</td>\n",
       "      <td>2021-12-01</td>\n",
       "      <td>1989</td>\n",
       "      <td>360000</td>\n",
       "    </tr>\n",
       "  </tbody>\n",
       "</table>\n",
       "</div>"
      ],
      "text/plain": [
       "         subtype      style  living_area  lot_dimensions  bedrooms  bathrooms  \\\n",
       "0       2 Storey   2 storey         1191            4076         3          1   \n",
       "1       Bungalow  Open area         1261            9500         2          1   \n",
       "2      Townhouse    Unknown         1645            1360         3          1   \n",
       "3  Bi-generation       Link         2024           17000         4          3   \n",
       "5  Semi-detached   2 storey         2400            4471         4          2   \n",
       "\n",
       "   levels                location  listing_year  age  yard_area listing_date  \\\n",
       "0       2                   Lévis          2020   16       2885   2020-12-01   \n",
       "1       1                Portneuf          2021   64       8239   2021-12-01   \n",
       "2       3                 Mercier          2021   15          0   2021-11-01   \n",
       "3       1  Stoneham-et-Tewkesbury          2021    2      14976   2021-12-01   \n",
       "5       2                Gatineau          2021   32       2071   2021-12-01   \n",
       "\n",
       "   year_of_construction   price  \n",
       "0                  2004  332500  \n",
       "1                  1957  265000  \n",
       "2                  2006  612000  \n",
       "3                  2019  526500  \n",
       "5                  1989  360000  "
      ]
     },
     "execution_count": 47,
     "metadata": {},
     "output_type": "execute_result"
    }
   ],
   "source": [
    "listings_df.head()"
   ]
  },
  {
   "cell_type": "code",
   "execution_count": 48,
   "metadata": {},
   "outputs": [
    {
     "name": "stdout",
     "output_type": "stream",
     "text": [
      "Original Data Length: 169894\n",
      "Processed Data Length: 127605\n"
     ]
    }
   ],
   "source": [
    "print(\"Original Data Length: \" + str(len(raw_listings)))\n",
    "print(\"Processed Data Length: \" + str(len(listings_df)))"
   ]
  },
  {
   "cell_type": "markdown",
   "metadata": {},
   "source": [
    "### Save Data"
   ]
  },
  {
   "cell_type": "code",
   "execution_count": 49,
   "metadata": {},
   "outputs": [],
   "source": [
    "listings_df.to_csv('../data/processed/processed_listings.csv', index=False)"
   ]
  }
 ],
 "metadata": {
  "kernelspec": {
   "display_name": "Python 3.10.4 ('venv': venv)",
   "language": "python",
   "name": "python3"
  },
  "language_info": {
   "codemirror_mode": {
    "name": "ipython",
    "version": 3
   },
   "file_extension": ".py",
   "mimetype": "text/x-python",
   "name": "python",
   "nbconvert_exporter": "python",
   "pygments_lexer": "ipython3",
   "version": "3.10.4"
  },
  "orig_nbformat": 4,
  "vscode": {
   "interpreter": {
    "hash": "35baa29fccf03004b73c6d7efa1229fc55fcd4d7e436d14040fdb80c99cecdea"
   }
  }
 },
 "nbformat": 4,
 "nbformat_minor": 2
}
