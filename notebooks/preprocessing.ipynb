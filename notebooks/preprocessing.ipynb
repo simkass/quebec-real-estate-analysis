{
 "cells": [
  {
   "cell_type": "markdown",
   "metadata": {},
   "source": [
    "## Preprocessing"
   ]
  },
  {
   "cell_type": "code",
   "execution_count": 250,
   "metadata": {},
   "outputs": [],
   "source": [
    "import pandas as pd\n",
    "import pickle\n",
    "\n",
    "import seaborn as sns\n",
    "import matplotlib.pyplot as plt"
   ]
  },
  {
   "cell_type": "markdown",
   "metadata": {},
   "source": [
    "### Read Data"
   ]
  },
  {
   "cell_type": "code",
   "execution_count": 251,
   "metadata": {},
   "outputs": [],
   "source": [
    "home_df = pd.read_csv('../data/raw/home_listings.csv')\n",
    "condo_df = pd.read_csv('../data/raw/condo_listings.csv')"
   ]
  },
  {
   "cell_type": "code",
   "execution_count": 252,
   "metadata": {},
   "outputs": [],
   "source": [
    "raw_listings = pd.concat([home_df, condo_df], axis=0, ignore_index=True)\n",
    "listings_df = raw_listings.copy()"
   ]
  },
  {
   "cell_type": "code",
   "execution_count": 253,
   "metadata": {},
   "outputs": [
    {
     "data": {
      "text/html": [
       "<div>\n",
       "<style scoped>\n",
       "    .dataframe tbody tr th:only-of-type {\n",
       "        vertical-align: middle;\n",
       "    }\n",
       "\n",
       "    .dataframe tbody tr th {\n",
       "        vertical-align: top;\n",
       "    }\n",
       "\n",
       "    .dataframe thead th {\n",
       "        text-align: right;\n",
       "    }\n",
       "</style>\n",
       "<table border=\"1\" class=\"dataframe\">\n",
       "  <thead>\n",
       "    <tr style=\"text-align: right;\">\n",
       "      <th></th>\n",
       "      <th>subtype</th>\n",
       "      <th>style</th>\n",
       "      <th>living_area</th>\n",
       "      <th>lot_dimensions</th>\n",
       "      <th>bedrooms</th>\n",
       "      <th>bathrooms</th>\n",
       "      <th>levels</th>\n",
       "      <th>location</th>\n",
       "      <th>listing_date</th>\n",
       "      <th>year_of_construction</th>\n",
       "      <th>municipal_eval</th>\n",
       "      <th>price</th>\n",
       "    </tr>\n",
       "  </thead>\n",
       "  <tbody>\n",
       "    <tr>\n",
       "      <th>0</th>\n",
       "      <td>2 Storey</td>\n",
       "      <td>2 storey</td>\n",
       "      <td>1191.3</td>\n",
       "      <td>4076.29</td>\n",
       "      <td>3.0</td>\n",
       "      <td>1.0</td>\n",
       "      <td>2.0</td>\n",
       "      <td>Beauport</td>\n",
       "      <td>202012.0</td>\n",
       "      <td>2004.0</td>\n",
       "      <td>256000.0</td>\n",
       "      <td>332500.0</td>\n",
       "    </tr>\n",
       "    <tr>\n",
       "      <th>1</th>\n",
       "      <td>Bungalow</td>\n",
       "      <td>Open area</td>\n",
       "      <td>1261.0</td>\n",
       "      <td>9500.00</td>\n",
       "      <td>2.0</td>\n",
       "      <td>1.0</td>\n",
       "      <td>1.0</td>\n",
       "      <td>Deschambault</td>\n",
       "      <td>202112.0</td>\n",
       "      <td>1957.0</td>\n",
       "      <td>150500.0</td>\n",
       "      <td>265000.0</td>\n",
       "    </tr>\n",
       "    <tr>\n",
       "      <th>2</th>\n",
       "      <td>Townhouse</td>\n",
       "      <td>NaN</td>\n",
       "      <td>1645.0</td>\n",
       "      <td>1360.00</td>\n",
       "      <td>3.0</td>\n",
       "      <td>1.0</td>\n",
       "      <td>3.0</td>\n",
       "      <td>Mercier</td>\n",
       "      <td>202111.0</td>\n",
       "      <td>2006.0</td>\n",
       "      <td>479400.0</td>\n",
       "      <td>612000.0</td>\n",
       "    </tr>\n",
       "    <tr>\n",
       "      <th>3</th>\n",
       "      <td>Bi-generation</td>\n",
       "      <td>Link</td>\n",
       "      <td>2024.0</td>\n",
       "      <td>17000.00</td>\n",
       "      <td>4.0</td>\n",
       "      <td>3.0</td>\n",
       "      <td>1.0</td>\n",
       "      <td>Stoneham</td>\n",
       "      <td>202112.0</td>\n",
       "      <td>2019.0</td>\n",
       "      <td>NaN</td>\n",
       "      <td>526500.0</td>\n",
       "    </tr>\n",
       "    <tr>\n",
       "      <th>4</th>\n",
       "      <td>2 Storey</td>\n",
       "      <td>Waterfront</td>\n",
       "      <td>1469.0</td>\n",
       "      <td>16970.00</td>\n",
       "      <td>4.0</td>\n",
       "      <td>2.0</td>\n",
       "      <td>2.0</td>\n",
       "      <td>Trois-Rivières</td>\n",
       "      <td>202111.0</td>\n",
       "      <td>1925.0</td>\n",
       "      <td>NaN</td>\n",
       "      <td>NaN</td>\n",
       "    </tr>\n",
       "  </tbody>\n",
       "</table>\n",
       "</div>"
      ],
      "text/plain": [
       "         subtype       style  living_area  lot_dimensions  bedrooms  \\\n",
       "0       2 Storey    2 storey       1191.3         4076.29       3.0   \n",
       "1       Bungalow   Open area       1261.0         9500.00       2.0   \n",
       "2      Townhouse         NaN       1645.0         1360.00       3.0   \n",
       "3  Bi-generation        Link       2024.0        17000.00       4.0   \n",
       "4       2 Storey  Waterfront       1469.0        16970.00       4.0   \n",
       "\n",
       "   bathrooms  levels        location  listing_date  year_of_construction  \\\n",
       "0        1.0     2.0        Beauport      202012.0                2004.0   \n",
       "1        1.0     1.0    Deschambault      202112.0                1957.0   \n",
       "2        1.0     3.0         Mercier      202111.0                2006.0   \n",
       "3        3.0     1.0        Stoneham      202112.0                2019.0   \n",
       "4        2.0     2.0  Trois-Rivières      202111.0                1925.0   \n",
       "\n",
       "   municipal_eval     price  \n",
       "0        256000.0  332500.0  \n",
       "1        150500.0  265000.0  \n",
       "2        479400.0  612000.0  \n",
       "3             NaN  526500.0  \n",
       "4             NaN       NaN  "
      ]
     },
     "metadata": {},
     "output_type": "display_data"
    },
    {
     "name": "stdout",
     "output_type": "stream",
     "text": [
      "Number of listings: 169894\n"
     ]
    }
   ],
   "source": [
    "display(listings_df.head())\n",
    "print(\"Number of listings: \" + str(len(listings_df)))"
   ]
  },
  {
   "cell_type": "markdown",
   "metadata": {},
   "source": [
    "### Subtype"
   ]
  },
  {
   "cell_type": "code",
   "execution_count": 254,
   "metadata": {},
   "outputs": [
    {
     "data": {
      "text/plain": [
       "Bungalow                        48502\n",
       "2 Storey                        38477\n",
       "Condominium                     28902\n",
       "Semi-detached                   24858\n",
       "Townhouse                       10140\n",
       "Bi-generation                    8006\n",
       "Split Level                      4158\n",
       "1 1/2 Storey                     4046\n",
       "Country Home                      659\n",
       "Mobile home                       611\n",
       "Acreage / Hobby Farm / Ranch      531\n",
       "3 Storey                          363\n",
       "Manufactured home                 184\n",
       "Loft                              170\n",
       "Bi-Level                          161\n",
       "Villa                              63\n",
       "Penthouse                          41\n",
       "Misc.                              14\n",
       "4 Storey                            8\n",
       "Name: subtype, dtype: int64"
      ]
     },
     "execution_count": 254,
     "metadata": {},
     "output_type": "execute_result"
    }
   ],
   "source": [
    "listings_df['subtype'].value_counts(dropna=False)"
   ]
  },
  {
   "cell_type": "markdown",
   "metadata": {},
   "source": [
    "Keep: Bungalow, 2 Storey, Condominium, Semi-detached, Townhouse, Bi-generation, Split Level, 1 1/2 Storey"
   ]
  },
  {
   "cell_type": "code",
   "execution_count": 255,
   "metadata": {},
   "outputs": [
    {
     "name": "stdout",
     "output_type": "stream",
     "text": [
      "Number of listings: 167748\n"
     ]
    }
   ],
   "source": [
    "subtypes = listings_df['subtype'].value_counts()\n",
    "listings_df = listings_df[listings_df['subtype'].isin(subtypes.keys()[0:9])]\n",
    "\n",
    "print(\"Number of listings: \" + str(len(listings_df)))"
   ]
  },
  {
   "cell_type": "markdown",
   "metadata": {},
   "source": [
    "### Style"
   ]
  },
  {
   "cell_type": "code",
   "execution_count": 256,
   "metadata": {},
   "outputs": [
    {
     "data": {
      "text/plain": [
       "NaN                     33608\n",
       "2 storey                30921\n",
       "Open area               25655\n",
       "Detached                15325\n",
       "Divided Co-Ownership    12145\n",
       "Waterfront               5948\n",
       "Link                     4333\n",
       "Bungaloft                3948\n",
       "New construction         3729\n",
       "Side split               3334\n",
       "Semi-detached            3298\n",
       "Rural                    3039\n",
       "Name: style, dtype: int64"
      ]
     },
     "execution_count": 256,
     "metadata": {},
     "output_type": "execute_result"
    }
   ],
   "source": [
    "listings_df['style'].value_counts(dropna=False).iloc[0:12]"
   ]
  },
  {
   "cell_type": "markdown",
   "metadata": {},
   "source": [
    "Replace NaN styles with Unknown. Keep all other values."
   ]
  },
  {
   "cell_type": "code",
   "execution_count": 257,
   "metadata": {},
   "outputs": [
    {
     "name": "stdout",
     "output_type": "stream",
     "text": [
      "Number of listings: 167748\n"
     ]
    }
   ],
   "source": [
    "listings_df['style'] = listings_df['style'].fillna('Unknown')\n",
    "\n",
    "styles = listings_df['style'].value_counts()\n",
    "listings_df = listings_df[listings_df['style'].isin(styles.keys())]\n",
    "\n",
    "print(\"Number of listings: \" + str(len(listings_df)))"
   ]
  },
  {
   "cell_type": "markdown",
   "metadata": {},
   "source": [
    "### Living Area\n",
    "Remove outliers"
   ]
  },
  {
   "cell_type": "code",
   "execution_count": 258,
   "metadata": {},
   "outputs": [],
   "source": [
    "min_living_area = 500\n",
    "max_living_area = 4000"
   ]
  },
  {
   "cell_type": "code",
   "execution_count": 259,
   "metadata": {},
   "outputs": [],
   "source": [
    "listings_df = listings_df[listings_df['living_area'] >= min_living_area]\n",
    "listings_df = listings_df[listings_df['living_area'] <= max_living_area]\n",
    "listings_df['living_area'] = listings_df['living_area'].astype(int)"
   ]
  },
  {
   "cell_type": "markdown",
   "metadata": {},
   "source": [
    "Replace NaN values with mean value."
   ]
  },
  {
   "cell_type": "code",
   "execution_count": 260,
   "metadata": {},
   "outputs": [
    {
     "name": "stdout",
     "output_type": "stream",
     "text": [
      "Mean Living Area: 1345.422774965148\n"
     ]
    }
   ],
   "source": [
    "mean_living_area = listings_df['living_area'].dropna().mean()\n",
    "print(\"Mean Living Area: \" + str(mean_living_area))\n",
    "\n",
    "# Fill the NaN living areas with the mean value\n",
    "listings_df['living_area'] = listings_df['living_area'].fillna(mean_living_area)"
   ]
  },
  {
   "cell_type": "markdown",
   "metadata": {},
   "source": [
    "Final Distribution"
   ]
  },
  {
   "cell_type": "code",
   "execution_count": 261,
   "metadata": {},
   "outputs": [
    {
     "data": {
      "image/png": "[encoded data removed]",
      "text/plain": [
       "<Figure size 540x360 with 1 Axes>"
      ]
     },
     "metadata": {
      "needs_background": "light"
     },
     "output_type": "display_data"
    }
   ],
   "source": [
    "ax = sns.displot(listings_df, x='living_area', kde=True, fill=True, bins=40, height=5, aspect=1.5, linewidth=0)\n",
    "ax.set(xlabel=\"Living Area (sq. ft)\")\n",
    "plt.savefig('./figures/living-area-hist.png', transparent=True)"
   ]
  },
  {
   "cell_type": "code",
   "execution_count": 262,
   "metadata": {},
   "outputs": [
    {
     "name": "stdout",
     "output_type": "stream",
     "text": [
      "Number of listings: 163548\n"
     ]
    }
   ],
   "source": [
    "print(\"Number of listings: \" + str(len(listings_df)))"
   ]
  },
  {
   "cell_type": "markdown",
   "metadata": {},
   "source": [
    "### Lot Dimensions"
   ]
  },
  {
   "cell_type": "markdown",
   "metadata": {},
   "source": [
    "Replace Outliers & NaNs with mean."
   ]
  },
  {
   "cell_type": "code",
   "execution_count": 263,
   "metadata": {},
   "outputs": [],
   "source": [
    "min_lot_dimensions = 500\n",
    "max_lot_dimensions = 50000"
   ]
  },
  {
   "cell_type": "code",
   "execution_count": 264,
   "metadata": {},
   "outputs": [
    {
     "name": "stdout",
     "output_type": "stream",
     "text": [
      "Mean Lot Dimensions: 9084.889465803617\n"
     ]
    }
   ],
   "source": [
    "# Mean value without outliers\n",
    "mean_lot_dimensions = listings_df[listings_df['lot_dimensions'] < max_lot_dimensions]['lot_dimensions'].dropna().mean()\n",
    "print(\"Mean Lot Dimensions: \" + str(mean_lot_dimensions))"
   ]
  },
  {
   "cell_type": "code",
   "execution_count": 265,
   "metadata": {},
   "outputs": [],
   "source": [
    "# Outliers\n",
    "listings_df.loc[(listings_df['lot_dimensions'] > max_lot_dimensions), 'lot_dimensions'] = mean_lot_dimensions\n",
    "# NaNs\n",
    "listings_df['lot_dimensions'] = listings_df['lot_dimensions'].fillna(mean_lot_dimensions)\n",
    "# Min Value\n",
    "listings_df = listings_df[listings_df['lot_dimensions'] >= min_lot_dimensions]"
   ]
  },
  {
   "cell_type": "code",
   "execution_count": 266,
   "metadata": {},
   "outputs": [],
   "source": [
    "listings_df['lot_dimensions'] = listings_df['lot_dimensions'].astype(int)"
   ]
  },
  {
   "cell_type": "code",
   "execution_count": 267,
   "metadata": {},
   "outputs": [
    {
     "data": {
      "image/png": "[encoded data removed]",
      "text/plain": [
       "<Figure size 540x360 with 1 Axes>"
      ]
     },
     "metadata": {
      "needs_background": "light"
     },
     "output_type": "display_data"
    }
   ],
   "source": [
    "ax = sns.displot(listings_df, x='lot_dimensions', kde=True, fill=True, bins=40, height=5, aspect=1.5, linewidth=0)\n",
    "ax.set(xlabel=\"Lot Dimensions (sq. ft)\")\n",
    "plt.savefig('./figures/lot-dimensions-hist.png', transparent=True)"
   ]
  },
  {
   "cell_type": "code",
   "execution_count": 268,
   "metadata": {},
   "outputs": [
    {
     "name": "stdout",
     "output_type": "stream",
     "text": [
      "Number of listings: 162896\n"
     ]
    }
   ],
   "source": [
    "print(\"Number of listings: \" + str(len(listings_df)))"
   ]
  },
  {
   "cell_type": "markdown",
   "metadata": {},
   "source": [
    "### Bedrooms, Bathrooms & Levels\n",
    "No more than 7 bedrooms, 4 bathrooms and 3 stories."
   ]
  },
  {
   "cell_type": "code",
   "execution_count": 269,
   "metadata": {},
   "outputs": [],
   "source": [
    "listings_df = listings_df[listings_df['bedrooms'] <= 7]\n",
    "listings_df = listings_df[listings_df['bathrooms'] <= 4]\n",
    "listings_df = listings_df[listings_df['levels'] <= 3]\n",
    "\n",
    "listings_df['bedrooms'] = listings_df['bedrooms'].astype(int)\n",
    "listings_df['bathrooms'] = listings_df['bathrooms'].astype(int)\n",
    "listings_df['levels'] = listings_df['levels'].astype(int)"
   ]
  },
  {
   "cell_type": "code",
   "execution_count": 270,
   "metadata": {},
   "outputs": [
    {
     "name": "stdout",
     "output_type": "stream",
     "text": [
      "Number of listings: 156637\n"
     ]
    }
   ],
   "source": [
    "print(\"Number of listings: \" + str(len(listings_df)))"
   ]
  },
  {
   "cell_type": "markdown",
   "metadata": {},
   "source": [
    "### Listing Date\n",
    "Convert to datetime."
   ]
  },
  {
   "cell_type": "code",
   "execution_count": 271,
   "metadata": {},
   "outputs": [
    {
     "name": "stdout",
     "output_type": "stream",
     "text": [
      "Number of listings: 156637\n"
     ]
    },
    {
     "data": {
      "text/html": [
       "<div>\n",
       "<style scoped>\n",
       "    .dataframe tbody tr th:only-of-type {\n",
       "        vertical-align: middle;\n",
       "    }\n",
       "\n",
       "    .dataframe tbody tr th {\n",
       "        vertical-align: top;\n",
       "    }\n",
       "\n",
       "    .dataframe thead th {\n",
       "        text-align: right;\n",
       "    }\n",
       "</style>\n",
       "<table border=\"1\" class=\"dataframe\">\n",
       "  <thead>\n",
       "    <tr style=\"text-align: right;\">\n",
       "      <th></th>\n",
       "      <th>subtype</th>\n",
       "      <th>style</th>\n",
       "      <th>living_area</th>\n",
       "      <th>lot_dimensions</th>\n",
       "      <th>bedrooms</th>\n",
       "      <th>bathrooms</th>\n",
       "      <th>levels</th>\n",
       "      <th>location</th>\n",
       "      <th>listing_date</th>\n",
       "      <th>year_of_construction</th>\n",
       "      <th>municipal_eval</th>\n",
       "      <th>price</th>\n",
       "    </tr>\n",
       "  </thead>\n",
       "  <tbody>\n",
       "    <tr>\n",
       "      <th>0</th>\n",
       "      <td>2 Storey</td>\n",
       "      <td>2 storey</td>\n",
       "      <td>1191</td>\n",
       "      <td>4076</td>\n",
       "      <td>3</td>\n",
       "      <td>1</td>\n",
       "      <td>2</td>\n",
       "      <td>Beauport</td>\n",
       "      <td>2020-12-01</td>\n",
       "      <td>2004.0</td>\n",
       "      <td>256000.0</td>\n",
       "      <td>332500.0</td>\n",
       "    </tr>\n",
       "    <tr>\n",
       "      <th>1</th>\n",
       "      <td>Bungalow</td>\n",
       "      <td>Open area</td>\n",
       "      <td>1261</td>\n",
       "      <td>9500</td>\n",
       "      <td>2</td>\n",
       "      <td>1</td>\n",
       "      <td>1</td>\n",
       "      <td>Deschambault</td>\n",
       "      <td>2021-12-01</td>\n",
       "      <td>1957.0</td>\n",
       "      <td>150500.0</td>\n",
       "      <td>265000.0</td>\n",
       "    </tr>\n",
       "    <tr>\n",
       "      <th>2</th>\n",
       "      <td>Townhouse</td>\n",
       "      <td>Unknown</td>\n",
       "      <td>1645</td>\n",
       "      <td>1360</td>\n",
       "      <td>3</td>\n",
       "      <td>1</td>\n",
       "      <td>3</td>\n",
       "      <td>Mercier</td>\n",
       "      <td>2021-11-01</td>\n",
       "      <td>2006.0</td>\n",
       "      <td>479400.0</td>\n",
       "      <td>612000.0</td>\n",
       "    </tr>\n",
       "    <tr>\n",
       "      <th>3</th>\n",
       "      <td>Bi-generation</td>\n",
       "      <td>Link</td>\n",
       "      <td>2024</td>\n",
       "      <td>17000</td>\n",
       "      <td>4</td>\n",
       "      <td>3</td>\n",
       "      <td>1</td>\n",
       "      <td>Stoneham</td>\n",
       "      <td>2021-12-01</td>\n",
       "      <td>2019.0</td>\n",
       "      <td>NaN</td>\n",
       "      <td>526500.0</td>\n",
       "    </tr>\n",
       "    <tr>\n",
       "      <th>4</th>\n",
       "      <td>2 Storey</td>\n",
       "      <td>Waterfront</td>\n",
       "      <td>1469</td>\n",
       "      <td>16970</td>\n",
       "      <td>4</td>\n",
       "      <td>2</td>\n",
       "      <td>2</td>\n",
       "      <td>Trois-Rivières</td>\n",
       "      <td>2021-11-01</td>\n",
       "      <td>1925.0</td>\n",
       "      <td>NaN</td>\n",
       "      <td>NaN</td>\n",
       "    </tr>\n",
       "  </tbody>\n",
       "</table>\n",
       "</div>"
      ],
      "text/plain": [
       "         subtype       style  living_area  lot_dimensions  bedrooms  \\\n",
       "0       2 Storey    2 storey         1191            4076         3   \n",
       "1       Bungalow   Open area         1261            9500         2   \n",
       "2      Townhouse     Unknown         1645            1360         3   \n",
       "3  Bi-generation        Link         2024           17000         4   \n",
       "4       2 Storey  Waterfront         1469           16970         4   \n",
       "\n",
       "   bathrooms  levels        location listing_date  year_of_construction  \\\n",
       "0          1       2        Beauport   2020-12-01                2004.0   \n",
       "1          1       1    Deschambault   2021-12-01                1957.0   \n",
       "2          1       3         Mercier   2021-11-01                2006.0   \n",
       "3          3       1        Stoneham   2021-12-01                2019.0   \n",
       "4          2       2  Trois-Rivières   2021-11-01                1925.0   \n",
       "\n",
       "   municipal_eval     price  \n",
       "0        256000.0  332500.0  \n",
       "1        150500.0  265000.0  \n",
       "2        479400.0  612000.0  \n",
       "3             NaN  526500.0  \n",
       "4             NaN       NaN  "
      ]
     },
     "execution_count": 271,
     "metadata": {},
     "output_type": "execute_result"
    }
   ],
   "source": [
    "listings_df['listing_date'] = pd.to_datetime(listings_df['listing_date'], format='%Y%m')\n",
    "print(\"Number of listings: \" + str(len(listings_df)))\n",
    "listings_df.head()"
   ]
  },
  {
   "cell_type": "markdown",
   "metadata": {},
   "source": [
    "### Year of Construction\n",
    "Replace NaNs and outliers with mean value. Convert to int."
   ]
  },
  {
   "cell_type": "code",
   "execution_count": 272,
   "metadata": {},
   "outputs": [],
   "source": [
    "min_year_of_construction = 1850\n",
    "max_year_of_construction = 2021"
   ]
  },
  {
   "cell_type": "code",
   "execution_count": 273,
   "metadata": {},
   "outputs": [
    {
     "name": "stdout",
     "output_type": "stream",
     "text": [
      "Mean Year of Construction: 1990\n"
     ]
    }
   ],
   "source": [
    "temp_listings_df = listings_df.copy()\n",
    "temp_listings_df = temp_listings_df[temp_listings_df['year_of_construction'] >= min_year_of_construction]\n",
    "temp_listings_df = temp_listings_df[temp_listings_df['year_of_construction'] <= max_year_of_construction]\n",
    "\n",
    "mean_year_of_construction = temp_listings_df['year_of_construction'].dropna().mean()\n",
    "\n",
    "print(\"Mean Year of Construction: \" + str(int(mean_year_of_construction)))"
   ]
  },
  {
   "cell_type": "code",
   "execution_count": 274,
   "metadata": {},
   "outputs": [],
   "source": [
    "listings_df['year_of_construction'] = listings_df['year_of_construction'].fillna(mean_year_of_construction)\n",
    "listings_df.loc[(listings_df['year_of_construction'] <= min_year_of_construction), 'year_of_construction'] = mean_year_of_construction\n",
    "listings_df.loc[(listings_df['year_of_construction'] >= max_year_of_construction), 'year_of_construction'] = mean_year_of_construction\n",
    "\n",
    "listings_df['year_of_construction'] = listings_df['year_of_construction'].astype(int)"
   ]
  },
  {
   "cell_type": "code",
   "execution_count": 275,
   "metadata": {},
   "outputs": [
    {
     "data": {
      "image/png": "[encoded data removed]",
      "text/plain": [
       "<Figure size 540x360 with 1 Axes>"
      ]
     },
     "metadata": {
      "needs_background": "light"
     },
     "output_type": "display_data"
    }
   ],
   "source": [
    "ax = sns.displot(listings_df, x='year_of_construction', kde=True, fill=True, bins=40, height=5, aspect=1.5, linewidth=0)\n",
    "ax.set(xlabel=\"Year of construction\")\n",
    "plt.savefig('./figures/year_of_construction-hist.png', transparent=True)"
   ]
  },
  {
   "cell_type": "code",
   "execution_count": 276,
   "metadata": {},
   "outputs": [
    {
     "name": "stdout",
     "output_type": "stream",
     "text": [
      "Number of listings: 156637\n"
     ]
    }
   ],
   "source": [
    "print(\"Number of listings: \" + str(len(listings_df)))"
   ]
  },
  {
   "cell_type": "markdown",
   "metadata": {},
   "source": [
    "### Municipal Evaluation\n",
    "Dropping this feature."
   ]
  },
  {
   "cell_type": "code",
   "execution_count": 277,
   "metadata": {},
   "outputs": [
    {
     "name": "stdout",
     "output_type": "stream",
     "text": [
      "Number of listings: 156637\n"
     ]
    }
   ],
   "source": [
    "listings_df = listings_df.drop(['municipal_eval'], axis=1)\n",
    "\n",
    "print(\"Number of listings: \" + str(len(listings_df)))"
   ]
  },
  {
   "cell_type": "markdown",
   "metadata": {},
   "source": [
    "### Price\n",
    "Remove Outliers and NaNs"
   ]
  },
  {
   "cell_type": "code",
   "execution_count": 278,
   "metadata": {},
   "outputs": [],
   "source": [
    "min_price = 20000\n",
    "max_price = 1000000"
   ]
  },
  {
   "cell_type": "code",
   "execution_count": 279,
   "metadata": {},
   "outputs": [],
   "source": [
    "listings_df = listings_df.dropna()\n",
    "listings_df = listings_df[listings_df['price'] >= min_price]\n",
    "listings_df = listings_df[listings_df['price'] <= max_price]"
   ]
  },
  {
   "cell_type": "code",
   "execution_count": 280,
   "metadata": {},
   "outputs": [],
   "source": [
    "listings_df['price'] = listings_df['price'].astype(int)"
   ]
  },
  {
   "cell_type": "code",
   "execution_count": 281,
   "metadata": {},
   "outputs": [
    {
     "data": {
      "image/png": "[encoded data removed]",
      "text/plain": [
       "<Figure size 540x360 with 1 Axes>"
      ]
     },
     "metadata": {
      "needs_background": "light"
     },
     "output_type": "display_data"
    }
   ],
   "source": [
    "ax = sns.displot(listings_df, x='price', kde=True, fill=True, bins=40, height=5, aspect=1.5, linewidth=0)\n",
    "ax.set(xlabel=\"Price\")\n",
    "plt.savefig('./figures/price-hist.png', transparent=True)"
   ]
  },
  {
   "cell_type": "code",
   "execution_count": 282,
   "metadata": {},
   "outputs": [
    {
     "name": "stdout",
     "output_type": "stream",
     "text": [
      "Number of listings: 126348\n"
     ]
    }
   ],
   "source": [
    "print(\"Number of listings: \" + str(len(listings_df)))"
   ]
  },
  {
   "cell_type": "markdown",
   "metadata": {},
   "source": [
    "### Location"
   ]
  },
  {
   "cell_type": "markdown",
   "metadata": {},
   "source": [
    "Format Raw Location Strings"
   ]
  },
  {
   "cell_type": "code",
   "execution_count": 283,
   "metadata": {},
   "outputs": [],
   "source": [
    "listings_df['location'] = listings_df['location'].str.replace('St-', 'Saint-')\n",
    "listings_df['location'] = listings_df['location'].str.replace('Ste-', 'Sainte-')\n",
    "listings_df['location'] = listings_df['location'].str.replace('Sts-', 'Saints-')\n",
    "listings_df['location'] = listings_df['location'].str.replace('ND-', 'Notre-Dame-')\n",
    "listings_df['location'] = listings_df['location'].str.replace('JC', 'Jacques-Cartier')"
   ]
  },
  {
   "cell_type": "code",
   "execution_count": 284,
   "metadata": {},
   "outputs": [],
   "source": [
    "unknown_locations_dict = {\n",
    "    \"Saint-Denis-sur-Mer\": \"Saint-Denis\",\n",
    "    \"Saint-Simon-De-Rimouski\": \"Saint-Simon\",\n",
    "    \"Saint-Guillaume-D'Upton\": \"Saint-Guillaume\",\n",
    "    \"Saint-Joseph-De-Ham-Sud\": \"Ham-Sud\",\n",
    "    \"Saint-Adelphe-De-Champlain\": \"Saint-Adelphe\",\n",
    "    \"Saint-Mathieu-De-Laprairie\": \"Saint-Mathieu\",\n",
    "    \"Saint-Isidore-De-Laprairie\": \"Saint-Isidore\",\n",
    "    \"Saint-Stanislas-De-Champlain\": \"Saint-Denis\",\n",
    "    \"Saint-Sebastien-De-Frontenac\": \"Saint-Sebastien\",\n",
    "    \"Sainte-Francoise-De-Lotbiniere\": \"Saint-Francoise\",\n",
    "    \"Saint-Donat-De-Rimouski\": \"Rimouski\",\n",
    "    \"Sheenboro\": \"Pontiac\",\n",
    "    \"Mercier\": \"Hochelaga\", \n",
    "    \"Mont-Royal\": \"Ville de Mont-Royal\",\n",
    "    \"Rosemont\": \"Rosemont-La Petite-Patrie\",\n",
    "    \"Rivière des Prairies\": \"Rivière-des-Prairies-Pointe-aux-Trembles\",\n",
    "    \"Pointe-Aux-Trembles\": \"Rivière-des-Prairies-Pointe-aux-Trembles\",\n",
    "    \"Côte-des-Neiges\": \"Côte-des-Neiges–Notre-Dame-de-Grâce\"\n",
    "}\n",
    "\n",
    "listings_df = listings_df.replace({'location': unknown_locations_dict})"
   ]
  },
  {
   "cell_type": "markdown",
   "metadata": {},
   "source": [
    "Read Data"
   ]
  },
  {
   "cell_type": "code",
   "execution_count": 285,
   "metadata": {},
   "outputs": [],
   "source": [
    "# Population Centers DataFrame\n",
    "population_centers_df = pd.read_csv('../data/references/handmade/qc-population-centers.csv')\n",
    "population_centers_df = population_centers_df[[\"Location\", \"RCM\", \"Region\", \"Display Name\"]].set_index(\"Location\")\n",
    "\n",
    "# Mapper\n",
    "with open('../data/processed/locations/location_mapper.pkl', 'rb') as f:\n",
    "    location_mapper = pickle.load(f)"
   ]
  },
  {
   "cell_type": "markdown",
   "metadata": {},
   "source": [
    "Replace locations using pre defined mapper."
   ]
  },
  {
   "cell_type": "code",
   "execution_count": 286,
   "metadata": {},
   "outputs": [],
   "source": [
    "listings_df = listings_df.replace({'location': location_mapper}).rename(columns={\"location\": \"Location\"}).set_index(\"Location\")"
   ]
  },
  {
   "cell_type": "markdown",
   "metadata": {},
   "source": [
    "Merge Dataframes"
   ]
  },
  {
   "cell_type": "code",
   "execution_count": 287,
   "metadata": {},
   "outputs": [],
   "source": [
    "listings_df = pd.merge(listings_df, population_centers_df, left_index=True, right_index=True)"
   ]
  },
  {
   "cell_type": "code",
   "execution_count": 288,
   "metadata": {},
   "outputs": [],
   "source": [
    "listings_df = listings_df.reset_index().drop(['Location'], axis=1).rename(columns={\"Display Name\": \"Location\"})"
   ]
  },
  {
   "cell_type": "code",
   "execution_count": 289,
   "metadata": {},
   "outputs": [
    {
     "data": {
      "text/html": [
       "<div>\n",
       "<style scoped>\n",
       "    .dataframe tbody tr th:only-of-type {\n",
       "        vertical-align: middle;\n",
       "    }\n",
       "\n",
       "    .dataframe tbody tr th {\n",
       "        vertical-align: top;\n",
       "    }\n",
       "\n",
       "    .dataframe thead th {\n",
       "        text-align: right;\n",
       "    }\n",
       "</style>\n",
       "<table border=\"1\" class=\"dataframe\">\n",
       "  <thead>\n",
       "    <tr style=\"text-align: right;\">\n",
       "      <th></th>\n",
       "      <th>subtype</th>\n",
       "      <th>style</th>\n",
       "      <th>living_area</th>\n",
       "      <th>lot_dimensions</th>\n",
       "      <th>bedrooms</th>\n",
       "      <th>bathrooms</th>\n",
       "      <th>levels</th>\n",
       "      <th>listing_date</th>\n",
       "      <th>year_of_construction</th>\n",
       "      <th>price</th>\n",
       "      <th>RCM</th>\n",
       "      <th>Region</th>\n",
       "      <th>Location</th>\n",
       "    </tr>\n",
       "  </thead>\n",
       "  <tbody>\n",
       "    <tr>\n",
       "      <th>62390</th>\n",
       "      <td>Bungalow</td>\n",
       "      <td>Unknown</td>\n",
       "      <td>1280</td>\n",
       "      <td>7556</td>\n",
       "      <td>3</td>\n",
       "      <td>1</td>\n",
       "      <td>1</td>\n",
       "      <td>2020-12-01</td>\n",
       "      <td>1990</td>\n",
       "      <td>134000</td>\n",
       "      <td>Le Granit</td>\n",
       "      <td>Estrie</td>\n",
       "      <td>Le Granit</td>\n",
       "    </tr>\n",
       "    <tr>\n",
       "      <th>38755</th>\n",
       "      <td>Semi-detached</td>\n",
       "      <td>2 storey</td>\n",
       "      <td>1362</td>\n",
       "      <td>2584</td>\n",
       "      <td>3</td>\n",
       "      <td>1</td>\n",
       "      <td>2</td>\n",
       "      <td>2016-06-01</td>\n",
       "      <td>2011</td>\n",
       "      <td>229000</td>\n",
       "      <td>Gatineau</td>\n",
       "      <td>Outaouais</td>\n",
       "      <td>Gatineau</td>\n",
       "    </tr>\n",
       "    <tr>\n",
       "      <th>71124</th>\n",
       "      <td>Bungalow</td>\n",
       "      <td>Unknown</td>\n",
       "      <td>890</td>\n",
       "      <td>5806</td>\n",
       "      <td>3</td>\n",
       "      <td>2</td>\n",
       "      <td>1</td>\n",
       "      <td>2009-01-01</td>\n",
       "      <td>1971</td>\n",
       "      <td>198000</td>\n",
       "      <td>Québec</td>\n",
       "      <td>Capitale-Nationale</td>\n",
       "      <td>Les Rivières</td>\n",
       "    </tr>\n",
       "    <tr>\n",
       "      <th>27530</th>\n",
       "      <td>Condominium</td>\n",
       "      <td>Unknown</td>\n",
       "      <td>884</td>\n",
       "      <td>12558</td>\n",
       "      <td>2</td>\n",
       "      <td>1</td>\n",
       "      <td>1</td>\n",
       "      <td>2019-07-01</td>\n",
       "      <td>1992</td>\n",
       "      <td>167000</td>\n",
       "      <td>Québec</td>\n",
       "      <td>Capitale-Nationale</td>\n",
       "      <td>Charlesbourg</td>\n",
       "    </tr>\n",
       "    <tr>\n",
       "      <th>97336</th>\n",
       "      <td>Bungalow</td>\n",
       "      <td>Open area</td>\n",
       "      <td>1230</td>\n",
       "      <td>8124</td>\n",
       "      <td>2</td>\n",
       "      <td>1</td>\n",
       "      <td>1</td>\n",
       "      <td>2021-04-01</td>\n",
       "      <td>2010</td>\n",
       "      <td>329000</td>\n",
       "      <td>Bellechasse</td>\n",
       "      <td>Chaudière-Appalaches</td>\n",
       "      <td>Bellechasse</td>\n",
       "    </tr>\n",
       "  </tbody>\n",
       "</table>\n",
       "</div>"
      ],
      "text/plain": [
       "             subtype      style  living_area  lot_dimensions  bedrooms  \\\n",
       "62390       Bungalow    Unknown         1280            7556         3   \n",
       "38755  Semi-detached   2 storey         1362            2584         3   \n",
       "71124       Bungalow    Unknown          890            5806         3   \n",
       "27530    Condominium    Unknown          884           12558         2   \n",
       "97336       Bungalow  Open area         1230            8124         2   \n",
       "\n",
       "       bathrooms  levels listing_date  year_of_construction   price  \\\n",
       "62390          1       1   2020-12-01                  1990  134000   \n",
       "38755          1       2   2016-06-01                  2011  229000   \n",
       "71124          2       1   2009-01-01                  1971  198000   \n",
       "27530          1       1   2019-07-01                  1992  167000   \n",
       "97336          1       1   2021-04-01                  2010  329000   \n",
       "\n",
       "               RCM                Region      Location  \n",
       "62390    Le Granit                Estrie     Le Granit  \n",
       "38755     Gatineau             Outaouais      Gatineau  \n",
       "71124       Québec    Capitale-Nationale  Les Rivières  \n",
       "27530       Québec    Capitale-Nationale  Charlesbourg  \n",
       "97336  Bellechasse  Chaudière-Appalaches   Bellechasse  "
      ]
     },
     "execution_count": 289,
     "metadata": {},
     "output_type": "execute_result"
    }
   ],
   "source": [
    "listings_df.sample(5)"
   ]
  },
  {
   "cell_type": "markdown",
   "metadata": {},
   "source": [
    "### New Columns"
   ]
  },
  {
   "cell_type": "markdown",
   "metadata": {},
   "source": [
    "Listing Year"
   ]
  },
  {
   "cell_type": "code",
   "execution_count": 290,
   "metadata": {},
   "outputs": [],
   "source": [
    "listings_df.insert(8, 'listing_year', '')\n",
    "listings_df['listing_year'] = pd.DatetimeIndex(listings_df['listing_date']).year\n",
    "listings_df = listings_df[listings_df['listing_year'] <= 2021]\n",
    "\n",
    "listings_df['listing_year'] = listings_df['listing_year'].astype(int)"
   ]
  },
  {
   "cell_type": "markdown",
   "metadata": {},
   "source": [
    "Age"
   ]
  },
  {
   "cell_type": "code",
   "execution_count": 291,
   "metadata": {},
   "outputs": [],
   "source": [
    "listings_df.insert(9, 'age', '')\n",
    "listings_df['age'] = listings_df['listing_year'] - listings_df['year_of_construction']\n",
    "listings_df = listings_df[listings_df['age'] >= 0]\n",
    "\n",
    "listings_df['age'] = listings_df['age'].astype(int)"
   ]
  },
  {
   "cell_type": "markdown",
   "metadata": {},
   "source": [
    "Yard Area"
   ]
  },
  {
   "cell_type": "code",
   "execution_count": 292,
   "metadata": {},
   "outputs": [],
   "source": [
    "listings_df.insert(10, 'yard_area', '')\n",
    "listings_df['yard_area'] = listings_df['lot_dimensions'] - listings_df['living_area']\n",
    "listings_df['yard_area'] = listings_df['yard_area'].mask(listings_df['yard_area'].lt(0), 0)\n",
    "\n",
    "listings_df['yard_area'] = listings_df['yard_area'].astype(int)"
   ]
  },
  {
   "cell_type": "markdown",
   "metadata": {},
   "source": [
    "### Rearrange and Rename Columns"
   ]
  },
  {
   "cell_type": "code",
   "execution_count": 293,
   "metadata": {},
   "outputs": [],
   "source": [
    "listings_df = listings_df[[\"subtype\", \"style\", \"living_area\", \"lot_dimensions\", \"bedrooms\", \"bathrooms\",\n",
    "                           \"levels\", \"listing_date\", \"listing_year\", \"year_of_construction\", \"Location\", \"RCM\", \"Region\", \"price\"]]"
   ]
  },
  {
   "cell_type": "code",
   "execution_count": 294,
   "metadata": {},
   "outputs": [],
   "source": [
    "listings_df = listings_df.rename(columns={\"subtype\": \"Subtype\", \"style\": \"Style\", \"living_area\": \"Living Area\", \"lot_dimensions\": \"Lot Dimensions\", \"bedrooms\": \"Bedrooms\",\n",
    "                                 \"bathrooms\": \"Bathrooms\", \"levels\": \"Levels\", \"listing_date\": \"Listing Date\", \"listing_year\": \"Listing Year\", \"year_of_construction\": \"Year of Construction\", \"price\": \"Price\"})\n"
   ]
  },
  {
   "cell_type": "markdown",
   "metadata": {},
   "source": [
    "### Save Data"
   ]
  },
  {
   "cell_type": "code",
   "execution_count": 295,
   "metadata": {},
   "outputs": [
    {
     "name": "stdout",
     "output_type": "stream",
     "text": [
      "Original Data Length: 169894\n",
      "Processed Data Length: 126250\n"
     ]
    }
   ],
   "source": [
    "print(\"Original Data Length: \" + str(len(raw_listings)))\n",
    "print(\"Processed Data Length: \" + str(len(listings_df)))"
   ]
  },
  {
   "cell_type": "code",
   "execution_count": 296,
   "metadata": {},
   "outputs": [],
   "source": [
    "listings_df.to_csv('../data/processed/processed_listings.csv', index=False)"
   ]
  },
  {
   "cell_type": "code",
   "execution_count": 297,
   "metadata": {},
   "outputs": [
    {
     "data": {
      "text/html": [
       "<div>\n",
       "<style scoped>\n",
       "    .dataframe tbody tr th:only-of-type {\n",
       "        vertical-align: middle;\n",
       "    }\n",
       "\n",
       "    .dataframe tbody tr th {\n",
       "        vertical-align: top;\n",
       "    }\n",
       "\n",
       "    .dataframe thead th {\n",
       "        text-align: right;\n",
       "    }\n",
       "</style>\n",
       "<table border=\"1\" class=\"dataframe\">\n",
       "  <thead>\n",
       "    <tr style=\"text-align: right;\">\n",
       "      <th></th>\n",
       "      <th>Subtype</th>\n",
       "      <th>Style</th>\n",
       "      <th>Living Area</th>\n",
       "      <th>Lot Dimensions</th>\n",
       "      <th>Bedrooms</th>\n",
       "      <th>Bathrooms</th>\n",
       "      <th>Levels</th>\n",
       "      <th>Listing Date</th>\n",
       "      <th>Listing Year</th>\n",
       "      <th>Year of Construction</th>\n",
       "      <th>Location</th>\n",
       "      <th>RCM</th>\n",
       "      <th>Region</th>\n",
       "      <th>Price</th>\n",
       "    </tr>\n",
       "  </thead>\n",
       "  <tbody>\n",
       "    <tr>\n",
       "      <th>107704</th>\n",
       "      <td>Semi-detached</td>\n",
       "      <td>2 storey</td>\n",
       "      <td>1560</td>\n",
       "      <td>3172</td>\n",
       "      <td>5</td>\n",
       "      <td>2</td>\n",
       "      <td>2</td>\n",
       "      <td>2021-12-01</td>\n",
       "      <td>2021</td>\n",
       "      <td>2016</td>\n",
       "      <td>La Côte-de-Beaupré &amp; L'Île-d'Orléans</td>\n",
       "      <td>La Côte-de-Beaupré</td>\n",
       "      <td>Capitale-Nationale</td>\n",
       "      <td>610000</td>\n",
       "    </tr>\n",
       "    <tr>\n",
       "      <th>73536</th>\n",
       "      <td>2 Storey</td>\n",
       "      <td>Divided Co-Ownership</td>\n",
       "      <td>907</td>\n",
       "      <td>2900</td>\n",
       "      <td>2</td>\n",
       "      <td>1</td>\n",
       "      <td>2</td>\n",
       "      <td>2010-04-01</td>\n",
       "      <td>2010</td>\n",
       "      <td>1996</td>\n",
       "      <td>Longueuil</td>\n",
       "      <td>Longueuil</td>\n",
       "      <td>Montérégie</td>\n",
       "      <td>200000</td>\n",
       "    </tr>\n",
       "    <tr>\n",
       "      <th>109444</th>\n",
       "      <td>2 Storey</td>\n",
       "      <td>Unknown</td>\n",
       "      <td>1430</td>\n",
       "      <td>5618</td>\n",
       "      <td>3</td>\n",
       "      <td>2</td>\n",
       "      <td>2</td>\n",
       "      <td>2020-06-01</td>\n",
       "      <td>2020</td>\n",
       "      <td>2004</td>\n",
       "      <td>Sainte-Foy-Sillery-Cap-Rouge</td>\n",
       "      <td>Québec</td>\n",
       "      <td>Capitale-Nationale</td>\n",
       "      <td>395000</td>\n",
       "    </tr>\n",
       "    <tr>\n",
       "      <th>50151</th>\n",
       "      <td>Townhouse</td>\n",
       "      <td>Unknown</td>\n",
       "      <td>1645</td>\n",
       "      <td>1360</td>\n",
       "      <td>3</td>\n",
       "      <td>1</td>\n",
       "      <td>3</td>\n",
       "      <td>2021-11-01</td>\n",
       "      <td>2021</td>\n",
       "      <td>2006</td>\n",
       "      <td>Mercier-Hochelaga-Maisonneuve</td>\n",
       "      <td>Montréal</td>\n",
       "      <td>Montréal</td>\n",
       "      <td>612000</td>\n",
       "    </tr>\n",
       "    <tr>\n",
       "      <th>121358</th>\n",
       "      <td>2 Storey</td>\n",
       "      <td>2 storey</td>\n",
       "      <td>1735</td>\n",
       "      <td>5909</td>\n",
       "      <td>5</td>\n",
       "      <td>2</td>\n",
       "      <td>2</td>\n",
       "      <td>2018-03-01</td>\n",
       "      <td>2018</td>\n",
       "      <td>2000</td>\n",
       "      <td>Trois-Rivières</td>\n",
       "      <td>Trois-Rivières</td>\n",
       "      <td>Mauricie</td>\n",
       "      <td>252000</td>\n",
       "    </tr>\n",
       "    <tr>\n",
       "      <th>95864</th>\n",
       "      <td>Condominium</td>\n",
       "      <td>Open area</td>\n",
       "      <td>1100</td>\n",
       "      <td>9084</td>\n",
       "      <td>2</td>\n",
       "      <td>1</td>\n",
       "      <td>1</td>\n",
       "      <td>2018-03-01</td>\n",
       "      <td>2018</td>\n",
       "      <td>2016</td>\n",
       "      <td>Roussillon</td>\n",
       "      <td>Roussillon</td>\n",
       "      <td>Montérégie</td>\n",
       "      <td>216900</td>\n",
       "    </tr>\n",
       "    <tr>\n",
       "      <th>4764</th>\n",
       "      <td>2 Storey</td>\n",
       "      <td>Unknown</td>\n",
       "      <td>1800</td>\n",
       "      <td>16090</td>\n",
       "      <td>5</td>\n",
       "      <td>2</td>\n",
       "      <td>2</td>\n",
       "      <td>2021-09-01</td>\n",
       "      <td>2021</td>\n",
       "      <td>1990</td>\n",
       "      <td>Lac-Saint-Jean-Est</td>\n",
       "      <td>Lac-Saint-Jean-Est</td>\n",
       "      <td>Saguenay-Lac-Saint-Jean</td>\n",
       "      <td>284000</td>\n",
       "    </tr>\n",
       "    <tr>\n",
       "      <th>5581</th>\n",
       "      <td>Bungalow</td>\n",
       "      <td>Open area</td>\n",
       "      <td>887</td>\n",
       "      <td>6500</td>\n",
       "      <td>4</td>\n",
       "      <td>2</td>\n",
       "      <td>1</td>\n",
       "      <td>2018-11-01</td>\n",
       "      <td>2018</td>\n",
       "      <td>1970</td>\n",
       "      <td>Auteuil</td>\n",
       "      <td>Laval</td>\n",
       "      <td>Laval</td>\n",
       "      <td>278000</td>\n",
       "    </tr>\n",
       "    <tr>\n",
       "      <th>9893</th>\n",
       "      <td>2 Storey</td>\n",
       "      <td>2 storey</td>\n",
       "      <td>1191</td>\n",
       "      <td>4076</td>\n",
       "      <td>3</td>\n",
       "      <td>1</td>\n",
       "      <td>2</td>\n",
       "      <td>2020-12-01</td>\n",
       "      <td>2020</td>\n",
       "      <td>2004</td>\n",
       "      <td>Beauport</td>\n",
       "      <td>Québec</td>\n",
       "      <td>Capitale-Nationale</td>\n",
       "      <td>332500</td>\n",
       "    </tr>\n",
       "    <tr>\n",
       "      <th>8553</th>\n",
       "      <td>2 Storey</td>\n",
       "      <td>2 storey</td>\n",
       "      <td>1191</td>\n",
       "      <td>4076</td>\n",
       "      <td>3</td>\n",
       "      <td>1</td>\n",
       "      <td>2</td>\n",
       "      <td>2020-12-01</td>\n",
       "      <td>2020</td>\n",
       "      <td>2004</td>\n",
       "      <td>Beauport</td>\n",
       "      <td>Québec</td>\n",
       "      <td>Capitale-Nationale</td>\n",
       "      <td>332500</td>\n",
       "    </tr>\n",
       "    <tr>\n",
       "      <th>87470</th>\n",
       "      <td>Townhouse</td>\n",
       "      <td>2 storey</td>\n",
       "      <td>1512</td>\n",
       "      <td>1615</td>\n",
       "      <td>4</td>\n",
       "      <td>1</td>\n",
       "      <td>2</td>\n",
       "      <td>2010-08-01</td>\n",
       "      <td>2010</td>\n",
       "      <td>2003</td>\n",
       "      <td>Rosemont-La Petite-Patrie</td>\n",
       "      <td>Montréal</td>\n",
       "      <td>Montréal</td>\n",
       "      <td>515000</td>\n",
       "    </tr>\n",
       "    <tr>\n",
       "      <th>122703</th>\n",
       "      <td>Condominium</td>\n",
       "      <td>New construction</td>\n",
       "      <td>934</td>\n",
       "      <td>9084</td>\n",
       "      <td>2</td>\n",
       "      <td>1</td>\n",
       "      <td>1</td>\n",
       "      <td>2013-03-01</td>\n",
       "      <td>2013</td>\n",
       "      <td>2013</td>\n",
       "      <td>Trois-Rivières</td>\n",
       "      <td>Trois-Rivières</td>\n",
       "      <td>Mauricie</td>\n",
       "      <td>125900</td>\n",
       "    </tr>\n",
       "    <tr>\n",
       "      <th>38827</th>\n",
       "      <td>2 Storey</td>\n",
       "      <td>2 storey</td>\n",
       "      <td>1469</td>\n",
       "      <td>4036</td>\n",
       "      <td>3</td>\n",
       "      <td>1</td>\n",
       "      <td>2</td>\n",
       "      <td>2016-04-01</td>\n",
       "      <td>2016</td>\n",
       "      <td>1997</td>\n",
       "      <td>Gatineau</td>\n",
       "      <td>Gatineau</td>\n",
       "      <td>Outaouais</td>\n",
       "      <td>260000</td>\n",
       "    </tr>\n",
       "    <tr>\n",
       "      <th>87875</th>\n",
       "      <td>Condominium</td>\n",
       "      <td>Divided Co-Ownership</td>\n",
       "      <td>785</td>\n",
       "      <td>9084</td>\n",
       "      <td>2</td>\n",
       "      <td>1</td>\n",
       "      <td>1</td>\n",
       "      <td>2017-03-01</td>\n",
       "      <td>2017</td>\n",
       "      <td>2004</td>\n",
       "      <td>Rosemont-La Petite-Patrie</td>\n",
       "      <td>Montréal</td>\n",
       "      <td>Montréal</td>\n",
       "      <td>278000</td>\n",
       "    </tr>\n",
       "    <tr>\n",
       "      <th>96328</th>\n",
       "      <td>2 Storey</td>\n",
       "      <td>Unknown</td>\n",
       "      <td>1958</td>\n",
       "      <td>6500</td>\n",
       "      <td>5</td>\n",
       "      <td>2</td>\n",
       "      <td>2</td>\n",
       "      <td>2015-02-01</td>\n",
       "      <td>2015</td>\n",
       "      <td>1997</td>\n",
       "      <td>Deux-Montagnes</td>\n",
       "      <td>Deux-Montagnes</td>\n",
       "      <td>Laurentides</td>\n",
       "      <td>365000</td>\n",
       "    </tr>\n",
       "    <tr>\n",
       "      <th>9507</th>\n",
       "      <td>2 Storey</td>\n",
       "      <td>2 storey</td>\n",
       "      <td>1191</td>\n",
       "      <td>4076</td>\n",
       "      <td>3</td>\n",
       "      <td>1</td>\n",
       "      <td>2</td>\n",
       "      <td>2020-12-01</td>\n",
       "      <td>2020</td>\n",
       "      <td>2004</td>\n",
       "      <td>Beauport</td>\n",
       "      <td>Québec</td>\n",
       "      <td>Capitale-Nationale</td>\n",
       "      <td>332500</td>\n",
       "    </tr>\n",
       "    <tr>\n",
       "      <th>117960</th>\n",
       "      <td>Semi-detached</td>\n",
       "      <td>2 storey</td>\n",
       "      <td>1078</td>\n",
       "      <td>4314</td>\n",
       "      <td>3</td>\n",
       "      <td>2</td>\n",
       "      <td>2</td>\n",
       "      <td>2007-11-01</td>\n",
       "      <td>2007</td>\n",
       "      <td>1980</td>\n",
       "      <td>Sherbrooke</td>\n",
       "      <td>Sherbrooke</td>\n",
       "      <td>Estrie</td>\n",
       "      <td>136500</td>\n",
       "    </tr>\n",
       "    <tr>\n",
       "      <th>39190</th>\n",
       "      <td>Townhouse</td>\n",
       "      <td>Freehold Townhouse</td>\n",
       "      <td>1519</td>\n",
       "      <td>3170</td>\n",
       "      <td>3</td>\n",
       "      <td>1</td>\n",
       "      <td>2</td>\n",
       "      <td>2014-05-01</td>\n",
       "      <td>2014</td>\n",
       "      <td>2011</td>\n",
       "      <td>Gatineau</td>\n",
       "      <td>Gatineau</td>\n",
       "      <td>Outaouais</td>\n",
       "      <td>265000</td>\n",
       "    </tr>\n",
       "    <tr>\n",
       "      <th>114479</th>\n",
       "      <td>Bungalow</td>\n",
       "      <td>Mid-level entrance</td>\n",
       "      <td>1560</td>\n",
       "      <td>11700</td>\n",
       "      <td>5</td>\n",
       "      <td>2</td>\n",
       "      <td>1</td>\n",
       "      <td>2006-01-01</td>\n",
       "      <td>2006</td>\n",
       "      <td>1975</td>\n",
       "      <td>Beauharnois-Salaberry</td>\n",
       "      <td>Beauharnois-Salaberry</td>\n",
       "      <td>Montérégie</td>\n",
       "      <td>139000</td>\n",
       "    </tr>\n",
       "    <tr>\n",
       "      <th>38956</th>\n",
       "      <td>Bungalow</td>\n",
       "      <td>Canadian</td>\n",
       "      <td>1000</td>\n",
       "      <td>5376</td>\n",
       "      <td>4</td>\n",
       "      <td>1</td>\n",
       "      <td>1</td>\n",
       "      <td>2015-07-01</td>\n",
       "      <td>2015</td>\n",
       "      <td>1980</td>\n",
       "      <td>Gatineau</td>\n",
       "      <td>Gatineau</td>\n",
       "      <td>Outaouais</td>\n",
       "      <td>210000</td>\n",
       "    </tr>\n",
       "  </tbody>\n",
       "</table>\n",
       "</div>"
      ],
      "text/plain": [
       "              Subtype                 Style  Living Area  Lot Dimensions  \\\n",
       "107704  Semi-detached              2 storey         1560            3172   \n",
       "73536        2 Storey  Divided Co-Ownership          907            2900   \n",
       "109444       2 Storey               Unknown         1430            5618   \n",
       "50151       Townhouse               Unknown         1645            1360   \n",
       "121358       2 Storey              2 storey         1735            5909   \n",
       "95864     Condominium             Open area         1100            9084   \n",
       "4764         2 Storey               Unknown         1800           16090   \n",
       "5581         Bungalow             Open area          887            6500   \n",
       "9893         2 Storey              2 storey         1191            4076   \n",
       "8553         2 Storey              2 storey         1191            4076   \n",
       "87470       Townhouse              2 storey         1512            1615   \n",
       "122703    Condominium      New construction          934            9084   \n",
       "38827        2 Storey              2 storey         1469            4036   \n",
       "87875     Condominium  Divided Co-Ownership          785            9084   \n",
       "96328        2 Storey               Unknown         1958            6500   \n",
       "9507         2 Storey              2 storey         1191            4076   \n",
       "117960  Semi-detached              2 storey         1078            4314   \n",
       "39190       Townhouse    Freehold Townhouse         1519            3170   \n",
       "114479       Bungalow    Mid-level entrance         1560           11700   \n",
       "38956        Bungalow              Canadian         1000            5376   \n",
       "\n",
       "        Bedrooms  Bathrooms  Levels Listing Date  Listing Year  \\\n",
       "107704         5          2       2   2021-12-01          2021   \n",
       "73536          2          1       2   2010-04-01          2010   \n",
       "109444         3          2       2   2020-06-01          2020   \n",
       "50151          3          1       3   2021-11-01          2021   \n",
       "121358         5          2       2   2018-03-01          2018   \n",
       "95864          2          1       1   2018-03-01          2018   \n",
       "4764           5          2       2   2021-09-01          2021   \n",
       "5581           4          2       1   2018-11-01          2018   \n",
       "9893           3          1       2   2020-12-01          2020   \n",
       "8553           3          1       2   2020-12-01          2020   \n",
       "87470          4          1       2   2010-08-01          2010   \n",
       "122703         2          1       1   2013-03-01          2013   \n",
       "38827          3          1       2   2016-04-01          2016   \n",
       "87875          2          1       1   2017-03-01          2017   \n",
       "96328          5          2       2   2015-02-01          2015   \n",
       "9507           3          1       2   2020-12-01          2020   \n",
       "117960         3          2       2   2007-11-01          2007   \n",
       "39190          3          1       2   2014-05-01          2014   \n",
       "114479         5          2       1   2006-01-01          2006   \n",
       "38956          4          1       1   2015-07-01          2015   \n",
       "\n",
       "        Year of Construction                              Location  \\\n",
       "107704                  2016  La Côte-de-Beaupré & L'Île-d'Orléans   \n",
       "73536                   1996                             Longueuil   \n",
       "109444                  2004          Sainte-Foy-Sillery-Cap-Rouge   \n",
       "50151                   2006         Mercier-Hochelaga-Maisonneuve   \n",
       "121358                  2000                        Trois-Rivières   \n",
       "95864                   2016                            Roussillon   \n",
       "4764                    1990                    Lac-Saint-Jean-Est   \n",
       "5581                    1970                               Auteuil   \n",
       "9893                    2004                              Beauport   \n",
       "8553                    2004                              Beauport   \n",
       "87470                   2003             Rosemont-La Petite-Patrie   \n",
       "122703                  2013                        Trois-Rivières   \n",
       "38827                   1997                              Gatineau   \n",
       "87875                   2004             Rosemont-La Petite-Patrie   \n",
       "96328                   1997                        Deux-Montagnes   \n",
       "9507                    2004                              Beauport   \n",
       "117960                  1980                            Sherbrooke   \n",
       "39190                   2011                              Gatineau   \n",
       "114479                  1975                 Beauharnois-Salaberry   \n",
       "38956                   1980                              Gatineau   \n",
       "\n",
       "                          RCM                   Region   Price  \n",
       "107704     La Côte-de-Beaupré       Capitale-Nationale  610000  \n",
       "73536               Longueuil               Montérégie  200000  \n",
       "109444                 Québec       Capitale-Nationale  395000  \n",
       "50151                Montréal                 Montréal  612000  \n",
       "121358         Trois-Rivières                 Mauricie  252000  \n",
       "95864              Roussillon               Montérégie  216900  \n",
       "4764       Lac-Saint-Jean-Est  Saguenay-Lac-Saint-Jean  284000  \n",
       "5581                    Laval                    Laval  278000  \n",
       "9893                   Québec       Capitale-Nationale  332500  \n",
       "8553                   Québec       Capitale-Nationale  332500  \n",
       "87470                Montréal                 Montréal  515000  \n",
       "122703         Trois-Rivières                 Mauricie  125900  \n",
       "38827                Gatineau                Outaouais  260000  \n",
       "87875                Montréal                 Montréal  278000  \n",
       "96328          Deux-Montagnes              Laurentides  365000  \n",
       "9507                   Québec       Capitale-Nationale  332500  \n",
       "117960             Sherbrooke                   Estrie  136500  \n",
       "39190                Gatineau                Outaouais  265000  \n",
       "114479  Beauharnois-Salaberry               Montérégie  139000  \n",
       "38956                Gatineau                Outaouais  210000  "
      ]
     },
     "execution_count": 297,
     "metadata": {},
     "output_type": "execute_result"
    }
   ],
   "source": [
    "listings_df.sample(20)"
   ]
  }
 ],
 "metadata": {
  "kernelspec": {
   "display_name": "Python 3.10.4 ('venv': venv)",
   "language": "python",
   "name": "python3"
  },
  "language_info": {
   "codemirror_mode": {
    "name": "ipython",
    "version": 3
   },
   "file_extension": ".py",
   "mimetype": "text/x-python",
   "name": "python",
   "nbconvert_exporter": "python",
   "pygments_lexer": "ipython3",
   "version": "3.10.4"
  },
  "orig_nbformat": 4,
  "vscode": {
   "interpreter": {
    "hash": "35baa29fccf03004b73c6d7efa1229fc55fcd4d7e436d14040fdb80c99cecdea"
   }
  }
 },
 "nbformat": 4,
 "nbformat_minor": 2
}
