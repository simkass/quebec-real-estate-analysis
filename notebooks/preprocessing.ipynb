{
 "cells": [
  {
   "cell_type": "markdown",
   "metadata": {},
   "source": [
    "## Preprocessing"
   ]
  },
  {
   "cell_type": "code",
   "execution_count": 526,
   "metadata": {},
   "outputs": [],
   "source": [
    "import pandas as pd\n",
    "import pickle\n",
    "\n",
    "import seaborn as sns\n",
    "import matplotlib.pyplot as plt"
   ]
  },
  {
   "cell_type": "markdown",
   "metadata": {},
   "source": [
    "### Read Data"
   ]
  },
  {
   "cell_type": "code",
   "execution_count": 527,
   "metadata": {},
   "outputs": [],
   "source": [
    "home_df = pd.read_csv('../data/raw/home_listings.csv')\n",
    "condo_df = pd.read_csv('../data/raw/condo_listings.csv')"
   ]
  },
  {
   "cell_type": "code",
   "execution_count": 528,
   "metadata": {},
   "outputs": [],
   "source": [
    "raw_listings = pd.concat([home_df, condo_df], axis=0, ignore_index=True)\n",
    "listings_df = raw_listings.copy()"
   ]
  },
  {
   "cell_type": "code",
   "execution_count": 529,
   "metadata": {},
   "outputs": [
    {
     "data": {
      "text/html": [
       "<div>\n",
       "<style scoped>\n",
       "    .dataframe tbody tr th:only-of-type {\n",
       "        vertical-align: middle;\n",
       "    }\n",
       "\n",
       "    .dataframe tbody tr th {\n",
       "        vertical-align: top;\n",
       "    }\n",
       "\n",
       "    .dataframe thead th {\n",
       "        text-align: right;\n",
       "    }\n",
       "</style>\n",
       "<table border=\"1\" class=\"dataframe\">\n",
       "  <thead>\n",
       "    <tr style=\"text-align: right;\">\n",
       "      <th></th>\n",
       "      <th>subtype</th>\n",
       "      <th>style</th>\n",
       "      <th>living_area</th>\n",
       "      <th>lot_dimensions</th>\n",
       "      <th>bedrooms</th>\n",
       "      <th>bathrooms</th>\n",
       "      <th>levels</th>\n",
       "      <th>location</th>\n",
       "      <th>listing_date</th>\n",
       "      <th>year_of_construction</th>\n",
       "      <th>municipal_eval</th>\n",
       "      <th>price</th>\n",
       "    </tr>\n",
       "  </thead>\n",
       "  <tbody>\n",
       "    <tr>\n",
       "      <th>0</th>\n",
       "      <td>2 Storey</td>\n",
       "      <td>2 storey</td>\n",
       "      <td>1191.3</td>\n",
       "      <td>4076.29</td>\n",
       "      <td>3.0</td>\n",
       "      <td>1.0</td>\n",
       "      <td>2.0</td>\n",
       "      <td>Beauport</td>\n",
       "      <td>202012.0</td>\n",
       "      <td>2004.0</td>\n",
       "      <td>256000.0</td>\n",
       "      <td>332500.0</td>\n",
       "    </tr>\n",
       "    <tr>\n",
       "      <th>1</th>\n",
       "      <td>Bungalow</td>\n",
       "      <td>Open area</td>\n",
       "      <td>1261.0</td>\n",
       "      <td>9500.00</td>\n",
       "      <td>2.0</td>\n",
       "      <td>1.0</td>\n",
       "      <td>1.0</td>\n",
       "      <td>Deschambault</td>\n",
       "      <td>202112.0</td>\n",
       "      <td>1957.0</td>\n",
       "      <td>150500.0</td>\n",
       "      <td>265000.0</td>\n",
       "    </tr>\n",
       "    <tr>\n",
       "      <th>2</th>\n",
       "      <td>Townhouse</td>\n",
       "      <td>NaN</td>\n",
       "      <td>1645.0</td>\n",
       "      <td>1360.00</td>\n",
       "      <td>3.0</td>\n",
       "      <td>1.0</td>\n",
       "      <td>3.0</td>\n",
       "      <td>Mercier</td>\n",
       "      <td>202111.0</td>\n",
       "      <td>2006.0</td>\n",
       "      <td>479400.0</td>\n",
       "      <td>612000.0</td>\n",
       "    </tr>\n",
       "    <tr>\n",
       "      <th>3</th>\n",
       "      <td>Bi-generation</td>\n",
       "      <td>Link</td>\n",
       "      <td>2024.0</td>\n",
       "      <td>17000.00</td>\n",
       "      <td>4.0</td>\n",
       "      <td>3.0</td>\n",
       "      <td>1.0</td>\n",
       "      <td>Stoneham</td>\n",
       "      <td>202112.0</td>\n",
       "      <td>2019.0</td>\n",
       "      <td>NaN</td>\n",
       "      <td>526500.0</td>\n",
       "    </tr>\n",
       "    <tr>\n",
       "      <th>4</th>\n",
       "      <td>2 Storey</td>\n",
       "      <td>Waterfront</td>\n",
       "      <td>1469.0</td>\n",
       "      <td>16970.00</td>\n",
       "      <td>4.0</td>\n",
       "      <td>2.0</td>\n",
       "      <td>2.0</td>\n",
       "      <td>Trois-Rivières</td>\n",
       "      <td>202111.0</td>\n",
       "      <td>1925.0</td>\n",
       "      <td>NaN</td>\n",
       "      <td>NaN</td>\n",
       "    </tr>\n",
       "  </tbody>\n",
       "</table>\n",
       "</div>"
      ],
      "text/plain": [
       "         subtype       style  living_area  lot_dimensions  bedrooms  \\\n",
       "0       2 Storey    2 storey       1191.3         4076.29       3.0   \n",
       "1       Bungalow   Open area       1261.0         9500.00       2.0   \n",
       "2      Townhouse         NaN       1645.0         1360.00       3.0   \n",
       "3  Bi-generation        Link       2024.0        17000.00       4.0   \n",
       "4       2 Storey  Waterfront       1469.0        16970.00       4.0   \n",
       "\n",
       "   bathrooms  levels        location  listing_date  year_of_construction  \\\n",
       "0        1.0     2.0        Beauport      202012.0                2004.0   \n",
       "1        1.0     1.0    Deschambault      202112.0                1957.0   \n",
       "2        1.0     3.0         Mercier      202111.0                2006.0   \n",
       "3        3.0     1.0        Stoneham      202112.0                2019.0   \n",
       "4        2.0     2.0  Trois-Rivières      202111.0                1925.0   \n",
       "\n",
       "   municipal_eval     price  \n",
       "0        256000.0  332500.0  \n",
       "1        150500.0  265000.0  \n",
       "2        479400.0  612000.0  \n",
       "3             NaN  526500.0  \n",
       "4             NaN       NaN  "
      ]
     },
     "metadata": {},
     "output_type": "display_data"
    },
    {
     "name": "stdout",
     "output_type": "stream",
     "text": [
      "Number of listings: 169894\n"
     ]
    }
   ],
   "source": [
    "display(listings_df.head())\n",
    "print(\"Number of listings: \" + str(len(listings_df)))"
   ]
  },
  {
   "cell_type": "markdown",
   "metadata": {},
   "source": [
    "### Subtype"
   ]
  },
  {
   "cell_type": "code",
   "execution_count": 530,
   "metadata": {},
   "outputs": [
    {
     "data": {
      "text/plain": [
       "Bungalow                        48502\n",
       "2 Storey                        38477\n",
       "Condominium                     28902\n",
       "Semi-detached                   24858\n",
       "Townhouse                       10140\n",
       "Bi-generation                    8006\n",
       "Split Level                      4158\n",
       "1 1/2 Storey                     4046\n",
       "Country Home                      659\n",
       "Mobile home                       611\n",
       "Acreage / Hobby Farm / Ranch      531\n",
       "3 Storey                          363\n",
       "Manufactured home                 184\n",
       "Loft                              170\n",
       "Bi-Level                          161\n",
       "Villa                              63\n",
       "Penthouse                          41\n",
       "Misc.                              14\n",
       "4 Storey                            8\n",
       "Name: subtype, dtype: int64"
      ]
     },
     "execution_count": 530,
     "metadata": {},
     "output_type": "execute_result"
    }
   ],
   "source": [
    "listings_df['subtype'].value_counts(dropna=False)"
   ]
  },
  {
   "cell_type": "markdown",
   "metadata": {},
   "source": [
    "Keep: Bungalow, 2 Storey, Condominium, Semi-detached, Townhouse, Bi-generation, Split Level, 1 1/2 Storey"
   ]
  },
  {
   "cell_type": "code",
   "execution_count": 531,
   "metadata": {},
   "outputs": [
    {
     "name": "stdout",
     "output_type": "stream",
     "text": [
      "Number of listings: 167748\n"
     ]
    }
   ],
   "source": [
    "subtypes = listings_df['subtype'].value_counts()\n",
    "listings_df = listings_df[listings_df['subtype'].isin(subtypes.keys()[0:9])]\n",
    "\n",
    "print(\"Number of listings: \" + str(len(listings_df)))"
   ]
  },
  {
   "cell_type": "markdown",
   "metadata": {},
   "source": [
    "### Style"
   ]
  },
  {
   "cell_type": "code",
   "execution_count": 532,
   "metadata": {},
   "outputs": [
    {
     "data": {
      "text/plain": [
       "NaN                     33608\n",
       "2 storey                30921\n",
       "Open area               25655\n",
       "Detached                15325\n",
       "Divided Co-Ownership    12145\n",
       "Waterfront               5948\n",
       "Link                     4333\n",
       "Bungaloft                3948\n",
       "New construction         3729\n",
       "Side split               3334\n",
       "Semi-detached            3298\n",
       "Rural                    3039\n",
       "Name: style, dtype: int64"
      ]
     },
     "execution_count": 532,
     "metadata": {},
     "output_type": "execute_result"
    }
   ],
   "source": [
    "listings_df['style'].value_counts(dropna=False).iloc[0:12]"
   ]
  },
  {
   "cell_type": "markdown",
   "metadata": {},
   "source": [
    "Replace NaN styles with Unknown. Keep all other values."
   ]
  },
  {
   "cell_type": "code",
   "execution_count": 533,
   "metadata": {},
   "outputs": [
    {
     "name": "stdout",
     "output_type": "stream",
     "text": [
      "Number of listings: 167748\n"
     ]
    }
   ],
   "source": [
    "listings_df['style'] = listings_df['style'].fillna('Unknown')\n",
    "\n",
    "styles = listings_df['style'].value_counts()\n",
    "listings_df = listings_df[listings_df['style'].isin(styles.keys())]\n",
    "\n",
    "print(\"Number of listings: \" + str(len(listings_df)))"
   ]
  },
  {
   "cell_type": "markdown",
   "metadata": {},
   "source": [
    "### Living Area\n",
    "Remove outliers"
   ]
  },
  {
   "cell_type": "code",
   "execution_count": 534,
   "metadata": {},
   "outputs": [],
   "source": [
    "min_living_area = 500\n",
    "max_living_area = 4000"
   ]
  },
  {
   "cell_type": "code",
   "execution_count": 535,
   "metadata": {},
   "outputs": [],
   "source": [
    "listings_df = listings_df[listings_df['living_area'] >= min_living_area]\n",
    "listings_df = listings_df[listings_df['living_area'] <= max_living_area]\n",
    "listings_df['living_area'] = listings_df['living_area'].astype(int)"
   ]
  },
  {
   "cell_type": "markdown",
   "metadata": {},
   "source": [
    "Replace NaN values with mean value."
   ]
  },
  {
   "cell_type": "code",
   "execution_count": 536,
   "metadata": {},
   "outputs": [
    {
     "name": "stdout",
     "output_type": "stream",
     "text": [
      "Mean Living Area: 1345.422774965148\n"
     ]
    }
   ],
   "source": [
    "mean_living_area = listings_df['living_area'].dropna().mean()\n",
    "print(\"Mean Living Area: \" + str(mean_living_area))\n",
    "\n",
    "# Fill the NaN living areas with the mean value\n",
    "listings_df['living_area'] = listings_df['living_area'].fillna(mean_living_area)"
   ]
  },
  {
   "cell_type": "markdown",
   "metadata": {},
   "source": [
    "Final Distribution"
   ]
  },
  {
   "cell_type": "code",
   "execution_count": 537,
   "metadata": {},
   "outputs": [
    {
     "data": {
      "image/png": "[encoded data removed]",
      "text/plain": [
       "<Figure size 540x360 with 1 Axes>"
      ]
     },
     "metadata": {
      "needs_background": "light"
     },
     "output_type": "display_data"
    }
   ],
   "source": [
    "ax = sns.displot(listings_df, x='living_area', kde=True, fill=True, bins=40, height=5, aspect=1.5, linewidth=0)\n",
    "ax.set(xlabel=\"Living Area (sq. ft)\")\n",
    "plt.savefig('./figures/preprocessing/living-area-hist.png', transparent=True)"
   ]
  },
  {
   "cell_type": "code",
   "execution_count": 538,
   "metadata": {},
   "outputs": [
    {
     "name": "stdout",
     "output_type": "stream",
     "text": [
      "Number of listings: 163548\n"
     ]
    }
   ],
   "source": [
    "print(\"Number of listings: \" + str(len(listings_df)))"
   ]
  },
  {
   "cell_type": "markdown",
   "metadata": {},
   "source": [
    "### Lot Dimensions"
   ]
  },
  {
   "cell_type": "markdown",
   "metadata": {},
   "source": [
    "Replace Outliers & NaNs with mean."
   ]
  },
  {
   "cell_type": "code",
   "execution_count": 539,
   "metadata": {},
   "outputs": [],
   "source": [
    "min_lot_dimensions = 500\n",
    "max_lot_dimensions = 50000"
   ]
  },
  {
   "cell_type": "code",
   "execution_count": 540,
   "metadata": {},
   "outputs": [
    {
     "name": "stdout",
     "output_type": "stream",
     "text": [
      "Mean Lot Dimensions: 9084.889465803617\n"
     ]
    }
   ],
   "source": [
    "# Mean value without outliers\n",
    "mean_lot_dimensions = listings_df[listings_df['lot_dimensions'] < max_lot_dimensions]['lot_dimensions'].dropna().mean()\n",
    "print(\"Mean Lot Dimensions: \" + str(mean_lot_dimensions))"
   ]
  },
  {
   "cell_type": "code",
   "execution_count": 541,
   "metadata": {},
   "outputs": [],
   "source": [
    "# Outliers\n",
    "listings_df.loc[(listings_df['lot_dimensions'] > max_lot_dimensions), 'lot_dimensions'] = mean_lot_dimensions\n",
    "# NaNs\n",
    "listings_df['lot_dimensions'] = listings_df['lot_dimensions'].fillna(mean_lot_dimensions)\n",
    "# Min Value\n",
    "listings_df = listings_df[listings_df['lot_dimensions'] >= min_lot_dimensions]"
   ]
  },
  {
   "cell_type": "code",
   "execution_count": 542,
   "metadata": {},
   "outputs": [],
   "source": [
    "listings_df['lot_dimensions'] = listings_df['lot_dimensions'].astype(int)"
   ]
  },
  {
   "cell_type": "code",
   "execution_count": 543,
   "metadata": {},
   "outputs": [
    {
     "data": {
      "image/png": "[encoded data removed]",
      "text/plain": [
       "<Figure size 540x360 with 1 Axes>"
      ]
     },
     "metadata": {
      "needs_background": "light"
     },
     "output_type": "display_data"
    }
   ],
   "source": [
    "ax = sns.displot(listings_df, x='lot_dimensions', kde=True, fill=True, bins=40, height=5, aspect=1.5, linewidth=0)\n",
    "ax.set(xlabel=\"Lot Dimensions (sq. ft)\")\n",
    "plt.savefig('./figures/preprocessing/lot-dimensions-hist.png', transparent=True)"
   ]
  },
  {
   "cell_type": "code",
   "execution_count": 544,
   "metadata": {},
   "outputs": [
    {
     "name": "stdout",
     "output_type": "stream",
     "text": [
      "Number of listings: 162896\n"
     ]
    }
   ],
   "source": [
    "print(\"Number of listings: \" + str(len(listings_df)))"
   ]
  },
  {
   "cell_type": "markdown",
   "metadata": {},
   "source": [
    "### Bedrooms, Bathrooms & Levels\n",
    "No more than 5 bedrooms, 3 bathrooms and 3 stories."
   ]
  },
  {
   "cell_type": "code",
   "execution_count": 545,
   "metadata": {},
   "outputs": [],
   "source": [
    "listings_df = listings_df[listings_df['bedrooms'] <= 5]\n",
    "listings_df = listings_df[listings_df['bathrooms'] <= 3]\n",
    "listings_df = listings_df[listings_df['levels'] <= 3]\n",
    "\n",
    "listings_df['bedrooms'] = listings_df['bedrooms'].astype(int)\n",
    "listings_df['bathrooms'] = listings_df['bathrooms'].astype(int)\n",
    "listings_df['levels'] = listings_df['levels'].astype(int)"
   ]
  },
  {
   "cell_type": "code",
   "execution_count": 546,
   "metadata": {},
   "outputs": [
    {
     "name": "stdout",
     "output_type": "stream",
     "text": [
      "Number of listings: 155202\n"
     ]
    }
   ],
   "source": [
    "print(\"Number of listings: \" + str(len(listings_df)))"
   ]
  },
  {
   "cell_type": "markdown",
   "metadata": {},
   "source": [
    "### Listing Date\n",
    "Convert to datetime."
   ]
  },
  {
   "cell_type": "code",
   "execution_count": 547,
   "metadata": {},
   "outputs": [
    {
     "name": "stdout",
     "output_type": "stream",
     "text": [
      "Number of listings: 155202\n"
     ]
    },
    {
     "data": {
      "text/html": [
       "<div>\n",
       "<style scoped>\n",
       "    .dataframe tbody tr th:only-of-type {\n",
       "        vertical-align: middle;\n",
       "    }\n",
       "\n",
       "    .dataframe tbody tr th {\n",
       "        vertical-align: top;\n",
       "    }\n",
       "\n",
       "    .dataframe thead th {\n",
       "        text-align: right;\n",
       "    }\n",
       "</style>\n",
       "<table border=\"1\" class=\"dataframe\">\n",
       "  <thead>\n",
       "    <tr style=\"text-align: right;\">\n",
       "      <th></th>\n",
       "      <th>subtype</th>\n",
       "      <th>style</th>\n",
       "      <th>living_area</th>\n",
       "      <th>lot_dimensions</th>\n",
       "      <th>bedrooms</th>\n",
       "      <th>bathrooms</th>\n",
       "      <th>levels</th>\n",
       "      <th>location</th>\n",
       "      <th>listing_date</th>\n",
       "      <th>year_of_construction</th>\n",
       "      <th>municipal_eval</th>\n",
       "      <th>price</th>\n",
       "    </tr>\n",
       "  </thead>\n",
       "  <tbody>\n",
       "    <tr>\n",
       "      <th>0</th>\n",
       "      <td>2 Storey</td>\n",
       "      <td>2 storey</td>\n",
       "      <td>1191</td>\n",
       "      <td>4076</td>\n",
       "      <td>3</td>\n",
       "      <td>1</td>\n",
       "      <td>2</td>\n",
       "      <td>Beauport</td>\n",
       "      <td>2020-12-01</td>\n",
       "      <td>2004.0</td>\n",
       "      <td>256000.0</td>\n",
       "      <td>332500.0</td>\n",
       "    </tr>\n",
       "    <tr>\n",
       "      <th>1</th>\n",
       "      <td>Bungalow</td>\n",
       "      <td>Open area</td>\n",
       "      <td>1261</td>\n",
       "      <td>9500</td>\n",
       "      <td>2</td>\n",
       "      <td>1</td>\n",
       "      <td>1</td>\n",
       "      <td>Deschambault</td>\n",
       "      <td>2021-12-01</td>\n",
       "      <td>1957.0</td>\n",
       "      <td>150500.0</td>\n",
       "      <td>265000.0</td>\n",
       "    </tr>\n",
       "    <tr>\n",
       "      <th>2</th>\n",
       "      <td>Townhouse</td>\n",
       "      <td>Unknown</td>\n",
       "      <td>1645</td>\n",
       "      <td>1360</td>\n",
       "      <td>3</td>\n",
       "      <td>1</td>\n",
       "      <td>3</td>\n",
       "      <td>Mercier</td>\n",
       "      <td>2021-11-01</td>\n",
       "      <td>2006.0</td>\n",
       "      <td>479400.0</td>\n",
       "      <td>612000.0</td>\n",
       "    </tr>\n",
       "    <tr>\n",
       "      <th>3</th>\n",
       "      <td>Bi-generation</td>\n",
       "      <td>Link</td>\n",
       "      <td>2024</td>\n",
       "      <td>17000</td>\n",
       "      <td>4</td>\n",
       "      <td>3</td>\n",
       "      <td>1</td>\n",
       "      <td>Stoneham</td>\n",
       "      <td>2021-12-01</td>\n",
       "      <td>2019.0</td>\n",
       "      <td>NaN</td>\n",
       "      <td>526500.0</td>\n",
       "    </tr>\n",
       "    <tr>\n",
       "      <th>4</th>\n",
       "      <td>2 Storey</td>\n",
       "      <td>Waterfront</td>\n",
       "      <td>1469</td>\n",
       "      <td>16970</td>\n",
       "      <td>4</td>\n",
       "      <td>2</td>\n",
       "      <td>2</td>\n",
       "      <td>Trois-Rivières</td>\n",
       "      <td>2021-11-01</td>\n",
       "      <td>1925.0</td>\n",
       "      <td>NaN</td>\n",
       "      <td>NaN</td>\n",
       "    </tr>\n",
       "  </tbody>\n",
       "</table>\n",
       "</div>"
      ],
      "text/plain": [
       "         subtype       style  living_area  lot_dimensions  bedrooms  \\\n",
       "0       2 Storey    2 storey         1191            4076         3   \n",
       "1       Bungalow   Open area         1261            9500         2   \n",
       "2      Townhouse     Unknown         1645            1360         3   \n",
       "3  Bi-generation        Link         2024           17000         4   \n",
       "4       2 Storey  Waterfront         1469           16970         4   \n",
       "\n",
       "   bathrooms  levels        location listing_date  year_of_construction  \\\n",
       "0          1       2        Beauport   2020-12-01                2004.0   \n",
       "1          1       1    Deschambault   2021-12-01                1957.0   \n",
       "2          1       3         Mercier   2021-11-01                2006.0   \n",
       "3          3       1        Stoneham   2021-12-01                2019.0   \n",
       "4          2       2  Trois-Rivières   2021-11-01                1925.0   \n",
       "\n",
       "   municipal_eval     price  \n",
       "0        256000.0  332500.0  \n",
       "1        150500.0  265000.0  \n",
       "2        479400.0  612000.0  \n",
       "3             NaN  526500.0  \n",
       "4             NaN       NaN  "
      ]
     },
     "execution_count": 547,
     "metadata": {},
     "output_type": "execute_result"
    }
   ],
   "source": [
    "listings_df['listing_date'] = pd.to_datetime(listings_df['listing_date'], format='%Y%m')\n",
    "print(\"Number of listings: \" + str(len(listings_df)))\n",
    "listings_df.head()"
   ]
  },
  {
   "cell_type": "markdown",
   "metadata": {},
   "source": [
    "### Year of Construction\n",
    "Replace NaNs and outliers with mean value. Convert to int."
   ]
  },
  {
   "cell_type": "code",
   "execution_count": 548,
   "metadata": {},
   "outputs": [],
   "source": [
    "min_year_of_construction = 1850\n",
    "max_year_of_construction = 2021"
   ]
  },
  {
   "cell_type": "code",
   "execution_count": 549,
   "metadata": {},
   "outputs": [
    {
     "name": "stdout",
     "output_type": "stream",
     "text": [
      "Mean Year of Construction: 1990\n"
     ]
    }
   ],
   "source": [
    "temp_listings_df = listings_df.copy()\n",
    "temp_listings_df = temp_listings_df[temp_listings_df['year_of_construction'] >= min_year_of_construction]\n",
    "temp_listings_df = temp_listings_df[temp_listings_df['year_of_construction'] <= max_year_of_construction]\n",
    "\n",
    "mean_year_of_construction = temp_listings_df['year_of_construction'].dropna().mean()\n",
    "\n",
    "print(\"Mean Year of Construction: \" + str(int(mean_year_of_construction)))"
   ]
  },
  {
   "cell_type": "code",
   "execution_count": 550,
   "metadata": {},
   "outputs": [],
   "source": [
    "listings_df['year_of_construction'] = listings_df['year_of_construction'].fillna(mean_year_of_construction)\n",
    "listings_df.loc[(listings_df['year_of_construction'] <= min_year_of_construction), 'year_of_construction'] = mean_year_of_construction\n",
    "listings_df.loc[(listings_df['year_of_construction'] >= max_year_of_construction), 'year_of_construction'] = mean_year_of_construction\n",
    "\n",
    "listings_df['year_of_construction'] = listings_df['year_of_construction'].astype(int)"
   ]
  },
  {
   "cell_type": "code",
   "execution_count": 551,
   "metadata": {},
   "outputs": [
    {
     "data": {
      "image/png": "[encoded data removed]",
      "text/plain": [
       "<Figure size 540x360 with 1 Axes>"
      ]
     },
     "metadata": {
      "needs_background": "light"
     },
     "output_type": "display_data"
    }
   ],
   "source": [
    "ax = sns.displot(listings_df, x='year_of_construction', kde=True, fill=True, bins=40, height=5, aspect=1.5, linewidth=0)\n",
    "ax.set(xlabel=\"Year of construction\")\n",
    "plt.savefig('./figures/preprocessing/year_of_construction-hist.png', transparent=True)"
   ]
  },
  {
   "cell_type": "code",
   "execution_count": 552,
   "metadata": {},
   "outputs": [
    {
     "name": "stdout",
     "output_type": "stream",
     "text": [
      "Number of listings: 155202\n"
     ]
    }
   ],
   "source": [
    "print(\"Number of listings: \" + str(len(listings_df)))"
   ]
  },
  {
   "cell_type": "markdown",
   "metadata": {},
   "source": [
    "### Municipal Evaluation\n",
    "Dropping this feature."
   ]
  },
  {
   "cell_type": "code",
   "execution_count": 553,
   "metadata": {},
   "outputs": [
    {
     "name": "stdout",
     "output_type": "stream",
     "text": [
      "Number of listings: 155202\n"
     ]
    }
   ],
   "source": [
    "listings_df = listings_df.drop(['municipal_eval'], axis=1)\n",
    "\n",
    "print(\"Number of listings: \" + str(len(listings_df)))"
   ]
  },
  {
   "cell_type": "markdown",
   "metadata": {},
   "source": [
    "### Price\n",
    "Remove Outliers and NaNs"
   ]
  },
  {
   "cell_type": "code",
   "execution_count": 554,
   "metadata": {},
   "outputs": [],
   "source": [
    "min_price = 20000\n",
    "max_price = 1000000"
   ]
  },
  {
   "cell_type": "code",
   "execution_count": 555,
   "metadata": {},
   "outputs": [],
   "source": [
    "listings_df = listings_df.dropna()\n",
    "listings_df = listings_df[listings_df['price'] >= min_price]\n",
    "listings_df = listings_df[listings_df['price'] <= max_price]"
   ]
  },
  {
   "cell_type": "code",
   "execution_count": 556,
   "metadata": {},
   "outputs": [],
   "source": [
    "listings_df['price'] = listings_df['price'].astype(int)"
   ]
  },
  {
   "cell_type": "code",
   "execution_count": 557,
   "metadata": {},
   "outputs": [
    {
     "data": {
      "image/png": "[encoded data removed]",
      "text/plain": [
       "<Figure size 540x360 with 1 Axes>"
      ]
     },
     "metadata": {
      "needs_background": "light"
     },
     "output_type": "display_data"
    }
   ],
   "source": [
    "ax = sns.displot(listings_df, x='price', kde=True, fill=True, bins=40, height=5, aspect=1.5, linewidth=0)\n",
    "ax.set(xlabel=\"Price\")\n",
    "plt.savefig('./figures/preprocessing/price-hist.png', transparent=True)"
   ]
  },
  {
   "cell_type": "code",
   "execution_count": 558,
   "metadata": {},
   "outputs": [
    {
     "name": "stdout",
     "output_type": "stream",
     "text": [
      "Number of listings: 125242\n"
     ]
    }
   ],
   "source": [
    "print(\"Number of listings: \" + str(len(listings_df)))"
   ]
  },
  {
   "cell_type": "markdown",
   "metadata": {},
   "source": [
    "### Location"
   ]
  },
  {
   "cell_type": "markdown",
   "metadata": {},
   "source": [
    "Format Raw Location Strings"
   ]
  },
  {
   "cell_type": "code",
   "execution_count": 559,
   "metadata": {},
   "outputs": [],
   "source": [
    "listings_df['location'] = listings_df['location'].str.replace('St-', 'Saint-')\n",
    "listings_df['location'] = listings_df['location'].str.replace('Ste-', 'Sainte-')\n",
    "listings_df['location'] = listings_df['location'].str.replace('Sts-', 'Saints-')\n",
    "listings_df['location'] = listings_df['location'].str.replace('ND-', 'Notre-Dame-')\n",
    "listings_df['location'] = listings_df['location'].str.replace('JC', 'Jacques-Cartier')"
   ]
  },
  {
   "cell_type": "code",
   "execution_count": 560,
   "metadata": {},
   "outputs": [],
   "source": [
    "unknown_locations_dict = {\n",
    "    \"Saint-Denis-sur-Mer\": \"Saint-Denis\",\n",
    "    \"Saint-Simon-De-Rimouski\": \"Saint-Simon\",\n",
    "    \"Saint-Guillaume-D'Upton\": \"Saint-Guillaume\",\n",
    "    \"Saint-Joseph-De-Ham-Sud\": \"Ham-Sud\",\n",
    "    \"Saint-Adelphe-De-Champlain\": \"Saint-Adelphe\",\n",
    "    \"Saint-Mathieu-De-Laprairie\": \"Saint-Mathieu\",\n",
    "    \"Saint-Isidore-De-Laprairie\": \"Saint-Isidore\",\n",
    "    \"Saint-Stanislas-De-Champlain\": \"Saint-Denis\",\n",
    "    \"Saint-Sebastien-De-Frontenac\": \"Saint-Sebastien\",\n",
    "    \"Sainte-Francoise-De-Lotbiniere\": \"Saint-Francoise\",\n",
    "    \"Saint-Donat-De-Rimouski\": \"Rimouski\",\n",
    "    \"Sheenboro\": \"Pontiac\",\n",
    "    \"Mercier\": \"Hochelaga\", \n",
    "    \"Mont-Royal\": \"Ville de Mont-Royal\",\n",
    "    \"Rosemont\": \"Rosemont-La Petite-Patrie\",\n",
    "    \"Rivière des Prairies\": \"Rivière-des-Prairies-Pointe-aux-Trembles\",\n",
    "    \"Pointe-Aux-Trembles\": \"Rivière-des-Prairies-Pointe-aux-Trembles\",\n",
    "    \"Côte-des-Neiges\": \"Côte-des-Neiges–Notre-Dame-de-Grâce\"\n",
    "}\n",
    "\n",
    "listings_df = listings_df.replace({'location': unknown_locations_dict})"
   ]
  },
  {
   "cell_type": "markdown",
   "metadata": {},
   "source": [
    "Read Data"
   ]
  },
  {
   "cell_type": "code",
   "execution_count": 561,
   "metadata": {},
   "outputs": [],
   "source": [
    "# Population Centers DataFrame\n",
    "population_centers_df = pd.read_csv('../data/references/handmade/qc-population-centers.csv')\n",
    "population_centers_df = population_centers_df[[\"Location\", \"RCM\", \"Region\", \"Display Name\"]].set_index(\"Location\")\n",
    "\n",
    "# Mapper\n",
    "with open('../data/processed/locations/location_mapper.pkl', 'rb') as f:\n",
    "    location_mapper = pickle.load(f)"
   ]
  },
  {
   "cell_type": "markdown",
   "metadata": {},
   "source": [
    "Replace locations using pre defined mapper."
   ]
  },
  {
   "cell_type": "code",
   "execution_count": 562,
   "metadata": {},
   "outputs": [],
   "source": [
    "listings_df = listings_df.replace({'location': location_mapper}).rename(columns={\"location\": \"Location\"}).set_index(\"Location\")"
   ]
  },
  {
   "cell_type": "markdown",
   "metadata": {},
   "source": [
    "Merge Dataframes"
   ]
  },
  {
   "cell_type": "code",
   "execution_count": 563,
   "metadata": {},
   "outputs": [],
   "source": [
    "listings_df = pd.merge(listings_df, population_centers_df, left_index=True, right_index=True)"
   ]
  },
  {
   "cell_type": "code",
   "execution_count": 564,
   "metadata": {},
   "outputs": [],
   "source": [
    "listings_df = listings_df.reset_index().drop(['Location'], axis=1).rename(columns={\"Display Name\": \"Location\"})"
   ]
  },
  {
   "cell_type": "code",
   "execution_count": 565,
   "metadata": {},
   "outputs": [
    {
     "data": {
      "text/html": [
       "<div>\n",
       "<style scoped>\n",
       "    .dataframe tbody tr th:only-of-type {\n",
       "        vertical-align: middle;\n",
       "    }\n",
       "\n",
       "    .dataframe tbody tr th {\n",
       "        vertical-align: top;\n",
       "    }\n",
       "\n",
       "    .dataframe thead th {\n",
       "        text-align: right;\n",
       "    }\n",
       "</style>\n",
       "<table border=\"1\" class=\"dataframe\">\n",
       "  <thead>\n",
       "    <tr style=\"text-align: right;\">\n",
       "      <th></th>\n",
       "      <th>subtype</th>\n",
       "      <th>style</th>\n",
       "      <th>living_area</th>\n",
       "      <th>lot_dimensions</th>\n",
       "      <th>bedrooms</th>\n",
       "      <th>bathrooms</th>\n",
       "      <th>levels</th>\n",
       "      <th>listing_date</th>\n",
       "      <th>year_of_construction</th>\n",
       "      <th>price</th>\n",
       "      <th>RCM</th>\n",
       "      <th>Region</th>\n",
       "      <th>Location</th>\n",
       "    </tr>\n",
       "  </thead>\n",
       "  <tbody>\n",
       "    <tr>\n",
       "      <th>34492</th>\n",
       "      <td>Bungalow</td>\n",
       "      <td>Detached</td>\n",
       "      <td>960</td>\n",
       "      <td>6157</td>\n",
       "      <td>3</td>\n",
       "      <td>2</td>\n",
       "      <td>1</td>\n",
       "      <td>2021-11-01</td>\n",
       "      <td>1990</td>\n",
       "      <td>400000</td>\n",
       "      <td>Laval</td>\n",
       "      <td>Laval</td>\n",
       "      <td>Fabreville</td>\n",
       "    </tr>\n",
       "    <tr>\n",
       "      <th>21057</th>\n",
       "      <td>Semi-detached</td>\n",
       "      <td>Unknown</td>\n",
       "      <td>881</td>\n",
       "      <td>5086</td>\n",
       "      <td>4</td>\n",
       "      <td>1</td>\n",
       "      <td>1</td>\n",
       "      <td>2021-12-01</td>\n",
       "      <td>2018</td>\n",
       "      <td>242500</td>\n",
       "      <td>Portneuf</td>\n",
       "      <td>Capitale-Nationale</td>\n",
       "      <td>Portneuf</td>\n",
       "    </tr>\n",
       "    <tr>\n",
       "      <th>107460</th>\n",
       "      <td>Semi-detached</td>\n",
       "      <td>2 storey</td>\n",
       "      <td>1560</td>\n",
       "      <td>3172</td>\n",
       "      <td>5</td>\n",
       "      <td>2</td>\n",
       "      <td>2</td>\n",
       "      <td>2021-12-01</td>\n",
       "      <td>2016</td>\n",
       "      <td>610000</td>\n",
       "      <td>La Côte-de-Beaupré</td>\n",
       "      <td>Capitale-Nationale</td>\n",
       "      <td>La Côte-de-Beaupré &amp; L'Île-d'Orléans</td>\n",
       "    </tr>\n",
       "    <tr>\n",
       "      <th>64747</th>\n",
       "      <td>Bi-generation</td>\n",
       "      <td>Bungaloft</td>\n",
       "      <td>1267</td>\n",
       "      <td>10100</td>\n",
       "      <td>4</td>\n",
       "      <td>2</td>\n",
       "      <td>1</td>\n",
       "      <td>2021-12-01</td>\n",
       "      <td>1975</td>\n",
       "      <td>550000</td>\n",
       "      <td>Laval</td>\n",
       "      <td>Laval</td>\n",
       "      <td>Sainte-Dorothée &amp; Laval-Ouest</td>\n",
       "    </tr>\n",
       "    <tr>\n",
       "      <th>64672</th>\n",
       "      <td>Bi-generation</td>\n",
       "      <td>Bungaloft</td>\n",
       "      <td>1267</td>\n",
       "      <td>10100</td>\n",
       "      <td>4</td>\n",
       "      <td>2</td>\n",
       "      <td>1</td>\n",
       "      <td>2021-12-01</td>\n",
       "      <td>1975</td>\n",
       "      <td>550000</td>\n",
       "      <td>Laval</td>\n",
       "      <td>Laval</td>\n",
       "      <td>Sainte-Dorothée &amp; Laval-Ouest</td>\n",
       "    </tr>\n",
       "  </tbody>\n",
       "</table>\n",
       "</div>"
      ],
      "text/plain": [
       "              subtype      style  living_area  lot_dimensions  bedrooms  \\\n",
       "34492        Bungalow   Detached          960            6157         3   \n",
       "21057   Semi-detached    Unknown          881            5086         4   \n",
       "107460  Semi-detached   2 storey         1560            3172         5   \n",
       "64747   Bi-generation  Bungaloft         1267           10100         4   \n",
       "64672   Bi-generation  Bungaloft         1267           10100         4   \n",
       "\n",
       "        bathrooms  levels listing_date  year_of_construction   price  \\\n",
       "34492           2       1   2021-11-01                  1990  400000   \n",
       "21057           1       1   2021-12-01                  2018  242500   \n",
       "107460          2       2   2021-12-01                  2016  610000   \n",
       "64747           2       1   2021-12-01                  1975  550000   \n",
       "64672           2       1   2021-12-01                  1975  550000   \n",
       "\n",
       "                       RCM              Region  \\\n",
       "34492                Laval               Laval   \n",
       "21057             Portneuf  Capitale-Nationale   \n",
       "107460  La Côte-de-Beaupré  Capitale-Nationale   \n",
       "64747                Laval               Laval   \n",
       "64672                Laval               Laval   \n",
       "\n",
       "                                    Location  \n",
       "34492                             Fabreville  \n",
       "21057                               Portneuf  \n",
       "107460  La Côte-de-Beaupré & L'Île-d'Orléans  \n",
       "64747          Sainte-Dorothée & Laval-Ouest  \n",
       "64672          Sainte-Dorothée & Laval-Ouest  "
      ]
     },
     "execution_count": 565,
     "metadata": {},
     "output_type": "execute_result"
    }
   ],
   "source": [
    "listings_df.sample(5)"
   ]
  },
  {
   "cell_type": "markdown",
   "metadata": {},
   "source": [
    "### New Columns"
   ]
  },
  {
   "cell_type": "markdown",
   "metadata": {},
   "source": [
    "Listing Year"
   ]
  },
  {
   "cell_type": "code",
   "execution_count": 566,
   "metadata": {},
   "outputs": [],
   "source": [
    "listings_df.insert(8, 'listing_year', '')\n",
    "listings_df['listing_year'] = pd.DatetimeIndex(listings_df['listing_date']).year\n",
    "listings_df = listings_df[listings_df['listing_year'] <= 2021]\n",
    "\n",
    "listings_df['listing_year'] = listings_df['listing_year'].astype(int)"
   ]
  },
  {
   "cell_type": "markdown",
   "metadata": {},
   "source": [
    "Age"
   ]
  },
  {
   "cell_type": "code",
   "execution_count": 567,
   "metadata": {},
   "outputs": [],
   "source": [
    "listings_df.insert(9, 'age', '')\n",
    "listings_df['age'] = listings_df['listing_year'] - listings_df['year_of_construction']\n",
    "listings_df = listings_df[listings_df['age'] >= 0]\n",
    "\n",
    "listings_df['age'] = listings_df['age'].astype(int)"
   ]
  },
  {
   "cell_type": "markdown",
   "metadata": {},
   "source": [
    "Yard Area"
   ]
  },
  {
   "cell_type": "code",
   "execution_count": 568,
   "metadata": {},
   "outputs": [],
   "source": [
    "listings_df.insert(10, 'yard_area', '')\n",
    "listings_df['yard_area'] = listings_df['lot_dimensions'] - listings_df['living_area']\n",
    "listings_df['yard_area'] = listings_df['yard_area'].mask(listings_df['yard_area'].lt(0), 0)\n",
    "\n",
    "listings_df['yard_area'] = listings_df['yard_area'].astype(int)"
   ]
  },
  {
   "cell_type": "markdown",
   "metadata": {},
   "source": [
    "### Rearrange and Rename Columns"
   ]
  },
  {
   "cell_type": "code",
   "execution_count": 569,
   "metadata": {},
   "outputs": [],
   "source": [
    "listings_df = listings_df[[\"subtype\", \"style\", \"living_area\", \"lot_dimensions\", \"bedrooms\", \"bathrooms\",\n",
    "                           \"levels\", \"listing_date\", \"listing_year\", \"year_of_construction\", \"age\", \"Location\", \"RCM\", \"Region\", \"price\"]]"
   ]
  },
  {
   "cell_type": "code",
   "execution_count": 570,
   "metadata": {},
   "outputs": [],
   "source": [
    "listings_df = listings_df.rename(columns={\"subtype\": \"Subtype\", \"style\": \"Style\", \"living_area\": \"Living Area\", \"lot_dimensions\": \"Lot Dimensions\", \"bedrooms\": \"Bedrooms\",\n",
    "                                 \"bathrooms\": \"Bathrooms\", \"levels\": \"Levels\", \"listing_date\": \"Listing Date\", \"listing_year\": \"Listing Year\", \"year_of_construction\": \"Year of Construction\", \"age\": \"Age\", \"price\": \"Price\"})\n"
   ]
  },
  {
   "cell_type": "markdown",
   "metadata": {},
   "source": [
    "### Save Data"
   ]
  },
  {
   "cell_type": "code",
   "execution_count": 571,
   "metadata": {},
   "outputs": [
    {
     "name": "stdout",
     "output_type": "stream",
     "text": [
      "Original Data Length: 169894\n",
      "Processed Data Length: 125144\n"
     ]
    }
   ],
   "source": [
    "print(\"Original Data Length: \" + str(len(raw_listings)))\n",
    "print(\"Processed Data Length: \" + str(len(listings_df)))"
   ]
  },
  {
   "cell_type": "code",
   "execution_count": 572,
   "metadata": {},
   "outputs": [],
   "source": [
    "listings_df.to_csv('../data/processed/processed_listings.csv', index=False)"
   ]
  },
  {
   "cell_type": "code",
   "execution_count": 573,
   "metadata": {},
   "outputs": [
    {
     "data": {
      "text/html": [
       "<div>\n",
       "<style scoped>\n",
       "    .dataframe tbody tr th:only-of-type {\n",
       "        vertical-align: middle;\n",
       "    }\n",
       "\n",
       "    .dataframe tbody tr th {\n",
       "        vertical-align: top;\n",
       "    }\n",
       "\n",
       "    .dataframe thead th {\n",
       "        text-align: right;\n",
       "    }\n",
       "</style>\n",
       "<table border=\"1\" class=\"dataframe\">\n",
       "  <thead>\n",
       "    <tr style=\"text-align: right;\">\n",
       "      <th></th>\n",
       "      <th>Subtype</th>\n",
       "      <th>Style</th>\n",
       "      <th>Living Area</th>\n",
       "      <th>Lot Dimensions</th>\n",
       "      <th>Bedrooms</th>\n",
       "      <th>Bathrooms</th>\n",
       "      <th>Levels</th>\n",
       "      <th>Listing Date</th>\n",
       "      <th>Listing Year</th>\n",
       "      <th>Year of Construction</th>\n",
       "      <th>Age</th>\n",
       "      <th>Location</th>\n",
       "      <th>RCM</th>\n",
       "      <th>Region</th>\n",
       "      <th>Price</th>\n",
       "    </tr>\n",
       "  </thead>\n",
       "  <tbody>\n",
       "    <tr>\n",
       "      <th>110779</th>\n",
       "      <td>Bungalow</td>\n",
       "      <td>Side split</td>\n",
       "      <td>892</td>\n",
       "      <td>5000</td>\n",
       "      <td>3</td>\n",
       "      <td>1</td>\n",
       "      <td>1</td>\n",
       "      <td>2019-08-01</td>\n",
       "      <td>2019</td>\n",
       "      <td>1996</td>\n",
       "      <td>23</td>\n",
       "      <td>Marguerite-D'Youville</td>\n",
       "      <td>Marguerite-D'Youville</td>\n",
       "      <td>Montérégie</td>\n",
       "      <td>215000</td>\n",
       "    </tr>\n",
       "    <tr>\n",
       "      <th>69351</th>\n",
       "      <td>Semi-detached</td>\n",
       "      <td>Open area</td>\n",
       "      <td>640</td>\n",
       "      <td>2962</td>\n",
       "      <td>2</td>\n",
       "      <td>1</td>\n",
       "      <td>1</td>\n",
       "      <td>2020-07-01</td>\n",
       "      <td>2020</td>\n",
       "      <td>2006</td>\n",
       "      <td>14</td>\n",
       "      <td>Les Rivières</td>\n",
       "      <td>Québec</td>\n",
       "      <td>Capitale-Nationale</td>\n",
       "      <td>230000</td>\n",
       "    </tr>\n",
       "    <tr>\n",
       "      <th>105287</th>\n",
       "      <td>Semi-detached</td>\n",
       "      <td>2 storey</td>\n",
       "      <td>1560</td>\n",
       "      <td>3172</td>\n",
       "      <td>5</td>\n",
       "      <td>2</td>\n",
       "      <td>2</td>\n",
       "      <td>2021-12-01</td>\n",
       "      <td>2021</td>\n",
       "      <td>2016</td>\n",
       "      <td>5</td>\n",
       "      <td>La Côte-de-Beaupré &amp; L'Île-d'Orléans</td>\n",
       "      <td>La Côte-de-Beaupré</td>\n",
       "      <td>Capitale-Nationale</td>\n",
       "      <td>610000</td>\n",
       "    </tr>\n",
       "    <tr>\n",
       "      <th>31084</th>\n",
       "      <td>2 Storey</td>\n",
       "      <td>Unknown</td>\n",
       "      <td>1456</td>\n",
       "      <td>9200</td>\n",
       "      <td>3</td>\n",
       "      <td>1</td>\n",
       "      <td>2</td>\n",
       "      <td>2013-05-01</td>\n",
       "      <td>2013</td>\n",
       "      <td>1990</td>\n",
       "      <td>23</td>\n",
       "      <td>Drummond</td>\n",
       "      <td>Drummond</td>\n",
       "      <td>Centre-du-Québec</td>\n",
       "      <td>192000</td>\n",
       "    </tr>\n",
       "    <tr>\n",
       "      <th>6334</th>\n",
       "      <td>2 Storey</td>\n",
       "      <td>Waterfront</td>\n",
       "      <td>784</td>\n",
       "      <td>9084</td>\n",
       "      <td>3</td>\n",
       "      <td>1</td>\n",
       "      <td>2</td>\n",
       "      <td>2017-07-01</td>\n",
       "      <td>2017</td>\n",
       "      <td>2010</td>\n",
       "      <td>7</td>\n",
       "      <td>Charlevoix</td>\n",
       "      <td>Charlevoix</td>\n",
       "      <td>Capitale-Nationale</td>\n",
       "      <td>290000</td>\n",
       "    </tr>\n",
       "    <tr>\n",
       "      <th>60893</th>\n",
       "      <td>Bi-generation</td>\n",
       "      <td>Link</td>\n",
       "      <td>2024</td>\n",
       "      <td>17000</td>\n",
       "      <td>4</td>\n",
       "      <td>3</td>\n",
       "      <td>1</td>\n",
       "      <td>2021-12-01</td>\n",
       "      <td>2021</td>\n",
       "      <td>2019</td>\n",
       "      <td>2</td>\n",
       "      <td>La Jacques-Cartier</td>\n",
       "      <td>La Jacques-Cartier</td>\n",
       "      <td>Capitale-Nationale</td>\n",
       "      <td>526500</td>\n",
       "    </tr>\n",
       "    <tr>\n",
       "      <th>65137</th>\n",
       "      <td>Bi-generation</td>\n",
       "      <td>Bungaloft</td>\n",
       "      <td>1267</td>\n",
       "      <td>10100</td>\n",
       "      <td>4</td>\n",
       "      <td>2</td>\n",
       "      <td>1</td>\n",
       "      <td>2021-12-01</td>\n",
       "      <td>2021</td>\n",
       "      <td>1975</td>\n",
       "      <td>46</td>\n",
       "      <td>Sainte-Dorothée &amp; Laval-Ouest</td>\n",
       "      <td>Laval</td>\n",
       "      <td>Laval</td>\n",
       "      <td>550000</td>\n",
       "    </tr>\n",
       "    <tr>\n",
       "      <th>93017</th>\n",
       "      <td>2 Storey</td>\n",
       "      <td>Canadian</td>\n",
       "      <td>2779</td>\n",
       "      <td>10591</td>\n",
       "      <td>4</td>\n",
       "      <td>1</td>\n",
       "      <td>2</td>\n",
       "      <td>2006-05-01</td>\n",
       "      <td>2006</td>\n",
       "      <td>1981</td>\n",
       "      <td>25</td>\n",
       "      <td>Saint-Bruno-de-Montarville</td>\n",
       "      <td>Longueuil</td>\n",
       "      <td>Montérégie</td>\n",
       "      <td>280000</td>\n",
       "    </tr>\n",
       "    <tr>\n",
       "      <th>55114</th>\n",
       "      <td>Condominium</td>\n",
       "      <td>Divided Co-Ownership</td>\n",
       "      <td>836</td>\n",
       "      <td>9084</td>\n",
       "      <td>2</td>\n",
       "      <td>1</td>\n",
       "      <td>1</td>\n",
       "      <td>2020-09-01</td>\n",
       "      <td>2020</td>\n",
       "      <td>1930</td>\n",
       "      <td>90</td>\n",
       "      <td>La Cité-Limoilou</td>\n",
       "      <td>Québec</td>\n",
       "      <td>Capitale-Nationale</td>\n",
       "      <td>215000</td>\n",
       "    </tr>\n",
       "    <tr>\n",
       "      <th>23801</th>\n",
       "      <td>Semi-detached</td>\n",
       "      <td>Unknown</td>\n",
       "      <td>881</td>\n",
       "      <td>5086</td>\n",
       "      <td>4</td>\n",
       "      <td>1</td>\n",
       "      <td>1</td>\n",
       "      <td>2021-12-01</td>\n",
       "      <td>2021</td>\n",
       "      <td>2018</td>\n",
       "      <td>3</td>\n",
       "      <td>Portneuf</td>\n",
       "      <td>Portneuf</td>\n",
       "      <td>Capitale-Nationale</td>\n",
       "      <td>242500</td>\n",
       "    </tr>\n",
       "    <tr>\n",
       "      <th>52179</th>\n",
       "      <td>Condominium</td>\n",
       "      <td>Divided Co-Ownership</td>\n",
       "      <td>750</td>\n",
       "      <td>9084</td>\n",
       "      <td>1</td>\n",
       "      <td>1</td>\n",
       "      <td>1</td>\n",
       "      <td>2015-03-01</td>\n",
       "      <td>2015</td>\n",
       "      <td>1983</td>\n",
       "      <td>32</td>\n",
       "      <td>Mercier-Hochelaga-Maisonneuve</td>\n",
       "      <td>Montréal</td>\n",
       "      <td>Montréal</td>\n",
       "      <td>175000</td>\n",
       "    </tr>\n",
       "    <tr>\n",
       "      <th>65474</th>\n",
       "      <td>Bi-generation</td>\n",
       "      <td>Bungaloft</td>\n",
       "      <td>1267</td>\n",
       "      <td>10100</td>\n",
       "      <td>4</td>\n",
       "      <td>2</td>\n",
       "      <td>1</td>\n",
       "      <td>2021-12-01</td>\n",
       "      <td>2021</td>\n",
       "      <td>1975</td>\n",
       "      <td>46</td>\n",
       "      <td>Sainte-Dorothée &amp; Laval-Ouest</td>\n",
       "      <td>Laval</td>\n",
       "      <td>Laval</td>\n",
       "      <td>550000</td>\n",
       "    </tr>\n",
       "    <tr>\n",
       "      <th>50186</th>\n",
       "      <td>Townhouse</td>\n",
       "      <td>Unknown</td>\n",
       "      <td>1645</td>\n",
       "      <td>1360</td>\n",
       "      <td>3</td>\n",
       "      <td>1</td>\n",
       "      <td>3</td>\n",
       "      <td>2021-11-01</td>\n",
       "      <td>2021</td>\n",
       "      <td>2006</td>\n",
       "      <td>15</td>\n",
       "      <td>Mercier-Hochelaga-Maisonneuve</td>\n",
       "      <td>Montréal</td>\n",
       "      <td>Montréal</td>\n",
       "      <td>612000</td>\n",
       "    </tr>\n",
       "    <tr>\n",
       "      <th>73486</th>\n",
       "      <td>Condominium</td>\n",
       "      <td>Divided Co-Ownership</td>\n",
       "      <td>900</td>\n",
       "      <td>9084</td>\n",
       "      <td>2</td>\n",
       "      <td>1</td>\n",
       "      <td>1</td>\n",
       "      <td>2019-08-01</td>\n",
       "      <td>2019</td>\n",
       "      <td>2002</td>\n",
       "      <td>17</td>\n",
       "      <td>Longueuil</td>\n",
       "      <td>Longueuil</td>\n",
       "      <td>Montérégie</td>\n",
       "      <td>212000</td>\n",
       "    </tr>\n",
       "    <tr>\n",
       "      <th>68163</th>\n",
       "      <td>Condominium</td>\n",
       "      <td>Undivided Co-Ownership</td>\n",
       "      <td>1000</td>\n",
       "      <td>1850</td>\n",
       "      <td>2</td>\n",
       "      <td>1</td>\n",
       "      <td>3</td>\n",
       "      <td>2017-03-01</td>\n",
       "      <td>2017</td>\n",
       "      <td>1910</td>\n",
       "      <td>107</td>\n",
       "      <td>Le Plateau-Mont-Royal</td>\n",
       "      <td>Montréal</td>\n",
       "      <td>Montréal</td>\n",
       "      <td>300000</td>\n",
       "    </tr>\n",
       "    <tr>\n",
       "      <th>8724</th>\n",
       "      <td>2 Storey</td>\n",
       "      <td>2 storey</td>\n",
       "      <td>1191</td>\n",
       "      <td>4076</td>\n",
       "      <td>3</td>\n",
       "      <td>1</td>\n",
       "      <td>2</td>\n",
       "      <td>2020-12-01</td>\n",
       "      <td>2020</td>\n",
       "      <td>2004</td>\n",
       "      <td>16</td>\n",
       "      <td>Beauport</td>\n",
       "      <td>Québec</td>\n",
       "      <td>Capitale-Nationale</td>\n",
       "      <td>332500</td>\n",
       "    </tr>\n",
       "    <tr>\n",
       "      <th>71913</th>\n",
       "      <td>2 Storey</td>\n",
       "      <td>Unknown</td>\n",
       "      <td>1036</td>\n",
       "      <td>3999</td>\n",
       "      <td>2</td>\n",
       "      <td>1</td>\n",
       "      <td>2</td>\n",
       "      <td>2019-02-01</td>\n",
       "      <td>2019</td>\n",
       "      <td>1960</td>\n",
       "      <td>59</td>\n",
       "      <td>Longueuil</td>\n",
       "      <td>Longueuil</td>\n",
       "      <td>Montérégie</td>\n",
       "      <td>295000</td>\n",
       "    </tr>\n",
       "    <tr>\n",
       "      <th>40940</th>\n",
       "      <td>Townhouse</td>\n",
       "      <td>Townhouse</td>\n",
       "      <td>1100</td>\n",
       "      <td>2626</td>\n",
       "      <td>3</td>\n",
       "      <td>1</td>\n",
       "      <td>2</td>\n",
       "      <td>2010-02-01</td>\n",
       "      <td>2010</td>\n",
       "      <td>1990</td>\n",
       "      <td>20</td>\n",
       "      <td>Gatineau</td>\n",
       "      <td>Gatineau</td>\n",
       "      <td>Outaouais</td>\n",
       "      <td>168500</td>\n",
       "    </tr>\n",
       "    <tr>\n",
       "      <th>109814</th>\n",
       "      <td>Bungalow</td>\n",
       "      <td>Canadian</td>\n",
       "      <td>1040</td>\n",
       "      <td>8400</td>\n",
       "      <td>3</td>\n",
       "      <td>2</td>\n",
       "      <td>1</td>\n",
       "      <td>2009-04-01</td>\n",
       "      <td>2009</td>\n",
       "      <td>1984</td>\n",
       "      <td>25</td>\n",
       "      <td>Sainte-Foy-Sillery-Cap-Rouge</td>\n",
       "      <td>Québec</td>\n",
       "      <td>Capitale-Nationale</td>\n",
       "      <td>185000</td>\n",
       "    </tr>\n",
       "    <tr>\n",
       "      <th>49565</th>\n",
       "      <td>Townhouse</td>\n",
       "      <td>Unknown</td>\n",
       "      <td>1645</td>\n",
       "      <td>1360</td>\n",
       "      <td>3</td>\n",
       "      <td>1</td>\n",
       "      <td>3</td>\n",
       "      <td>2021-11-01</td>\n",
       "      <td>2021</td>\n",
       "      <td>2006</td>\n",
       "      <td>15</td>\n",
       "      <td>Mercier-Hochelaga-Maisonneuve</td>\n",
       "      <td>Montréal</td>\n",
       "      <td>Montréal</td>\n",
       "      <td>612000</td>\n",
       "    </tr>\n",
       "  </tbody>\n",
       "</table>\n",
       "</div>"
      ],
      "text/plain": [
       "              Subtype                   Style  Living Area  Lot Dimensions  \\\n",
       "110779       Bungalow              Side split          892            5000   \n",
       "69351   Semi-detached               Open area          640            2962   \n",
       "105287  Semi-detached                2 storey         1560            3172   \n",
       "31084        2 Storey                 Unknown         1456            9200   \n",
       "6334         2 Storey              Waterfront          784            9084   \n",
       "60893   Bi-generation                    Link         2024           17000   \n",
       "65137   Bi-generation               Bungaloft         1267           10100   \n",
       "93017        2 Storey                Canadian         2779           10591   \n",
       "55114     Condominium    Divided Co-Ownership          836            9084   \n",
       "23801   Semi-detached                 Unknown          881            5086   \n",
       "52179     Condominium    Divided Co-Ownership          750            9084   \n",
       "65474   Bi-generation               Bungaloft         1267           10100   \n",
       "50186       Townhouse                 Unknown         1645            1360   \n",
       "73486     Condominium    Divided Co-Ownership          900            9084   \n",
       "68163     Condominium  Undivided Co-Ownership         1000            1850   \n",
       "8724         2 Storey                2 storey         1191            4076   \n",
       "71913        2 Storey                 Unknown         1036            3999   \n",
       "40940       Townhouse               Townhouse         1100            2626   \n",
       "109814       Bungalow                Canadian         1040            8400   \n",
       "49565       Townhouse                 Unknown         1645            1360   \n",
       "\n",
       "        Bedrooms  Bathrooms  Levels Listing Date  Listing Year  \\\n",
       "110779         3          1       1   2019-08-01          2019   \n",
       "69351          2          1       1   2020-07-01          2020   \n",
       "105287         5          2       2   2021-12-01          2021   \n",
       "31084          3          1       2   2013-05-01          2013   \n",
       "6334           3          1       2   2017-07-01          2017   \n",
       "60893          4          3       1   2021-12-01          2021   \n",
       "65137          4          2       1   2021-12-01          2021   \n",
       "93017          4          1       2   2006-05-01          2006   \n",
       "55114          2          1       1   2020-09-01          2020   \n",
       "23801          4          1       1   2021-12-01          2021   \n",
       "52179          1          1       1   2015-03-01          2015   \n",
       "65474          4          2       1   2021-12-01          2021   \n",
       "50186          3          1       3   2021-11-01          2021   \n",
       "73486          2          1       1   2019-08-01          2019   \n",
       "68163          2          1       3   2017-03-01          2017   \n",
       "8724           3          1       2   2020-12-01          2020   \n",
       "71913          2          1       2   2019-02-01          2019   \n",
       "40940          3          1       2   2010-02-01          2010   \n",
       "109814         3          2       1   2009-04-01          2009   \n",
       "49565          3          1       3   2021-11-01          2021   \n",
       "\n",
       "        Year of Construction  Age                              Location  \\\n",
       "110779                  1996   23                 Marguerite-D'Youville   \n",
       "69351                   2006   14                          Les Rivières   \n",
       "105287                  2016    5  La Côte-de-Beaupré & L'Île-d'Orléans   \n",
       "31084                   1990   23                              Drummond   \n",
       "6334                    2010    7                            Charlevoix   \n",
       "60893                   2019    2                    La Jacques-Cartier   \n",
       "65137                   1975   46         Sainte-Dorothée & Laval-Ouest   \n",
       "93017                   1981   25            Saint-Bruno-de-Montarville   \n",
       "55114                   1930   90                      La Cité-Limoilou   \n",
       "23801                   2018    3                              Portneuf   \n",
       "52179                   1983   32         Mercier-Hochelaga-Maisonneuve   \n",
       "65474                   1975   46         Sainte-Dorothée & Laval-Ouest   \n",
       "50186                   2006   15         Mercier-Hochelaga-Maisonneuve   \n",
       "73486                   2002   17                             Longueuil   \n",
       "68163                   1910  107                 Le Plateau-Mont-Royal   \n",
       "8724                    2004   16                              Beauport   \n",
       "71913                   1960   59                             Longueuil   \n",
       "40940                   1990   20                              Gatineau   \n",
       "109814                  1984   25          Sainte-Foy-Sillery-Cap-Rouge   \n",
       "49565                   2006   15         Mercier-Hochelaga-Maisonneuve   \n",
       "\n",
       "                          RCM              Region   Price  \n",
       "110779  Marguerite-D'Youville          Montérégie  215000  \n",
       "69351                  Québec  Capitale-Nationale  230000  \n",
       "105287     La Côte-de-Beaupré  Capitale-Nationale  610000  \n",
       "31084                Drummond    Centre-du-Québec  192000  \n",
       "6334               Charlevoix  Capitale-Nationale  290000  \n",
       "60893      La Jacques-Cartier  Capitale-Nationale  526500  \n",
       "65137                   Laval               Laval  550000  \n",
       "93017               Longueuil          Montérégie  280000  \n",
       "55114                  Québec  Capitale-Nationale  215000  \n",
       "23801                Portneuf  Capitale-Nationale  242500  \n",
       "52179                Montréal            Montréal  175000  \n",
       "65474                   Laval               Laval  550000  \n",
       "50186                Montréal            Montréal  612000  \n",
       "73486               Longueuil          Montérégie  212000  \n",
       "68163                Montréal            Montréal  300000  \n",
       "8724                   Québec  Capitale-Nationale  332500  \n",
       "71913               Longueuil          Montérégie  295000  \n",
       "40940                Gatineau           Outaouais  168500  \n",
       "109814                 Québec  Capitale-Nationale  185000  \n",
       "49565                Montréal            Montréal  612000  "
      ]
     },
     "execution_count": 573,
     "metadata": {},
     "output_type": "execute_result"
    }
   ],
   "source": [
    "listings_df.sample(20)"
   ]
  }
 ],
 "metadata": {
  "kernelspec": {
   "display_name": "Python 3.10.4 ('venv': venv)",
   "language": "python",
   "name": "python3"
  },
  "language_info": {
   "codemirror_mode": {
    "name": "ipython",
    "version": 3
   },
   "file_extension": ".py",
   "mimetype": "text/x-python",
   "name": "python",
   "nbconvert_exporter": "python",
   "pygments_lexer": "ipython3",
   "version": "3.10.4"
  },
  "orig_nbformat": 4,
  "vscode": {
   "interpreter": {
    "hash": "35baa29fccf03004b73c6d7efa1229fc55fcd4d7e436d14040fdb80c99cecdea"
   }
  }
 },
 "nbformat": 4,
 "nbformat_minor": 2
}
